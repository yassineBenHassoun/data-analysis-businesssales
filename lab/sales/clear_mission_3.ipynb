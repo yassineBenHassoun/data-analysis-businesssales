{
 "cells": [
  {
   "cell_type": "code",
   "execution_count": 1,
   "metadata": {},
   "outputs": [],
   "source": [
    "import pandas as pd\n",
    "import numpy as np\n",
    "from os import getcwd\n",
    "from datetime import datetime\n",
    "import seaborn as sns\n",
    "import matplotlib.pyplot as plt\n",
    "import calendar\n",
    "import scipy.stats as ss\n",
    "from scipy.stats import norm\n",
    "from scipy.stats import kurtosis, skew\n",
    "from scipy.stats import linregress\n",
    "import matplotlib.ticker as ticker"
   ]
  },
  {
   "cell_type": "code",
   "execution_count": 2,
   "metadata": {},
   "outputs": [
    {
     "data": {
      "text/html": [
       "<div>\n",
       "<style scoped>\n",
       "    .dataframe tbody tr th:only-of-type {\n",
       "        vertical-align: middle;\n",
       "    }\n",
       "\n",
       "    .dataframe tbody tr th {\n",
       "        vertical-align: top;\n",
       "    }\n",
       "\n",
       "    .dataframe thead th {\n",
       "        text-align: right;\n",
       "    }\n",
       "</style>\n",
       "<table border=\"1\" class=\"dataframe\">\n",
       "  <thead>\n",
       "    <tr style=\"text-align: right;\">\n",
       "      <th></th>\n",
       "      <th>index</th>\n",
       "      <th>client_id</th>\n",
       "      <th>sex</th>\n",
       "      <th>user_birthday</th>\n",
       "      <th>binning_age</th>\n",
       "      <th>user_age</th>\n",
       "      <th>category_id</th>\n",
       "      <th>id_product</th>\n",
       "      <th>price</th>\n",
       "      <th>sell_date</th>\n",
       "      <th>transaction_date</th>\n",
       "      <th>sell_year</th>\n",
       "      <th>month</th>\n",
       "      <th>month_string</th>\n",
       "      <th>traceability_transaction</th>\n",
       "    </tr>\n",
       "  </thead>\n",
       "  <tbody>\n",
       "    <tr>\n",
       "      <th>0</th>\n",
       "      <td>0</td>\n",
       "      <td>c_4410</td>\n",
       "      <td>f</td>\n",
       "      <td>1967</td>\n",
       "      <td>(50.0, 60.0]</td>\n",
       "      <td>54</td>\n",
       "      <td>0</td>\n",
       "      <td>0_1455</td>\n",
       "      <td>8.99</td>\n",
       "      <td>2021-03-22 14:29:25.189266</td>\n",
       "      <td>2021-03-22</td>\n",
       "      <td>2021</td>\n",
       "      <td>3</td>\n",
       "      <td>Mars</td>\n",
       "      <td>1</td>\n",
       "    </tr>\n",
       "    <tr>\n",
       "      <th>1</th>\n",
       "      <td>1</td>\n",
       "      <td>c_4389</td>\n",
       "      <td>m</td>\n",
       "      <td>1984</td>\n",
       "      <td>(30.0, 40.0]</td>\n",
       "      <td>37</td>\n",
       "      <td>0</td>\n",
       "      <td>0_1455</td>\n",
       "      <td>8.99</td>\n",
       "      <td>2021-07-09 11:16:18.579726</td>\n",
       "      <td>2021-07-09</td>\n",
       "      <td>2021</td>\n",
       "      <td>7</td>\n",
       "      <td>Juillet</td>\n",
       "      <td>1</td>\n",
       "    </tr>\n",
       "    <tr>\n",
       "      <th>2</th>\n",
       "      <td>2</td>\n",
       "      <td>c_5019</td>\n",
       "      <td>f</td>\n",
       "      <td>1977</td>\n",
       "      <td>(40.0, 50.0]</td>\n",
       "      <td>45</td>\n",
       "      <td>0</td>\n",
       "      <td>0_1455</td>\n",
       "      <td>8.99</td>\n",
       "      <td>2022-01-15 00:01:53.456196</td>\n",
       "      <td>2022-01-15</td>\n",
       "      <td>2022</td>\n",
       "      <td>1</td>\n",
       "      <td>Janvier - 2022</td>\n",
       "      <td>1</td>\n",
       "    </tr>\n",
       "    <tr>\n",
       "      <th>3</th>\n",
       "      <td>3</td>\n",
       "      <td>c_7049</td>\n",
       "      <td>f</td>\n",
       "      <td>1987</td>\n",
       "      <td>(30.0, 40.0]</td>\n",
       "      <td>34</td>\n",
       "      <td>0</td>\n",
       "      <td>0_1455</td>\n",
       "      <td>8.99</td>\n",
       "      <td>2021-03-04 14:01:38.698752</td>\n",
       "      <td>2021-03-04</td>\n",
       "      <td>2021</td>\n",
       "      <td>3</td>\n",
       "      <td>Mars</td>\n",
       "      <td>1</td>\n",
       "    </tr>\n",
       "    <tr>\n",
       "      <th>4</th>\n",
       "      <td>4</td>\n",
       "      <td>c_5110</td>\n",
       "      <td>f</td>\n",
       "      <td>1982</td>\n",
       "      <td>(30.0, 40.0]</td>\n",
       "      <td>39</td>\n",
       "      <td>0</td>\n",
       "      <td>0_1455</td>\n",
       "      <td>8.99</td>\n",
       "      <td>2021-09-05 11:48:41.065009</td>\n",
       "      <td>2021-09-05</td>\n",
       "      <td>2021</td>\n",
       "      <td>9</td>\n",
       "      <td>Septembre</td>\n",
       "      <td>1</td>\n",
       "    </tr>\n",
       "    <tr>\n",
       "      <th>...</th>\n",
       "      <td>...</td>\n",
       "      <td>...</td>\n",
       "      <td>...</td>\n",
       "      <td>...</td>\n",
       "      <td>...</td>\n",
       "      <td>...</td>\n",
       "      <td>...</td>\n",
       "      <td>...</td>\n",
       "      <td>...</td>\n",
       "      <td>...</td>\n",
       "      <td>...</td>\n",
       "      <td>...</td>\n",
       "      <td>...</td>\n",
       "      <td>...</td>\n",
       "      <td>...</td>\n",
       "    </tr>\n",
       "    <tr>\n",
       "      <th>336708</th>\n",
       "      <td>336708</td>\n",
       "      <td>c_7135</td>\n",
       "      <td>m</td>\n",
       "      <td>1996</td>\n",
       "      <td>(20.0, 30.0]</td>\n",
       "      <td>25</td>\n",
       "      <td>2</td>\n",
       "      <td>2_99</td>\n",
       "      <td>84.99</td>\n",
       "      <td>2021-07-11 20:56:49.820935</td>\n",
       "      <td>2021-07-11</td>\n",
       "      <td>2021</td>\n",
       "      <td>7</td>\n",
       "      <td>Juillet</td>\n",
       "      <td>1</td>\n",
       "    </tr>\n",
       "    <tr>\n",
       "      <th>336709</th>\n",
       "      <td>336709</td>\n",
       "      <td>c_5828</td>\n",
       "      <td>f</td>\n",
       "      <td>1998</td>\n",
       "      <td>(20.0, 30.0]</td>\n",
       "      <td>23</td>\n",
       "      <td>2</td>\n",
       "      <td>2_99</td>\n",
       "      <td>84.99</td>\n",
       "      <td>2021-11-21 01:53:46.967570</td>\n",
       "      <td>2021-11-21</td>\n",
       "      <td>2021</td>\n",
       "      <td>11</td>\n",
       "      <td>Novembre</td>\n",
       "      <td>1</td>\n",
       "    </tr>\n",
       "    <tr>\n",
       "      <th>336710</th>\n",
       "      <td>336710</td>\n",
       "      <td>c_8260</td>\n",
       "      <td>m</td>\n",
       "      <td>1991</td>\n",
       "      <td>(20.0, 30.0]</td>\n",
       "      <td>30</td>\n",
       "      <td>0</td>\n",
       "      <td>0_833</td>\n",
       "      <td>2.99</td>\n",
       "      <td>2021-09-27 23:22:40.394509</td>\n",
       "      <td>2021-09-27</td>\n",
       "      <td>2021</td>\n",
       "      <td>9</td>\n",
       "      <td>Septembre</td>\n",
       "      <td>1</td>\n",
       "    </tr>\n",
       "    <tr>\n",
       "      <th>336711</th>\n",
       "      <td>336711</td>\n",
       "      <td>c_8138</td>\n",
       "      <td>f</td>\n",
       "      <td>1984</td>\n",
       "      <td>(30.0, 40.0]</td>\n",
       "      <td>37</td>\n",
       "      <td>0</td>\n",
       "      <td>0_394</td>\n",
       "      <td>2.14</td>\n",
       "      <td>2021-11-09 09:02:38.299240</td>\n",
       "      <td>2021-11-09</td>\n",
       "      <td>2021</td>\n",
       "      <td>11</td>\n",
       "      <td>Novembre</td>\n",
       "      <td>1</td>\n",
       "    </tr>\n",
       "    <tr>\n",
       "      <th>336712</th>\n",
       "      <td>336712</td>\n",
       "      <td>c_8327</td>\n",
       "      <td>m</td>\n",
       "      <td>1972</td>\n",
       "      <td>(40.0, 50.0]</td>\n",
       "      <td>49</td>\n",
       "      <td>0</td>\n",
       "      <td>0_394</td>\n",
       "      <td>2.14</td>\n",
       "      <td>2021-12-28 22:44:11.200205</td>\n",
       "      <td>2021-12-28</td>\n",
       "      <td>2021</td>\n",
       "      <td>12</td>\n",
       "      <td>Decembre</td>\n",
       "      <td>1</td>\n",
       "    </tr>\n",
       "  </tbody>\n",
       "</table>\n",
       "<p>336713 rows × 15 columns</p>\n",
       "</div>"
      ],
      "text/plain": [
       "         index client_id sex  user_birthday   binning_age  user_age  \\\n",
       "0            0    c_4410   f           1967  (50.0, 60.0]        54   \n",
       "1            1    c_4389   m           1984  (30.0, 40.0]        37   \n",
       "2            2    c_5019   f           1977  (40.0, 50.0]        45   \n",
       "3            3    c_7049   f           1987  (30.0, 40.0]        34   \n",
       "4            4    c_5110   f           1982  (30.0, 40.0]        39   \n",
       "...        ...       ...  ..            ...           ...       ...   \n",
       "336708  336708    c_7135   m           1996  (20.0, 30.0]        25   \n",
       "336709  336709    c_5828   f           1998  (20.0, 30.0]        23   \n",
       "336710  336710    c_8260   m           1991  (20.0, 30.0]        30   \n",
       "336711  336711    c_8138   f           1984  (30.0, 40.0]        37   \n",
       "336712  336712    c_8327   m           1972  (40.0, 50.0]        49   \n",
       "\n",
       "        category_id id_product  price                   sell_date  \\\n",
       "0                 0     0_1455   8.99  2021-03-22 14:29:25.189266   \n",
       "1                 0     0_1455   8.99  2021-07-09 11:16:18.579726   \n",
       "2                 0     0_1455   8.99  2022-01-15 00:01:53.456196   \n",
       "3                 0     0_1455   8.99  2021-03-04 14:01:38.698752   \n",
       "4                 0     0_1455   8.99  2021-09-05 11:48:41.065009   \n",
       "...             ...        ...    ...                         ...   \n",
       "336708            2       2_99  84.99  2021-07-11 20:56:49.820935   \n",
       "336709            2       2_99  84.99  2021-11-21 01:53:46.967570   \n",
       "336710            0      0_833   2.99  2021-09-27 23:22:40.394509   \n",
       "336711            0      0_394   2.14  2021-11-09 09:02:38.299240   \n",
       "336712            0      0_394   2.14  2021-12-28 22:44:11.200205   \n",
       "\n",
       "       transaction_date  sell_year  month    month_string  \\\n",
       "0            2021-03-22       2021      3            Mars   \n",
       "1            2021-07-09       2021      7         Juillet   \n",
       "2            2022-01-15       2022      1  Janvier - 2022   \n",
       "3            2021-03-04       2021      3            Mars   \n",
       "4            2021-09-05       2021      9       Septembre   \n",
       "...                 ...        ...    ...             ...   \n",
       "336708       2021-07-11       2021      7         Juillet   \n",
       "336709       2021-11-21       2021     11        Novembre   \n",
       "336710       2021-09-27       2021      9       Septembre   \n",
       "336711       2021-11-09       2021     11        Novembre   \n",
       "336712       2021-12-28       2021     12        Decembre   \n",
       "\n",
       "        traceability_transaction  \n",
       "0                              1  \n",
       "1                              1  \n",
       "2                              1  \n",
       "3                              1  \n",
       "4                              1  \n",
       "...                          ...  \n",
       "336708                         1  \n",
       "336709                         1  \n",
       "336710                         1  \n",
       "336711                         1  \n",
       "336712                         1  \n",
       "\n",
       "[336713 rows x 15 columns]"
      ]
     },
     "execution_count": 2,
     "metadata": {},
     "output_type": "execute_result"
    }
   ],
   "source": [
    "data = pd.read_csv(\"../sales/data_values_clear/merge.csv\", parse_dates=True)\n",
    "data"
   ]
  },
  {
   "cell_type": "code",
   "execution_count": 3,
   "metadata": {},
   "outputs": [
    {
     "data": {
      "text/plain": [
       "5796577.7700000005"
      ]
     },
     "execution_count": 3,
     "metadata": {},
     "output_type": "execute_result"
    }
   ],
   "source": [
    "caGlobal = data.price.sum()\n",
    "caGlobal"
   ]
  },
  {
   "cell_type": "code",
   "execution_count": 4,
   "metadata": {},
   "outputs": [
    {
     "data": {
      "text/plain": [
       "2229722.6500000004"
      ]
     },
     "execution_count": 4,
     "metadata": {},
     "output_type": "execute_result"
    }
   ],
   "source": [
    "cat0 = data.loc[data['category_id'] == 0]['price'].sum()\n",
    "cat0"
   ]
  },
  {
   "cell_type": "code",
   "execution_count": 5,
   "metadata": {},
   "outputs": [
    {
     "data": {
      "text/plain": [
       "10.646828235271649"
      ]
     },
     "execution_count": 5,
     "metadata": {},
     "output_type": "execute_result"
    }
   ],
   "source": [
    "meanCat0  = data.loc[data['category_id'] == 0]['price'].mean()\n",
    "meanCat0"
   ]
  },
  {
   "cell_type": "code",
   "execution_count": 6,
   "metadata": {},
   "outputs": [
    {
     "data": {
      "text/plain": [
       "2247384.4100000006"
      ]
     },
     "execution_count": 6,
     "metadata": {},
     "output_type": "execute_result"
    }
   ],
   "source": [
    "cat1 = data.loc[data['category_id'] == 1]['price'].sum()\n",
    "cat1"
   ]
  },
  {
   "cell_type": "code",
   "execution_count": 7,
   "metadata": {},
   "outputs": [
    {
     "data": {
      "text/plain": [
       "20.48010580033718"
      ]
     },
     "execution_count": 7,
     "metadata": {},
     "output_type": "execute_result"
    }
   ],
   "source": [
    "meanCat1  = data.loc[data['category_id'] == 1]['price'].mean()\n",
    "meanCat1"
   ]
  },
  {
   "cell_type": "code",
   "execution_count": 8,
   "metadata": {},
   "outputs": [
    {
     "data": {
      "text/plain": [
       "1319470.71"
      ]
     },
     "execution_count": 8,
     "metadata": {},
     "output_type": "execute_result"
    }
   ],
   "source": [
    "cat2 = data.loc[data['category_id'] == 2]['price'].sum()\n",
    "cat2"
   ]
  },
  {
   "cell_type": "code",
   "execution_count": 9,
   "metadata": {},
   "outputs": [
    {
     "data": {
      "text/plain": [
       "75.1749492935278"
      ]
     },
     "execution_count": 9,
     "metadata": {},
     "output_type": "execute_result"
    }
   ],
   "source": [
    "meanCat2  = data.loc[data['category_id'] == 2]['price'].mean()\n",
    "meanCat2"
   ]
  },
  {
   "cell_type": "markdown",
   "metadata": {},
   "source": [
    "## Repartition des catégories"
   ]
  },
  {
   "cell_type": "code",
   "execution_count": 10,
   "metadata": {},
   "outputs": [
    {
     "data": {
      "text/html": [
       "<div>\n",
       "<style scoped>\n",
       "    .dataframe tbody tr th:only-of-type {\n",
       "        vertical-align: middle;\n",
       "    }\n",
       "\n",
       "    .dataframe tbody tr th {\n",
       "        vertical-align: top;\n",
       "    }\n",
       "\n",
       "    .dataframe thead th {\n",
       "        text-align: right;\n",
       "    }\n",
       "</style>\n",
       "<table border=\"1\" class=\"dataframe\">\n",
       "  <thead>\n",
       "    <tr style=\"text-align: right;\">\n",
       "      <th></th>\n",
       "      <th>category_id</th>\n",
       "      <th>traceability_transaction</th>\n",
       "    </tr>\n",
       "  </thead>\n",
       "  <tbody>\n",
       "    <tr>\n",
       "      <th>0</th>\n",
       "      <td>0</td>\n",
       "      <td>209426</td>\n",
       "    </tr>\n",
       "    <tr>\n",
       "      <th>1</th>\n",
       "      <td>1</td>\n",
       "      <td>109735</td>\n",
       "    </tr>\n",
       "    <tr>\n",
       "      <th>2</th>\n",
       "      <td>2</td>\n",
       "      <td>17552</td>\n",
       "    </tr>\n",
       "  </tbody>\n",
       "</table>\n",
       "</div>"
      ],
      "text/plain": [
       "   category_id  traceability_transaction\n",
       "0            0                    209426\n",
       "1            1                    109735\n",
       "2            2                     17552"
      ]
     },
     "execution_count": 10,
     "metadata": {},
     "output_type": "execute_result"
    }
   ],
   "source": [
    "catTransaction = data.groupby(['category_id']).sum().reset_index()[['category_id','traceability_transaction']]\n",
    "catTransaction"
   ]
  },
  {
   "cell_type": "code",
   "execution_count": 11,
   "metadata": {},
   "outputs": [
    {
     "data": {
      "text/plain": [
       "336713"
      ]
     },
     "execution_count": 11,
     "metadata": {},
     "output_type": "execute_result"
    }
   ],
   "source": [
    "sumTransaction = data['traceability_transaction'].sum()\n",
    "sumTransaction"
   ]
  },
  {
   "cell_type": "code",
   "execution_count": 12,
   "metadata": {},
   "outputs": [
    {
     "data": {
      "text/plain": [
       "<Figure size 720x720 with 0 Axes>"
      ]
     },
     "metadata": {},
     "output_type": "display_data"
    },
    {
     "data": {
      "image/png": "[encoded data removed]",
      "text/plain": [
       "<Figure size 360x360 with 1 Axes>"
      ]
     },
     "metadata": {
      "needs_background": "light"
     },
     "output_type": "display_data"
    }
   ],
   "source": [
    "plt.figure(figsize=[10,10])\n",
    "transacCategoryPlot = sns.catplot(x=\"category_id\", y=\"traceability_transaction\",\n",
    "                data=catTransaction, saturation=.5,\n",
    "                kind=\"bar\", ci=None, aspect=1)\n"
   ]
  },
  {
   "cell_type": "code",
   "execution_count": 13,
   "metadata": {},
   "outputs": [
    {
     "data": {
      "text/html": [
       "<div>\n",
       "<style scoped>\n",
       "    .dataframe tbody tr th:only-of-type {\n",
       "        vertical-align: middle;\n",
       "    }\n",
       "\n",
       "    .dataframe tbody tr th {\n",
       "        vertical-align: top;\n",
       "    }\n",
       "\n",
       "    .dataframe thead th {\n",
       "        text-align: right;\n",
       "    }\n",
       "</style>\n",
       "<table border=\"1\" class=\"dataframe\">\n",
       "  <thead>\n",
       "    <tr style=\"text-align: right;\">\n",
       "      <th></th>\n",
       "      <th>category_id</th>\n",
       "      <th>price</th>\n",
       "    </tr>\n",
       "  </thead>\n",
       "  <tbody>\n",
       "    <tr>\n",
       "      <th>0</th>\n",
       "      <td>0</td>\n",
       "      <td>2.229723e+06</td>\n",
       "    </tr>\n",
       "    <tr>\n",
       "      <th>1</th>\n",
       "      <td>1</td>\n",
       "      <td>2.247384e+06</td>\n",
       "    </tr>\n",
       "    <tr>\n",
       "      <th>2</th>\n",
       "      <td>2</td>\n",
       "      <td>1.319471e+06</td>\n",
       "    </tr>\n",
       "  </tbody>\n",
       "</table>\n",
       "</div>"
      ],
      "text/plain": [
       "   category_id         price\n",
       "0            0  2.229723e+06\n",
       "1            1  2.247384e+06\n",
       "2            2  1.319471e+06"
      ]
     },
     "execution_count": 13,
     "metadata": {},
     "output_type": "execute_result"
    }
   ],
   "source": [
    "selectProductsByCategory = data.groupby(['category_id']).sum().reset_index()[['category_id','price']]\n",
    "selectProductsByCategory"
   ]
  },
  {
   "cell_type": "code",
   "execution_count": 14,
   "metadata": {},
   "outputs": [
    {
     "data": {
      "image/png": "[encoded data removed]",
      "text/plain": [
       "<Figure size 360x360 with 1 Axes>"
      ]
     },
     "metadata": {
      "needs_background": "light"
     },
     "output_type": "display_data"
    }
   ],
   "source": [
    "selectProductsByCategoryPlot = sns.catplot(x=\"category_id\", y=\"price\",\n",
    "                data=selectProductsByCategory, saturation=.5,\n",
    "                kind=\"bar\", ci=None, aspect=1)\n",
    "\n",
    "plt.savefig('../sales/plot/ca_cat_plot.png')"
   ]
  },
  {
   "cell_type": "code",
   "execution_count": 15,
   "metadata": {},
   "outputs": [],
   "source": [
    "labelPie = ['category_0', 'category_1', 'category_2']\n",
    "pieValues = [cat0,cat1,cat2]\n",
    "colorsPie = ['mediumaquamarine','olivedrab','lime']"
   ]
  },
  {
   "cell_type": "code",
   "execution_count": 16,
   "metadata": {},
   "outputs": [
    {
     "data": {
      "image/png": "[encoded data removed]",
      "text/plain": [
       "<Figure size 720x720 with 1 Axes>"
      ]
     },
     "metadata": {},
     "output_type": "display_data"
    }
   ],
   "source": [
    "plt.figure(figsize=[10,10])\n",
    "plt.pie(pieValues,labels=labelPie,autopct=\"%.1f%%\",colors=colorsPie)\n",
    "plt.savefig('../sales/plot/ca_cat_pie.png')"
   ]
  },
  {
   "cell_type": "markdown",
   "metadata": {},
   "source": [
    "## CA Par mois "
   ]
  },
  {
   "cell_type": "code",
   "execution_count": 17,
   "metadata": {},
   "outputs": [
    {
     "data": {
      "text/html": [
       "<div>\n",
       "<style scoped>\n",
       "    .dataframe tbody tr th:only-of-type {\n",
       "        vertical-align: middle;\n",
       "    }\n",
       "\n",
       "    .dataframe tbody tr th {\n",
       "        vertical-align: top;\n",
       "    }\n",
       "\n",
       "    .dataframe thead th {\n",
       "        text-align: right;\n",
       "    }\n",
       "</style>\n",
       "<table border=\"1\" class=\"dataframe\">\n",
       "  <thead>\n",
       "    <tr style=\"text-align: right;\">\n",
       "      <th></th>\n",
       "      <th>month</th>\n",
       "      <th>month_string</th>\n",
       "      <th>price</th>\n",
       "    </tr>\n",
       "  </thead>\n",
       "  <tbody>\n",
       "    <tr>\n",
       "      <th>0</th>\n",
       "      <td>1</td>\n",
       "      <td>Janvier - 2022</td>\n",
       "      <td>522955.31</td>\n",
       "    </tr>\n",
       "    <tr>\n",
       "      <th>1</th>\n",
       "      <td>2</td>\n",
       "      <td>Fevrier - 2022</td>\n",
       "      <td>532740.88</td>\n",
       "    </tr>\n",
       "    <tr>\n",
       "      <th>2</th>\n",
       "      <td>3</td>\n",
       "      <td>Mars</td>\n",
       "      <td>479312.03</td>\n",
       "    </tr>\n",
       "    <tr>\n",
       "      <th>3</th>\n",
       "      <td>4</td>\n",
       "      <td>Avril</td>\n",
       "      <td>472980.72</td>\n",
       "    </tr>\n",
       "    <tr>\n",
       "      <th>4</th>\n",
       "      <td>5</td>\n",
       "      <td>Mai</td>\n",
       "      <td>489367.95</td>\n",
       "    </tr>\n",
       "    <tr>\n",
       "      <th>5</th>\n",
       "      <td>6</td>\n",
       "      <td>Juin</td>\n",
       "      <td>481257.94</td>\n",
       "    </tr>\n",
       "    <tr>\n",
       "      <th>6</th>\n",
       "      <td>7</td>\n",
       "      <td>Juillet</td>\n",
       "      <td>480898.66</td>\n",
       "    </tr>\n",
       "    <tr>\n",
       "      <th>7</th>\n",
       "      <td>8</td>\n",
       "      <td>Aout</td>\n",
       "      <td>479305.19</td>\n",
       "    </tr>\n",
       "    <tr>\n",
       "      <th>8</th>\n",
       "      <td>9</td>\n",
       "      <td>Septembre</td>\n",
       "      <td>502771.28</td>\n",
       "    </tr>\n",
       "    <tr>\n",
       "      <th>9</th>\n",
       "      <td>10</td>\n",
       "      <td>Octobre</td>\n",
       "      <td>319159.96</td>\n",
       "    </tr>\n",
       "    <tr>\n",
       "      <th>10</th>\n",
       "      <td>11</td>\n",
       "      <td>Novembre</td>\n",
       "      <td>512890.17</td>\n",
       "    </tr>\n",
       "    <tr>\n",
       "      <th>11</th>\n",
       "      <td>12</td>\n",
       "      <td>Decembre</td>\n",
       "      <td>522937.68</td>\n",
       "    </tr>\n",
       "  </tbody>\n",
       "</table>\n",
       "</div>"
      ],
      "text/plain": [
       "    month    month_string      price\n",
       "0       1  Janvier - 2022  522955.31\n",
       "1       2  Fevrier - 2022  532740.88\n",
       "2       3            Mars  479312.03\n",
       "3       4           Avril  472980.72\n",
       "4       5             Mai  489367.95\n",
       "5       6            Juin  481257.94\n",
       "6       7         Juillet  480898.66\n",
       "7       8            Aout  479305.19\n",
       "8       9       Septembre  502771.28\n",
       "9      10         Octobre  319159.96\n",
       "10     11        Novembre  512890.17\n",
       "11     12        Decembre  522937.68"
      ]
     },
     "execution_count": 17,
     "metadata": {},
     "output_type": "execute_result"
    }
   ],
   "source": [
    "monthCa = data.groupby(['month','month_string']).sum().reset_index()[['month','month_string','price']]\n",
    "monthCa"
   ]
  },
  {
   "cell_type": "code",
   "execution_count": 18,
   "metadata": {},
   "outputs": [
    {
     "data": {
      "text/plain": [
       "5796577.7699990105"
      ]
     },
     "execution_count": 18,
     "metadata": {},
     "output_type": "execute_result"
    }
   ],
   "source": [
    "monthCaVerification = monthCa['price'].sum()\n",
    "monthCaVerification"
   ]
  },
  {
   "cell_type": "code",
   "execution_count": 19,
   "metadata": {},
   "outputs": [
    {
     "ename": "ValueError",
     "evalue": "'left' is not a valid value for which; supported values are 'major', 'minor', 'both'",
     "output_type": "error",
     "traceback": [
      "\u001b[0;31m---------------------------------------------------------------------------\u001b[0m",
      "\u001b[0;31mValueError\u001b[0m                                Traceback (most recent call last)",
      "\u001b[0;32m<ipython-input-19-6a5ce407deb1>\u001b[0m in \u001b[0;36m<module>\u001b[0;34m\u001b[0m\n\u001b[1;32m     10\u001b[0m \u001b[0mplt\u001b[0m\u001b[0;34m.\u001b[0m\u001b[0mxticks\u001b[0m\u001b[0;34m(\u001b[0m\u001b[0mrotation\u001b[0m \u001b[0;34m=\u001b[0m \u001b[0;36m45\u001b[0m\u001b[0;34m)\u001b[0m\u001b[0;34m\u001b[0m\u001b[0;34m\u001b[0m\u001b[0m\n\u001b[1;32m     11\u001b[0m \u001b[0max\u001b[0m\u001b[0;34m.\u001b[0m\u001b[0mxaxis\u001b[0m\u001b[0;34m.\u001b[0m\u001b[0mset_ticks_position\u001b[0m\u001b[0;34m(\u001b[0m\u001b[0;34m'bottom'\u001b[0m\u001b[0;34m)\u001b[0m\u001b[0;34m\u001b[0m\u001b[0;34m\u001b[0m\u001b[0m\n\u001b[0;32m---> 12\u001b[0;31m \u001b[0max\u001b[0m\u001b[0;34m.\u001b[0m\u001b[0mxaxis\u001b[0m\u001b[0;34m.\u001b[0m\u001b[0mset_tick_params\u001b[0m\u001b[0;34m(\u001b[0m\u001b[0;34m'left'\u001b[0m\u001b[0;34m)\u001b[0m\u001b[0;34m\u001b[0m\u001b[0;34m\u001b[0m\u001b[0m\n\u001b[0m\u001b[1;32m     13\u001b[0m \u001b[0;34m\u001b[0m\u001b[0m\n\u001b[1;32m     14\u001b[0m \u001b[0;31m#y axis\u001b[0m\u001b[0;34m\u001b[0m\u001b[0;34m\u001b[0m\u001b[0;34m\u001b[0m\u001b[0m\n",
      "\u001b[0;32m/usr/local/lib/python3.8/site-packages/matplotlib/axis.py\u001b[0m in \u001b[0;36mset_tick_params\u001b[0;34m(self, which, reset, **kw)\u001b[0m\n\u001b[1;32m    820\u001b[0m         \u001b[0;34m:\u001b[0m\u001b[0mmeth\u001b[0m\u001b[0;34m:\u001b[0m\u001b[0;31m`\u001b[0m\u001b[0mmatplotlib\u001b[0m\u001b[0;34m.\u001b[0m\u001b[0maxes\u001b[0m\u001b[0;34m.\u001b[0m\u001b[0mAxes\u001b[0m\u001b[0;34m.\u001b[0m\u001b[0mtick_params\u001b[0m\u001b[0;31m`\u001b[0m\u001b[0;34m.\u001b[0m\u001b[0;34m\u001b[0m\u001b[0;34m\u001b[0m\u001b[0m\n\u001b[1;32m    821\u001b[0m         \"\"\"\n\u001b[0;32m--> 822\u001b[0;31m         \u001b[0mcbook\u001b[0m\u001b[0;34m.\u001b[0m\u001b[0m_check_in_list\u001b[0m\u001b[0;34m(\u001b[0m\u001b[0;34m[\u001b[0m\u001b[0;34m'major'\u001b[0m\u001b[0;34m,\u001b[0m \u001b[0;34m'minor'\u001b[0m\u001b[0;34m,\u001b[0m \u001b[0;34m'both'\u001b[0m\u001b[0;34m]\u001b[0m\u001b[0;34m,\u001b[0m \u001b[0mwhich\u001b[0m\u001b[0;34m=\u001b[0m\u001b[0mwhich\u001b[0m\u001b[0;34m)\u001b[0m\u001b[0;34m\u001b[0m\u001b[0;34m\u001b[0m\u001b[0m\n\u001b[0m\u001b[1;32m    823\u001b[0m         \u001b[0mkwtrans\u001b[0m \u001b[0;34m=\u001b[0m \u001b[0mself\u001b[0m\u001b[0;34m.\u001b[0m\u001b[0m_translate_tick_kw\u001b[0m\u001b[0;34m(\u001b[0m\u001b[0mkw\u001b[0m\u001b[0;34m)\u001b[0m\u001b[0;34m\u001b[0m\u001b[0;34m\u001b[0m\u001b[0m\n\u001b[1;32m    824\u001b[0m \u001b[0;34m\u001b[0m\u001b[0m\n",
      "\u001b[0;32m/usr/local/lib/python3.8/site-packages/matplotlib/cbook/__init__.py\u001b[0m in \u001b[0;36m_check_in_list\u001b[0;34m(_values, **kwargs)\u001b[0m\n\u001b[1;32m   2264\u001b[0m     \u001b[0;32mfor\u001b[0m \u001b[0mk\u001b[0m\u001b[0;34m,\u001b[0m \u001b[0mv\u001b[0m \u001b[0;32min\u001b[0m \u001b[0mkwargs\u001b[0m\u001b[0;34m.\u001b[0m\u001b[0mitems\u001b[0m\u001b[0;34m(\u001b[0m\u001b[0;34m)\u001b[0m\u001b[0;34m:\u001b[0m\u001b[0;34m\u001b[0m\u001b[0;34m\u001b[0m\u001b[0m\n\u001b[1;32m   2265\u001b[0m         \u001b[0;32mif\u001b[0m \u001b[0mv\u001b[0m \u001b[0;32mnot\u001b[0m \u001b[0;32min\u001b[0m \u001b[0mvalues\u001b[0m\u001b[0;34m:\u001b[0m\u001b[0;34m\u001b[0m\u001b[0;34m\u001b[0m\u001b[0m\n\u001b[0;32m-> 2266\u001b[0;31m             raise ValueError(\n\u001b[0m\u001b[1;32m   2267\u001b[0m                 \u001b[0;34m\"{!r} is not a valid value for {}; supported values are {}\"\u001b[0m\u001b[0;34m\u001b[0m\u001b[0;34m\u001b[0m\u001b[0m\n\u001b[1;32m   2268\u001b[0m                 .format(v, k, ', '.join(map(repr, values))))\n",
      "\u001b[0;31mValueError\u001b[0m: 'left' is not a valid value for which; supported values are 'major', 'minor', 'both'"
     ]
    },
    {
     "data": {
      "image/png": "[encoded data removed]",
      "text/plain": [
       "<Figure size 432x288 with 1 Axes>"
      ]
     },
     "metadata": {
      "needs_background": "light"
     },
     "output_type": "display_data"
    }
   ],
   "source": [
    "fig, ax = plt.subplots()\n",
    "ax.grid(color='grey', linestyle='dotted')\n",
    "\n",
    "# Plot\n",
    "plt1 = ax.plot(monthCa['month_string'] ,monthCa['price'],color='blue', linestyle='solid',label='CA')\n",
    "\n",
    "# x axis\n",
    "ax.xaxis.set_major_locator(ticker.MaxNLocator(12))\n",
    "ax.xaxis.set_minor_locator(ticker.MaxNLocator(48))\n",
    "plt.xticks(rotation = 45)\n",
    "ax.xaxis.set_ticks_position('bottom')\n",
    "ax.xaxis.set_tick_params('left')\n",
    "\n",
    "#y axis\n",
    "ax.set_ylabel('CA en €', color='b')\n",
    "ax.yaxis.set_ticks_position('left')\n",
    "\n",
    "# settings\n",
    "plt.title(\"Evolution CZ\")\n",
    "#plt.savefig('../sales/plot/ca_global_zigzag.png')\n"
   ]
  },
  {
   "cell_type": "code",
   "execution_count": null,
   "metadata": {},
   "outputs": [],
   "source": [
    "fig, ax = plt.subplots(figsize=[12,7])\n",
    "plt.xticks(rotation = 45)\n",
    "ax.xaxis.set_ticks_position('bottom')\n",
    "sns.catplot(x=\"month_string\", y=\"price\", hue=\"month_string\", kind=\"bar\",ax=ax, data=monthCa, aspect=.8, height=15)"
   ]
  },
  {
   "cell_type": "code",
   "execution_count": null,
   "metadata": {},
   "outputs": [],
   "source": [
    "ca = monthCa['price'].tolist()"
   ]
  },
  {
   "cell_type": "code",
   "execution_count": null,
   "metadata": {},
   "outputs": [],
   "source": [
    "fig, ax = plt.subplots(figsize=[11,7])\n",
    "bars = [0,1,2,3,4,5,6,7,8,9,10,11]\n",
    "monthName = ['janv-2K22','fev-2K22','mars','avril','mai','juin','juillet','aout','septembre','octobre','novembre','decembre']\n",
    "barWidth = 0.6\n",
    "plotCa = plt.bar(bars, ca, color='turquoise', edgecolor='white', width=barWidth)\n",
    "plt.title('CA')\n",
    "plt.xticks(bars, monthName, rotation=90)\n",
    "\n",
    "plt.savefig('../sales/plot/ca.png')\n",
    "\n",
    "plotCa"
   ]
  },
  {
   "cell_type": "code",
   "execution_count": null,
   "metadata": {},
   "outputs": [],
   "source": [
    "categoriesMonth = data.groupby(['month','category_id']).sum()['price'].reset_index()\n",
    "moyenne = data['category_id'].sum().mean();\n",
    "caCat0 = data[data['category_id'] == 0].groupby(['month']).sum()['price']\n",
    "caCat1 = data[data['category_id'] == 1].groupby(['month']).sum()['price']\n",
    "caCat2 = data[data['category_id'] == 2].groupby(['month']).sum()['price']"
   ]
  },
  {
   "cell_type": "code",
   "execution_count": null,
   "metadata": {},
   "outputs": [],
   "source": [
    "caCat2.sum()"
   ]
  },
  {
   "cell_type": "code",
   "execution_count": null,
   "metadata": {},
   "outputs": [],
   "source": [
    "fig, ax = plt.subplots(figsize=[9,5])\n",
    "\n",
    "## on supperpose les catégorie (il faut prendre la diffenrence entre la categorie)\n",
    "caSumCat = data[data['category_id'] != 2].groupby(['month']).sum()['price']\n",
    "\n",
    "monthLine = [0,1,2,3,4,5,6,7,8,9,10,11]\n",
    "month = ['mars','avril','mai','juin','juillet','aout','septembre','octobre','novembre','decembre']\n",
    "\n",
    "barWidth = 0.7\n",
    "postition0 = plt.bar(monthLine, caCat0, color='deeppink', edgecolor='white', width=barWidth)\n",
    "postition1 = plt.bar(monthLine, caCat1, bottom=caCat0, color='lime', edgecolor='white', width=barWidth)\n",
    "postition2 = plt.bar(monthLine, caCat2, bottom=caSumCat, color='royalblue', edgecolor='white', width=barWidth)\n",
    "\n",
    "plt.xticks(monthLine, monthName, fontweight='bold', rotation=90)\n",
    "plt.title('CA-catégories')\n",
    "plt.legend((postition0[0],postition1[0], postition2[0]), ('category_0', 'category_1','category_2'), loc=[1.05,0.76])\n",
    "\n",
    "plt.show()\n"
   ]
  },
  {
   "cell_type": "markdown",
   "metadata": {},
   "source": [
    "## Y a-t-il une corrélation entre le sexe des clients et les catégories de produits achetés ?"
   ]
  },
  {
   "cell_type": "code",
   "execution_count": 76,
   "metadata": {},
   "outputs": [
    {
     "data": {
      "image/png": "[encoded data removed]",
      "text/plain": [
       "<Figure size 720x720 with 1 Axes>"
      ]
     },
     "metadata": {},
     "output_type": "display_data"
    }
   ],
   "source": [
    "caWomen = data.loc[data['sex'] == 'f']['price'].sum()\n",
    "caMen = data.loc[data['sex'] == 'm']['price'].sum()\n",
    "labelPieSex = ['women', 'men']\n",
    "pieValuesSex = [caWomen,caMen]\n",
    "colorsPieSex = ['mediumaquamarine','lime']\n",
    "plt.figure(figsize=[10,10])\n",
    "plt.pie(pieValuesSex, labels = labelPieSex, autopct=\"%.1f%%\", colors=colorsPieSex)\n",
    "plt.savefig('../sales/plot/ca_sex_pie.png')"
   ]
  },
  {
   "cell_type": "code",
   "execution_count": 77,
   "metadata": {},
   "outputs": [],
   "source": [
    "calculationSexUserByCategory = data.groupby(['sex', 'category_id','binning_age']).agg(['sum'])\n",
    "catSexSpend = calculationSexUserByCategory['price'].reset_index();"
   ]
  },
  {
   "cell_type": "code",
   "execution_count": 78,
   "metadata": {},
   "outputs": [],
   "source": [
    "cat0Women = catSexSpend[(catSexSpend['sex'] == 'f') & (catSexSpend['category_id'] == 0)].groupby(['binning_age']).sum()['sum']\n",
    "cat1Women = catSexSpend[(catSexSpend['sex'] == 'f') & (catSexSpend['category_id'] == 1)].groupby(['binning_age']).sum()['sum']\n",
    "cat2Women = catSexSpend[(catSexSpend['sex'] == 'f') & (catSexSpend['category_id'] == 2)].groupby(['binning_age']).sum()['sum']\n",
    "cat0Men = catSexSpend[(catSexSpend['sex'] == 'm') & (catSexSpend['category_id'] == 0)].groupby(['binning_age']).sum()['sum']\n",
    "cat1Men = catSexSpend[(catSexSpend['sex'] == 'm') & (catSexSpend['category_id'] == 1)].groupby(['binning_age']).sum()['sum']\n",
    "cat2Men = catSexSpend[(catSexSpend['sex'] == 'm') & (catSexSpend['category_id'] == 2)].groupby(['binning_age']).sum()['sum']"
   ]
  },
  {
   "cell_type": "code",
   "execution_count": 79,
   "metadata": {},
   "outputs": [
    {
     "data": {
      "image/png": "[encoded data removed]",
      "text/plain": [
       "<Figure size 1080x648 with 1 Axes>"
      ]
     },
     "metadata": {},
     "output_type": "display_data"
    }
   ],
   "source": [
    "ax = plt.gca()\n",
    "ax.figure.set_size_inches(15, 9)\n",
    "\n",
    "bidding_name = ['18-20','20-30','30-40','40-50','50-60','60-70','70-80','80-90']\n",
    "\n",
    "c0W = cat0Women.plot(kind='line', x=bidding_name, y=cat0Women,color='deeppink', ax=ax, label='cat_0_Women')\n",
    "c1W = cat1Women.plot(kind='line', x=bidding_name, y=cat1Women,color='mediumpurple', ax=ax, label='cat_1_Women')\n",
    "c2W = cat2Women.plot(kind='line', x=bidding_name, y=cat2Women,color='magenta', ax=ax, label='cat_2_Women')\n",
    "\n",
    "c0M = cat0Men.plot(kind='line', x=bidding_name, y=cat0Men,color='aqua', ax=ax, label='cat_0_Men')\n",
    "c1M = cat1Men.plot(kind='line', x=bidding_name, y=cat1Men,color='cyan', ax=ax, label='cat_1_Men')\n",
    "c2M = cat2Men.plot(kind='line', x=bidding_name, y=cat2Men,color='dodgerblue', ax=ax, label='cat_2_Men')\n",
    "\n",
    "\n",
    "plt.legend(fontsize='x-large', ncol=2,handleheight=2.4, labelspacing=0.05)\n",
    "plt.title('CA-Categoies_Age')\n",
    "\n",
    "\n",
    "\n",
    "plt.show()"
   ]
  },
  {
   "cell_type": "markdown",
   "metadata": {},
   "source": [
    "##  Y a-t-il une corrélation entre l'âge et montant total des transactions"
   ]
  },
  {
   "cell_type": "code",
   "execution_count": 80,
   "metadata": {},
   "outputs": [],
   "source": [
    "binningAge = data.groupby(['binning_age']).agg(sum)\n",
    "binningAgeResetIndex = binningAge.reset_index()\n",
    "resultBinningAge = binningAgeResetIndex[['binning_age','price']]"
   ]
  },
  {
   "cell_type": "code",
   "execution_count": 81,
   "metadata": {},
   "outputs": [
    {
     "data": {
      "image/png": "[encoded data removed]",
      "text/plain": [
       "<Figure size 720x720 with 1 Axes>"
      ]
     },
     "metadata": {},
     "output_type": "display_data"
    }
   ],
   "source": [
    "agePrice = sns.catplot(x=\"binning_age\", y=\"price\",\n",
    "                data=resultBinningAge, saturation=.5,\n",
    "                kind=\"bar\",height=10, ci=None, aspect=1)"
   ]
  },
  {
   "cell_type": "markdown",
   "metadata": {},
   "source": [
    "## Y a-t-il une corrélation entre l'âge et la fréquence d'achat sur un mois "
   ]
  },
  {
   "cell_type": "code",
   "execution_count": 82,
   "metadata": {},
   "outputs": [
    {
     "data": {
      "text/html": [
       "<div>\n",
       "<style scoped>\n",
       "    .dataframe tbody tr th:only-of-type {\n",
       "        vertical-align: middle;\n",
       "    }\n",
       "\n",
       "    .dataframe tbody tr th {\n",
       "        vertical-align: top;\n",
       "    }\n",
       "\n",
       "    .dataframe thead th {\n",
       "        text-align: right;\n",
       "    }\n",
       "</style>\n",
       "<table border=\"1\" class=\"dataframe\">\n",
       "  <thead>\n",
       "    <tr style=\"text-align: right;\">\n",
       "      <th></th>\n",
       "      <th>month</th>\n",
       "      <th>traceability_transaction</th>\n",
       "    </tr>\n",
       "  </thead>\n",
       "  <tbody>\n",
       "    <tr>\n",
       "      <th>8</th>\n",
       "      <td>9</td>\n",
       "      <td>33254</td>\n",
       "    </tr>\n",
       "    <tr>\n",
       "      <th>11</th>\n",
       "      <td>12</td>\n",
       "      <td>32417</td>\n",
       "    </tr>\n",
       "    <tr>\n",
       "      <th>1</th>\n",
       "      <td>2</td>\n",
       "      <td>29556</td>\n",
       "    </tr>\n",
       "    <tr>\n",
       "      <th>0</th>\n",
       "      <td>1</td>\n",
       "      <td>29311</td>\n",
       "    </tr>\n",
       "    <tr>\n",
       "      <th>2</th>\n",
       "      <td>3</td>\n",
       "      <td>28559</td>\n",
       "    </tr>\n",
       "    <tr>\n",
       "      <th>3</th>\n",
       "      <td>4</td>\n",
       "      <td>28401</td>\n",
       "    </tr>\n",
       "    <tr>\n",
       "      <th>10</th>\n",
       "      <td>11</td>\n",
       "      <td>28267</td>\n",
       "    </tr>\n",
       "    <tr>\n",
       "      <th>4</th>\n",
       "      <td>5</td>\n",
       "      <td>28237</td>\n",
       "    </tr>\n",
       "    <tr>\n",
       "      <th>5</th>\n",
       "      <td>6</td>\n",
       "      <td>26812</td>\n",
       "    </tr>\n",
       "    <tr>\n",
       "      <th>7</th>\n",
       "      <td>8</td>\n",
       "      <td>25610</td>\n",
       "    </tr>\n",
       "    <tr>\n",
       "      <th>6</th>\n",
       "      <td>7</td>\n",
       "      <td>24712</td>\n",
       "    </tr>\n",
       "    <tr>\n",
       "      <th>9</th>\n",
       "      <td>10</td>\n",
       "      <td>21577</td>\n",
       "    </tr>\n",
       "  </tbody>\n",
       "</table>\n",
       "</div>"
      ],
      "text/plain": [
       "    month  traceability_transaction\n",
       "8       9                     33254\n",
       "11     12                     32417\n",
       "1       2                     29556\n",
       "0       1                     29311\n",
       "2       3                     28559\n",
       "3       4                     28401\n",
       "10     11                     28267\n",
       "4       5                     28237\n",
       "5       6                     26812\n",
       "7       8                     25610\n",
       "6       7                     24712\n",
       "9      10                     21577"
      ]
     },
     "execution_count": 82,
     "metadata": {},
     "output_type": "execute_result"
    }
   ],
   "source": [
    "detectMostTransaction = data.groupby('month').sum()['traceability_transaction'].reset_index()\n",
    "detectMostTransaction.sort_values(by='traceability_transaction', ascending=False)"
   ]
  },
  {
   "cell_type": "code",
   "execution_count": 83,
   "metadata": {},
   "outputs": [],
   "source": [
    "september = data.loc[data['month'] == 9].reset_index();\n",
    "septemberBydate = september.groupby('transaction_date').sum()['price'].reset_index()"
   ]
  },
  {
   "cell_type": "code",
   "execution_count": 84,
   "metadata": {
    "scrolled": false
   },
   "outputs": [
    {
     "data": {
      "text/plain": [
       "([0,\n",
       "  1,\n",
       "  2,\n",
       "  3,\n",
       "  4,\n",
       "  5,\n",
       "  6,\n",
       "  7,\n",
       "  8,\n",
       "  9,\n",
       "  10,\n",
       "  11,\n",
       "  12,\n",
       "  13,\n",
       "  14,\n",
       "  15,\n",
       "  16,\n",
       "  17,\n",
       "  18,\n",
       "  19,\n",
       "  20,\n",
       "  21,\n",
       "  22,\n",
       "  23,\n",
       "  24,\n",
       "  25,\n",
       "  26,\n",
       "  27,\n",
       "  28,\n",
       "  29],\n",
       " [Text(0, 0, ''),\n",
       "  Text(0, 0, ''),\n",
       "  Text(0, 0, ''),\n",
       "  Text(0, 0, ''),\n",
       "  Text(0, 0, ''),\n",
       "  Text(0, 0, ''),\n",
       "  Text(0, 0, ''),\n",
       "  Text(0, 0, ''),\n",
       "  Text(0, 0, ''),\n",
       "  Text(0, 0, ''),\n",
       "  Text(0, 0, ''),\n",
       "  Text(0, 0, ''),\n",
       "  Text(0, 0, ''),\n",
       "  Text(0, 0, ''),\n",
       "  Text(0, 0, ''),\n",
       "  Text(0, 0, ''),\n",
       "  Text(0, 0, ''),\n",
       "  Text(0, 0, ''),\n",
       "  Text(0, 0, ''),\n",
       "  Text(0, 0, ''),\n",
       "  Text(0, 0, ''),\n",
       "  Text(0, 0, ''),\n",
       "  Text(0, 0, ''),\n",
       "  Text(0, 0, ''),\n",
       "  Text(0, 0, ''),\n",
       "  Text(0, 0, ''),\n",
       "  Text(0, 0, ''),\n",
       "  Text(0, 0, ''),\n",
       "  Text(0, 0, ''),\n",
       "  Text(0, 0, '')])"
      ]
     },
     "execution_count": 84,
     "metadata": {},
     "output_type": "execute_result"
    },
    {
     "data": {
      "image/png": "[encoded data removed]",
      "text/plain": [
       "<Figure size 1440x720 with 1 Axes>"
      ]
     },
     "metadata": {},
     "output_type": "display_data"
    }
   ],
   "source": [
    "fig, ax = plt.subplots(figsize=[20,10])\n",
    "sns.lineplot(x=\"transaction_date\", y=\"price\",data=septemberBydate)\n",
    "plt.xticks(rotation=20)"
   ]
  },
  {
   "cell_type": "markdown",
   "metadata": {},
   "source": [
    "## on constate sur un mois de septembre qui il y a des chute de ventes tous les 3 jours "
   ]
  },
  {
   "cell_type": "code",
   "execution_count": null,
   "metadata": {},
   "outputs": [],
   "source": [
    "septemberBydateByAAge = september.groupby(['transaction_date','binning_age']).sum()['price'].reset_index()\n",
    "septemberBydateByAAge"
   ]
  },
  {
   "cell_type": "code",
   "execution_count": null,
   "metadata": {},
   "outputs": [],
   "source": [
    "sTranBinning = september.groupby(['transaction_date','binning_age']).sum()['traceability_transaction'].reset_index()\n",
    "sTranBinning"
   ]
  },
  {
   "cell_type": "code",
   "execution_count": null,
   "metadata": {},
   "outputs": [],
   "source": [
    "uniqueDate = pd.unique(sTranBinning['transaction_date'])\n",
    "plt.figure(figsize=(10,25))\n",
    "\n",
    "for items in range (0, len(uniqueDate)):\n",
    "    x = sTranBinning.loc[sTranBinning['transaction_date'] == uniqueDate[items]]\n",
    "    plt.subplot(6,5,items+1)\n",
    "    plt.bar(x.binning_age,x.traceability_transaction)\n",
    "    plt.gcf().subplots_adjust(wspace  = 1, hspace=1)\n",
    "   "
   ]
  },
  {
   "cell_type": "markdown",
   "metadata": {},
   "source": [
    "## La taille du panier moyen (en nombre d’articles)"
   ]
  },
  {
   "cell_type": "code",
   "execution_count": 25,
   "metadata": {},
   "outputs": [
    {
     "data": {
      "text/html": [
       "<div>\n",
       "<style scoped>\n",
       "    .dataframe tbody tr th:only-of-type {\n",
       "        vertical-align: middle;\n",
       "    }\n",
       "\n",
       "    .dataframe tbody tr th {\n",
       "        vertical-align: top;\n",
       "    }\n",
       "\n",
       "    .dataframe thead th {\n",
       "        text-align: right;\n",
       "    }\n",
       "</style>\n",
       "<table border=\"1\" class=\"dataframe\">\n",
       "  <thead>\n",
       "    <tr style=\"text-align: right;\">\n",
       "      <th></th>\n",
       "      <th>index</th>\n",
       "      <th>client_id</th>\n",
       "      <th>sex</th>\n",
       "      <th>user_birthday</th>\n",
       "      <th>binning_age</th>\n",
       "      <th>user_age</th>\n",
       "      <th>category_id</th>\n",
       "      <th>id_product</th>\n",
       "      <th>price</th>\n",
       "      <th>sell_date</th>\n",
       "      <th>transaction_date</th>\n",
       "      <th>sell_year</th>\n",
       "      <th>month</th>\n",
       "      <th>month_string</th>\n",
       "      <th>traceability_transaction</th>\n",
       "    </tr>\n",
       "  </thead>\n",
       "  <tbody>\n",
       "    <tr>\n",
       "      <th>0</th>\n",
       "      <td>0</td>\n",
       "      <td>c_4410</td>\n",
       "      <td>f</td>\n",
       "      <td>1967</td>\n",
       "      <td>(50.0, 60.0]</td>\n",
       "      <td>54</td>\n",
       "      <td>0</td>\n",
       "      <td>0_1455</td>\n",
       "      <td>8.99</td>\n",
       "      <td>2021-03-22 14:29:25.189266</td>\n",
       "      <td>2021-03-22</td>\n",
       "      <td>2021</td>\n",
       "      <td>3</td>\n",
       "      <td>Mars</td>\n",
       "      <td>1</td>\n",
       "    </tr>\n",
       "    <tr>\n",
       "      <th>1</th>\n",
       "      <td>1</td>\n",
       "      <td>c_4389</td>\n",
       "      <td>m</td>\n",
       "      <td>1984</td>\n",
       "      <td>(30.0, 40.0]</td>\n",
       "      <td>37</td>\n",
       "      <td>0</td>\n",
       "      <td>0_1455</td>\n",
       "      <td>8.99</td>\n",
       "      <td>2021-07-09 11:16:18.579726</td>\n",
       "      <td>2021-07-09</td>\n",
       "      <td>2021</td>\n",
       "      <td>7</td>\n",
       "      <td>Juillet</td>\n",
       "      <td>1</td>\n",
       "    </tr>\n",
       "    <tr>\n",
       "      <th>2</th>\n",
       "      <td>2</td>\n",
       "      <td>c_5019</td>\n",
       "      <td>f</td>\n",
       "      <td>1977</td>\n",
       "      <td>(40.0, 50.0]</td>\n",
       "      <td>45</td>\n",
       "      <td>0</td>\n",
       "      <td>0_1455</td>\n",
       "      <td>8.99</td>\n",
       "      <td>2022-01-15 00:01:53.456196</td>\n",
       "      <td>2022-01-15</td>\n",
       "      <td>2022</td>\n",
       "      <td>1</td>\n",
       "      <td>Janvier - 2022</td>\n",
       "      <td>1</td>\n",
       "    </tr>\n",
       "    <tr>\n",
       "      <th>3</th>\n",
       "      <td>3</td>\n",
       "      <td>c_7049</td>\n",
       "      <td>f</td>\n",
       "      <td>1987</td>\n",
       "      <td>(30.0, 40.0]</td>\n",
       "      <td>34</td>\n",
       "      <td>0</td>\n",
       "      <td>0_1455</td>\n",
       "      <td>8.99</td>\n",
       "      <td>2021-03-04 14:01:38.698752</td>\n",
       "      <td>2021-03-04</td>\n",
       "      <td>2021</td>\n",
       "      <td>3</td>\n",
       "      <td>Mars</td>\n",
       "      <td>1</td>\n",
       "    </tr>\n",
       "    <tr>\n",
       "      <th>4</th>\n",
       "      <td>4</td>\n",
       "      <td>c_5110</td>\n",
       "      <td>f</td>\n",
       "      <td>1982</td>\n",
       "      <td>(30.0, 40.0]</td>\n",
       "      <td>39</td>\n",
       "      <td>0</td>\n",
       "      <td>0_1455</td>\n",
       "      <td>8.99</td>\n",
       "      <td>2021-09-05 11:48:41.065009</td>\n",
       "      <td>2021-09-05</td>\n",
       "      <td>2021</td>\n",
       "      <td>9</td>\n",
       "      <td>Septembre</td>\n",
       "      <td>1</td>\n",
       "    </tr>\n",
       "    <tr>\n",
       "      <th>...</th>\n",
       "      <td>...</td>\n",
       "      <td>...</td>\n",
       "      <td>...</td>\n",
       "      <td>...</td>\n",
       "      <td>...</td>\n",
       "      <td>...</td>\n",
       "      <td>...</td>\n",
       "      <td>...</td>\n",
       "      <td>...</td>\n",
       "      <td>...</td>\n",
       "      <td>...</td>\n",
       "      <td>...</td>\n",
       "      <td>...</td>\n",
       "      <td>...</td>\n",
       "      <td>...</td>\n",
       "    </tr>\n",
       "    <tr>\n",
       "      <th>336708</th>\n",
       "      <td>336708</td>\n",
       "      <td>c_7135</td>\n",
       "      <td>m</td>\n",
       "      <td>1996</td>\n",
       "      <td>(20.0, 30.0]</td>\n",
       "      <td>25</td>\n",
       "      <td>2</td>\n",
       "      <td>2_99</td>\n",
       "      <td>84.99</td>\n",
       "      <td>2021-07-11 20:56:49.820935</td>\n",
       "      <td>2021-07-11</td>\n",
       "      <td>2021</td>\n",
       "      <td>7</td>\n",
       "      <td>Juillet</td>\n",
       "      <td>1</td>\n",
       "    </tr>\n",
       "    <tr>\n",
       "      <th>336709</th>\n",
       "      <td>336709</td>\n",
       "      <td>c_5828</td>\n",
       "      <td>f</td>\n",
       "      <td>1998</td>\n",
       "      <td>(20.0, 30.0]</td>\n",
       "      <td>23</td>\n",
       "      <td>2</td>\n",
       "      <td>2_99</td>\n",
       "      <td>84.99</td>\n",
       "      <td>2021-11-21 01:53:46.967570</td>\n",
       "      <td>2021-11-21</td>\n",
       "      <td>2021</td>\n",
       "      <td>11</td>\n",
       "      <td>Novembre</td>\n",
       "      <td>1</td>\n",
       "    </tr>\n",
       "    <tr>\n",
       "      <th>336710</th>\n",
       "      <td>336710</td>\n",
       "      <td>c_8260</td>\n",
       "      <td>m</td>\n",
       "      <td>1991</td>\n",
       "      <td>(20.0, 30.0]</td>\n",
       "      <td>30</td>\n",
       "      <td>0</td>\n",
       "      <td>0_833</td>\n",
       "      <td>2.99</td>\n",
       "      <td>2021-09-27 23:22:40.394509</td>\n",
       "      <td>2021-09-27</td>\n",
       "      <td>2021</td>\n",
       "      <td>9</td>\n",
       "      <td>Septembre</td>\n",
       "      <td>1</td>\n",
       "    </tr>\n",
       "    <tr>\n",
       "      <th>336711</th>\n",
       "      <td>336711</td>\n",
       "      <td>c_8138</td>\n",
       "      <td>f</td>\n",
       "      <td>1984</td>\n",
       "      <td>(30.0, 40.0]</td>\n",
       "      <td>37</td>\n",
       "      <td>0</td>\n",
       "      <td>0_394</td>\n",
       "      <td>2.14</td>\n",
       "      <td>2021-11-09 09:02:38.299240</td>\n",
       "      <td>2021-11-09</td>\n",
       "      <td>2021</td>\n",
       "      <td>11</td>\n",
       "      <td>Novembre</td>\n",
       "      <td>1</td>\n",
       "    </tr>\n",
       "    <tr>\n",
       "      <th>336712</th>\n",
       "      <td>336712</td>\n",
       "      <td>c_8327</td>\n",
       "      <td>m</td>\n",
       "      <td>1972</td>\n",
       "      <td>(40.0, 50.0]</td>\n",
       "      <td>49</td>\n",
       "      <td>0</td>\n",
       "      <td>0_394</td>\n",
       "      <td>2.14</td>\n",
       "      <td>2021-12-28 22:44:11.200205</td>\n",
       "      <td>2021-12-28</td>\n",
       "      <td>2021</td>\n",
       "      <td>12</td>\n",
       "      <td>Decembre</td>\n",
       "      <td>1</td>\n",
       "    </tr>\n",
       "  </tbody>\n",
       "</table>\n",
       "<p>336713 rows × 15 columns</p>\n",
       "</div>"
      ],
      "text/plain": [
       "         index client_id sex  user_birthday   binning_age  user_age  \\\n",
       "0            0    c_4410   f           1967  (50.0, 60.0]        54   \n",
       "1            1    c_4389   m           1984  (30.0, 40.0]        37   \n",
       "2            2    c_5019   f           1977  (40.0, 50.0]        45   \n",
       "3            3    c_7049   f           1987  (30.0, 40.0]        34   \n",
       "4            4    c_5110   f           1982  (30.0, 40.0]        39   \n",
       "...        ...       ...  ..            ...           ...       ...   \n",
       "336708  336708    c_7135   m           1996  (20.0, 30.0]        25   \n",
       "336709  336709    c_5828   f           1998  (20.0, 30.0]        23   \n",
       "336710  336710    c_8260   m           1991  (20.0, 30.0]        30   \n",
       "336711  336711    c_8138   f           1984  (30.0, 40.0]        37   \n",
       "336712  336712    c_8327   m           1972  (40.0, 50.0]        49   \n",
       "\n",
       "        category_id id_product  price                   sell_date  \\\n",
       "0                 0     0_1455   8.99  2021-03-22 14:29:25.189266   \n",
       "1                 0     0_1455   8.99  2021-07-09 11:16:18.579726   \n",
       "2                 0     0_1455   8.99  2022-01-15 00:01:53.456196   \n",
       "3                 0     0_1455   8.99  2021-03-04 14:01:38.698752   \n",
       "4                 0     0_1455   8.99  2021-09-05 11:48:41.065009   \n",
       "...             ...        ...    ...                         ...   \n",
       "336708            2       2_99  84.99  2021-07-11 20:56:49.820935   \n",
       "336709            2       2_99  84.99  2021-11-21 01:53:46.967570   \n",
       "336710            0      0_833   2.99  2021-09-27 23:22:40.394509   \n",
       "336711            0      0_394   2.14  2021-11-09 09:02:38.299240   \n",
       "336712            0      0_394   2.14  2021-12-28 22:44:11.200205   \n",
       "\n",
       "       transaction_date  sell_year  month    month_string  \\\n",
       "0            2021-03-22       2021      3            Mars   \n",
       "1            2021-07-09       2021      7         Juillet   \n",
       "2            2022-01-15       2022      1  Janvier - 2022   \n",
       "3            2021-03-04       2021      3            Mars   \n",
       "4            2021-09-05       2021      9       Septembre   \n",
       "...                 ...        ...    ...             ...   \n",
       "336708       2021-07-11       2021      7         Juillet   \n",
       "336709       2021-11-21       2021     11        Novembre   \n",
       "336710       2021-09-27       2021      9       Septembre   \n",
       "336711       2021-11-09       2021     11        Novembre   \n",
       "336712       2021-12-28       2021     12        Decembre   \n",
       "\n",
       "        traceability_transaction  \n",
       "0                              1  \n",
       "1                              1  \n",
       "2                              1  \n",
       "3                              1  \n",
       "4                              1  \n",
       "...                          ...  \n",
       "336708                         1  \n",
       "336709                         1  \n",
       "336710                         1  \n",
       "336711                         1  \n",
       "336712                         1  \n",
       "\n",
       "[336713 rows x 15 columns]"
      ]
     },
     "execution_count": 25,
     "metadata": {},
     "output_type": "execute_result"
    }
   ],
   "source": [
    "data"
   ]
  },
  {
   "cell_type": "code",
   "execution_count": 35,
   "metadata": {},
   "outputs": [
    {
     "data": {
      "text/html": [
       "<div>\n",
       "<style scoped>\n",
       "    .dataframe tbody tr th:only-of-type {\n",
       "        vertical-align: middle;\n",
       "    }\n",
       "\n",
       "    .dataframe tbody tr th {\n",
       "        vertical-align: top;\n",
       "    }\n",
       "\n",
       "    .dataframe thead th {\n",
       "        text-align: right;\n",
       "    }\n",
       "</style>\n",
       "<table border=\"1\" class=\"dataframe\">\n",
       "  <thead>\n",
       "    <tr style=\"text-align: right;\">\n",
       "      <th></th>\n",
       "      <th>binning_age</th>\n",
       "      <th>price</th>\n",
       "    </tr>\n",
       "  </thead>\n",
       "  <tbody>\n",
       "    <tr>\n",
       "      <th>0</th>\n",
       "      <td>(18.0, 20.0]</td>\n",
       "      <td>40.652039</td>\n",
       "    </tr>\n",
       "    <tr>\n",
       "      <th>1</th>\n",
       "      <td>(20.0, 30.0]</td>\n",
       "      <td>35.186024</td>\n",
       "    </tr>\n",
       "    <tr>\n",
       "      <th>2</th>\n",
       "      <td>(30.0, 40.0]</td>\n",
       "      <td>13.097370</td>\n",
       "    </tr>\n",
       "    <tr>\n",
       "      <th>3</th>\n",
       "      <td>(40.0, 50.0]</td>\n",
       "      <td>13.123518</td>\n",
       "    </tr>\n",
       "    <tr>\n",
       "      <th>4</th>\n",
       "      <td>(50.0, 60.0]</td>\n",
       "      <td>16.589580</td>\n",
       "    </tr>\n",
       "    <tr>\n",
       "      <th>5</th>\n",
       "      <td>(60.0, 70.0]</td>\n",
       "      <td>16.595203</td>\n",
       "    </tr>\n",
       "    <tr>\n",
       "      <th>6</th>\n",
       "      <td>(70.0, 80.0]</td>\n",
       "      <td>16.472579</td>\n",
       "    </tr>\n",
       "    <tr>\n",
       "      <th>7</th>\n",
       "      <td>(80.0, 90.0]</td>\n",
       "      <td>16.706574</td>\n",
       "    </tr>\n",
       "    <tr>\n",
       "      <th>8</th>\n",
       "      <td>(90.0, 100.0]</td>\n",
       "      <td>16.490561</td>\n",
       "    </tr>\n",
       "  </tbody>\n",
       "</table>\n",
       "</div>"
      ],
      "text/plain": [
       "     binning_age      price\n",
       "0   (18.0, 20.0]  40.652039\n",
       "1   (20.0, 30.0]  35.186024\n",
       "2   (30.0, 40.0]  13.097370\n",
       "3   (40.0, 50.0]  13.123518\n",
       "4   (50.0, 60.0]  16.589580\n",
       "5   (60.0, 70.0]  16.595203\n",
       "6   (70.0, 80.0]  16.472579\n",
       "7   (80.0, 90.0]  16.706574\n",
       "8  (90.0, 100.0]  16.490561"
      ]
     },
     "execution_count": 35,
     "metadata": {},
     "output_type": "execute_result"
    }
   ],
   "source": [
    "meanByUserAge = data.groupby(['binning_age']).mean()\n",
    "meanByUserAge = meanByUserAge.reset_index()\n",
    "meanByUserAge = meanByUserAge[['binning_age','price']] \n",
    "meanByUserAge\n",
    "#sns.histplot(data=calc_panier_moy, x=\"user_age\", bins=30)"
   ]
  },
  {
   "cell_type": "code",
   "execution_count": 36,
   "metadata": {},
   "outputs": [
    {
     "data": {
      "text/html": [
       "<div>\n",
       "<style scoped>\n",
       "    .dataframe tbody tr th:only-of-type {\n",
       "        vertical-align: middle;\n",
       "    }\n",
       "\n",
       "    .dataframe tbody tr th {\n",
       "        vertical-align: top;\n",
       "    }\n",
       "\n",
       "    .dataframe thead th {\n",
       "        text-align: right;\n",
       "    }\n",
       "</style>\n",
       "<table border=\"1\" class=\"dataframe\">\n",
       "  <thead>\n",
       "    <tr style=\"text-align: right;\">\n",
       "      <th></th>\n",
       "      <th>binning_age</th>\n",
       "      <th>traceability_transaction</th>\n",
       "    </tr>\n",
       "  </thead>\n",
       "  <tbody>\n",
       "    <tr>\n",
       "      <th>0</th>\n",
       "      <td>(18.0, 20.0]</td>\n",
       "      <td>4282</td>\n",
       "    </tr>\n",
       "    <tr>\n",
       "      <th>1</th>\n",
       "      <td>(20.0, 30.0]</td>\n",
       "      <td>32669</td>\n",
       "    </tr>\n",
       "    <tr>\n",
       "      <th>2</th>\n",
       "      <td>(30.0, 40.0]</td>\n",
       "      <td>98329</td>\n",
       "    </tr>\n",
       "    <tr>\n",
       "      <th>3</th>\n",
       "      <td>(40.0, 50.0]</td>\n",
       "      <td>107439</td>\n",
       "    </tr>\n",
       "    <tr>\n",
       "      <th>4</th>\n",
       "      <td>(50.0, 60.0]</td>\n",
       "      <td>44726</td>\n",
       "    </tr>\n",
       "    <tr>\n",
       "      <th>5</th>\n",
       "      <td>(60.0, 70.0]</td>\n",
       "      <td>26010</td>\n",
       "    </tr>\n",
       "    <tr>\n",
       "      <th>6</th>\n",
       "      <td>(70.0, 80.0]</td>\n",
       "      <td>10242</td>\n",
       "    </tr>\n",
       "    <tr>\n",
       "      <th>7</th>\n",
       "      <td>(80.0, 90.0]</td>\n",
       "      <td>3675</td>\n",
       "    </tr>\n",
       "    <tr>\n",
       "      <th>8</th>\n",
       "      <td>(90.0, 100.0]</td>\n",
       "      <td>214</td>\n",
       "    </tr>\n",
       "  </tbody>\n",
       "</table>\n",
       "</div>"
      ],
      "text/plain": [
       "     binning_age  traceability_transaction\n",
       "0   (18.0, 20.0]                      4282\n",
       "1   (20.0, 30.0]                     32669\n",
       "2   (30.0, 40.0]                     98329\n",
       "3   (40.0, 50.0]                    107439\n",
       "4   (50.0, 60.0]                     44726\n",
       "5   (60.0, 70.0]                     26010\n",
       "6   (70.0, 80.0]                     10242\n",
       "7   (80.0, 90.0]                      3675\n",
       "8  (90.0, 100.0]                       214"
      ]
     },
     "execution_count": 36,
     "metadata": {},
     "output_type": "execute_result"
    }
   ],
   "source": [
    "sumByUserAge = data.groupby(['binning_age']).sum()\n",
    "sumByUserAge = sumByUserAge.reset_index()\n",
    "sumByUserAge = sumByUserAge[['binning_age','traceability_transaction']] \n",
    "sumByUserAge"
   ]
  },
  {
   "cell_type": "code",
   "execution_count": 38,
   "metadata": {},
   "outputs": [
    {
     "data": {
      "text/html": [
       "<div>\n",
       "<style scoped>\n",
       "    .dataframe tbody tr th:only-of-type {\n",
       "        vertical-align: middle;\n",
       "    }\n",
       "\n",
       "    .dataframe tbody tr th {\n",
       "        vertical-align: top;\n",
       "    }\n",
       "\n",
       "    .dataframe thead th {\n",
       "        text-align: right;\n",
       "    }\n",
       "</style>\n",
       "<table border=\"1\" class=\"dataframe\">\n",
       "  <thead>\n",
       "    <tr style=\"text-align: right;\">\n",
       "      <th></th>\n",
       "      <th>binning_age</th>\n",
       "      <th>price</th>\n",
       "      <th>traceability_transaction</th>\n",
       "    </tr>\n",
       "  </thead>\n",
       "  <tbody>\n",
       "    <tr>\n",
       "      <th>0</th>\n",
       "      <td>(18.0, 20.0]</td>\n",
       "      <td>40.652039</td>\n",
       "      <td>4282</td>\n",
       "    </tr>\n",
       "    <tr>\n",
       "      <th>1</th>\n",
       "      <td>(20.0, 30.0]</td>\n",
       "      <td>35.186024</td>\n",
       "      <td>32669</td>\n",
       "    </tr>\n",
       "    <tr>\n",
       "      <th>2</th>\n",
       "      <td>(30.0, 40.0]</td>\n",
       "      <td>13.097370</td>\n",
       "      <td>98329</td>\n",
       "    </tr>\n",
       "    <tr>\n",
       "      <th>3</th>\n",
       "      <td>(40.0, 50.0]</td>\n",
       "      <td>13.123518</td>\n",
       "      <td>107439</td>\n",
       "    </tr>\n",
       "    <tr>\n",
       "      <th>4</th>\n",
       "      <td>(50.0, 60.0]</td>\n",
       "      <td>16.589580</td>\n",
       "      <td>44726</td>\n",
       "    </tr>\n",
       "    <tr>\n",
       "      <th>5</th>\n",
       "      <td>(60.0, 70.0]</td>\n",
       "      <td>16.595203</td>\n",
       "      <td>26010</td>\n",
       "    </tr>\n",
       "    <tr>\n",
       "      <th>6</th>\n",
       "      <td>(70.0, 80.0]</td>\n",
       "      <td>16.472579</td>\n",
       "      <td>10242</td>\n",
       "    </tr>\n",
       "    <tr>\n",
       "      <th>7</th>\n",
       "      <td>(80.0, 90.0]</td>\n",
       "      <td>16.706574</td>\n",
       "      <td>3675</td>\n",
       "    </tr>\n",
       "    <tr>\n",
       "      <th>8</th>\n",
       "      <td>(90.0, 100.0]</td>\n",
       "      <td>16.490561</td>\n",
       "      <td>214</td>\n",
       "    </tr>\n",
       "  </tbody>\n",
       "</table>\n",
       "</div>"
      ],
      "text/plain": [
       "     binning_age      price  traceability_transaction\n",
       "0   (18.0, 20.0]  40.652039                      4282\n",
       "1   (20.0, 30.0]  35.186024                     32669\n",
       "2   (30.0, 40.0]  13.097370                     98329\n",
       "3   (40.0, 50.0]  13.123518                    107439\n",
       "4   (50.0, 60.0]  16.589580                     44726\n",
       "5   (60.0, 70.0]  16.595203                     26010\n",
       "6   (70.0, 80.0]  16.472579                     10242\n",
       "7   (80.0, 90.0]  16.706574                      3675\n",
       "8  (90.0, 100.0]  16.490561                       214"
      ]
     },
     "execution_count": 38,
     "metadata": {},
     "output_type": "execute_result"
    }
   ],
   "source": [
    "mergeTransacMeanPrice = meanByUserAge.merge(sumByUserAge, left_on='binning_age', right_on='binning_age')\n",
    "mergeTransacMeanPrice"
   ]
  },
  {
   "cell_type": "code",
   "execution_count": 43,
   "metadata": {},
   "outputs": [
    {
     "data": {
      "text/plain": [
       "<AxesSubplot:xlabel='binning_age', ylabel='price'>"
      ]
     },
     "execution_count": 43,
     "metadata": {},
     "output_type": "execute_result"
    },
    {
     "data": {
      "image/png": "[encoded data removed]",
      "text/plain": [
       "<Figure size 864x360 with 1 Axes>"
      ]
     },
     "metadata": {
      "needs_background": "light"
     },
     "output_type": "display_data"
    }
   ],
   "source": [
    "plt.figure(figsize=[12,5])\n",
    "sns.barplot(x=\"binning_age\", y=\"price\", data=mergeTransacMeanPrice, ci=68)"
   ]
  },
  {
   "cell_type": "code",
   "execution_count": 28,
   "metadata": {},
   "outputs": [
    {
     "data": {
      "text/plain": [
       "<AxesSubplot:xlabel='user_age', ylabel='Count'>"
      ]
     },
     "execution_count": 28,
     "metadata": {},
     "output_type": "execute_result"
    },
    {
     "data": {
      "image/png": "[encoded data removed]",
      "text/plain": [
       "<Figure size 432x288 with 1 Axes>"
      ]
     },
     "metadata": {
      "needs_background": "light"
     },
     "output_type": "display_data"
    }
   ],
   "source": [
    "userAGETRANSAC = data[['user_age','traceability_transaction']]\n",
    "\n",
    "sns.histplot(data=userAGETRANSAC, x=\"user_age\", bins=30)\n",
    "\n",
    "## ici faire par catégorie "
   ]
  },
  {
   "cell_type": "markdown",
   "metadata": {},
   "source": [
    "## Les catégories de produits achetés."
   ]
  },
  {
   "cell_type": "code",
   "execution_count": null,
   "metadata": {},
   "outputs": [],
   "source": [
    "binningCategory = data.groupby(['binning_age','category_id']).sum()\n",
    "binningCategory\n",
    "binningCategory = binningCategory[['price']].reset_index()"
   ]
  },
  {
   "cell_type": "code",
   "execution_count": null,
   "metadata": {},
   "outputs": [],
   "source": [
    "binning_cat_plot = sns.factorplot(x='binning_age', y='price', hue='category_id', \n",
    "                        col='category_id', data=binningCategory.reset_index(), kind='bar',height=10)"
   ]
  },
  {
   "cell_type": "markdown",
   "metadata": {},
   "source": [
    "## Régression linéaire Panier moyen"
   ]
  },
  {
   "cell_type": "code",
   "execution_count": 75,
   "metadata": {},
   "outputs": [
    {
     "name": "stdout",
     "output_type": "stream",
     "text": [
      "expliquation que de 0.30 des datas \n"
     ]
    },
    {
     "data": {
      "image/png": "[encoded data removed]",
      "text/plain": [
       "<Figure size 720x720 with 1 Axes>"
      ]
     },
     "metadata": {},
     "output_type": "display_data"
    }
   ],
   "source": [
    "from sklearn.linear_model import LinearRegression\n",
    "\n",
    "meanByAge = data.groupby(['user_age']).mean()\n",
    "meanByAge = meanByAge.reset_index()\n",
    "meanByAge = meanByAge[['user_age','price']] \n",
    "\n",
    "X = meanByAge['user_age'].values[:,np.newaxis]\n",
    "# target data is array of shape (n,) \n",
    "y = meanByAge['price'].values\n",
    "\n",
    "modelLinearPanierMoyAge = LinearRegression()\n",
    "modelLinearPanierMoyAge.fit(X, y)\n",
    "\n",
    "RCarre = modelLinearPanierMoyAge.score(X, y)\n",
    "\n",
    "sns.set_theme()\n",
    "sns.set_style(\"darkgrid\")\n",
    "\n",
    "\n",
    "#sns.set_style(\"ticks\", {\"xtick.major.size\": 8, \"ytick.major.size\": 8})\n",
    "plt.figure(figsize=(10,10))\n",
    "plt.plot(X, y, '.')\n",
    "plt.plot(X, model2.predict(X), 'y--')\n",
    "plt.xlabel('age')\n",
    "plt.ylabel(\"Panier moyen (12 mois) vs Age\")\n",
    "plt.plot()\n",
    "print(f\"expliquation que de {RCarre:.2f} des datas \")\n"
   ]
  },
  {
   "cell_type": "code",
   "execution_count": 99,
   "metadata": {},
   "outputs": [
    {
     "ename": "SyntaxError",
     "evalue": "invalid syntax (<ipython-input-99-a812d0cca809>, line 2)",
     "output_type": "error",
     "traceback": [
      "\u001b[0;36m  File \u001b[0;32m\"<ipython-input-99-a812d0cca809>\"\u001b[0;36m, line \u001b[0;32m2\u001b[0m\n\u001b[0;31m    frequence d'achat = nombre d'acheteur / nombre de transaction\u001b[0m\n\u001b[0m              ^\u001b[0m\n\u001b[0;31mSyntaxError\u001b[0m\u001b[0;31m:\u001b[0m invalid syntax\n"
     ]
    }
   ],
   "source": [
    "##\n",
    "frequence d'achat = nombre d'acheteur / nombre de transaction \n",
    "\n",
    "depense sur l'anner = group by age + sum\n"
   ]
  },
  {
   "cell_type": "code",
   "execution_count": 85,
   "metadata": {},
   "outputs": [
    {
     "data": {
      "text/html": [
       "<div>\n",
       "<style scoped>\n",
       "    .dataframe tbody tr th:only-of-type {\n",
       "        vertical-align: middle;\n",
       "    }\n",
       "\n",
       "    .dataframe tbody tr th {\n",
       "        vertical-align: top;\n",
       "    }\n",
       "\n",
       "    .dataframe thead th {\n",
       "        text-align: right;\n",
       "    }\n",
       "</style>\n",
       "<table border=\"1\" class=\"dataframe\">\n",
       "  <thead>\n",
       "    <tr style=\"text-align: right;\">\n",
       "      <th></th>\n",
       "      <th>index</th>\n",
       "      <th>client_id</th>\n",
       "      <th>sex</th>\n",
       "      <th>user_birthday</th>\n",
       "      <th>binning_age</th>\n",
       "      <th>user_age</th>\n",
       "      <th>category_id</th>\n",
       "      <th>id_product</th>\n",
       "      <th>price</th>\n",
       "      <th>sell_date</th>\n",
       "      <th>transaction_date</th>\n",
       "      <th>sell_year</th>\n",
       "      <th>month</th>\n",
       "      <th>month_string</th>\n",
       "      <th>traceability_transaction</th>\n",
       "    </tr>\n",
       "  </thead>\n",
       "  <tbody>\n",
       "    <tr>\n",
       "      <th>0</th>\n",
       "      <td>0</td>\n",
       "      <td>c_4410</td>\n",
       "      <td>f</td>\n",
       "      <td>1967</td>\n",
       "      <td>(50.0, 60.0]</td>\n",
       "      <td>54</td>\n",
       "      <td>0</td>\n",
       "      <td>0_1455</td>\n",
       "      <td>8.99</td>\n",
       "      <td>2021-03-22 14:29:25.189266</td>\n",
       "      <td>2021-03-22</td>\n",
       "      <td>2021</td>\n",
       "      <td>3</td>\n",
       "      <td>Mars</td>\n",
       "      <td>1</td>\n",
       "    </tr>\n",
       "    <tr>\n",
       "      <th>1</th>\n",
       "      <td>1</td>\n",
       "      <td>c_4389</td>\n",
       "      <td>m</td>\n",
       "      <td>1984</td>\n",
       "      <td>(30.0, 40.0]</td>\n",
       "      <td>37</td>\n",
       "      <td>0</td>\n",
       "      <td>0_1455</td>\n",
       "      <td>8.99</td>\n",
       "      <td>2021-07-09 11:16:18.579726</td>\n",
       "      <td>2021-07-09</td>\n",
       "      <td>2021</td>\n",
       "      <td>7</td>\n",
       "      <td>Juillet</td>\n",
       "      <td>1</td>\n",
       "    </tr>\n",
       "    <tr>\n",
       "      <th>2</th>\n",
       "      <td>2</td>\n",
       "      <td>c_5019</td>\n",
       "      <td>f</td>\n",
       "      <td>1977</td>\n",
       "      <td>(40.0, 50.0]</td>\n",
       "      <td>45</td>\n",
       "      <td>0</td>\n",
       "      <td>0_1455</td>\n",
       "      <td>8.99</td>\n",
       "      <td>2022-01-15 00:01:53.456196</td>\n",
       "      <td>2022-01-15</td>\n",
       "      <td>2022</td>\n",
       "      <td>1</td>\n",
       "      <td>Janvier - 2022</td>\n",
       "      <td>1</td>\n",
       "    </tr>\n",
       "    <tr>\n",
       "      <th>3</th>\n",
       "      <td>3</td>\n",
       "      <td>c_7049</td>\n",
       "      <td>f</td>\n",
       "      <td>1987</td>\n",
       "      <td>(30.0, 40.0]</td>\n",
       "      <td>34</td>\n",
       "      <td>0</td>\n",
       "      <td>0_1455</td>\n",
       "      <td>8.99</td>\n",
       "      <td>2021-03-04 14:01:38.698752</td>\n",
       "      <td>2021-03-04</td>\n",
       "      <td>2021</td>\n",
       "      <td>3</td>\n",
       "      <td>Mars</td>\n",
       "      <td>1</td>\n",
       "    </tr>\n",
       "    <tr>\n",
       "      <th>4</th>\n",
       "      <td>4</td>\n",
       "      <td>c_5110</td>\n",
       "      <td>f</td>\n",
       "      <td>1982</td>\n",
       "      <td>(30.0, 40.0]</td>\n",
       "      <td>39</td>\n",
       "      <td>0</td>\n",
       "      <td>0_1455</td>\n",
       "      <td>8.99</td>\n",
       "      <td>2021-09-05 11:48:41.065009</td>\n",
       "      <td>2021-09-05</td>\n",
       "      <td>2021</td>\n",
       "      <td>9</td>\n",
       "      <td>Septembre</td>\n",
       "      <td>1</td>\n",
       "    </tr>\n",
       "    <tr>\n",
       "      <th>...</th>\n",
       "      <td>...</td>\n",
       "      <td>...</td>\n",
       "      <td>...</td>\n",
       "      <td>...</td>\n",
       "      <td>...</td>\n",
       "      <td>...</td>\n",
       "      <td>...</td>\n",
       "      <td>...</td>\n",
       "      <td>...</td>\n",
       "      <td>...</td>\n",
       "      <td>...</td>\n",
       "      <td>...</td>\n",
       "      <td>...</td>\n",
       "      <td>...</td>\n",
       "      <td>...</td>\n",
       "    </tr>\n",
       "    <tr>\n",
       "      <th>336708</th>\n",
       "      <td>336708</td>\n",
       "      <td>c_7135</td>\n",
       "      <td>m</td>\n",
       "      <td>1996</td>\n",
       "      <td>(20.0, 30.0]</td>\n",
       "      <td>25</td>\n",
       "      <td>2</td>\n",
       "      <td>2_99</td>\n",
       "      <td>84.99</td>\n",
       "      <td>2021-07-11 20:56:49.820935</td>\n",
       "      <td>2021-07-11</td>\n",
       "      <td>2021</td>\n",
       "      <td>7</td>\n",
       "      <td>Juillet</td>\n",
       "      <td>1</td>\n",
       "    </tr>\n",
       "    <tr>\n",
       "      <th>336709</th>\n",
       "      <td>336709</td>\n",
       "      <td>c_5828</td>\n",
       "      <td>f</td>\n",
       "      <td>1998</td>\n",
       "      <td>(20.0, 30.0]</td>\n",
       "      <td>23</td>\n",
       "      <td>2</td>\n",
       "      <td>2_99</td>\n",
       "      <td>84.99</td>\n",
       "      <td>2021-11-21 01:53:46.967570</td>\n",
       "      <td>2021-11-21</td>\n",
       "      <td>2021</td>\n",
       "      <td>11</td>\n",
       "      <td>Novembre</td>\n",
       "      <td>1</td>\n",
       "    </tr>\n",
       "    <tr>\n",
       "      <th>336710</th>\n",
       "      <td>336710</td>\n",
       "      <td>c_8260</td>\n",
       "      <td>m</td>\n",
       "      <td>1991</td>\n",
       "      <td>(20.0, 30.0]</td>\n",
       "      <td>30</td>\n",
       "      <td>0</td>\n",
       "      <td>0_833</td>\n",
       "      <td>2.99</td>\n",
       "      <td>2021-09-27 23:22:40.394509</td>\n",
       "      <td>2021-09-27</td>\n",
       "      <td>2021</td>\n",
       "      <td>9</td>\n",
       "      <td>Septembre</td>\n",
       "      <td>1</td>\n",
       "    </tr>\n",
       "    <tr>\n",
       "      <th>336711</th>\n",
       "      <td>336711</td>\n",
       "      <td>c_8138</td>\n",
       "      <td>f</td>\n",
       "      <td>1984</td>\n",
       "      <td>(30.0, 40.0]</td>\n",
       "      <td>37</td>\n",
       "      <td>0</td>\n",
       "      <td>0_394</td>\n",
       "      <td>2.14</td>\n",
       "      <td>2021-11-09 09:02:38.299240</td>\n",
       "      <td>2021-11-09</td>\n",
       "      <td>2021</td>\n",
       "      <td>11</td>\n",
       "      <td>Novembre</td>\n",
       "      <td>1</td>\n",
       "    </tr>\n",
       "    <tr>\n",
       "      <th>336712</th>\n",
       "      <td>336712</td>\n",
       "      <td>c_8327</td>\n",
       "      <td>m</td>\n",
       "      <td>1972</td>\n",
       "      <td>(40.0, 50.0]</td>\n",
       "      <td>49</td>\n",
       "      <td>0</td>\n",
       "      <td>0_394</td>\n",
       "      <td>2.14</td>\n",
       "      <td>2021-12-28 22:44:11.200205</td>\n",
       "      <td>2021-12-28</td>\n",
       "      <td>2021</td>\n",
       "      <td>12</td>\n",
       "      <td>Decembre</td>\n",
       "      <td>1</td>\n",
       "    </tr>\n",
       "  </tbody>\n",
       "</table>\n",
       "<p>336713 rows × 15 columns</p>\n",
       "</div>"
      ],
      "text/plain": [
       "         index client_id sex  user_birthday   binning_age  user_age  \\\n",
       "0            0    c_4410   f           1967  (50.0, 60.0]        54   \n",
       "1            1    c_4389   m           1984  (30.0, 40.0]        37   \n",
       "2            2    c_5019   f           1977  (40.0, 50.0]        45   \n",
       "3            3    c_7049   f           1987  (30.0, 40.0]        34   \n",
       "4            4    c_5110   f           1982  (30.0, 40.0]        39   \n",
       "...        ...       ...  ..            ...           ...       ...   \n",
       "336708  336708    c_7135   m           1996  (20.0, 30.0]        25   \n",
       "336709  336709    c_5828   f           1998  (20.0, 30.0]        23   \n",
       "336710  336710    c_8260   m           1991  (20.0, 30.0]        30   \n",
       "336711  336711    c_8138   f           1984  (30.0, 40.0]        37   \n",
       "336712  336712    c_8327   m           1972  (40.0, 50.0]        49   \n",
       "\n",
       "        category_id id_product  price                   sell_date  \\\n",
       "0                 0     0_1455   8.99  2021-03-22 14:29:25.189266   \n",
       "1                 0     0_1455   8.99  2021-07-09 11:16:18.579726   \n",
       "2                 0     0_1455   8.99  2022-01-15 00:01:53.456196   \n",
       "3                 0     0_1455   8.99  2021-03-04 14:01:38.698752   \n",
       "4                 0     0_1455   8.99  2021-09-05 11:48:41.065009   \n",
       "...             ...        ...    ...                         ...   \n",
       "336708            2       2_99  84.99  2021-07-11 20:56:49.820935   \n",
       "336709            2       2_99  84.99  2021-11-21 01:53:46.967570   \n",
       "336710            0      0_833   2.99  2021-09-27 23:22:40.394509   \n",
       "336711            0      0_394   2.14  2021-11-09 09:02:38.299240   \n",
       "336712            0      0_394   2.14  2021-12-28 22:44:11.200205   \n",
       "\n",
       "       transaction_date  sell_year  month    month_string  \\\n",
       "0            2021-03-22       2021      3            Mars   \n",
       "1            2021-07-09       2021      7         Juillet   \n",
       "2            2022-01-15       2022      1  Janvier - 2022   \n",
       "3            2021-03-04       2021      3            Mars   \n",
       "4            2021-09-05       2021      9       Septembre   \n",
       "...                 ...        ...    ...             ...   \n",
       "336708       2021-07-11       2021      7         Juillet   \n",
       "336709       2021-11-21       2021     11        Novembre   \n",
       "336710       2021-09-27       2021      9       Septembre   \n",
       "336711       2021-11-09       2021     11        Novembre   \n",
       "336712       2021-12-28       2021     12        Decembre   \n",
       "\n",
       "        traceability_transaction  \n",
       "0                              1  \n",
       "1                              1  \n",
       "2                              1  \n",
       "3                              1  \n",
       "4                              1  \n",
       "...                          ...  \n",
       "336708                         1  \n",
       "336709                         1  \n",
       "336710                         1  \n",
       "336711                         1  \n",
       "336712                         1  \n",
       "\n",
       "[336713 rows x 15 columns]"
      ]
     },
     "execution_count": 85,
     "metadata": {},
     "output_type": "execute_result"
    }
   ],
   "source": [
    "data"
   ]
  },
  {
   "cell_type": "code",
   "execution_count": 117,
   "metadata": {},
   "outputs": [
    {
     "data": {
      "text/html": [
       "<div>\n",
       "<style scoped>\n",
       "    .dataframe tbody tr th:only-of-type {\n",
       "        vertical-align: middle;\n",
       "    }\n",
       "\n",
       "    .dataframe tbody tr th {\n",
       "        vertical-align: top;\n",
       "    }\n",
       "\n",
       "    .dataframe thead th {\n",
       "        text-align: right;\n",
       "    }\n",
       "</style>\n",
       "<table border=\"1\" class=\"dataframe\">\n",
       "  <thead>\n",
       "    <tr style=\"text-align: right;\">\n",
       "      <th></th>\n",
       "      <th>category_id</th>\n",
       "      <th>binning_age</th>\n",
       "      <th>0</th>\n",
       "    </tr>\n",
       "  </thead>\n",
       "  <tbody>\n",
       "    <tr>\n",
       "      <th>0</th>\n",
       "      <td>0</td>\n",
       "      <td>(18.0, 20.0]</td>\n",
       "      <td>965</td>\n",
       "    </tr>\n",
       "    <tr>\n",
       "      <th>1</th>\n",
       "      <td>0</td>\n",
       "      <td>(20.0, 30.0]</td>\n",
       "      <td>10940</td>\n",
       "    </tr>\n",
       "    <tr>\n",
       "      <th>2</th>\n",
       "      <td>0</td>\n",
       "      <td>(30.0, 40.0]</td>\n",
       "      <td>75499</td>\n",
       "    </tr>\n",
       "    <tr>\n",
       "      <th>3</th>\n",
       "      <td>0</td>\n",
       "      <td>(40.0, 50.0]</td>\n",
       "      <td>81750</td>\n",
       "    </tr>\n",
       "    <tr>\n",
       "      <th>4</th>\n",
       "      <td>0</td>\n",
       "      <td>(50.0, 60.0]</td>\n",
       "      <td>20300</td>\n",
       "    </tr>\n",
       "    <tr>\n",
       "      <th>5</th>\n",
       "      <td>0</td>\n",
       "      <td>(60.0, 70.0]</td>\n",
       "      <td>11593</td>\n",
       "    </tr>\n",
       "    <tr>\n",
       "      <th>6</th>\n",
       "      <td>0</td>\n",
       "      <td>(70.0, 80.0]</td>\n",
       "      <td>4595</td>\n",
       "    </tr>\n",
       "    <tr>\n",
       "      <th>7</th>\n",
       "      <td>0</td>\n",
       "      <td>(80.0, 90.0]</td>\n",
       "      <td>1621</td>\n",
       "    </tr>\n",
       "    <tr>\n",
       "      <th>8</th>\n",
       "      <td>0</td>\n",
       "      <td>(90.0, 100.0]</td>\n",
       "      <td>85</td>\n",
       "    </tr>\n",
       "    <tr>\n",
       "      <th>9</th>\n",
       "      <td>1</td>\n",
       "      <td>(18.0, 20.0]</td>\n",
       "      <td>1596</td>\n",
       "    </tr>\n",
       "    <tr>\n",
       "      <th>10</th>\n",
       "      <td>1</td>\n",
       "      <td>(20.0, 30.0]</td>\n",
       "      <td>10933</td>\n",
       "    </tr>\n",
       "    <tr>\n",
       "      <th>11</th>\n",
       "      <td>1</td>\n",
       "      <td>(30.0, 40.0]</td>\n",
       "      <td>22533</td>\n",
       "    </tr>\n",
       "    <tr>\n",
       "      <th>12</th>\n",
       "      <td>1</td>\n",
       "      <td>(40.0, 50.0]</td>\n",
       "      <td>25413</td>\n",
       "    </tr>\n",
       "    <tr>\n",
       "      <th>13</th>\n",
       "      <td>1</td>\n",
       "      <td>(50.0, 60.0]</td>\n",
       "      <td>23951</td>\n",
       "    </tr>\n",
       "    <tr>\n",
       "      <th>14</th>\n",
       "      <td>1</td>\n",
       "      <td>(60.0, 70.0]</td>\n",
       "      <td>14193</td>\n",
       "    </tr>\n",
       "    <tr>\n",
       "      <th>15</th>\n",
       "      <td>1</td>\n",
       "      <td>(70.0, 80.0]</td>\n",
       "      <td>5569</td>\n",
       "    </tr>\n",
       "    <tr>\n",
       "      <th>16</th>\n",
       "      <td>1</td>\n",
       "      <td>(80.0, 90.0]</td>\n",
       "      <td>2021</td>\n",
       "    </tr>\n",
       "    <tr>\n",
       "      <th>17</th>\n",
       "      <td>1</td>\n",
       "      <td>(90.0, 100.0]</td>\n",
       "      <td>127</td>\n",
       "    </tr>\n",
       "    <tr>\n",
       "      <th>18</th>\n",
       "      <td>2</td>\n",
       "      <td>(18.0, 20.0]</td>\n",
       "      <td>1721</td>\n",
       "    </tr>\n",
       "    <tr>\n",
       "      <th>19</th>\n",
       "      <td>2</td>\n",
       "      <td>(20.0, 30.0]</td>\n",
       "      <td>10796</td>\n",
       "    </tr>\n",
       "    <tr>\n",
       "      <th>20</th>\n",
       "      <td>2</td>\n",
       "      <td>(30.0, 40.0]</td>\n",
       "      <td>297</td>\n",
       "    </tr>\n",
       "    <tr>\n",
       "      <th>21</th>\n",
       "      <td>2</td>\n",
       "      <td>(40.0, 50.0]</td>\n",
       "      <td>276</td>\n",
       "    </tr>\n",
       "    <tr>\n",
       "      <th>22</th>\n",
       "      <td>2</td>\n",
       "      <td>(50.0, 60.0]</td>\n",
       "      <td>475</td>\n",
       "    </tr>\n",
       "    <tr>\n",
       "      <th>23</th>\n",
       "      <td>2</td>\n",
       "      <td>(60.0, 70.0]</td>\n",
       "      <td>224</td>\n",
       "    </tr>\n",
       "    <tr>\n",
       "      <th>24</th>\n",
       "      <td>2</td>\n",
       "      <td>(70.0, 80.0]</td>\n",
       "      <td>78</td>\n",
       "    </tr>\n",
       "    <tr>\n",
       "      <th>25</th>\n",
       "      <td>2</td>\n",
       "      <td>(80.0, 90.0]</td>\n",
       "      <td>33</td>\n",
       "    </tr>\n",
       "    <tr>\n",
       "      <th>26</th>\n",
       "      <td>2</td>\n",
       "      <td>(90.0, 100.0]</td>\n",
       "      <td>2</td>\n",
       "    </tr>\n",
       "  </tbody>\n",
       "</table>\n",
       "</div>"
      ],
      "text/plain": [
       "    category_id    binning_age      0\n",
       "0             0   (18.0, 20.0]    965\n",
       "1             0   (20.0, 30.0]  10940\n",
       "2             0   (30.0, 40.0]  75499\n",
       "3             0   (40.0, 50.0]  81750\n",
       "4             0   (50.0, 60.0]  20300\n",
       "5             0   (60.0, 70.0]  11593\n",
       "6             0   (70.0, 80.0]   4595\n",
       "7             0   (80.0, 90.0]   1621\n",
       "8             0  (90.0, 100.0]     85\n",
       "9             1   (18.0, 20.0]   1596\n",
       "10            1   (20.0, 30.0]  10933\n",
       "11            1   (30.0, 40.0]  22533\n",
       "12            1   (40.0, 50.0]  25413\n",
       "13            1   (50.0, 60.0]  23951\n",
       "14            1   (60.0, 70.0]  14193\n",
       "15            1   (70.0, 80.0]   5569\n",
       "16            1   (80.0, 90.0]   2021\n",
       "17            1  (90.0, 100.0]    127\n",
       "18            2   (18.0, 20.0]   1721\n",
       "19            2   (20.0, 30.0]  10796\n",
       "20            2   (30.0, 40.0]    297\n",
       "21            2   (40.0, 50.0]    276\n",
       "22            2   (50.0, 60.0]    475\n",
       "23            2   (60.0, 70.0]    224\n",
       "24            2   (70.0, 80.0]     78\n",
       "25            2   (80.0, 90.0]     33\n",
       "26            2  (90.0, 100.0]      2"
      ]
     },
     "execution_count": 117,
     "metadata": {},
     "output_type": "execute_result"
    }
   ],
   "source": [
    "t = data.groupby(['category_id','binning_age']).size()\n",
    "t.reset_index()"
   ]
  },
  {
   "cell_type": "code",
   "execution_count": 113,
   "metadata": {},
   "outputs": [
    {
     "data": {
      "text/plain": [
       "0         0\n",
       "1         0\n",
       "2         0\n",
       "3         0\n",
       "4         0\n",
       "         ..\n",
       "336708    2\n",
       "336709    2\n",
       "336710    0\n",
       "336711    0\n",
       "336712    0\n",
       "Name: category_id, Length: 336713, dtype: category\n",
       "Categories (3, int64): [0, 1, 2]"
      ]
     },
     "execution_count": 113,
     "metadata": {},
     "output_type": "execute_result"
    }
   ],
   "source": [
    "d = data[['category_id','binning_age']]\n",
    "\n",
    "d = d[\"category_id\"].astype(\"category\")\n",
    "\n",
    "\n",
    "\n",
    "d\n",
    "\n",
    "sns.boxplot(x=\"binning_age\", y=\"category_id\", data=d)"
   ]
  },
  {
   "cell_type": "code",
   "execution_count": null,
   "metadata": {},
   "outputs": [],
   "source": []
  }
 ],
 "metadata": {
  "kernelspec": {
   "display_name": "Python 3",
   "language": "python",
   "name": "python3"
  },
  "language_info": {
   "codemirror_mode": {
    "name": "ipython",
    "version": 3
   },
   "file_extension": ".py",
   "mimetype": "text/x-python",
   "name": "python",
   "nbconvert_exporter": "python",
   "pygments_lexer": "ipython3",
   "version": "3.8.6"
  }
 },
 "nbformat": 4,
 "nbformat_minor": 4
}
