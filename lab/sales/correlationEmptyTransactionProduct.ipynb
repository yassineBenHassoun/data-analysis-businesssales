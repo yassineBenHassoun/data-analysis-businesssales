{
 "cells": [
  {
   "cell_type": "code",
   "execution_count": null,
   "metadata": {},
   "outputs": [],
   "source": [
    "import pandas as pd\n",
    "import numpy as np\n",
    "from os import getcwd\n",
    "from datetime import datetime\n",
    "import seaborn as sns"
   ]
  },
  {
   "cell_type": "code",
   "execution_count": null,
   "metadata": {},
   "outputs": [],
   "source": [
    "transactions = pd.read_csv(\"../sales/data-clear/transactions.csv\")\n",
    "customers = pd.read_csv(\"../sales/data-clear/users.csv\")\n",
    "products = pd.read_csv(\"../sales/data-clear/products.csv\")\n",
    "\n",
    "customersTransaction = customers.merge(transactions, on=\"client_id\")\n",
    "\n",
    "productCustomerTransac = customersTransaction.merge(products, on=\"id_product\")\n",
    "\n",
    "\n",
    "outer_join_df = pd.merge(customersTransaction, products, on='id_product', how='outer')\n",
    "originePrice = productCustomerTransac['price'].sum()\n",
    "\n",
    "\n",
    "\n",
    "outer_join_df['price'] = outer_join_df['price'].fillna((outer_join_df['price'].mean()))\n",
    "\n",
    "df_na = outer_join_df.loc[outer_join_df.isnull().any(axis=1)]\n",
    "\n",
    "\n",
    "\n",
    "outerPriceSum = outer_join_df['price'].sum()"
   ]
  }
 ],
 "metadata": {
  "kernelspec": {
   "display_name": "Python 3",
   "language": "python",
   "name": "python3"
  },
  "language_info": {
   "codemirror_mode": {
    "name": "ipython",
    "version": 3
   },
   "file_extension": ".py",
   "mimetype": "text/x-python",
   "name": "python",
   "nbconvert_exporter": "python",
   "pygments_lexer": "ipython3",
   "version": "3.8.6"
  }
 },
 "nbformat": 4,
 "nbformat_minor": 4
}
