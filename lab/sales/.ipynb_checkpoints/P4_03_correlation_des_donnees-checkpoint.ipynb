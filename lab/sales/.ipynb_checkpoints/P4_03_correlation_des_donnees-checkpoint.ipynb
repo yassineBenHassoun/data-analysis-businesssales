{
 "cells": [
  {
   "cell_type": "markdown",
   "metadata": {},
   "source": [
    "## SOMMAIRE <span id='som'>\n",
    "   \n",
    "- [Mission 3 ](#m3)\n",
    "    - [Y a-t-il une corrélation entre le sexe des clients et les catégories de produits achetés ?](#q1)\n",
    "    - [Y a-t-il une corrélation entre l'âge des clients et :](#q2)\n",
    "        - [le montant total des achats](#q2)\n",
    "        - [la fréquence d’achat (ie. nombre d'achats par mois par exemple)](#q3)\n",
    "        - [la taille du panier moyen (en nombre d’articles)](#q4)\n",
    "        - [les catégories de produits achetés](#q5)\n",
    "        - [bonus](#bonus)"
   ]
  },
  {
   "cell_type": "code",
   "execution_count": 1,
   "metadata": {},
   "outputs": [],
   "source": [
    "import pandas as pd\n",
    "import numpy as np\n",
    "from os import getcwd\n",
    "from datetime import datetime\n",
    "import seaborn as sns\n",
    "import matplotlib.pyplot as plt\n",
    "import calendar\n",
    "import scipy.stats as ss\n",
    "from scipy.stats import norm\n",
    "from scipy.stats import kurtosis, skew\n",
    "from scipy.stats import linregress\n",
    "import matplotlib.ticker as ticker\n",
    "from scipy.stats import chi2_contingency\n",
    "from sklearn.linear_model import LinearRegression"
   ]
  },
  {
   "cell_type": "code",
   "execution_count": 14,
   "metadata": {},
   "outputs": [
    {
     "data": {
      "text/html": [
       "<div>\n",
       "<style scoped>\n",
       "    .dataframe tbody tr th:only-of-type {\n",
       "        vertical-align: middle;\n",
       "    }\n",
       "\n",
       "    .dataframe tbody tr th {\n",
       "        vertical-align: top;\n",
       "    }\n",
       "\n",
       "    .dataframe thead th {\n",
       "        text-align: right;\n",
       "    }\n",
       "</style>\n",
       "<table border=\"1\" class=\"dataframe\">\n",
       "  <thead>\n",
       "    <tr style=\"text-align: right;\">\n",
       "      <th></th>\n",
       "      <th>id_product</th>\n",
       "      <th>date</th>\n",
       "      <th>session_id</th>\n",
       "      <th>client_id</th>\n",
       "      <th>sex</th>\n",
       "      <th>user_birthday</th>\n",
       "      <th>price</th>\n",
       "      <th>category_id</th>\n",
       "      <th>transaction_date</th>\n",
       "      <th>year</th>\n",
       "      <th>month</th>\n",
       "      <th>user_age</th>\n",
       "      <th>order</th>\n",
       "      <th>sell_year</th>\n",
       "      <th>sell_month</th>\n",
       "      <th>month_string</th>\n",
       "      <th>binning_age</th>\n",
       "      <th>sell_day</th>\n",
       "    </tr>\n",
       "  </thead>\n",
       "  <tbody>\n",
       "    <tr>\n",
       "      <th>0</th>\n",
       "      <td>0_1483</td>\n",
       "      <td>2021-04-10 18:37:28.723910</td>\n",
       "      <td>s_18746</td>\n",
       "      <td>c_4450</td>\n",
       "      <td>f</td>\n",
       "      <td>1977</td>\n",
       "      <td>4.99</td>\n",
       "      <td>0</td>\n",
       "      <td>2021-04-10</td>\n",
       "      <td>2021</td>\n",
       "      <td>4</td>\n",
       "      <td>44</td>\n",
       "      <td>1</td>\n",
       "      <td>2021</td>\n",
       "      <td>4</td>\n",
       "      <td>Avril</td>\n",
       "      <td>(40.0, 50.0]</td>\n",
       "      <td>10</td>\n",
       "    </tr>\n",
       "  </tbody>\n",
       "</table>\n",
       "</div>"
      ],
      "text/plain": [
       "  id_product                        date session_id client_id sex  \\\n",
       "0     0_1483  2021-04-10 18:37:28.723910    s_18746    c_4450   f   \n",
       "\n",
       "   user_birthday  price  category_id transaction_date  year  month  user_age  \\\n",
       "0           1977   4.99            0       2021-04-10  2021      4        44   \n",
       "\n",
       "   order  sell_year  sell_month month_string   binning_age  sell_day  \n",
       "0      1       2021           4        Avril  (40.0, 50.0]        10  "
      ]
     },
     "execution_count": 14,
     "metadata": {},
     "output_type": "execute_result"
    }
   ],
   "source": [
    "data = pd.read_csv(\"../sales/data_values_clear/clear.csv\", parse_dates=True)\n",
    "data.head(1)"
   ]
  },
  {
   "cell_type": "markdown",
   "metadata": {},
   "source": [
    "## 1. Y a-t-il une corrélation entre le sexe des clients et les catégories de produits achetés ? \n",
    "</br> <br>\n",
    "<a id=\"q1\" class=\"btn btn-default\" href=\"#som\"> retour au sommaire </a>"
   ]
  },
  {
   "cell_type": "raw",
   "metadata": {},
   "source": [
    "on utilise une loi du khi-2 pour car le sexe n'est pas une variable quantitative"
   ]
  },
  {
   "cell_type": "code",
   "execution_count": 15,
   "metadata": {},
   "outputs": [
    {
     "data": {
      "text/html": [
       "<div>\n",
       "<style scoped>\n",
       "    .dataframe tbody tr th:only-of-type {\n",
       "        vertical-align: middle;\n",
       "    }\n",
       "\n",
       "    .dataframe tbody tr th {\n",
       "        vertical-align: top;\n",
       "    }\n",
       "\n",
       "    .dataframe thead th {\n",
       "        text-align: right;\n",
       "    }\n",
       "</style>\n",
       "<table border=\"1\" class=\"dataframe\">\n",
       "  <thead>\n",
       "    <tr style=\"text-align: right;\">\n",
       "      <th>sex</th>\n",
       "      <th>f</th>\n",
       "      <th>m</th>\n",
       "      <th>Total</th>\n",
       "    </tr>\n",
       "    <tr>\n",
       "      <th>category_id</th>\n",
       "      <th></th>\n",
       "      <th></th>\n",
       "      <th></th>\n",
       "    </tr>\n",
       "  </thead>\n",
       "  <tbody>\n",
       "    <tr>\n",
       "      <th>0</th>\n",
       "      <td>94728.0</td>\n",
       "      <td>96043.0</td>\n",
       "      <td>190771.0</td>\n",
       "    </tr>\n",
       "    <tr>\n",
       "      <th>1</th>\n",
       "      <td>54657.0</td>\n",
       "      <td>53412.0</td>\n",
       "      <td>108069.0</td>\n",
       "    </tr>\n",
       "    <tr>\n",
       "      <th>2</th>\n",
       "      <td>7703.0</td>\n",
       "      <td>8689.0</td>\n",
       "      <td>16392.0</td>\n",
       "    </tr>\n",
       "    <tr>\n",
       "      <th>total</th>\n",
       "      <td>157088.0</td>\n",
       "      <td>158144.0</td>\n",
       "      <td>315232.0</td>\n",
       "    </tr>\n",
       "  </tbody>\n",
       "</table>\n",
       "</div>"
      ],
      "text/plain": [
       "sex                 f         m     Total\n",
       "category_id                              \n",
       "0             94728.0   96043.0  190771.0\n",
       "1             54657.0   53412.0  108069.0\n",
       "2              7703.0    8689.0   16392.0\n",
       "total        157088.0  158144.0  315232.0"
      ]
     },
     "execution_count": 15,
     "metadata": {},
     "output_type": "execute_result"
    }
   ],
   "source": [
    "# on reindex le df avec les deux columns qu'on a besoin \n",
    "catSexDf= data[[\"category_id\", \"sex\"]].pivot_table(index=\"category_id\",\n",
    "                              columns=\"sex\",\n",
    "                              aggfunc=len)\n",
    "\n",
    "dataframeContingence =  catSexDf.copy()\n",
    "catNp = data[\"category_id\"].value_counts()\n",
    "sexNp = data[\"sex\"].value_counts()\n",
    "dataframeContingence.loc[:,\"Total\"] = catNp\n",
    "dataframeContingence.loc[\"total\",:] = sexNp\n",
    "dataframeContingence.loc[\"total\", \"Total\"] = len(data)\n",
    "## on obtien un tableau de contingence.\n",
    "dataframeContingence"
   ]
  },
  {
   "cell_type": "code",
   "execution_count": 16,
   "metadata": {},
   "outputs": [],
   "source": [
    "chi2, p_value, degre_liberte, st_exp = chi2_contingency(dataframeContingence)"
   ]
  },
  {
   "cell_type": "code",
   "execution_count": 17,
   "metadata": {},
   "outputs": [],
   "source": [
    "##Calcule du khi-2 + traitement de contingence\n",
    "\n",
    "catNp = pd.DataFrame(catNp)\n",
    "sexNp = pd.DataFrame(sexNp)\n",
    "\n",
    "catNp.columns=[\"foo\"]\n",
    "sexNp.columns=[\"foo\"]\n",
    "n = len(dataframeContingence)\n",
    "indep =  catNp.dot(sexNp.T)/n\n",
    "\n",
    "indep.sort_index(axis=1, inplace=True)\n",
    "indep.sort_index(inplace=True)\n",
    "chi2, p_value, degre_liberte, st_exp = chi2_contingency(indep)"
   ]
  },
  {
   "cell_type": "code",
   "execution_count": 18,
   "metadata": {},
   "outputs": [
    {
     "data": {
      "image/png": "[encoded data removed]",
      "text/plain": [
       "<Figure size 360x360 with 2 Axes>"
      ]
     },
     "metadata": {},
     "output_type": "display_data"
    },
    {
     "name": "stdout",
     "output_type": "stream",
     "text": [
      "p_value: 1.0\n",
      "Chi-2: 1.2058550018191217e-22\n"
     ]
    }
   ],
   "source": [
    "## représentation du khi2 en forme de figure\n",
    "plt.figure(figsize=(5,5))\n",
    "plt.title(\"KHI2 - Sexe / Catégories\")\n",
    "plt.xlabel(\"sexe\")\n",
    "plt.ylabel(\"Catégories\", fontsize=12)\n",
    "sns.heatmap(indep, annot=True)\n",
    "plt.show()\n",
    "print(\"p_value:\", round(p_value, 20))\n",
    "print(\"Chi-2:\", chi2)"
   ]
  },
  {
   "cell_type": "raw",
   "metadata": {},
   "source": [
    "# On observe que la catégorie 0 et 2 sont semblable en \n",
    "terme de valeurs ce que qui veux dire qu'il n'y a pas d'impact du sexe sur ces achats\n",
    "De plus catégorie 1 et juste moins sensible à cette dernières."
   ]
  },
  {
   "cell_type": "markdown",
   "metadata": {},
   "source": [
    "## PARTIE II - Y a-t-il une corrélation entre l'âge des clients ?"
   ]
  },
  {
   "cell_type": "code",
   "execution_count": 19,
   "metadata": {},
   "outputs": [
    {
     "data": {
      "text/html": [
       "<div>\n",
       "<style scoped>\n",
       "    .dataframe tbody tr th:only-of-type {\n",
       "        vertical-align: middle;\n",
       "    }\n",
       "\n",
       "    .dataframe tbody tr th {\n",
       "        vertical-align: top;\n",
       "    }\n",
       "\n",
       "    .dataframe thead th {\n",
       "        text-align: right;\n",
       "    }\n",
       "</style>\n",
       "<table border=\"1\" class=\"dataframe\">\n",
       "  <thead>\n",
       "    <tr style=\"text-align: right;\">\n",
       "      <th></th>\n",
       "      <th>client_id</th>\n",
       "      <th>user_age</th>\n",
       "      <th>spend_annual</th>\n",
       "    </tr>\n",
       "  </thead>\n",
       "  <tbody>\n",
       "    <tr>\n",
       "      <th>0</th>\n",
       "      <td>c_1</td>\n",
       "      <td>66</td>\n",
       "      <td>292.66</td>\n",
       "    </tr>\n",
       "  </tbody>\n",
       "</table>\n",
       "</div>"
      ],
      "text/plain": [
       "  client_id  user_age  spend_annual\n",
       "0       c_1        66        292.66"
      ]
     },
     "execution_count": 19,
     "metadata": {},
     "output_type": "execute_result"
    }
   ],
   "source": [
    "cpForClientSpend = data.copy()\n",
    "cp = data.copy()\n",
    "cp = cp.drop_duplicates()\n",
    "cp = cp.loc[cp['sell_year'] == 2021]\n",
    "cpForClientSpend = cpForClientSpend.groupby(['client_id']).sum().reset_index()\n",
    "cpForClientSpend = cpForClientSpend[['client_id','price']]\n",
    "cpForClientSpend = cpForClientSpend.rename(columns={\"price\": \"spend_annual\"}) \n",
    "mergeClientSpend = cpForClientSpend.merge(cp, left_on='client_id', right_on='client_id')\n",
    "mergeClientSpend = mergeClientSpend[['client_id','user_age','spend_annual']]\n",
    "mergeClientSpend = mergeClientSpend.drop_duplicates()\n",
    "mergeClientSpend = mergeClientSpend.loc[mergeClientSpend['user_age'] >= 20] \n",
    "mergeClientSpend.head(1)"
   ]
  },
  {
   "cell_type": "code",
   "execution_count": 36,
   "metadata": {},
   "outputs": [
    {
     "data": {
      "text/html": [
       "<div>\n",
       "<style scoped>\n",
       "    .dataframe tbody tr th:only-of-type {\n",
       "        vertical-align: middle;\n",
       "    }\n",
       "\n",
       "    .dataframe tbody tr th {\n",
       "        vertical-align: top;\n",
       "    }\n",
       "\n",
       "    .dataframe thead th {\n",
       "        text-align: right;\n",
       "    }\n",
       "</style>\n",
       "<table border=\"1\" class=\"dataframe\">\n",
       "  <thead>\n",
       "    <tr style=\"text-align: right;\">\n",
       "      <th></th>\n",
       "      <th>client_id</th>\n",
       "      <th>user_age</th>\n",
       "      <th>spend_annual</th>\n",
       "    </tr>\n",
       "  </thead>\n",
       "  <tbody>\n",
       "    <tr>\n",
       "      <th>84719</th>\n",
       "      <td>c_3454</td>\n",
       "      <td>52</td>\n",
       "      <td>52741.951432</td>\n",
       "    </tr>\n",
       "    <tr>\n",
       "      <th>234657</th>\n",
       "      <td>c_8026</td>\n",
       "      <td>43</td>\n",
       "      <td>2435.135716</td>\n",
       "    </tr>\n",
       "    <tr>\n",
       "      <th>215776</th>\n",
       "      <td>c_7421</td>\n",
       "      <td>43</td>\n",
       "      <td>2406.170000</td>\n",
       "    </tr>\n",
       "    <tr>\n",
       "      <th>212747</th>\n",
       "      <td>c_7319</td>\n",
       "      <td>47</td>\n",
       "      <td>2366.200000</td>\n",
       "    </tr>\n",
       "    <tr>\n",
       "      <th>78788</th>\n",
       "      <td>c_3263</td>\n",
       "      <td>36</td>\n",
       "      <td>2346.340000</td>\n",
       "    </tr>\n",
       "  </tbody>\n",
       "</table>\n",
       "</div>"
      ],
      "text/plain": [
       "       client_id  user_age  spend_annual\n",
       "84719     c_3454        52  52741.951432\n",
       "234657    c_8026        43   2435.135716\n",
       "215776    c_7421        43   2406.170000\n",
       "212747    c_7319        47   2366.200000\n",
       "78788     c_3263        36   2346.340000"
      ]
     },
     "execution_count": 36,
     "metadata": {},
     "output_type": "execute_result"
    }
   ],
   "source": [
    "newMergeClientSpend = mergeClientSpend.sort_values(by='spend_annual', ascending=False, na_position='first')\n",
    "newMergeClientSpend = newMergeClientSpend.loc[newMergeClientSpend['spend_annual'] <= 54441.92]\n",
    "newMergeClientSpend.head()"
   ]
  },
  {
   "cell_type": "code",
   "execution_count": 38,
   "metadata": {},
   "outputs": [
    {
     "data": {
      "text/html": [
       "<div>\n",
       "<style scoped>\n",
       "    .dataframe tbody tr th:only-of-type {\n",
       "        vertical-align: middle;\n",
       "    }\n",
       "\n",
       "    .dataframe tbody tr th {\n",
       "        vertical-align: top;\n",
       "    }\n",
       "\n",
       "    .dataframe thead th {\n",
       "        text-align: right;\n",
       "    }\n",
       "</style>\n",
       "<table border=\"1\" class=\"dataframe\">\n",
       "  <thead>\n",
       "    <tr style=\"text-align: right;\">\n",
       "      <th></th>\n",
       "      <th>user_age</th>\n",
       "      <th>spend_annual</th>\n",
       "    </tr>\n",
       "  </thead>\n",
       "  <tbody>\n",
       "    <tr>\n",
       "      <th>0</th>\n",
       "      <td>20</td>\n",
       "      <td>645.851520</td>\n",
       "    </tr>\n",
       "    <tr>\n",
       "      <th>1</th>\n",
       "      <td>21</td>\n",
       "      <td>559.960339</td>\n",
       "    </tr>\n",
       "    <tr>\n",
       "      <th>2</th>\n",
       "      <td>22</td>\n",
       "      <td>581.109359</td>\n",
       "    </tr>\n",
       "    <tr>\n",
       "      <th>3</th>\n",
       "      <td>23</td>\n",
       "      <td>667.512941</td>\n",
       "    </tr>\n",
       "    <tr>\n",
       "      <th>4</th>\n",
       "      <td>24</td>\n",
       "      <td>563.536531</td>\n",
       "    </tr>\n",
       "  </tbody>\n",
       "</table>\n",
       "</div>"
      ],
      "text/plain": [
       "   user_age  spend_annual\n",
       "0        20    645.851520\n",
       "1        21    559.960339\n",
       "2        22    581.109359\n",
       "3        23    667.512941\n",
       "4        24    563.536531"
      ]
     },
     "execution_count": 38,
     "metadata": {},
     "output_type": "execute_result"
    }
   ],
   "source": [
    "gp = newMergeClientSpend.groupby('user_age').mean().reset_index()\n",
    "gp.head()"
   ]
  },
  {
   "cell_type": "code",
   "execution_count": 22,
   "metadata": {},
   "outputs": [
    {
     "data": {
      "text/plain": [
       "<matplotlib.collections.PathCollection at 0x7f1a5ad237f0>"
      ]
     },
     "execution_count": 22,
     "metadata": {},
     "output_type": "execute_result"
    },
    {
     "data": {
      "image/png": "[encoded data removed]",
      "text/plain": [
       "<Figure size 432x288 with 1 Axes>"
      ]
     },
     "metadata": {},
     "output_type": "display_data"
    }
   ],
   "source": [
    "plt.scatter(x=gp.user_age,y=gp.spend_annual)"
   ]
  },
  {
   "cell_type": "code",
   "execution_count": 23,
   "metadata": {},
   "outputs": [
    {
     "name": "stdout",
     "output_type": "stream",
     "text": [
      "expliquation que de 0.57 des datas \n"
     ]
    },
    {
     "data": {
      "image/png": "[encoded data removed]",
      "text/plain": [
       "<Figure size 720x720 with 1 Axes>"
      ]
     },
     "metadata": {},
     "output_type": "display_data"
    }
   ],
   "source": [
    "X = gp['user_age'].values[:,np.newaxis]\n",
    "# target data is array of shape (n,) \n",
    "y = gp['spend_annual'].values\n",
    "\n",
    "modelRegressionLinear = LinearRegression()\n",
    "modelRegressionLinear.fit(X, y)\n",
    "RCarre = modelRegressionLinear.score(X, y)\n",
    "sns.set_theme()\n",
    "sns.set_style(\"darkgrid\")\n",
    "plt.figure(figsize=(10,10))\n",
    "plt.plot(X, y, '.')\n",
    "plt.plot(X, modelRegressionLinear.predict(X))\n",
    "plt.title(\"Dépenses sur 12 mois / Age\")\n",
    "plt.xlabel('age')\n",
    "plt.ylabel(\"moyenne dépensé\")\n",
    "plt.plot()\n",
    "print(f\"expliquation que de {RCarre:.2f} des datas \")"
   ]
  },
  {
   "cell_type": "code",
   "execution_count": 24,
   "metadata": {},
   "outputs": [
    {
     "name": "stderr",
     "output_type": "stream",
     "text": [
      "/usr/local/lib/python3.8/site-packages/pingouin/parametric.py:991: RuntimeWarning: invalid value encountered in double_scalars\n",
      "  mserror = sserror / ddof2\n"
     ]
    },
    {
     "data": {
      "text/html": [
       "<div>\n",
       "<style scoped>\n",
       "    .dataframe tbody tr th:only-of-type {\n",
       "        vertical-align: middle;\n",
       "    }\n",
       "\n",
       "    .dataframe tbody tr th {\n",
       "        vertical-align: top;\n",
       "    }\n",
       "\n",
       "    .dataframe thead th {\n",
       "        text-align: right;\n",
       "    }\n",
       "</style>\n",
       "<table border=\"1\" class=\"dataframe\">\n",
       "  <thead>\n",
       "    <tr style=\"text-align: right;\">\n",
       "      <th></th>\n",
       "      <th>Source</th>\n",
       "      <th>ddof1</th>\n",
       "      <th>ddof2</th>\n",
       "      <th>n2</th>\n",
       "    </tr>\n",
       "  </thead>\n",
       "  <tbody>\n",
       "    <tr>\n",
       "      <th>0</th>\n",
       "      <td>user_age</td>\n",
       "      <td>72</td>\n",
       "      <td>0</td>\n",
       "      <td>1.0</td>\n",
       "    </tr>\n",
       "  </tbody>\n",
       "</table>\n",
       "</div>"
      ],
      "text/plain": [
       "     Source  ddof1  ddof2   n2\n",
       "0  user_age     72      0  1.0"
      ]
     },
     "execution_count": 24,
     "metadata": {},
     "output_type": "execute_result"
    }
   ],
   "source": [
    "import pingouin as pg\n",
    "anovaCalculation = gp.anova(dv='spend_annual', between='user_age', detailed=False,\n",
    "                   effsize='n2')\n",
    "anovaCalculation"
   ]
  },
  {
   "cell_type": "raw",
   "metadata": {},
   "source": [
    "Ci-dessus. On observe que il y a une dispection dans les achats.Cependant, on observe 3 groupes distinct"
   ]
  },
  {
   "cell_type": "markdown",
   "metadata": {},
   "source": [
    "# Le montant des achats\n",
    "</br> <br>\n",
    "<a id=\"q2\" class=\"btn btn-default\" href=\"#som\"> retour au sommaire </a>"
   ]
  },
  {
   "cell_type": "raw",
   "metadata": {},
   "source": [
    "Pour trouver une correlation entre l'age des clients et le montant de leurs achats il faut faire une regressions linéaire"
   ]
  },
  {
   "cell_type": "code",
   "execution_count": 42,
   "metadata": {},
   "outputs": [
    {
     "name": "stdout",
     "output_type": "stream",
     "text": [
      "0.043735992004629076\n"
     ]
    },
    {
     "data": {
      "image/png": "[encoded data removed]",
      "text/plain": [
       "<Figure size 720x720 with 1 Axes>"
      ]
     },
     "metadata": {},
     "output_type": "display_data"
    }
   ],
   "source": [
    "X = data['user_age'].values[:,np.newaxis]\n",
    "# target data is array of shape (n,) \n",
    "y = data['price'].values\n",
    "\n",
    "modelRegressionLinear = LinearRegression()\n",
    "modelRegressionLinear.fit(X, y)\n",
    "RCarre = modelRegressionLinear.score(X, y)\n",
    "sns.set_theme()\n",
    "sns.set_style(\"darkgrid\")\n",
    "plt.figure(figsize=(10,10))\n",
    "plt.plot(X, y, '.')\n",
    "plt.plot(X, modelRegressionLinear.predict(X))\n",
    "plt.title(\"Dépenses sur une année vs Age\")\n",
    "plt.xlabel('bins')\n",
    "plt.ylabel(\"price\")\n",
    "plt.plot()\n",
    "print(RCarre)\n"
   ]
  },
  {
   "cell_type": "raw",
   "metadata": {},
   "source": [
    "de base c'est ultra concentrer il faut passer comme ci-dessus par paniers moyens"
   ]
  },
  {
   "cell_type": "markdown",
   "metadata": {},
   "source": [
    "# La fréquence d’achat\n",
    "</br> <br>\n",
    "<a id=\"q3\" class=\"btn btn-default\" href=\"#som\"> retour au sommaire </a>"
   ]
  },
  {
   "cell_type": "code",
   "execution_count": 26,
   "metadata": {},
   "outputs": [
    {
     "data": {
      "text/html": [
       "<div>\n",
       "<style scoped>\n",
       "    .dataframe tbody tr th:only-of-type {\n",
       "        vertical-align: middle;\n",
       "    }\n",
       "\n",
       "    .dataframe tbody tr th {\n",
       "        vertical-align: top;\n",
       "    }\n",
       "\n",
       "    .dataframe thead th {\n",
       "        text-align: right;\n",
       "    }\n",
       "</style>\n",
       "<table border=\"1\" class=\"dataframe\">\n",
       "  <thead>\n",
       "    <tr style=\"text-align: right;\">\n",
       "      <th></th>\n",
       "      <th>id_product</th>\n",
       "      <th>date</th>\n",
       "      <th>session_id</th>\n",
       "      <th>client_id</th>\n",
       "      <th>sex</th>\n",
       "      <th>user_birthday</th>\n",
       "      <th>price</th>\n",
       "      <th>category_id</th>\n",
       "      <th>transaction_date</th>\n",
       "      <th>year</th>\n",
       "      <th>month</th>\n",
       "      <th>user_age</th>\n",
       "      <th>order</th>\n",
       "      <th>sell_year</th>\n",
       "      <th>sell_month</th>\n",
       "      <th>month_string</th>\n",
       "      <th>binning_age</th>\n",
       "      <th>sell_day</th>\n",
       "      <th>bins</th>\n",
       "    </tr>\n",
       "  </thead>\n",
       "  <tbody>\n",
       "    <tr>\n",
       "      <th>0</th>\n",
       "      <td>0_1483</td>\n",
       "      <td>2021-04-10 18:37:28.723910</td>\n",
       "      <td>s_18746</td>\n",
       "      <td>c_4450</td>\n",
       "      <td>f</td>\n",
       "      <td>1977</td>\n",
       "      <td>4.99</td>\n",
       "      <td>0</td>\n",
       "      <td>2021-04-10</td>\n",
       "      <td>2021</td>\n",
       "      <td>4</td>\n",
       "      <td>44</td>\n",
       "      <td>1</td>\n",
       "      <td>2021</td>\n",
       "      <td>4</td>\n",
       "      <td>Avril</td>\n",
       "      <td>(40.0, 50.0]</td>\n",
       "      <td>10</td>\n",
       "      <td>medium-age</td>\n",
       "    </tr>\n",
       "  </tbody>\n",
       "</table>\n",
       "</div>"
      ],
      "text/plain": [
       "  id_product                        date session_id client_id sex  \\\n",
       "0     0_1483  2021-04-10 18:37:28.723910    s_18746    c_4450   f   \n",
       "\n",
       "   user_birthday  price  category_id transaction_date  year  month  user_age  \\\n",
       "0           1977   4.99            0       2021-04-10  2021      4        44   \n",
       "\n",
       "   order  sell_year  sell_month month_string   binning_age  sell_day  \\\n",
       "0      1       2021           4        Avril  (40.0, 50.0]        10   \n",
       "\n",
       "         bins  \n",
       "0  medium-age  "
      ]
     },
     "execution_count": 26,
     "metadata": {},
     "output_type": "execute_result"
    }
   ],
   "source": [
    "cp4 = data.copy()\n",
    "labels = ['jeune', 'medium-age', 'grand-age']\n",
    "min_value = cp4['user_age'].min()\n",
    "max_value = cp4['user_age'].max()\n",
    "bins = np.linspace(min_value,max_value,4)\n",
    "cp4['bins'] = pd.cut(cp4['user_age'], bins=bins, labels=labels, include_lowest=True)\n",
    "cp4.head(1)"
   ]
  },
  {
   "cell_type": "code",
   "execution_count": 45,
   "metadata": {},
   "outputs": [
    {
     "data": {
      "text/html": [
       "<div>\n",
       "<style scoped>\n",
       "    .dataframe tbody tr th:only-of-type {\n",
       "        vertical-align: middle;\n",
       "    }\n",
       "\n",
       "    .dataframe tbody tr th {\n",
       "        vertical-align: top;\n",
       "    }\n",
       "\n",
       "    .dataframe thead th {\n",
       "        text-align: right;\n",
       "    }\n",
       "</style>\n",
       "<table border=\"1\" class=\"dataframe\">\n",
       "  <thead>\n",
       "    <tr style=\"text-align: right;\">\n",
       "      <th></th>\n",
       "      <th>bins</th>\n",
       "      <th>month</th>\n",
       "      <th>price</th>\n",
       "      <th>order</th>\n",
       "    </tr>\n",
       "  </thead>\n",
       "  <tbody>\n",
       "    <tr>\n",
       "      <th>0</th>\n",
       "      <td>jeune</td>\n",
       "      <td>1</td>\n",
       "      <td>284781.021432</td>\n",
       "      <td>14337</td>\n",
       "    </tr>\n",
       "    <tr>\n",
       "      <th>1</th>\n",
       "      <td>jeune</td>\n",
       "      <td>2</td>\n",
       "      <td>310261.214297</td>\n",
       "      <td>15025</td>\n",
       "    </tr>\n",
       "    <tr>\n",
       "      <th>2</th>\n",
       "      <td>jeune</td>\n",
       "      <td>3</td>\n",
       "      <td>283593.660014</td>\n",
       "      <td>15556</td>\n",
       "    </tr>\n",
       "  </tbody>\n",
       "</table>\n",
       "</div>"
      ],
      "text/plain": [
       "    bins  month          price  order\n",
       "0  jeune      1  284781.021432  14337\n",
       "1  jeune      2  310261.214297  15025\n",
       "2  jeune      3  283593.660014  15556"
      ]
     },
     "execution_count": 45,
     "metadata": {},
     "output_type": "execute_result"
    }
   ],
   "source": [
    "binningAgeMonth = cp4.groupby(['bins','month']).sum().reset_index()\n",
    "binningAgeMonth = binningAgeMonth[['bins','month','price','order']]\n",
    "binningAgeMonth.head(3)"
   ]
  },
  {
   "cell_type": "code",
   "execution_count": 29,
   "metadata": {},
   "outputs": [
    {
     "name": "stdout",
     "output_type": "stream",
     "text": [
      "Rapport de corrélation: 0    1.0\n",
      "Name: n2, dtype: float64\n"
     ]
    },
    {
     "name": "stderr",
     "output_type": "stream",
     "text": [
      "/usr/local/lib/python3.8/site-packages/pingouin/parametric.py:991: RuntimeWarning: invalid value encountered in double_scalars\n",
      "  mserror = sserror / ddof2\n"
     ]
    },
    {
     "data": {
      "image/png": "[encoded data removed]",
      "text/plain": [
       "<Figure size 432x288 with 1 Axes>"
      ]
     },
     "metadata": {},
     "output_type": "display_data"
    }
   ],
   "source": [
    "dic = {}\n",
    "\n",
    "for i in binningAgeMonth.bins.unique():\n",
    "    dic[i] = list(binningAgeMonth.loc[binningAgeMonth.bins == i,'price'])\n",
    "\n",
    "plt.boxplot([\n",
    "    dic['jeune'],\n",
    "    dic['medium-age'],\n",
    "    dic['grand-age']\n",
    "], vert=False, showmeans=True, showfliers=False)\n",
    "plt.title(\"Fréquence d'achats par mois par tranche d'âges\")\n",
    "plt.xlabel(\"fréquence d'achat\")\n",
    "plt.yticks([1,2,3], ['jeune', 'medium-age', 'grand-age'])\n",
    "\n",
    "import pingouin as pg\n",
    "eta_carre = binningAgeMonth.anova(dv='month', between='price', detailed=False,\n",
    "                   effsize='n2')\n",
    "\n",
    "print(\"Rapport de corrélation:\", eta_carre['n2'])"
   ]
  },
  {
   "cell_type": "code",
   "execution_count": null,
   "metadata": {},
   "outputs": [],
   "source": []
  },
  {
   "cell_type": "code",
   "execution_count": null,
   "metadata": {},
   "outputs": [],
   "source": [
    "# on observe que les moins de 30 ans sont une fréquences d'achats très élevés."
   ]
  },
  {
   "cell_type": "markdown",
   "metadata": {},
   "source": [
    "# La taille du panier moyen\n",
    "</br> <br>\n",
    "<a id=\"q4\" class=\"btn btn-default\" href=\"#som\"> retour au sommaire </a>"
   ]
  },
  {
   "cell_type": "code",
   "execution_count": 30,
   "metadata": {},
   "outputs": [
    {
     "name": "stdout",
     "output_type": "stream",
     "text": [
      "expliquation que de 0.30 des datas. Coéficient de pearson : -0.55\n"
     ]
    },
    {
     "data": {
      "image/png": "[encoded data removed]",
      "text/plain": [
       "<Figure size 576x576 with 1 Axes>"
      ]
     },
     "metadata": {},
     "output_type": "display_data"
    }
   ],
   "source": [
    "cp3 = data.copy()\n",
    "binningCategory = cp3.groupby(['binning_age','category_id']).sum()\n",
    "binningCategory\n",
    "binningCategory = binningCategory[['price']].reset_index()\n",
    "from sklearn.linear_model import LinearRegression\n",
    "\n",
    "meanByAge = data.groupby(['user_age']).mean()\n",
    "meanByAge = meanByAge.reset_index()\n",
    "meanByAge = meanByAge[['user_age','price']] \n",
    "\n",
    "X = meanByAge['user_age'].values[:,np.newaxis]\n",
    "# target data is array of shape (n,) \n",
    "y = meanByAge['price'].values\n",
    "\n",
    "modelLinearPanierMoyAge = LinearRegression()\n",
    "modelLinearPanierMoyAge.fit(X, y)\n",
    "\n",
    "RCarre = modelLinearPanierMoyAge.score(X, y)\n",
    "\n",
    "sns.set_theme()\n",
    "sns.set_style(\"darkgrid\")\n",
    "\n",
    "pearson = ss.stats.pearsonr(meanByAge['user_age'],meanByAge['price'])\n",
    "\n",
    "#sns.set_style(\"ticks\", {\"xtick.major.size\": 8, \"ytick.major.size\": 8})\n",
    "plt.figure(figsize=(8,8))\n",
    "plt.plot(X, y, '.')\n",
    "plt.plot(X, modelLinearPanierMoyAge.predict(X), 'y--')\n",
    "plt.xlabel('age')\n",
    "plt.ylabel(\"Panier moyen (12 mois) vs Age\")\n",
    "plt.plot()\n",
    "print(f\"expliquation que de {RCarre:.2f} des datas. Coéficient de pearson : {pearson[0]:.2f}\")"
   ]
  },
  {
   "cell_type": "raw",
   "metadata": {},
   "source": [
    "On constate malgrès qu'il y a 3 groupes distints"
   ]
  },
  {
   "cell_type": "markdown",
   "metadata": {},
   "source": [
    "# Les catégories de produits achetés\n",
    "</br> <br>\n",
    "<a id=\"q5\" class=\"btn btn-default\" href=\"#som\"> retour au sommaire </a>"
   ]
  },
  {
   "cell_type": "code",
   "execution_count": 31,
   "metadata": {},
   "outputs": [
    {
     "data": {
      "text/html": [
       "<div>\n",
       "<style scoped>\n",
       "    .dataframe tbody tr th:only-of-type {\n",
       "        vertical-align: middle;\n",
       "    }\n",
       "\n",
       "    .dataframe tbody tr th {\n",
       "        vertical-align: top;\n",
       "    }\n",
       "\n",
       "    .dataframe thead th {\n",
       "        text-align: right;\n",
       "    }\n",
       "</style>\n",
       "<table border=\"1\" class=\"dataframe\">\n",
       "  <thead>\n",
       "    <tr style=\"text-align: right;\">\n",
       "      <th></th>\n",
       "      <th>category_id</th>\n",
       "      <th>bins</th>\n",
       "    </tr>\n",
       "  </thead>\n",
       "  <tbody>\n",
       "    <tr>\n",
       "      <th>0</th>\n",
       "      <td>0</td>\n",
       "      <td>medium-age</td>\n",
       "    </tr>\n",
       "    <tr>\n",
       "      <th>1</th>\n",
       "      <td>2</td>\n",
       "      <td>jeune</td>\n",
       "    </tr>\n",
       "    <tr>\n",
       "      <th>2</th>\n",
       "      <td>1</td>\n",
       "      <td>jeune</td>\n",
       "    </tr>\n",
       "    <tr>\n",
       "      <th>3</th>\n",
       "      <td>0</td>\n",
       "      <td>jeune</td>\n",
       "    </tr>\n",
       "    <tr>\n",
       "      <th>4</th>\n",
       "      <td>0</td>\n",
       "      <td>jeune</td>\n",
       "    </tr>\n",
       "    <tr>\n",
       "      <th>...</th>\n",
       "      <td>...</td>\n",
       "      <td>...</td>\n",
       "    </tr>\n",
       "    <tr>\n",
       "      <th>315227</th>\n",
       "      <td>1</td>\n",
       "      <td>jeune</td>\n",
       "    </tr>\n",
       "    <tr>\n",
       "      <th>315228</th>\n",
       "      <td>1</td>\n",
       "      <td>medium-age</td>\n",
       "    </tr>\n",
       "    <tr>\n",
       "      <th>315229</th>\n",
       "      <td>0</td>\n",
       "      <td>jeune</td>\n",
       "    </tr>\n",
       "    <tr>\n",
       "      <th>315230</th>\n",
       "      <td>0</td>\n",
       "      <td>medium-age</td>\n",
       "    </tr>\n",
       "    <tr>\n",
       "      <th>315231</th>\n",
       "      <td>0</td>\n",
       "      <td>medium-age</td>\n",
       "    </tr>\n",
       "  </tbody>\n",
       "</table>\n",
       "<p>315232 rows × 2 columns</p>\n",
       "</div>"
      ],
      "text/plain": [
       "        category_id        bins\n",
       "0                 0  medium-age\n",
       "1                 2       jeune\n",
       "2                 1       jeune\n",
       "3                 0       jeune\n",
       "4                 0       jeune\n",
       "...             ...         ...\n",
       "315227            1       jeune\n",
       "315228            1  medium-age\n",
       "315229            0       jeune\n",
       "315230            0  medium-age\n",
       "315231            0  medium-age\n",
       "\n",
       "[315232 rows x 2 columns]"
      ]
     },
     "execution_count": 31,
     "metadata": {},
     "output_type": "execute_result"
    }
   ],
   "source": [
    "cp5 = data.copy()\n",
    "labels = ['jeune', 'medium-age', 'grand-age']\n",
    "min_value = cp5['user_age'].min()\n",
    "max_value = cp5['user_age'].max()\n",
    "bins = np.linspace(min_value,max_value,4)\n",
    "cp5['bins'] = pd.cut(cp5['user_age'], bins=bins, labels=labels, include_lowest=True)\n",
    "cp5 = cp5[['category_id','bins']]\n",
    "cp5"
   ]
  },
  {
   "cell_type": "code",
   "execution_count": 55,
   "metadata": {},
   "outputs": [
    {
     "data": {
      "text/html": [
       "<div>\n",
       "<style scoped>\n",
       "    .dataframe tbody tr th:only-of-type {\n",
       "        vertical-align: middle;\n",
       "    }\n",
       "\n",
       "    .dataframe tbody tr th {\n",
       "        vertical-align: top;\n",
       "    }\n",
       "\n",
       "    .dataframe thead th {\n",
       "        text-align: right;\n",
       "    }\n",
       "</style>\n",
       "<table border=\"1\" class=\"dataframe\">\n",
       "  <thead>\n",
       "    <tr style=\"text-align: right;\">\n",
       "      <th></th>\n",
       "      <th>id_product</th>\n",
       "      <th>date</th>\n",
       "      <th>session_id</th>\n",
       "      <th>client_id</th>\n",
       "      <th>sex</th>\n",
       "      <th>user_birthday</th>\n",
       "      <th>price</th>\n",
       "      <th>category_id</th>\n",
       "      <th>transaction_date</th>\n",
       "      <th>year</th>\n",
       "      <th>month</th>\n",
       "      <th>user_age</th>\n",
       "      <th>order</th>\n",
       "      <th>sell_year</th>\n",
       "      <th>sell_month</th>\n",
       "      <th>month_string</th>\n",
       "      <th>binning_age</th>\n",
       "      <th>sell_day</th>\n",
       "      <th>binned</th>\n",
       "    </tr>\n",
       "  </thead>\n",
       "  <tbody>\n",
       "    <tr>\n",
       "      <th>0</th>\n",
       "      <td>0_1483</td>\n",
       "      <td>2021-04-10 18:37:28.723910</td>\n",
       "      <td>s_18746</td>\n",
       "      <td>c_4450</td>\n",
       "      <td>f</td>\n",
       "      <td>1977</td>\n",
       "      <td>4.99</td>\n",
       "      <td>0</td>\n",
       "      <td>2021-04-10</td>\n",
       "      <td>2021</td>\n",
       "      <td>4</td>\n",
       "      <td>44</td>\n",
       "      <td>1</td>\n",
       "      <td>2021</td>\n",
       "      <td>4</td>\n",
       "      <td>Avril</td>\n",
       "      <td>(40.0, 50.0]</td>\n",
       "      <td>10</td>\n",
       "      <td>age_moyen</td>\n",
       "    </tr>\n",
       "    <tr>\n",
       "      <th>1</th>\n",
       "      <td>2_226</td>\n",
       "      <td>2022-02-03 01:55:53.276402</td>\n",
       "      <td>s_159142</td>\n",
       "      <td>c_277</td>\n",
       "      <td>f</td>\n",
       "      <td>2000</td>\n",
       "      <td>65.75</td>\n",
       "      <td>2</td>\n",
       "      <td>2022-02-03</td>\n",
       "      <td>2022</td>\n",
       "      <td>2</td>\n",
       "      <td>22</td>\n",
       "      <td>1</td>\n",
       "      <td>2022</td>\n",
       "      <td>2</td>\n",
       "      <td>Fevrier - 2022</td>\n",
       "      <td>(20.0, 30.0]</td>\n",
       "      <td>3</td>\n",
       "      <td>jeune</td>\n",
       "    </tr>\n",
       "    <tr>\n",
       "      <th>2</th>\n",
       "      <td>1_374</td>\n",
       "      <td>2021-09-23 15:13:46.938559</td>\n",
       "      <td>s_94290</td>\n",
       "      <td>c_4270</td>\n",
       "      <td>f</td>\n",
       "      <td>1979</td>\n",
       "      <td>10.71</td>\n",
       "      <td>1</td>\n",
       "      <td>2021-09-23</td>\n",
       "      <td>2021</td>\n",
       "      <td>9</td>\n",
       "      <td>42</td>\n",
       "      <td>1</td>\n",
       "      <td>2021</td>\n",
       "      <td>9</td>\n",
       "      <td>Septembre</td>\n",
       "      <td>(40.0, 50.0]</td>\n",
       "      <td>23</td>\n",
       "      <td>age_moyen</td>\n",
       "    </tr>\n",
       "    <tr>\n",
       "      <th>3</th>\n",
       "      <td>0_1351</td>\n",
       "      <td>2021-07-17 20:34:25.800563</td>\n",
       "      <td>s_63642</td>\n",
       "      <td>c_1242</td>\n",
       "      <td>f</td>\n",
       "      <td>1980</td>\n",
       "      <td>8.99</td>\n",
       "      <td>0</td>\n",
       "      <td>2021-07-17</td>\n",
       "      <td>2021</td>\n",
       "      <td>7</td>\n",
       "      <td>41</td>\n",
       "      <td>1</td>\n",
       "      <td>2021</td>\n",
       "      <td>7</td>\n",
       "      <td>Juillet</td>\n",
       "      <td>(40.0, 50.0]</td>\n",
       "      <td>17</td>\n",
       "      <td>age_moyen</td>\n",
       "    </tr>\n",
       "    <tr>\n",
       "      <th>4</th>\n",
       "      <td>0_1085</td>\n",
       "      <td>2021-09-15 05:47:48.215162</td>\n",
       "      <td>s_90139</td>\n",
       "      <td>c_2526</td>\n",
       "      <td>f</td>\n",
       "      <td>1982</td>\n",
       "      <td>3.99</td>\n",
       "      <td>0</td>\n",
       "      <td>2021-09-15</td>\n",
       "      <td>2021</td>\n",
       "      <td>9</td>\n",
       "      <td>39</td>\n",
       "      <td>1</td>\n",
       "      <td>2021</td>\n",
       "      <td>9</td>\n",
       "      <td>Septembre</td>\n",
       "      <td>(30.0, 40.0]</td>\n",
       "      <td>15</td>\n",
       "      <td>age_moyen</td>\n",
       "    </tr>\n",
       "  </tbody>\n",
       "</table>\n",
       "</div>"
      ],
      "text/plain": [
       "  id_product                        date session_id client_id sex  \\\n",
       "0     0_1483  2021-04-10 18:37:28.723910    s_18746    c_4450   f   \n",
       "1      2_226  2022-02-03 01:55:53.276402   s_159142     c_277   f   \n",
       "2      1_374  2021-09-23 15:13:46.938559    s_94290    c_4270   f   \n",
       "3     0_1351  2021-07-17 20:34:25.800563    s_63642    c_1242   f   \n",
       "4     0_1085  2021-09-15 05:47:48.215162    s_90139    c_2526   f   \n",
       "\n",
       "   user_birthday  price  category_id transaction_date  year  month  user_age  \\\n",
       "0           1977   4.99            0       2021-04-10  2021      4        44   \n",
       "1           2000  65.75            2       2022-02-03  2022      2        22   \n",
       "2           1979  10.71            1       2021-09-23  2021      9        42   \n",
       "3           1980   8.99            0       2021-07-17  2021      7        41   \n",
       "4           1982   3.99            0       2021-09-15  2021      9        39   \n",
       "\n",
       "   order  sell_year  sell_month    month_string   binning_age  sell_day  \\\n",
       "0      1       2021           4           Avril  (40.0, 50.0]        10   \n",
       "1      1       2022           2  Fevrier - 2022  (20.0, 30.0]         3   \n",
       "2      1       2021           9       Septembre  (40.0, 50.0]        23   \n",
       "3      1       2021           7         Juillet  (40.0, 50.0]        17   \n",
       "4      1       2021           9       Septembre  (30.0, 40.0]        15   \n",
       "\n",
       "      binned  \n",
       "0  age_moyen  \n",
       "1      jeune  \n",
       "2  age_moyen  \n",
       "3  age_moyen  \n",
       "4  age_moyen  "
      ]
     },
     "execution_count": 55,
     "metadata": {},
     "output_type": "execute_result"
    }
   ],
   "source": [
    "dfWtOctober = data.copy()\n",
    "bins = [0,20,30,50,100]\n",
    "labels = [0,1,2,3]\n",
    "dfWtOctober['binned'] = pd.cut(dfWtOctober['user_age'], bins=bins, labels=labels)\n",
    "dfWtOctober['binned']\n",
    "dfWtOctober['binned'] = dfWtOctober['binned'].astype('int')\n",
    "dfWtOctober.loc[dfWtOctober.binned == 0 , 'binned'] = 'jeune'\n",
    "dfWtOctober.loc[dfWtOctober.binned == 1 , 'binned'] = 'jeune'\n",
    "dfWtOctober.loc[dfWtOctober.binned == 2 , 'binned'] = 'age_moyen'\n",
    "dfWtOctober.loc[dfWtOctober.binned == 3 , 'binned'] = 'senior'\n",
    "dfWtOctober.head()"
   ]
  },
  {
   "cell_type": "code",
   "execution_count": 63,
   "metadata": {},
   "outputs": [
    {
     "name": "stdout",
     "output_type": "stream",
     "text": [
      "p_val: 0.0\n",
      "chi2: 119042.23710377267\n",
      "° de liberté: 4\n"
     ]
    },
    {
     "data": {
      "image/png": "[encoded data removed]",
      "text/plain": [
       "<Figure size 432x288 with 2 Axes>"
      ]
     },
     "metadata": {},
     "output_type": "display_data"
    }
   ],
   "source": [
    "contingence = dfWtOctober[[\"category_id\", \"binned\"]].pivot_table(index=\"category_id\",\n",
    "                              columns=\"binned\",\n",
    "                              aggfunc=len)\n",
    "\n",
    "chi2, p_value, degre_liberte, st_exp = chi2_contingency(contingence)\n",
    "\n",
    "sns.heatmap(contingence,cmap=(\"Reds\"))\n",
    "print('p_val:', p_value)\n",
    "print('chi2:', chi2)\n",
    "print('° de liberté:', degre_liberte)\n"
   ]
  },
  {
   "cell_type": "raw",
   "metadata": {},
   "source": [
    "d'apres le resultat du khi-2 on constate que c'est valeurs sont bien corrélé\n",
    "on constate que l'age moyen de la catégorie 0 sont ce qui font le plus de transaction"
   ]
  },
  {
   "cell_type": "markdown",
   "metadata": {},
   "source": [
    "## BONUS Tranches d'âges et montant des achats\n",
    "<a id=\"bonus\" class=\"btn btn-default\" href=\"#som\"> retour au sommaire </a>"
   ]
  },
  {
   "cell_type": "code",
   "execution_count": 34,
   "metadata": {},
   "outputs": [
    {
     "data": {
      "text/html": [
       "<div>\n",
       "<style scoped>\n",
       "    .dataframe tbody tr th:only-of-type {\n",
       "        vertical-align: middle;\n",
       "    }\n",
       "\n",
       "    .dataframe tbody tr th {\n",
       "        vertical-align: top;\n",
       "    }\n",
       "\n",
       "    .dataframe thead th {\n",
       "        text-align: right;\n",
       "    }\n",
       "</style>\n",
       "<table border=\"1\" class=\"dataframe\">\n",
       "  <thead>\n",
       "    <tr style=\"text-align: right;\">\n",
       "      <th></th>\n",
       "      <th>user_age</th>\n",
       "      <th>price</th>\n",
       "    </tr>\n",
       "  </thead>\n",
       "  <tbody>\n",
       "    <tr>\n",
       "      <th>0</th>\n",
       "      <td>44</td>\n",
       "      <td>4.99</td>\n",
       "    </tr>\n",
       "    <tr>\n",
       "      <th>1</th>\n",
       "      <td>22</td>\n",
       "      <td>65.75</td>\n",
       "    </tr>\n",
       "    <tr>\n",
       "      <th>2</th>\n",
       "      <td>42</td>\n",
       "      <td>10.71</td>\n",
       "    </tr>\n",
       "  </tbody>\n",
       "</table>\n",
       "</div>"
      ],
      "text/plain": [
       "   user_age  price\n",
       "0        44   4.99\n",
       "1        22  65.75\n",
       "2        42  10.71"
      ]
     },
     "execution_count": 34,
     "metadata": {},
     "output_type": "execute_result"
    }
   ],
   "source": [
    "agePrice = data.copy()\n",
    "agePrice = agePrice[['user_age','price']]\n",
    "agePrice.head(n)"
   ]
  },
  {
   "cell_type": "code",
   "execution_count": 35,
   "metadata": {},
   "outputs": [
    {
     "data": {
      "text/plain": [
       "([<matplotlib.axis.YTick at 0x7f1a581e7970>,\n",
       "  <matplotlib.axis.YTick at 0x7f1a581e7550>,\n",
       "  <matplotlib.axis.YTick at 0x7f1a581875b0>],\n",
       " [Text(0, 1, 'jeune'), Text(0, 2, 'medium-age'), Text(0, 3, 'grand-age')])"
      ]
     },
     "execution_count": 35,
     "metadata": {},
     "output_type": "execute_result"
    },
    {
     "data": {
      "image/png": "[encoded data removed]",
      "text/plain": [
       "<Figure size 432x288 with 1 Axes>"
      ]
     },
     "metadata": {},
     "output_type": "display_data"
    }
   ],
   "source": [
    "labels = ['jeune', 'medium-age', 'grand-age']\n",
    "min_value = agePrice['user_age'].min()\n",
    "max_value = agePrice['user_age'].max()\n",
    "bins = np.linspace(min_value,max_value,4)\n",
    "agePrice['bins'] = pd.cut(agePrice['user_age'], bins=bins, labels=labels, include_lowest=True)\n",
    "\n",
    "\n",
    "dic = {}\n",
    "\n",
    "for i in agePrice.bins.unique():\n",
    "    dic[i] = list(agePrice.loc[agePrice.bins == i,'price'])\n",
    "\n",
    "\n",
    "plt.boxplot([\n",
    "    dic['jeune'],\n",
    "    dic['medium-age'],\n",
    "    dic['grand-age']\n",
    "], vert=False, showmeans=True, showfliers=False)\n",
    "\n",
    "plt.xlabel(\"montant d'achats totale annuel (moyenne)\")\n",
    "plt.yticks([1,2,3], ['jeune', 'medium-age', 'grand-age'])\n"
   ]
  },
  {
   "cell_type": "code",
   "execution_count": null,
   "metadata": {},
   "outputs": [],
   "source": []
  }
 ],
 "metadata": {
  "kernelspec": {
   "display_name": "Python 3",
   "language": "python",
   "name": "python3"
  },
  "language_info": {
   "codemirror_mode": {
    "name": "ipython",
    "version": 3
   },
   "file_extension": ".py",
   "mimetype": "text/x-python",
   "name": "python",
   "nbconvert_exporter": "python",
   "pygments_lexer": "ipython3",
   "version": "3.8.6"
  }
 },
 "nbformat": 4,
 "nbformat_minor": 4
}
