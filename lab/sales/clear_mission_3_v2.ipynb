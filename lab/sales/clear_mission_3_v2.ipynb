{
 "cells": [
  {
   "cell_type": "markdown",
   "metadata": {},
   "source": [
    "## SOMMAIRE <span id='som'>\n",
    "   \n",
    "- [Mission 3 ](#m3)\n",
    "    - [Y a-t-il une corrélation entre le sexe des clients et les catégories de produits achetés ?](#q1)\n",
    "    - [Y a-t-il une corrélation entre l'âge des clients et :](#q2)\n",
    "        - [le montant total des achats](#q2)\n",
    "        - [la fréquence d’achat (ie. nombre d'achats par mois par exemple)](#q3)\n",
    "        - [la taille du panier moyen (en nombre d’articles)](#q4)\n",
    "        - [les catégories de produits achetés](#q5)\n",
    "        - [bonus](#bonus)"
   ]
  },
  {
   "cell_type": "code",
   "execution_count": 1,
   "metadata": {},
   "outputs": [],
   "source": [
    "import pandas as pd\n",
    "import numpy as np\n",
    "from os import getcwd\n",
    "from datetime import datetime\n",
    "import seaborn as sns\n",
    "import matplotlib.pyplot as plt\n",
    "import calendar\n",
    "import scipy.stats as ss\n",
    "from scipy.stats import norm\n",
    "from scipy.stats import kurtosis, skew\n",
    "from scipy.stats import linregress\n",
    "import matplotlib.ticker as ticker\n",
    "from scipy.stats import chi2_contingency\n",
    "from sklearn.linear_model import LinearRegression"
   ]
  },
  {
   "cell_type": "code",
   "execution_count": 2,
   "metadata": {},
   "outputs": [
    {
     "data": {
      "text/html": [
       "<div>\n",
       "<style scoped>\n",
       "    .dataframe tbody tr th:only-of-type {\n",
       "        vertical-align: middle;\n",
       "    }\n",
       "\n",
       "    .dataframe tbody tr th {\n",
       "        vertical-align: top;\n",
       "    }\n",
       "\n",
       "    .dataframe thead th {\n",
       "        text-align: right;\n",
       "    }\n",
       "</style>\n",
       "<table border=\"1\" class=\"dataframe\">\n",
       "  <thead>\n",
       "    <tr style=\"text-align: right;\">\n",
       "      <th></th>\n",
       "      <th>index</th>\n",
       "      <th>client_id</th>\n",
       "      <th>sex</th>\n",
       "      <th>user_birthday</th>\n",
       "      <th>binning_age</th>\n",
       "      <th>user_age</th>\n",
       "      <th>category_id</th>\n",
       "      <th>id_product</th>\n",
       "      <th>price</th>\n",
       "      <th>sell_date</th>\n",
       "      <th>transaction_date</th>\n",
       "      <th>sell_year</th>\n",
       "      <th>month</th>\n",
       "      <th>month_string</th>\n",
       "      <th>traceability_transaction</th>\n",
       "    </tr>\n",
       "  </thead>\n",
       "  <tbody>\n",
       "    <tr>\n",
       "      <th>0</th>\n",
       "      <td>0</td>\n",
       "      <td>c_4410</td>\n",
       "      <td>f</td>\n",
       "      <td>1967</td>\n",
       "      <td>(50.0, 60.0]</td>\n",
       "      <td>54</td>\n",
       "      <td>0</td>\n",
       "      <td>0_1455</td>\n",
       "      <td>8.99</td>\n",
       "      <td>2021-03-22 14:29:25.189266</td>\n",
       "      <td>2021-03-22</td>\n",
       "      <td>2021</td>\n",
       "      <td>3</td>\n",
       "      <td>Mars</td>\n",
       "      <td>1</td>\n",
       "    </tr>\n",
       "  </tbody>\n",
       "</table>\n",
       "</div>"
      ],
      "text/plain": [
       "   index client_id sex  user_birthday   binning_age  user_age  category_id  \\\n",
       "0      0    c_4410   f           1967  (50.0, 60.0]        54            0   \n",
       "\n",
       "  id_product  price                   sell_date transaction_date  sell_year  \\\n",
       "0     0_1455   8.99  2021-03-22 14:29:25.189266       2021-03-22       2021   \n",
       "\n",
       "   month month_string  traceability_transaction  \n",
       "0      3         Mars                         1  "
      ]
     },
     "execution_count": 2,
     "metadata": {},
     "output_type": "execute_result"
    }
   ],
   "source": [
    "data = pd.read_csv(\"../sales/data_values_clear/merge.csv\", parse_dates=True)\n",
    "data.head(1)"
   ]
  },
  {
   "cell_type": "markdown",
   "metadata": {},
   "source": [
    "## 1. Y a-t-il une corrélation entre le sexe des clients et les catégories de produits achetés ? \n",
    "</br> <br>\n",
    "<a id=\"q1\" class=\"btn btn-default\" href=\"#som\"> retour au sommaire </a>"
   ]
  },
  {
   "cell_type": "raw",
   "metadata": {},
   "source": [
    "on utilise une loi du khi-2 pour car le sexe n'est pas une variable quantitative"
   ]
  },
  {
   "cell_type": "code",
   "execution_count": 3,
   "metadata": {},
   "outputs": [
    {
     "data": {
      "text/html": [
       "<div>\n",
       "<style scoped>\n",
       "    .dataframe tbody tr th:only-of-type {\n",
       "        vertical-align: middle;\n",
       "    }\n",
       "\n",
       "    .dataframe tbody tr th {\n",
       "        vertical-align: top;\n",
       "    }\n",
       "\n",
       "    .dataframe thead th {\n",
       "        text-align: right;\n",
       "    }\n",
       "</style>\n",
       "<table border=\"1\" class=\"dataframe\">\n",
       "  <thead>\n",
       "    <tr style=\"text-align: right;\">\n",
       "      <th>sex</th>\n",
       "      <th>f</th>\n",
       "      <th>m</th>\n",
       "      <th>Total</th>\n",
       "    </tr>\n",
       "    <tr>\n",
       "      <th>category_id</th>\n",
       "      <th></th>\n",
       "      <th></th>\n",
       "      <th></th>\n",
       "    </tr>\n",
       "  </thead>\n",
       "  <tbody>\n",
       "    <tr>\n",
       "      <th>0</th>\n",
       "      <td>103786.0</td>\n",
       "      <td>105640.0</td>\n",
       "      <td>209426.0</td>\n",
       "    </tr>\n",
       "    <tr>\n",
       "      <th>1</th>\n",
       "      <td>55469.0</td>\n",
       "      <td>54266.0</td>\n",
       "      <td>109735.0</td>\n",
       "    </tr>\n",
       "    <tr>\n",
       "      <th>2</th>\n",
       "      <td>8260.0</td>\n",
       "      <td>9292.0</td>\n",
       "      <td>17552.0</td>\n",
       "    </tr>\n",
       "    <tr>\n",
       "      <th>total</th>\n",
       "      <td>167515.0</td>\n",
       "      <td>169198.0</td>\n",
       "      <td>336713.0</td>\n",
       "    </tr>\n",
       "  </tbody>\n",
       "</table>\n",
       "</div>"
      ],
      "text/plain": [
       "sex                 f         m     Total\n",
       "category_id                              \n",
       "0            103786.0  105640.0  209426.0\n",
       "1             55469.0   54266.0  109735.0\n",
       "2              8260.0    9292.0   17552.0\n",
       "total        167515.0  169198.0  336713.0"
      ]
     },
     "execution_count": 3,
     "metadata": {},
     "output_type": "execute_result"
    }
   ],
   "source": [
    "# on reindex le df avec les deux columns qu'on a besoin \n",
    "catSexDf= data[[\"category_id\", \"sex\"]].pivot_table(index=\"category_id\",\n",
    "                              columns=\"sex\",\n",
    "                              aggfunc=len)\n",
    "\n",
    "dataframeContingence =  catSexDf.copy()\n",
    "catNp = data[\"category_id\"].value_counts()\n",
    "sexNp = data[\"sex\"].value_counts()\n",
    "dataframeContingence.loc[:, \"Total\"] = catNp\n",
    "dataframeContingence.loc[\"total\", :] = sexNp\n",
    "dataframeContingence.loc[\"total\", \"Total\"] = len(data)\n",
    "\n",
    "## on obtien un tableau de contingence.\n",
    "\n",
    "dataframeContingence"
   ]
  },
  {
   "cell_type": "code",
   "execution_count": 4,
   "metadata": {},
   "outputs": [],
   "source": [
    "chi2, p_value, degre_liberte, st_exp = chi2_contingency(dataframeContingence)"
   ]
  },
  {
   "cell_type": "code",
   "execution_count": 5,
   "metadata": {},
   "outputs": [],
   "source": [
    "##Calcule du khi-2 + traitement de contingence\n",
    "\n",
    "catNp = pd.DataFrame(catNp)\n",
    "sexNp = pd.DataFrame(sexNp)\n",
    "\n",
    "catNp.columns=[\"foo\"]\n",
    "sexNp.columns=[\"foo\"]\n",
    "n = len(dataframeContingence)\n",
    "indep =  catNp.dot(sexNp.T)/n\n",
    "\n",
    "indep.sort_index(axis=1, inplace=True)\n",
    "indep.sort_index(inplace=True)\n",
    "chi2, p_value, degre_liberte, st_exp = chi2_contingency(indep)"
   ]
  },
  {
   "cell_type": "code",
   "execution_count": 6,
   "metadata": {},
   "outputs": [
    {
     "data": {
      "image/png": "[encoded data removed]",
      "text/plain": [
       "<Figure size 360x360 with 2 Axes>"
      ]
     },
     "metadata": {
      "needs_background": "light"
     },
     "output_type": "display_data"
    },
    {
     "name": "stdout",
     "output_type": "stream",
     "text": [
      "p_value: 1.0\n",
      "Chi-2: 1.9333027953172328e-23\n"
     ]
    }
   ],
   "source": [
    "## représentation du khi2 en forme de figure\n",
    "plt.figure(figsize=(5,5))\n",
    "plt.title(\"KHI2 - Sexe / Catégories\")\n",
    "plt.xlabel(\"sexe\")\n",
    "plt.ylabel(\"Catégories\", fontsize=12)\n",
    "sns.heatmap(indep, annot=True)\n",
    "plt.show()\n",
    "print(\"p_value:\", round(p_value, 20))\n",
    "print(\"Chi-2:\", chi2)"
   ]
  },
  {
   "cell_type": "raw",
   "metadata": {},
   "source": [
    "# On observe que la catégorie 0 et 2 sont semblable en \n",
    "terme de valeurs ce que qui veux dire qu'il n'y a pas d'impact du sexe sur ces achats\n",
    "De plus catégorie 1 et juste moins sensible à cette dernières."
   ]
  },
  {
   "cell_type": "markdown",
   "metadata": {},
   "source": [
    "## PARTIE II - Y a-t-il une corrélation entre l'âge des clients : ?"
   ]
  },
  {
   "cell_type": "code",
   "execution_count": 7,
   "metadata": {},
   "outputs": [
    {
     "data": {
      "text/html": [
       "<div>\n",
       "<style scoped>\n",
       "    .dataframe tbody tr th:only-of-type {\n",
       "        vertical-align: middle;\n",
       "    }\n",
       "\n",
       "    .dataframe tbody tr th {\n",
       "        vertical-align: top;\n",
       "    }\n",
       "\n",
       "    .dataframe thead th {\n",
       "        text-align: right;\n",
       "    }\n",
       "</style>\n",
       "<table border=\"1\" class=\"dataframe\">\n",
       "  <thead>\n",
       "    <tr style=\"text-align: right;\">\n",
       "      <th></th>\n",
       "      <th>client_id</th>\n",
       "      <th>user_age</th>\n",
       "      <th>spend_annual</th>\n",
       "    </tr>\n",
       "  </thead>\n",
       "  <tbody>\n",
       "    <tr>\n",
       "      <th>0</th>\n",
       "      <td>c_1</td>\n",
       "      <td>66</td>\n",
       "      <td>300.65</td>\n",
       "    </tr>\n",
       "  </tbody>\n",
       "</table>\n",
       "</div>"
      ],
      "text/plain": [
       "  client_id  user_age  spend_annual\n",
       "0       c_1        66        300.65"
      ]
     },
     "execution_count": 7,
     "metadata": {},
     "output_type": "execute_result"
    }
   ],
   "source": [
    "cpForClientSpend = data.copy()\n",
    "cp = data.copy()\n",
    "cp = cp.drop_duplicates()\n",
    "cp = cp.loc[cp['sell_year'] == 2021]\n",
    "cpForClientSpend = cpForClientSpend.groupby(['client_id']).sum().reset_index()\n",
    "cpForClientSpend = cpForClientSpend[['client_id','price']]\n",
    "cpForClientSpend = cpForClientSpend.rename(columns={\"price\": \"spend_annual\"}) \n",
    "mergeClientSpend = cpForClientSpend.merge(cp, left_on='client_id', right_on='client_id')\n",
    "mergeClientSpend = mergeClientSpend[['client_id','user_age','spend_annual']]\n",
    "mergeClientSpend = mergeClientSpend.drop_duplicates()\n",
    "mergeClientSpend = mergeClientSpend.loc[mergeClientSpend['user_age'] >= 20] \n",
    "mergeClientSpend.head(1)"
   ]
  },
  {
   "cell_type": "code",
   "execution_count": 8,
   "metadata": {},
   "outputs": [
    {
     "data": {
      "text/html": [
       "<div>\n",
       "<style scoped>\n",
       "    .dataframe tbody tr th:only-of-type {\n",
       "        vertical-align: middle;\n",
       "    }\n",
       "\n",
       "    .dataframe tbody tr th {\n",
       "        vertical-align: top;\n",
       "    }\n",
       "\n",
       "    .dataframe thead th {\n",
       "        text-align: right;\n",
       "    }\n",
       "</style>\n",
       "<table border=\"1\" class=\"dataframe\">\n",
       "  <thead>\n",
       "    <tr style=\"text-align: right;\">\n",
       "      <th></th>\n",
       "      <th>client_id</th>\n",
       "      <th>user_age</th>\n",
       "      <th>spend_annual</th>\n",
       "    </tr>\n",
       "  </thead>\n",
       "  <tbody>\n",
       "    <tr>\n",
       "      <th>251680</th>\n",
       "      <td>c_7959</td>\n",
       "      <td>47</td>\n",
       "      <td>2564.25</td>\n",
       "    </tr>\n",
       "    <tr>\n",
       "      <th>128350</th>\n",
       "      <td>c_4491</td>\n",
       "      <td>37</td>\n",
       "      <td>2540.53</td>\n",
       "    </tr>\n",
       "    <tr>\n",
       "      <th>254301</th>\n",
       "      <td>c_8026</td>\n",
       "      <td>43</td>\n",
       "      <td>2537.67</td>\n",
       "    </tr>\n",
       "    <tr>\n",
       "      <th>48987</th>\n",
       "      <td>c_2140</td>\n",
       "      <td>44</td>\n",
       "      <td>2527.01</td>\n",
       "    </tr>\n",
       "    <tr>\n",
       "      <th>266055</th>\n",
       "      <td>c_8392</td>\n",
       "      <td>43</td>\n",
       "      <td>2515.98</td>\n",
       "    </tr>\n",
       "    <tr>\n",
       "      <th>...</th>\n",
       "      <td>...</td>\n",
       "      <td>...</td>\n",
       "      <td>...</td>\n",
       "    </tr>\n",
       "    <tr>\n",
       "      <th>271134</th>\n",
       "      <td>c_855</td>\n",
       "      <td>70</td>\n",
       "      <td>10.30</td>\n",
       "    </tr>\n",
       "    <tr>\n",
       "      <th>264961</th>\n",
       "      <td>c_8351</td>\n",
       "      <td>53</td>\n",
       "      <td>6.31</td>\n",
       "    </tr>\n",
       "    <tr>\n",
       "      <th>33500</th>\n",
       "      <td>c_1675</td>\n",
       "      <td>21</td>\n",
       "      <td>5.57</td>\n",
       "    </tr>\n",
       "    <tr>\n",
       "      <th>257011</th>\n",
       "      <td>c_8114</td>\n",
       "      <td>59</td>\n",
       "      <td>4.99</td>\n",
       "    </tr>\n",
       "    <tr>\n",
       "      <th>258009</th>\n",
       "      <td>c_8140</td>\n",
       "      <td>50</td>\n",
       "      <td>4.15</td>\n",
       "    </tr>\n",
       "  </tbody>\n",
       "</table>\n",
       "<p>7851 rows × 3 columns</p>\n",
       "</div>"
      ],
      "text/plain": [
       "       client_id  user_age  spend_annual\n",
       "251680    c_7959        47       2564.25\n",
       "128350    c_4491        37       2540.53\n",
       "254301    c_8026        43       2537.67\n",
       "48987     c_2140        44       2527.01\n",
       "266055    c_8392        43       2515.98\n",
       "...          ...       ...           ...\n",
       "271134     c_855        70         10.30\n",
       "264961    c_8351        53          6.31\n",
       "33500     c_1675        21          5.57\n",
       "257011    c_8114        59          4.99\n",
       "258009    c_8140        50          4.15\n",
       "\n",
       "[7851 rows x 3 columns]"
      ]
     },
     "execution_count": 8,
     "metadata": {},
     "output_type": "execute_result"
    }
   ],
   "source": [
    "newMergeClientSpend = mergeClientSpend.sort_values(by='spend_annual', ascending=False, na_position='first')\n",
    "newMergeClientSpend = newMergeClientSpend.loc[newMergeClientSpend['spend_annual'] <= 54441.92]\n",
    "newMergeClientSpend"
   ]
  },
  {
   "cell_type": "markdown",
   "metadata": {},
   "source": [
    "# Le montant des achats\n",
    "</br> <br>\n",
    "<a id=\"q2\" class=\"btn btn-default\" href=\"#som\"> retour au sommaire </a>"
   ]
  },
  {
   "cell_type": "raw",
   "metadata": {},
   "source": [
    "Pour trouver une correlation entre l'age des clients et le montant de leurs achats il faut faire une regressions linéaire"
   ]
  },
  {
   "cell_type": "code",
   "execution_count": 9,
   "metadata": {},
   "outputs": [
    {
     "name": "stdout",
     "output_type": "stream",
     "text": [
      "expliquation que de 0.05 des datas \n"
     ]
    },
    {
     "data": {
      "image/png": "[encoded data removed]",
      "text/plain": [
       "<Figure size 720x720 with 1 Axes>"
      ]
     },
     "metadata": {},
     "output_type": "display_data"
    }
   ],
   "source": [
    "X = newMergeClientSpend['user_age'].values[:,np.newaxis]\n",
    "# target data is array of shape (n,) \n",
    "y = newMergeClientSpend['spend_annual'].values\n",
    "\n",
    "modelRegressionLinear = LinearRegression()\n",
    "modelRegressionLinear.fit(X, y)\n",
    "RCarre = modelRegressionLinear.score(X, y)\n",
    "sns.set_theme()\n",
    "sns.set_style(\"darkgrid\")\n",
    "plt.figure(figsize=(10,10))\n",
    "plt.plot(X, y, '.')\n",
    "plt.plot(X, modelRegressionLinear.predict(X))\n",
    "plt.title(\"Dépenses sur une année vs Age\")\n",
    "plt.xlabel('age')\n",
    "plt.ylabel(\"CA\")\n",
    "plt.plot()\n",
    "print(f\"expliquation que de {RCarre:.2f} des datas \")\n"
   ]
  },
  {
   "cell_type": "raw",
   "metadata": {},
   "source": [
    "Dans cette régressions on vois que les valeurs sont dispersé et non pas concentrer. R carré nous explique que\n",
    "l'ont peux expliquer que 5 pourcent du dataframe "
   ]
  },
  {
   "cell_type": "markdown",
   "metadata": {},
   "source": [
    "# La fréquence d’achat\n",
    "</br> <br>\n",
    "<a id=\"q3\" class=\"btn btn-default\" href=\"#som\"> retour au sommaire </a>"
   ]
  },
  {
   "cell_type": "code",
   "execution_count": 10,
   "metadata": {},
   "outputs": [
    {
     "data": {
      "text/html": [
       "<div>\n",
       "<style scoped>\n",
       "    .dataframe tbody tr th:only-of-type {\n",
       "        vertical-align: middle;\n",
       "    }\n",
       "\n",
       "    .dataframe tbody tr th {\n",
       "        vertical-align: top;\n",
       "    }\n",
       "\n",
       "    .dataframe thead th {\n",
       "        text-align: right;\n",
       "    }\n",
       "</style>\n",
       "<table border=\"1\" class=\"dataframe\">\n",
       "  <thead>\n",
       "    <tr style=\"text-align: right;\">\n",
       "      <th></th>\n",
       "      <th>index</th>\n",
       "      <th>client_id</th>\n",
       "      <th>sex</th>\n",
       "      <th>user_birthday</th>\n",
       "      <th>binning_age</th>\n",
       "      <th>user_age</th>\n",
       "      <th>category_id</th>\n",
       "      <th>id_product</th>\n",
       "      <th>price</th>\n",
       "      <th>sell_date</th>\n",
       "      <th>transaction_date</th>\n",
       "      <th>sell_year</th>\n",
       "      <th>month</th>\n",
       "      <th>month_string</th>\n",
       "      <th>traceability_transaction</th>\n",
       "      <th>bins</th>\n",
       "    </tr>\n",
       "  </thead>\n",
       "  <tbody>\n",
       "    <tr>\n",
       "      <th>0</th>\n",
       "      <td>0</td>\n",
       "      <td>c_4410</td>\n",
       "      <td>f</td>\n",
       "      <td>1967</td>\n",
       "      <td>(50.0, 60.0]</td>\n",
       "      <td>54</td>\n",
       "      <td>0</td>\n",
       "      <td>0_1455</td>\n",
       "      <td>8.99</td>\n",
       "      <td>2021-03-22 14:29:25.189266</td>\n",
       "      <td>2021-03-22</td>\n",
       "      <td>2021</td>\n",
       "      <td>3</td>\n",
       "      <td>Mars</td>\n",
       "      <td>1</td>\n",
       "      <td>medium-age</td>\n",
       "    </tr>\n",
       "  </tbody>\n",
       "</table>\n",
       "</div>"
      ],
      "text/plain": [
       "   index client_id sex  user_birthday   binning_age  user_age  category_id  \\\n",
       "0      0    c_4410   f           1967  (50.0, 60.0]        54            0   \n",
       "\n",
       "  id_product  price                   sell_date transaction_date  sell_year  \\\n",
       "0     0_1455   8.99  2021-03-22 14:29:25.189266       2021-03-22       2021   \n",
       "\n",
       "   month month_string  traceability_transaction        bins  \n",
       "0      3         Mars                         1  medium-age  "
      ]
     },
     "execution_count": 10,
     "metadata": {},
     "output_type": "execute_result"
    }
   ],
   "source": [
    "cp4 = data.copy()\n",
    "labels = ['jeune', 'medium-age', 'grand-age']\n",
    "min_value = cp4['user_age'].min()\n",
    "max_value = cp4['user_age'].max()\n",
    "bins = np.linspace(min_value,max_value,4)\n",
    "cp4['bins'] = pd.cut(cp4['user_age'], bins=bins, labels=labels, include_lowest=True)\n",
    "cp4.head(1)"
   ]
  },
  {
   "cell_type": "code",
   "execution_count": 11,
   "metadata": {},
   "outputs": [
    {
     "data": {
      "text/html": [
       "<div>\n",
       "<style scoped>\n",
       "    .dataframe tbody tr th:only-of-type {\n",
       "        vertical-align: middle;\n",
       "    }\n",
       "\n",
       "    .dataframe tbody tr th {\n",
       "        vertical-align: top;\n",
       "    }\n",
       "\n",
       "    .dataframe thead th {\n",
       "        text-align: right;\n",
       "    }\n",
       "</style>\n",
       "<table border=\"1\" class=\"dataframe\">\n",
       "  <thead>\n",
       "    <tr style=\"text-align: right;\">\n",
       "      <th></th>\n",
       "      <th>bins</th>\n",
       "      <th>month</th>\n",
       "      <th>price</th>\n",
       "    </tr>\n",
       "  </thead>\n",
       "  <tbody>\n",
       "    <tr>\n",
       "      <th>0</th>\n",
       "      <td>jeune</td>\n",
       "      <td>1</td>\n",
       "      <td>19.864649</td>\n",
       "    </tr>\n",
       "    <tr>\n",
       "      <th>1</th>\n",
       "      <td>jeune</td>\n",
       "      <td>2</td>\n",
       "      <td>20.653665</td>\n",
       "    </tr>\n",
       "    <tr>\n",
       "      <th>2</th>\n",
       "      <td>jeune</td>\n",
       "      <td>3</td>\n",
       "      <td>18.233919</td>\n",
       "    </tr>\n",
       "  </tbody>\n",
       "</table>\n",
       "</div>"
      ],
      "text/plain": [
       "    bins  month      price\n",
       "0  jeune      1  19.864649\n",
       "1  jeune      2  20.653665\n",
       "2  jeune      3  18.233919"
      ]
     },
     "execution_count": 11,
     "metadata": {},
     "output_type": "execute_result"
    }
   ],
   "source": [
    "binningAgeMonth = cp4.groupby(['bins','month']).mean().reset_index()\n",
    "binningAgeMonth = binningAgeMonth[['bins','month','price']]\n",
    "binningAgeMonth.head(3)"
   ]
  },
  {
   "cell_type": "code",
   "execution_count": 12,
   "metadata": {},
   "outputs": [
    {
     "name": "stdout",
     "output_type": "stream",
     "text": [
      "expliquation que de 0.25 des datas \n"
     ]
    },
    {
     "name": "stderr",
     "output_type": "stream",
     "text": [
      "<ipython-input-12-46be6d79b5f9>:3: FutureWarning: Support for multi-dimensional indexing (e.g. `obj[:, None]`) is deprecated and will be removed in a future version.  Convert to a numpy array before indexing instead.\n",
      "  X = binningAgeMonth['bins'].values[:,np.newaxis]\n"
     ]
    },
    {
     "data": {
      "image/png": "[encoded data removed]",
      "text/plain": [
       "<Figure size 720x720 with 1 Axes>"
      ]
     },
     "metadata": {},
     "output_type": "display_data"
    }
   ],
   "source": [
    "# avec une regression linéaire \n",
    "\n",
    "X = binningAgeMonth['bins'].values[:,np.newaxis]\n",
    "# target data is array of shape (n,) \n",
    "y = binningAgeMonth['price'].values\n",
    "\n",
    "modelRegressionLinear = LinearRegression()\n",
    "modelRegressionLinear.fit(X, y)\n",
    "RCarre = modelRegressionLinear.score(X, y)\n",
    "sns.set_theme()\n",
    "sns.set_style(\"darkgrid\")\n",
    "plt.figure(figsize=(10,10))\n",
    "plt.plot(X, y, '.')\n",
    "plt.plot(X, modelRegressionLinear.predict(X))\n",
    "plt.title(\"Dépenses sur une année vs Age\")\n",
    "plt.xlabel('bins')\n",
    "plt.ylabel(\"price\")\n",
    "plt.plot()\n",
    "print(f\"expliquation que de {RCarre:.2f} des datas \")\n"
   ]
  },
  {
   "cell_type": "code",
   "execution_count": 13,
   "metadata": {},
   "outputs": [
    {
     "name": "stderr",
     "output_type": "stream",
     "text": [
      "/usr/local/lib/python3.8/site-packages/pingouin/parametric.py:991: RuntimeWarning: invalid value encountered in double_scalars\n",
      "  mserror = sserror / ddof2\n"
     ]
    },
    {
     "name": "stdout",
     "output_type": "stream",
     "text": [
      "Rapport de corrélation: 0    1.0\n",
      "Name: n2, dtype: float64\n"
     ]
    },
    {
     "data": {
      "image/png": "[encoded data removed]",
      "text/plain": [
       "<Figure size 432x288 with 1 Axes>"
      ]
     },
     "metadata": {},
     "output_type": "display_data"
    }
   ],
   "source": [
    "dic = {}\n",
    "\n",
    "for i in binningAgeMonth.bins.unique():\n",
    "    dic[i] = list(binningAgeMonth.loc[binningAgeMonth.bins == i,'price'])\n",
    "\n",
    "plt.boxplot([\n",
    "    dic['jeune'],\n",
    "    dic['medium-age'],\n",
    "    dic['grand-age']\n",
    "], vert=False, showmeans=True, showfliers=False)\n",
    "plt.title(\"Fréquence d'achats par mois par tranche d'âges\")\n",
    "plt.xlabel(\"fréquence d'achat\")\n",
    "plt.yticks([1,2,3], ['jeune', 'medium-age', 'grand-age'])\n",
    "\n",
    "import pingouin as pg\n",
    "eta_carre = binningAgeMonth.anova(dv='month', between='price', detailed=False,\n",
    "                   effsize='n2')\n",
    "\n",
    "print(\"Rapport de corrélation:\", eta_carre['n2'])"
   ]
  },
  {
   "cell_type": "markdown",
   "metadata": {},
   "source": [
    "# La taille du panier moyen\n",
    "</br> <br>\n",
    "<a id=\"q4\" class=\"btn btn-default\" href=\"#som\"> retour au sommaire </a>"
   ]
  },
  {
   "cell_type": "code",
   "execution_count": 14,
   "metadata": {},
   "outputs": [
    {
     "name": "stdout",
     "output_type": "stream",
     "text": [
      "expliquation que de 0.30 des datas. Coéficient de pearson : -0.55\n"
     ]
    },
    {
     "data": {
      "image/png": "[encoded data removed]",
      "text/plain": [
       "<Figure size 576x576 with 1 Axes>"
      ]
     },
     "metadata": {},
     "output_type": "display_data"
    }
   ],
   "source": [
    "cp3 = data.copy()\n",
    "binningCategory = cp3.groupby(['binning_age','category_id']).sum()\n",
    "binningCategory\n",
    "binningCategory = binningCategory[['price']].reset_index()\n",
    "from sklearn.linear_model import LinearRegression\n",
    "\n",
    "meanByAge = data.groupby(['user_age']).mean()\n",
    "meanByAge = meanByAge.reset_index()\n",
    "meanByAge = meanByAge[['user_age','price']] \n",
    "\n",
    "X = meanByAge['user_age'].values[:,np.newaxis]\n",
    "# target data is array of shape (n,) \n",
    "y = meanByAge['price'].values\n",
    "\n",
    "modelLinearPanierMoyAge = LinearRegression()\n",
    "modelLinearPanierMoyAge.fit(X, y)\n",
    "\n",
    "RCarre = modelLinearPanierMoyAge.score(X, y)\n",
    "\n",
    "sns.set_theme()\n",
    "sns.set_style(\"darkgrid\")\n",
    "\n",
    "pearson = ss.stats.pearsonr(meanByAge['user_age'],meanByAge['price'])\n",
    "\n",
    "#sns.set_style(\"ticks\", {\"xtick.major.size\": 8, \"ytick.major.size\": 8})\n",
    "plt.figure(figsize=(8,8))\n",
    "plt.plot(X, y, '.')\n",
    "plt.plot(X, modelLinearPanierMoyAge.predict(X), 'y--')\n",
    "plt.xlabel('age')\n",
    "plt.ylabel(\"Panier moyen (12 mois) vs Age\")\n",
    "plt.plot()\n",
    "print(f\"expliquation que de {RCarre:.2f} des datas. Coéficient de pearson : {pearson[0]:.2f}\")"
   ]
  },
  {
   "cell_type": "markdown",
   "metadata": {},
   "source": [
    "# Les catégories de produits achetés\n",
    "</br> <br>\n",
    "<a id=\"q5\" class=\"btn btn-default\" href=\"#som\"> retour au sommaire </a>"
   ]
  },
  {
   "cell_type": "code",
   "execution_count": 15,
   "metadata": {},
   "outputs": [
    {
     "data": {
      "text/html": [
       "<div>\n",
       "<style scoped>\n",
       "    .dataframe tbody tr th:only-of-type {\n",
       "        vertical-align: middle;\n",
       "    }\n",
       "\n",
       "    .dataframe tbody tr th {\n",
       "        vertical-align: top;\n",
       "    }\n",
       "\n",
       "    .dataframe thead th {\n",
       "        text-align: right;\n",
       "    }\n",
       "</style>\n",
       "<table border=\"1\" class=\"dataframe\">\n",
       "  <thead>\n",
       "    <tr style=\"text-align: right;\">\n",
       "      <th></th>\n",
       "      <th>category_id</th>\n",
       "      <th>bins</th>\n",
       "    </tr>\n",
       "  </thead>\n",
       "  <tbody>\n",
       "    <tr>\n",
       "      <th>0</th>\n",
       "      <td>0</td>\n",
       "      <td>medium-age</td>\n",
       "    </tr>\n",
       "    <tr>\n",
       "      <th>1</th>\n",
       "      <td>0</td>\n",
       "      <td>jeune</td>\n",
       "    </tr>\n",
       "    <tr>\n",
       "      <th>2</th>\n",
       "      <td>0</td>\n",
       "      <td>medium-age</td>\n",
       "    </tr>\n",
       "    <tr>\n",
       "      <th>3</th>\n",
       "      <td>0</td>\n",
       "      <td>jeune</td>\n",
       "    </tr>\n",
       "    <tr>\n",
       "      <th>4</th>\n",
       "      <td>0</td>\n",
       "      <td>jeune</td>\n",
       "    </tr>\n",
       "    <tr>\n",
       "      <th>...</th>\n",
       "      <td>...</td>\n",
       "      <td>...</td>\n",
       "    </tr>\n",
       "    <tr>\n",
       "      <th>336708</th>\n",
       "      <td>2</td>\n",
       "      <td>jeune</td>\n",
       "    </tr>\n",
       "    <tr>\n",
       "      <th>336709</th>\n",
       "      <td>2</td>\n",
       "      <td>jeune</td>\n",
       "    </tr>\n",
       "    <tr>\n",
       "      <th>336710</th>\n",
       "      <td>0</td>\n",
       "      <td>jeune</td>\n",
       "    </tr>\n",
       "    <tr>\n",
       "      <th>336711</th>\n",
       "      <td>0</td>\n",
       "      <td>jeune</td>\n",
       "    </tr>\n",
       "    <tr>\n",
       "      <th>336712</th>\n",
       "      <td>0</td>\n",
       "      <td>medium-age</td>\n",
       "    </tr>\n",
       "  </tbody>\n",
       "</table>\n",
       "<p>336713 rows × 2 columns</p>\n",
       "</div>"
      ],
      "text/plain": [
       "        category_id        bins\n",
       "0                 0  medium-age\n",
       "1                 0       jeune\n",
       "2                 0  medium-age\n",
       "3                 0       jeune\n",
       "4                 0       jeune\n",
       "...             ...         ...\n",
       "336708            2       jeune\n",
       "336709            2       jeune\n",
       "336710            0       jeune\n",
       "336711            0       jeune\n",
       "336712            0  medium-age\n",
       "\n",
       "[336713 rows x 2 columns]"
      ]
     },
     "execution_count": 15,
     "metadata": {},
     "output_type": "execute_result"
    }
   ],
   "source": [
    "cp5 = data.copy()\n",
    "labels = ['jeune', 'medium-age', 'grand-age']\n",
    "min_value = cp5['user_age'].min()\n",
    "max_value = cp5['user_age'].max()\n",
    "bins = np.linspace(min_value,max_value,4)\n",
    "cp5['bins'] = pd.cut(cp5['user_age'], bins=bins, labels=labels, include_lowest=True)\n",
    "cp5 = cp5[['category_id','bins']]\n",
    "cp5"
   ]
  },
  {
   "cell_type": "code",
   "execution_count": 16,
   "metadata": {},
   "outputs": [
    {
     "data": {
      "text/html": [
       "<div>\n",
       "<style scoped>\n",
       "    .dataframe tbody tr th:only-of-type {\n",
       "        vertical-align: middle;\n",
       "    }\n",
       "\n",
       "    .dataframe tbody tr th {\n",
       "        vertical-align: top;\n",
       "    }\n",
       "\n",
       "    .dataframe thead th {\n",
       "        text-align: right;\n",
       "    }\n",
       "</style>\n",
       "<table border=\"1\" class=\"dataframe\">\n",
       "  <thead>\n",
       "    <tr style=\"text-align: right;\">\n",
       "      <th>bins</th>\n",
       "      <th>jeune</th>\n",
       "      <th>medium-age</th>\n",
       "      <th>grand-age</th>\n",
       "    </tr>\n",
       "    <tr>\n",
       "      <th>category_id</th>\n",
       "      <th></th>\n",
       "      <th></th>\n",
       "      <th></th>\n",
       "    </tr>\n",
       "  </thead>\n",
       "  <tbody>\n",
       "    <tr>\n",
       "      <th>0</th>\n",
       "      <td>117507</td>\n",
       "      <td>83202</td>\n",
       "      <td>8717</td>\n",
       "    </tr>\n",
       "    <tr>\n",
       "      <th>1</th>\n",
       "      <td>46196</td>\n",
       "      <td>52698</td>\n",
       "      <td>10841</td>\n",
       "    </tr>\n",
       "    <tr>\n",
       "      <th>2</th>\n",
       "      <td>16528</td>\n",
       "      <td>863</td>\n",
       "      <td>161</td>\n",
       "    </tr>\n",
       "  </tbody>\n",
       "</table>\n",
       "</div>"
      ],
      "text/plain": [
       "bins          jeune  medium-age  grand-age\n",
       "category_id                               \n",
       "0            117507       83202       8717\n",
       "1             46196       52698      10841\n",
       "2             16528         863        161"
      ]
     },
     "execution_count": 16,
     "metadata": {},
     "output_type": "execute_result"
    }
   ],
   "source": [
    "catBinning = cp5[[\"category_id\", \"bins\"]].pivot_table(index=\"category_id\",\n",
    "                              columns=\"bins\",\n",
    "                              aggfunc=len)\n",
    "catBinning"
   ]
  },
  {
   "cell_type": "code",
   "execution_count": 17,
   "metadata": {},
   "outputs": [
    {
     "data": {
      "image/png": "[encoded data removed]",
      "text/plain": [
       "<Figure size 360x360 with 2 Axes>"
      ]
     },
     "metadata": {},
     "output_type": "display_data"
    },
    {
     "name": "stdout",
     "output_type": "stream",
     "text": [
      "p_value: 1.0\n",
      "Etat carré 0    0.004445\n",
      "Name: n2, dtype: float64\n"
     ]
    }
   ],
   "source": [
    "contingence =  catBinning.copy()\n",
    "catNp = cp5[\"category_id\"].value_counts()\n",
    "binsNp = cp5[\"bins\"].value_counts()\n",
    "\n",
    "catNp = pd.DataFrame(catNp)\n",
    "binsNp = pd.DataFrame(binsNp)\n",
    "\n",
    "catNp.columns=[\"foo\"]\n",
    "binsNp.columns=[\"foo\"]\n",
    "n = len(contingence)\n",
    "indep =  catNp.dot(binsNp.T)/n\n",
    "\n",
    "indep.sort_index(axis=1, inplace=True)\n",
    "indep.sort_index(inplace=True)\n",
    "\n",
    "import pingouin as pg\n",
    "anovaCalculation = cp5.anova(dv='category_id', between='bins', detailed=False,\n",
    "                   effsize='n2')\n",
    "\n",
    "\n",
    "\n",
    "plt.figure(figsize=(5,5))\n",
    "plt.title(\"Catégorie / Tranche d'age\")\n",
    "plt.xlabel(\"Tranche d'age \")\n",
    "plt.ylabel(\"Catégories\", fontsize=12)\n",
    "sns.heatmap(indep, annot=True)\n",
    "plt.show()\n",
    "print(\"p_value:\", round(p_value, 20))\n",
    "print(\"Etat carré\", anovaCalculation['n2'])"
   ]
  },
  {
   "cell_type": "raw",
   "metadata": {},
   "source": [
    "On peux constater que les tranches jeunes sont impacter par la catégorie 0 et 1 \n",
    "or ce n'est pas le cas pour les personnes qui sont plus agés"
   ]
  },
  {
   "cell_type": "markdown",
   "metadata": {},
   "source": [
    "## BONUS Tranches d'âges et montant des achats\n",
    "<a id=\"bonus\" class=\"btn btn-default\" href=\"#som\"> retour au sommaire </a>"
   ]
  },
  {
   "cell_type": "code",
   "execution_count": 18,
   "metadata": {},
   "outputs": [
    {
     "data": {
      "text/html": [
       "<div>\n",
       "<style scoped>\n",
       "    .dataframe tbody tr th:only-of-type {\n",
       "        vertical-align: middle;\n",
       "    }\n",
       "\n",
       "    .dataframe tbody tr th {\n",
       "        vertical-align: top;\n",
       "    }\n",
       "\n",
       "    .dataframe thead th {\n",
       "        text-align: right;\n",
       "    }\n",
       "</style>\n",
       "<table border=\"1\" class=\"dataframe\">\n",
       "  <thead>\n",
       "    <tr style=\"text-align: right;\">\n",
       "      <th></th>\n",
       "      <th>user_age</th>\n",
       "      <th>price</th>\n",
       "    </tr>\n",
       "  </thead>\n",
       "  <tbody>\n",
       "    <tr>\n",
       "      <th>0</th>\n",
       "      <td>54</td>\n",
       "      <td>8.99</td>\n",
       "    </tr>\n",
       "    <tr>\n",
       "      <th>1</th>\n",
       "      <td>37</td>\n",
       "      <td>8.99</td>\n",
       "    </tr>\n",
       "    <tr>\n",
       "      <th>2</th>\n",
       "      <td>45</td>\n",
       "      <td>8.99</td>\n",
       "    </tr>\n",
       "  </tbody>\n",
       "</table>\n",
       "</div>"
      ],
      "text/plain": [
       "   user_age  price\n",
       "0        54   8.99\n",
       "1        37   8.99\n",
       "2        45   8.99"
      ]
     },
     "execution_count": 18,
     "metadata": {},
     "output_type": "execute_result"
    }
   ],
   "source": [
    "agePrice = data.copy()\n",
    "agePrice = agePrice[['user_age','price']]\n",
    "agePrice.head(n)"
   ]
  },
  {
   "cell_type": "code",
   "execution_count": 19,
   "metadata": {},
   "outputs": [
    {
     "data": {
      "text/plain": [
       "([<matplotlib.axis.YTick at 0x7f9ea3f74df0>,\n",
       "  <matplotlib.axis.YTick at 0x7f9ea3f74fd0>,\n",
       "  <matplotlib.axis.YTick at 0x7f9ea3f60850>],\n",
       " [Text(0, 1, 'jeune'), Text(0, 2, 'medium-age'), Text(0, 3, 'grand-age')])"
      ]
     },
     "execution_count": 19,
     "metadata": {},
     "output_type": "execute_result"
    },
    {
     "data": {
      "image/png": "[encoded data removed]",
      "text/plain": [
       "<Figure size 432x288 with 1 Axes>"
      ]
     },
     "metadata": {},
     "output_type": "display_data"
    }
   ],
   "source": [
    "labels = ['jeune', 'medium-age', 'grand-age']\n",
    "min_value = agePrice['user_age'].min()\n",
    "max_value = agePrice['user_age'].max()\n",
    "bins = np.linspace(min_value,max_value,4)\n",
    "agePrice['bins'] = pd.cut(agePrice['user_age'], bins=bins, labels=labels, include_lowest=True)\n",
    "\n",
    "\n",
    "dic = {}\n",
    "\n",
    "for i in agePrice.bins.unique():\n",
    "    dic[i] = list(agePrice.loc[agePrice.bins == i,'price'])\n",
    "\n",
    "\n",
    "plt.boxplot([\n",
    "    dic['jeune'],\n",
    "    dic['medium-age'],\n",
    "    dic['grand-age']\n",
    "], vert=False, showmeans=True, showfliers=False)\n",
    "\n",
    "plt.xlabel(\"montant d'achats totale annuel (moyenne)\")\n",
    "plt.yticks([1,2,3], ['jeune', 'medium-age', 'grand-age'])\n"
   ]
  }
 ],
 "metadata": {
  "kernelspec": {
   "display_name": "Python 3",
   "language": "python",
   "name": "python3"
  },
  "language_info": {
   "codemirror_mode": {
    "name": "ipython",
    "version": 3
   },
   "file_extension": ".py",
   "mimetype": "text/x-python",
   "name": "python",
   "nbconvert_exporter": "python",
   "pygments_lexer": "ipython3",
   "version": "3.8.6"
  }
 },
 "nbformat": 4,
 "nbformat_minor": 4
}
