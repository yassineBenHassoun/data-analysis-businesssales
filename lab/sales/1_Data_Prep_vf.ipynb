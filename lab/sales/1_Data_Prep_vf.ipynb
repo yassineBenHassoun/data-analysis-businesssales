{
 "cells": [
  {
   "cell_type": "markdown",
   "metadata": {},
   "source": [
    "**Analyser les ventes de l'entreprise 'Rester Livres'**\n",
    "\n",
    "    Mission n°1 - Nettoyage des données."
   ]
  },
  {
   "cell_type": "markdown",
   "metadata": {
    "ExecuteTime": {
     "end_time": "2019-02-11T13:54:55.760276Z",
     "start_time": "2019-02-11T13:54:55.756286Z"
    }
   },
   "source": [
    "**Data sources**\n",
    "\n",
    "- customers.csv\n",
    "- products.csv\n",
    "- transactions.csv"
   ]
  },
  {
   "cell_type": "markdown",
   "metadata": {},
   "source": [
    "**Modifications**\n",
    "\n",
    "- Imputation par la moyenne sur fiche produit manquante."
   ]
  },
  {
   "cell_type": "markdown",
   "metadata": {},
   "source": [
    "# Tools"
   ]
  },
  {
   "cell_type": "markdown",
   "metadata": {},
   "source": [
    "**Import des librairies**"
   ]
  },
  {
   "cell_type": "code",
   "execution_count": 1,
   "metadata": {
    "ExecuteTime": {
     "end_time": "2019-03-04T15:20:12.416517Z",
     "start_time": "2019-03-04T15:20:11.866596Z"
    }
   },
   "outputs": [],
   "source": [
    "from pathlib import Path # System\n",
    "\n",
    "import numpy as np\n",
    "import pandas as pd\n",
    "\n",
    "# Graphiques\n",
    "import matplotlib.pyplot as plt\n",
    "import matplotlib.ticker as ticker\n",
    "%matplotlib inline\n",
    "import seaborn as sns\n",
    "sns.set()\n",
    "import pylab\n",
    "\n",
    "# Dates\n",
    "from datetime import datetime # Format date\n",
    "import calendar\n",
    "\n",
    "import re #pour expressions régulières"
   ]
  },
  {
   "cell_type": "markdown",
   "metadata": {},
   "source": [
    "**Data**"
   ]
  },
  {
   "cell_type": "code",
   "execution_count": 2,
   "metadata": {
    "ExecuteTime": {
     "end_time": "2019-03-04T15:20:13.533688Z",
     "start_time": "2019-03-04T15:20:13.529704Z"
    }
   },
   "outputs": [],
   "source": [
    "customers = Path.cwd() / \"data\" / \"raw\" / \"customers.csv\"\n",
    "products = Path.cwd() / \"data\" / \"raw\" / \"products.csv\"\n",
    "sales = Path.cwd() / \"data\" / \"raw\" / \"transactions.csv\""
   ]
  },
  {
   "cell_type": "markdown",
   "metadata": {},
   "source": [
    "# Nettoyage "
   ]
  },
  {
   "cell_type": "markdown",
   "metadata": {},
   "source": [
    "## Customers"
   ]
  },
  {
   "cell_type": "code",
   "execution_count": 3,
   "metadata": {
    "ExecuteTime": {
     "end_time": "2019-03-04T15:20:15.159515Z",
     "start_time": "2019-03-04T15:20:15.122619Z"
    }
   },
   "outputs": [],
   "source": [
    "df_cust = pd.read_csv(customers)"
   ]
  },
  {
   "cell_type": "code",
   "execution_count": 4,
   "metadata": {
    "ExecuteTime": {
     "end_time": "2019-03-04T15:20:15.743644Z",
     "start_time": "2019-03-04T15:20:15.736696Z"
    }
   },
   "outputs": [
    {
     "data": {
      "text/html": [
       "<div>\n",
       "<style scoped>\n",
       "    .dataframe tbody tr th:only-of-type {\n",
       "        vertical-align: middle;\n",
       "    }\n",
       "\n",
       "    .dataframe tbody tr th {\n",
       "        vertical-align: top;\n",
       "    }\n",
       "\n",
       "    .dataframe thead th {\n",
       "        text-align: right;\n",
       "    }\n",
       "</style>\n",
       "<table border=\"1\" class=\"dataframe\">\n",
       "  <thead>\n",
       "    <tr style=\"text-align: right;\">\n",
       "      <th></th>\n",
       "      <th>client_id</th>\n",
       "      <th>sex</th>\n",
       "      <th>birth</th>\n",
       "    </tr>\n",
       "  </thead>\n",
       "  <tbody>\n",
       "    <tr>\n",
       "      <th>0</th>\n",
       "      <td>c_4410</td>\n",
       "      <td>f</td>\n",
       "      <td>1967</td>\n",
       "    </tr>\n",
       "    <tr>\n",
       "      <th>1</th>\n",
       "      <td>c_7839</td>\n",
       "      <td>f</td>\n",
       "      <td>1975</td>\n",
       "    </tr>\n",
       "    <tr>\n",
       "      <th>2</th>\n",
       "      <td>c_1699</td>\n",
       "      <td>f</td>\n",
       "      <td>1984</td>\n",
       "    </tr>\n",
       "    <tr>\n",
       "      <th>3</th>\n",
       "      <td>c_5961</td>\n",
       "      <td>f</td>\n",
       "      <td>1962</td>\n",
       "    </tr>\n",
       "    <tr>\n",
       "      <th>4</th>\n",
       "      <td>c_5320</td>\n",
       "      <td>m</td>\n",
       "      <td>1943</td>\n",
       "    </tr>\n",
       "  </tbody>\n",
       "</table>\n",
       "</div>"
      ],
      "text/plain": [
       "  client_id sex  birth\n",
       "0    c_4410   f   1967\n",
       "1    c_7839   f   1975\n",
       "2    c_1699   f   1984\n",
       "3    c_5961   f   1962\n",
       "4    c_5320   m   1943"
      ]
     },
     "execution_count": 4,
     "metadata": {},
     "output_type": "execute_result"
    }
   ],
   "source": [
    "df_cust.head()"
   ]
  },
  {
   "cell_type": "markdown",
   "metadata": {},
   "source": [
    "### Nomenclature colonne"
   ]
  },
  {
   "cell_type": "code",
   "execution_count": 5,
   "metadata": {
    "ExecuteTime": {
     "end_time": "2019-03-04T15:20:16.856592Z",
     "start_time": "2019-03-04T15:20:16.849609Z"
    }
   },
   "outputs": [],
   "source": [
    "df_cust = df_cust.rename(index=str, columns={\"client_id\": \"id_client\"}) "
   ]
  },
  {
   "cell_type": "markdown",
   "metadata": {},
   "source": [
    "### Format des data"
   ]
  },
  {
   "cell_type": "code",
   "execution_count": 6,
   "metadata": {
    "ExecuteTime": {
     "end_time": "2019-03-04T15:20:17.936647Z",
     "start_time": "2019-03-04T15:20:17.929655Z"
    }
   },
   "outputs": [
    {
     "name": "stdout",
     "output_type": "stream",
     "text": [
      "<class 'pandas.core.frame.DataFrame'>\n",
      "Index: 8623 entries, 0 to 8622\n",
      "Data columns (total 3 columns):\n",
      "id_client    8623 non-null object\n",
      "sex          8623 non-null object\n",
      "birth        8623 non-null int64\n",
      "dtypes: int64(1), object(2)\n",
      "memory usage: 269.5+ KB\n"
     ]
    }
   ],
   "source": [
    "# Vérification du format avant le traitement\n",
    "\n",
    "df_cust.info()"
   ]
  },
  {
   "cell_type": "code",
   "execution_count": 7,
   "metadata": {
    "ExecuteTime": {
     "end_time": "2019-03-04T15:20:18.505571Z",
     "start_time": "2019-03-04T15:20:18.501616Z"
    }
   },
   "outputs": [],
   "source": [
    "# Formatage colonne sex en type catégorie\n",
    "\n",
    "df_cust.sex = df_cust.sex.astype('category')"
   ]
  },
  {
   "cell_type": "code",
   "execution_count": 8,
   "metadata": {
    "ExecuteTime": {
     "end_time": "2019-03-04T15:20:19.193017Z",
     "start_time": "2019-03-04T15:20:19.186013Z"
    }
   },
   "outputs": [
    {
     "name": "stdout",
     "output_type": "stream",
     "text": [
      "<class 'pandas.core.frame.DataFrame'>\n",
      "Index: 8623 entries, 0 to 8622\n",
      "Data columns (total 3 columns):\n",
      "id_client    8623 non-null object\n",
      "sex          8623 non-null category\n",
      "birth        8623 non-null int64\n",
      "dtypes: category(1), int64(1), object(1)\n",
      "memory usage: 210.6+ KB\n"
     ]
    }
   ],
   "source": [
    "df_cust.info()"
   ]
  },
  {
   "cell_type": "markdown",
   "metadata": {
    "ExecuteTime": {
     "end_time": "2019-02-11T17:48:16.087514Z",
     "start_time": "2019-02-11T17:48:16.084520Z"
    }
   },
   "source": [
    "<div class=\"alert alert-block alert-info\">\n",
    "<b>Tip:</b> Le format catégorie est moins gourmand en mémoire.\n",
    "</div>"
   ]
  },
  {
   "cell_type": "code",
   "execution_count": 9,
   "metadata": {
    "ExecuteTime": {
     "end_time": "2019-03-04T15:20:20.431518Z",
     "start_time": "2019-03-04T15:20:20.423568Z"
    }
   },
   "outputs": [
    {
     "data": {
      "text/plain": [
       "['ct', 'c_']"
      ]
     },
     "execution_count": 9,
     "metadata": {},
     "output_type": "execute_result"
    }
   ],
   "source": [
    "# Quel est le format des data de la colonne id_client ?\n",
    "\n",
    "pattern = re.compile(r'^[A-Za-z0-9]{1,}.[A-Za-z0-9]{1,}$')\n",
    "matches = [x[0:2] for x in df_cust.id_client if pattern.match(x)]\n",
    "\n",
    "list(set(matches)) "
   ]
  },
  {
   "cell_type": "code",
   "execution_count": 10,
   "metadata": {
    "ExecuteTime": {
     "end_time": "2019-03-04T15:20:21.117583Z",
     "start_time": "2019-03-04T15:20:21.108608Z"
    }
   },
   "outputs": [
    {
     "data": {
      "text/html": [
       "<div>\n",
       "<style scoped>\n",
       "    .dataframe tbody tr th:only-of-type {\n",
       "        vertical-align: middle;\n",
       "    }\n",
       "\n",
       "    .dataframe tbody tr th {\n",
       "        vertical-align: top;\n",
       "    }\n",
       "\n",
       "    .dataframe thead th {\n",
       "        text-align: right;\n",
       "    }\n",
       "</style>\n",
       "<table border=\"1\" class=\"dataframe\">\n",
       "  <thead>\n",
       "    <tr style=\"text-align: right;\">\n",
       "      <th></th>\n",
       "      <th>id_client</th>\n",
       "      <th>sex</th>\n",
       "      <th>birth</th>\n",
       "    </tr>\n",
       "  </thead>\n",
       "  <tbody>\n",
       "    <tr>\n",
       "      <th>2735</th>\n",
       "      <td>ct_0</td>\n",
       "      <td>f</td>\n",
       "      <td>2001</td>\n",
       "    </tr>\n",
       "    <tr>\n",
       "      <th>8494</th>\n",
       "      <td>ct_1</td>\n",
       "      <td>m</td>\n",
       "      <td>2001</td>\n",
       "    </tr>\n",
       "  </tbody>\n",
       "</table>\n",
       "</div>"
      ],
      "text/plain": [
       "     id_client sex  birth\n",
       "2735      ct_0   f   2001\n",
       "8494      ct_1   m   2001"
      ]
     },
     "execution_count": 10,
     "metadata": {},
     "output_type": "execute_result"
    }
   ],
   "source": [
    "# Quelles sont les lignes concernées ?\n",
    "\n",
    "pattern2 = re.compile(r'^[a-z]{2}.[A-Za-z0-9]{1,}$')\n",
    "\n",
    "matches2 = [x for x in df_cust.id_client if pattern2.match(x)]\n",
    "\n",
    "df_cust[df_cust.id_client.isin(matches2)]"
   ]
  },
  {
   "cell_type": "markdown",
   "metadata": {},
   "source": [
    "<div class=\"alert alert-block alert-info\">\n",
    "<b>Tip:</b> \n",
    "\n",
    "- Ma colonne est de type object.\n",
    "- J'ai des valeurs en \"c_\" et des valeurs en \"ct_\". \n",
    "\n",
    "    - Les données de type \"ct_\" correspondent à des lignes de tests (Cf. sales). Je décide de les supprimer car elles vont fausser l'analyse de mes ventes.\n",
    "    - Je supprime le heading \"c_\" pour convertir ma colonne en type numérique, plus facilement manipulable pour l'analyse de données.\n",
    "   \n",
    "</div>"
   ]
  },
  {
   "cell_type": "code",
   "execution_count": 11,
   "metadata": {
    "ExecuteTime": {
     "end_time": "2019-03-04T15:20:24.068627Z",
     "start_time": "2019-03-04T15:20:24.063669Z"
    }
   },
   "outputs": [],
   "source": [
    "df_cust = df_cust[~df_cust.id_client.isin(matches2)] #j'inverse mon masque ce qui revient à ne pas garder les lignes"
   ]
  },
  {
   "cell_type": "code",
   "execution_count": 12,
   "metadata": {
    "ExecuteTime": {
     "end_time": "2019-03-04T15:20:24.580327Z",
     "start_time": "2019-03-04T15:20:24.553399Z"
    }
   },
   "outputs": [],
   "source": [
    "# Formatage des data colonnes id_client\n",
    "\n",
    "df_cust.id_client = df_cust.id_client.replace(['c_'],'',regex=True) #suppression de l'en-tête c_\n",
    "\n",
    "df_cust.id_client = df_cust.id_client.astype(int) #formatage integer"
   ]
  },
  {
   "cell_type": "code",
   "execution_count": 13,
   "metadata": {
    "ExecuteTime": {
     "end_time": "2019-03-04T15:20:25.537708Z",
     "start_time": "2019-03-04T15:20:25.531698Z"
    }
   },
   "outputs": [
    {
     "name": "stdout",
     "output_type": "stream",
     "text": [
      "<class 'pandas.core.frame.DataFrame'>\n",
      "Index: 8621 entries, 0 to 8622\n",
      "Data columns (total 3 columns):\n",
      "id_client    8621 non-null int32\n",
      "sex          8621 non-null category\n",
      "birth        8621 non-null int64\n",
      "dtypes: category(1), int32(1), int64(1)\n",
      "memory usage: 176.9+ KB\n"
     ]
    }
   ],
   "source": [
    "# Verification du format en sortie de traitement\n",
    "\n",
    "df_cust.info()"
   ]
  },
  {
   "cell_type": "code",
   "execution_count": 14,
   "metadata": {
    "ExecuteTime": {
     "end_time": "2019-03-04T15:20:26.340717Z",
     "start_time": "2019-03-04T15:20:26.333763Z"
    }
   },
   "outputs": [
    {
     "data": {
      "text/html": [
       "<div>\n",
       "<style scoped>\n",
       "    .dataframe tbody tr th:only-of-type {\n",
       "        vertical-align: middle;\n",
       "    }\n",
       "\n",
       "    .dataframe tbody tr th {\n",
       "        vertical-align: top;\n",
       "    }\n",
       "\n",
       "    .dataframe thead th {\n",
       "        text-align: right;\n",
       "    }\n",
       "</style>\n",
       "<table border=\"1\" class=\"dataframe\">\n",
       "  <thead>\n",
       "    <tr style=\"text-align: right;\">\n",
       "      <th></th>\n",
       "      <th>id_client</th>\n",
       "      <th>sex</th>\n",
       "      <th>birth</th>\n",
       "    </tr>\n",
       "  </thead>\n",
       "  <tbody>\n",
       "    <tr>\n",
       "      <th>0</th>\n",
       "      <td>4410</td>\n",
       "      <td>f</td>\n",
       "      <td>1967</td>\n",
       "    </tr>\n",
       "    <tr>\n",
       "      <th>1</th>\n",
       "      <td>7839</td>\n",
       "      <td>f</td>\n",
       "      <td>1975</td>\n",
       "    </tr>\n",
       "    <tr>\n",
       "      <th>2</th>\n",
       "      <td>1699</td>\n",
       "      <td>f</td>\n",
       "      <td>1984</td>\n",
       "    </tr>\n",
       "    <tr>\n",
       "      <th>3</th>\n",
       "      <td>5961</td>\n",
       "      <td>f</td>\n",
       "      <td>1962</td>\n",
       "    </tr>\n",
       "    <tr>\n",
       "      <th>4</th>\n",
       "      <td>5320</td>\n",
       "      <td>m</td>\n",
       "      <td>1943</td>\n",
       "    </tr>\n",
       "  </tbody>\n",
       "</table>\n",
       "</div>"
      ],
      "text/plain": [
       "   id_client sex  birth\n",
       "0       4410   f   1967\n",
       "1       7839   f   1975\n",
       "2       1699   f   1984\n",
       "3       5961   f   1962\n",
       "4       5320   m   1943"
      ]
     },
     "execution_count": 14,
     "metadata": {},
     "output_type": "execute_result"
    }
   ],
   "source": [
    "df_cust.head()"
   ]
  },
  {
   "cell_type": "markdown",
   "metadata": {},
   "source": [
    "### Duplicats"
   ]
  },
  {
   "cell_type": "markdown",
   "metadata": {},
   "source": [
    "On ne s'intéresse aux duplicats que sur la colonne id_clients, puisqu'il peut exister des clients de même sexe et/ou de même année de naissance."
   ]
  },
  {
   "cell_type": "code",
   "execution_count": 15,
   "metadata": {
    "ExecuteTime": {
     "end_time": "2019-03-04T15:20:30.774489Z",
     "start_time": "2019-03-04T15:20:30.767535Z"
    }
   },
   "outputs": [
    {
     "data": {
      "text/html": [
       "<div>\n",
       "<style scoped>\n",
       "    .dataframe tbody tr th:only-of-type {\n",
       "        vertical-align: middle;\n",
       "    }\n",
       "\n",
       "    .dataframe tbody tr th {\n",
       "        vertical-align: top;\n",
       "    }\n",
       "\n",
       "    .dataframe thead th {\n",
       "        text-align: right;\n",
       "    }\n",
       "</style>\n",
       "<table border=\"1\" class=\"dataframe\">\n",
       "  <thead>\n",
       "    <tr style=\"text-align: right;\">\n",
       "      <th></th>\n",
       "      <th>id_client</th>\n",
       "      <th>sex</th>\n",
       "      <th>birth</th>\n",
       "      <th>is_duplicate</th>\n",
       "    </tr>\n",
       "  </thead>\n",
       "  <tbody>\n",
       "  </tbody>\n",
       "</table>\n",
       "</div>"
      ],
      "text/plain": [
       "Empty DataFrame\n",
       "Columns: [id_client, sex, birth, is_duplicate]\n",
       "Index: []"
      ]
     },
     "execution_count": 15,
     "metadata": {},
     "output_type": "execute_result"
    }
   ],
   "source": [
    "# Combien de duplicats dans ma colonne id_client ?\n",
    "\n",
    "df_cust[\"is_duplicate\"]= df_cust.id_client.duplicated(keep=False)\n",
    "\n",
    "df_cust[df_cust.is_duplicate == True]"
   ]
  },
  {
   "cell_type": "markdown",
   "metadata": {},
   "source": [
    "<div class=\"alert alert-block alert-info\">\n",
    "<b>Tip:</b> Pas de duplicats, chaque id_client est bien une clef primaire de mon dataframe.\n",
    "</div>"
   ]
  },
  {
   "cell_type": "code",
   "execution_count": 16,
   "metadata": {
    "ExecuteTime": {
     "end_time": "2019-03-04T15:20:31.928610Z",
     "start_time": "2019-03-04T15:20:31.924649Z"
    }
   },
   "outputs": [],
   "source": [
    "df_cust = df_cust.drop(columns='is_duplicate')"
   ]
  },
  {
   "cell_type": "markdown",
   "metadata": {
    "ExecuteTime": {
     "end_time": "2019-02-11T15:35:48.115939Z",
     "start_time": "2019-02-11T15:35:48.112921Z"
    }
   },
   "source": [
    "### Valeurs aberrantes, Outliers"
   ]
  },
  {
   "cell_type": "code",
   "execution_count": 17,
   "metadata": {
    "ExecuteTime": {
     "end_time": "2019-03-04T15:20:33.034746Z",
     "start_time": "2019-03-04T15:20:33.029759Z"
    }
   },
   "outputs": [
    {
     "data": {
      "text/plain": [
       "array([1929, 1930, 1931, 1932, 1933, 1934, 1935, 1936, 1937, 1938, 1939,\n",
       "       1940, 1941, 1942, 1943, 1944, 1945, 1946, 1947, 1948, 1949, 1950,\n",
       "       1951, 1952, 1953, 1954, 1955, 1956, 1957, 1958, 1959, 1960, 1961,\n",
       "       1962, 1963, 1964, 1965, 1966, 1967, 1968, 1969, 1970, 1971, 1972,\n",
       "       1973, 1974, 1975, 1976, 1977, 1978, 1979, 1980, 1981, 1982, 1983,\n",
       "       1984, 1985, 1986, 1987, 1988, 1989, 1990, 1991, 1992, 1993, 1994,\n",
       "       1995, 1996, 1997, 1998, 1999, 2000, 2001, 2002, 2003, 2004],\n",
       "      dtype=int64)"
      ]
     },
     "execution_count": 17,
     "metadata": {},
     "output_type": "execute_result"
    }
   ],
   "source": [
    "# Verification des valeurs dans colonne birth\n",
    "\n",
    "df_cust.birth.sort_values().unique()"
   ]
  },
  {
   "cell_type": "markdown",
   "metadata": {
    "ExecuteTime": {
     "end_time": "2019-02-11T15:44:15.524575Z",
     "start_time": "2019-02-11T15:44:15.519588Z"
    }
   },
   "source": [
    "<div class=\"alert alert-block alert-info\">\n",
    "<b>Tip:</b> \n",
    "\n",
    "- Le client le plus âgé à 93 ans et le plus jeune à 18 ans (on se place en 2022 pour l'exercice).\n",
    "    - Rien d'anormal dans ces valeurs: pas de clients mineurs qui ne seraient pas autorisés à commander sur internet.\n",
    "\n",
    "</div>"
   ]
  },
  {
   "cell_type": "code",
   "execution_count": 18,
   "metadata": {
    "ExecuteTime": {
     "end_time": "2019-03-04T15:20:36.210450Z",
     "start_time": "2019-03-04T15:20:36.205491Z"
    }
   },
   "outputs": [
    {
     "data": {
      "text/plain": [
       "[f, m]\n",
       "Categories (2, object): [f, m]"
      ]
     },
     "execution_count": 18,
     "metadata": {},
     "output_type": "execute_result"
    }
   ],
   "source": [
    "df_cust.sex.unique()"
   ]
  },
  {
   "cell_type": "markdown",
   "metadata": {
    "ExecuteTime": {
     "end_time": "2019-02-11T15:45:38.027492Z",
     "start_time": "2019-02-11T15:45:38.024472Z"
    }
   },
   "source": [
    "<div class=\"alert alert-block alert-info\">\n",
    "<b>Tip:</b> Pas d'autres valeurs que f ou m dans la colonne sex.\n",
    "</div>"
   ]
  },
  {
   "cell_type": "code",
   "execution_count": 19,
   "metadata": {
    "ExecuteTime": {
     "end_time": "2019-03-04T15:20:37.334784Z",
     "start_time": "2019-03-04T15:20:37.328800Z"
    }
   },
   "outputs": [
    {
     "data": {
      "text/html": [
       "<div>\n",
       "<style scoped>\n",
       "    .dataframe tbody tr th:only-of-type {\n",
       "        vertical-align: middle;\n",
       "    }\n",
       "\n",
       "    .dataframe tbody tr th {\n",
       "        vertical-align: top;\n",
       "    }\n",
       "\n",
       "    .dataframe thead th {\n",
       "        text-align: right;\n",
       "    }\n",
       "</style>\n",
       "<table border=\"1\" class=\"dataframe\">\n",
       "  <thead>\n",
       "    <tr style=\"text-align: right;\">\n",
       "      <th></th>\n",
       "      <th>id_client</th>\n",
       "      <th>sex</th>\n",
       "      <th>birth</th>\n",
       "    </tr>\n",
       "  </thead>\n",
       "  <tbody>\n",
       "  </tbody>\n",
       "</table>\n",
       "</div>"
      ],
      "text/plain": [
       "Empty DataFrame\n",
       "Columns: [id_client, sex, birth]\n",
       "Index: []"
      ]
     },
     "execution_count": 19,
     "metadata": {},
     "output_type": "execute_result"
    }
   ],
   "source": [
    "df_cust[df_cust.id_client < 0]"
   ]
  },
  {
   "cell_type": "markdown",
   "metadata": {
    "ExecuteTime": {
     "end_time": "2019-02-11T15:45:38.027492Z",
     "start_time": "2019-02-11T15:45:38.024472Z"
    }
   },
   "source": [
    "<div class=\"alert alert-block alert-info\">\n",
    "<b>Tip:</b> Pas de valeurs négatives dans la colonne id_clients.\n",
    "</div>"
   ]
  },
  {
   "cell_type": "markdown",
   "metadata": {},
   "source": [
    "### Valeurs manquantes"
   ]
  },
  {
   "cell_type": "code",
   "execution_count": 20,
   "metadata": {
    "ExecuteTime": {
     "end_time": "2019-03-04T15:20:38.805592Z",
     "start_time": "2019-03-04T15:20:38.799575Z"
    }
   },
   "outputs": [
    {
     "data": {
      "text/plain": [
       "id_client    0\n",
       "sex          0\n",
       "birth        0\n",
       "dtype: int64"
      ]
     },
     "execution_count": 20,
     "metadata": {},
     "output_type": "execute_result"
    }
   ],
   "source": [
    "df_cust.isna().sum()"
   ]
  },
  {
   "cell_type": "markdown",
   "metadata": {},
   "source": [
    "<div class=\"alert alert-block alert-info\">\n",
    "<b>Tip:</b> \n",
    "\n",
    "- Pas de valeurs manquantes dans ce dataframe. Chaque client est bien défini avec un identifiant, un genre et une date de naissance.\n",
    "\n",
    "</div>"
   ]
  },
  {
   "cell_type": "markdown",
   "metadata": {},
   "source": [
    "# Products"
   ]
  },
  {
   "cell_type": "code",
   "execution_count": 21,
   "metadata": {
    "ExecuteTime": {
     "end_time": "2019-03-04T15:20:40.326436Z",
     "start_time": "2019-03-04T15:20:40.317462Z"
    }
   },
   "outputs": [],
   "source": [
    "df_prod = pd.read_csv(products)"
   ]
  },
  {
   "cell_type": "code",
   "execution_count": 22,
   "metadata": {
    "ExecuteTime": {
     "end_time": "2019-03-04T15:20:40.771054Z",
     "start_time": "2019-03-04T15:20:40.764074Z"
    }
   },
   "outputs": [
    {
     "data": {
      "text/html": [
       "<div>\n",
       "<style scoped>\n",
       "    .dataframe tbody tr th:only-of-type {\n",
       "        vertical-align: middle;\n",
       "    }\n",
       "\n",
       "    .dataframe tbody tr th {\n",
       "        vertical-align: top;\n",
       "    }\n",
       "\n",
       "    .dataframe thead th {\n",
       "        text-align: right;\n",
       "    }\n",
       "</style>\n",
       "<table border=\"1\" class=\"dataframe\">\n",
       "  <thead>\n",
       "    <tr style=\"text-align: right;\">\n",
       "      <th></th>\n",
       "      <th>id_prod</th>\n",
       "      <th>price</th>\n",
       "      <th>categ</th>\n",
       "    </tr>\n",
       "  </thead>\n",
       "  <tbody>\n",
       "    <tr>\n",
       "      <th>0</th>\n",
       "      <td>0_1421</td>\n",
       "      <td>19.99</td>\n",
       "      <td>0</td>\n",
       "    </tr>\n",
       "    <tr>\n",
       "      <th>1</th>\n",
       "      <td>0_1368</td>\n",
       "      <td>5.13</td>\n",
       "      <td>0</td>\n",
       "    </tr>\n",
       "    <tr>\n",
       "      <th>2</th>\n",
       "      <td>0_731</td>\n",
       "      <td>17.99</td>\n",
       "      <td>0</td>\n",
       "    </tr>\n",
       "    <tr>\n",
       "      <th>3</th>\n",
       "      <td>1_587</td>\n",
       "      <td>4.99</td>\n",
       "      <td>1</td>\n",
       "    </tr>\n",
       "    <tr>\n",
       "      <th>4</th>\n",
       "      <td>0_1507</td>\n",
       "      <td>3.99</td>\n",
       "      <td>0</td>\n",
       "    </tr>\n",
       "  </tbody>\n",
       "</table>\n",
       "</div>"
      ],
      "text/plain": [
       "  id_prod  price  categ\n",
       "0  0_1421  19.99      0\n",
       "1  0_1368   5.13      0\n",
       "2   0_731  17.99      0\n",
       "3   1_587   4.99      1\n",
       "4  0_1507   3.99      0"
      ]
     },
     "execution_count": 22,
     "metadata": {},
     "output_type": "execute_result"
    }
   ],
   "source": [
    "df_prod.head()"
   ]
  },
  {
   "cell_type": "markdown",
   "metadata": {},
   "source": [
    "### Format des data"
   ]
  },
  {
   "cell_type": "code",
   "execution_count": 23,
   "metadata": {
    "ExecuteTime": {
     "end_time": "2019-03-04T15:20:41.869374Z",
     "start_time": "2019-03-04T15:20:41.864389Z"
    }
   },
   "outputs": [
    {
     "name": "stdout",
     "output_type": "stream",
     "text": [
      "<class 'pandas.core.frame.DataFrame'>\n",
      "RangeIndex: 3287 entries, 0 to 3286\n",
      "Data columns (total 3 columns):\n",
      "id_prod    3287 non-null object\n",
      "price      3287 non-null float64\n",
      "categ      3287 non-null int64\n",
      "dtypes: float64(1), int64(1), object(1)\n",
      "memory usage: 77.1+ KB\n"
     ]
    }
   ],
   "source": [
    "# Vérification du format avant le traitement\n",
    "\n",
    "df_prod.info()"
   ]
  },
  {
   "cell_type": "code",
   "execution_count": 25,
   "metadata": {
    "ExecuteTime": {
     "end_time": "2019-03-04T15:20:58.180181Z",
     "start_time": "2019-03-04T15:20:58.176220Z"
    }
   },
   "outputs": [
    {
     "data": {
      "text/plain": [
       "array([0, 1, 2], dtype=int64)"
      ]
     },
     "execution_count": 25,
     "metadata": {},
     "output_type": "execute_result"
    }
   ],
   "source": [
    "# Quel est le format des data de la colonne catégorie ?\n",
    "\n",
    "df_prod.categ.unique()"
   ]
  },
  {
   "cell_type": "code",
   "execution_count": 26,
   "metadata": {
    "ExecuteTime": {
     "end_time": "2019-03-04T15:20:58.808568Z",
     "start_time": "2019-03-04T15:20:58.802585Z"
    }
   },
   "outputs": [
    {
     "data": {
      "text/plain": [
       "['T_', '1_', '2_', '0_']"
      ]
     },
     "execution_count": 26,
     "metadata": {},
     "output_type": "execute_result"
    }
   ],
   "source": [
    "# Quel est le format des data de la colonne id_prod ?\n",
    "\n",
    "pattern = re.compile(r'^[A-Za-z0-9.]{1,}.[A-Za-z0-9]{1,}$') \n",
    "matches = [x[0:2] for x in df_prod.id_prod if pattern.match(x)]\n",
    "\n",
    "list(set(matches)) "
   ]
  },
  {
   "cell_type": "markdown",
   "metadata": {
    "ExecuteTime": {
     "end_time": "2019-02-11T16:34:39.572370Z",
     "start_time": "2019-02-11T16:34:39.567384Z"
    }
   },
   "source": [
    "<div class=\"alert alert-block alert-info\">\n",
    "<b>Tip:</b> On a 2 types de heading : \n",
    "\n",
    "- Un nombre de 0-2 correspondant au code de la catégorie.\n",
    "- Ou une lettre T_.\n",
    "    \n",
    "</div>"
   ]
  },
  {
   "cell_type": "code",
   "execution_count": 27,
   "metadata": {
    "ExecuteTime": {
     "end_time": "2019-03-04T15:21:00.317404Z",
     "start_time": "2019-03-04T15:21:00.310452Z"
    }
   },
   "outputs": [
    {
     "data": {
      "text/html": [
       "<div>\n",
       "<style scoped>\n",
       "    .dataframe tbody tr th:only-of-type {\n",
       "        vertical-align: middle;\n",
       "    }\n",
       "\n",
       "    .dataframe tbody tr th {\n",
       "        vertical-align: top;\n",
       "    }\n",
       "\n",
       "    .dataframe thead th {\n",
       "        text-align: right;\n",
       "    }\n",
       "</style>\n",
       "<table border=\"1\" class=\"dataframe\">\n",
       "  <thead>\n",
       "    <tr style=\"text-align: right;\">\n",
       "      <th></th>\n",
       "      <th>id_prod</th>\n",
       "      <th>price</th>\n",
       "      <th>categ</th>\n",
       "    </tr>\n",
       "  </thead>\n",
       "  <tbody>\n",
       "    <tr>\n",
       "      <th>731</th>\n",
       "      <td>T_0</td>\n",
       "      <td>-1.0</td>\n",
       "      <td>0</td>\n",
       "    </tr>\n",
       "  </tbody>\n",
       "</table>\n",
       "</div>"
      ],
      "text/plain": [
       "    id_prod  price  categ\n",
       "731     T_0   -1.0      0"
      ]
     },
     "execution_count": 27,
     "metadata": {},
     "output_type": "execute_result"
    }
   ],
   "source": [
    "# Quelles sont les lignes avec heading en T_ ?\n",
    "\n",
    "pattern3 = re.compile(r'^[A-Z]{1,}.[0-9]{1,}$')\n",
    "matches3 = [x for x in df_prod.id_prod if pattern3.match(x)]\n",
    "\n",
    "df_prod[df_prod.id_prod.isin(matches3)]"
   ]
  },
  {
   "cell_type": "markdown",
   "metadata": {
    "ExecuteTime": {
     "end_time": "2019-02-11T16:49:22.690970Z",
     "start_time": "2019-02-11T16:49:22.685983Z"
    }
   },
   "source": [
    "<div class=\"alert alert-block alert-info\">\n",
    "<b>Tip:</b> \n",
    "    \n",
    "- On devrait avoir 0 à la place du T car il s'agit d'un produit de catégorie 0\n",
    "- La ligne concernée à un prix < 0. C'est aberrant !\n",
    "- Compte tenu du heading T_, je suppose que cette ligne correspond à une ligne de tests.\n",
    "    \n",
    "Je supprime cette ligne ***unique*** au vu des observations.\n",
    "\n",
    "</div>"
   ]
  },
  {
   "cell_type": "code",
   "execution_count": 28,
   "metadata": {
    "ExecuteTime": {
     "end_time": "2019-03-04T15:21:02.088667Z",
     "start_time": "2019-03-04T15:21:02.085650Z"
    }
   },
   "outputs": [
    {
     "data": {
      "text/plain": [
       "3287"
      ]
     },
     "execution_count": 28,
     "metadata": {},
     "output_type": "execute_result"
    }
   ],
   "source": [
    "# Nombres de lignes avant suppression\n",
    "\n",
    "len(df_prod)"
   ]
  },
  {
   "cell_type": "code",
   "execution_count": 29,
   "metadata": {
    "ExecuteTime": {
     "end_time": "2019-03-04T15:21:06.366502Z",
     "start_time": "2019-03-04T15:21:06.362500Z"
    }
   },
   "outputs": [],
   "source": [
    "# Suppression ligne T_\n",
    "\n",
    "df_prod = df_prod[~df_prod.id_prod.isin(matches3)] #j'inverse mon masque ce qui revient à ne pas garder la ligne"
   ]
  },
  {
   "cell_type": "code",
   "execution_count": 30,
   "metadata": {
    "ExecuteTime": {
     "end_time": "2019-03-04T15:21:07.029222Z",
     "start_time": "2019-03-04T15:21:07.025209Z"
    }
   },
   "outputs": [
    {
     "data": {
      "text/plain": [
       "3286"
      ]
     },
     "execution_count": 30,
     "metadata": {},
     "output_type": "execute_result"
    }
   ],
   "source": [
    "# Nombres de lignes après suppression\n",
    "\n",
    "len(df_prod)"
   ]
  },
  {
   "cell_type": "code",
   "execution_count": 31,
   "metadata": {
    "ExecuteTime": {
     "end_time": "2019-03-04T15:21:08.424975Z",
     "start_time": "2019-03-04T15:21:08.418986Z"
    }
   },
   "outputs": [
    {
     "data": {
      "text/plain": [
       "3286"
      ]
     },
     "execution_count": 31,
     "metadata": {},
     "output_type": "execute_result"
    }
   ],
   "source": [
    "# Vérification des données : est-ce qu'elle sont toutes au format 1 chiffre de 0 à 2 _  au moins 1 chiffre de 0 à 9 ?\n",
    "\n",
    "pattern4 = re.compile(r'^[0-2]{1,}.[0-9]{1,}$')\n",
    "matches4 = [x for x in df_prod.id_prod if pattern4.match(x)]\n",
    "\n",
    "len(df_prod[df_prod.id_prod.isin(matches4)])"
   ]
  },
  {
   "cell_type": "markdown",
   "metadata": {},
   "source": [
    "<div class=\"alert alert-block alert-info\">\n",
    "Toutes les données respectent le format attendu. "
   ]
  },
  {
   "cell_type": "code",
   "execution_count": 32,
   "metadata": {
    "ExecuteTime": {
     "end_time": "2019-03-04T15:21:09.869576Z",
     "start_time": "2019-03-04T15:21:09.861618Z"
    }
   },
   "outputs": [
    {
     "data": {
      "text/html": [
       "<div>\n",
       "<style scoped>\n",
       "    .dataframe tbody tr th:only-of-type {\n",
       "        vertical-align: middle;\n",
       "    }\n",
       "\n",
       "    .dataframe tbody tr th {\n",
       "        vertical-align: top;\n",
       "    }\n",
       "\n",
       "    .dataframe thead th {\n",
       "        text-align: right;\n",
       "    }\n",
       "</style>\n",
       "<table border=\"1\" class=\"dataframe\">\n",
       "  <thead>\n",
       "    <tr style=\"text-align: right;\">\n",
       "      <th></th>\n",
       "      <th>id_prod</th>\n",
       "      <th>price</th>\n",
       "      <th>categ</th>\n",
       "    </tr>\n",
       "  </thead>\n",
       "  <tbody>\n",
       "  </tbody>\n",
       "</table>\n",
       "</div>"
      ],
      "text/plain": [
       "Empty DataFrame\n",
       "Columns: [id_prod, price, categ]\n",
       "Index: []"
      ]
     },
     "execution_count": 32,
     "metadata": {},
     "output_type": "execute_result"
    }
   ],
   "source": [
    "# Est-ce que les données commençant par 0 dans id_prod sont bien des produits de categ 0 ?\n",
    "\n",
    "pattern = re.compile(r'^[0]{1,}.[0-9]{1,}$')\n",
    "matches = [x for x in df_prod.id_prod if pattern.match(x)]\n",
    "\n",
    "df_prod[(df_prod.id_prod.isin(matches)) & (df_prod.categ != 0)]"
   ]
  },
  {
   "cell_type": "code",
   "execution_count": 33,
   "metadata": {
    "ExecuteTime": {
     "end_time": "2019-03-04T15:21:10.711202Z",
     "start_time": "2019-03-04T15:21:10.704213Z"
    }
   },
   "outputs": [
    {
     "data": {
      "text/html": [
       "<div>\n",
       "<style scoped>\n",
       "    .dataframe tbody tr th:only-of-type {\n",
       "        vertical-align: middle;\n",
       "    }\n",
       "\n",
       "    .dataframe tbody tr th {\n",
       "        vertical-align: top;\n",
       "    }\n",
       "\n",
       "    .dataframe thead th {\n",
       "        text-align: right;\n",
       "    }\n",
       "</style>\n",
       "<table border=\"1\" class=\"dataframe\">\n",
       "  <thead>\n",
       "    <tr style=\"text-align: right;\">\n",
       "      <th></th>\n",
       "      <th>id_prod</th>\n",
       "      <th>price</th>\n",
       "      <th>categ</th>\n",
       "    </tr>\n",
       "  </thead>\n",
       "  <tbody>\n",
       "  </tbody>\n",
       "</table>\n",
       "</div>"
      ],
      "text/plain": [
       "Empty DataFrame\n",
       "Columns: [id_prod, price, categ]\n",
       "Index: []"
      ]
     },
     "execution_count": 33,
     "metadata": {},
     "output_type": "execute_result"
    }
   ],
   "source": [
    "# Est-ce que les données commençant par 1 dans id_prod sont bien des produits de categ 1 ?\n",
    "\n",
    "pattern = re.compile(r'^[1]{1,}.[0-9]{1,}$')\n",
    "matches = [x for x in df_prod.id_prod if pattern.match(x)]\n",
    "\n",
    "df_prod[(df_prod.id_prod.isin(matches)) & (df_prod.categ != 1)]"
   ]
  },
  {
   "cell_type": "code",
   "execution_count": 34,
   "metadata": {
    "ExecuteTime": {
     "end_time": "2019-03-04T15:21:11.531576Z",
     "start_time": "2019-03-04T15:21:11.523584Z"
    }
   },
   "outputs": [
    {
     "data": {
      "text/html": [
       "<div>\n",
       "<style scoped>\n",
       "    .dataframe tbody tr th:only-of-type {\n",
       "        vertical-align: middle;\n",
       "    }\n",
       "\n",
       "    .dataframe tbody tr th {\n",
       "        vertical-align: top;\n",
       "    }\n",
       "\n",
       "    .dataframe thead th {\n",
       "        text-align: right;\n",
       "    }\n",
       "</style>\n",
       "<table border=\"1\" class=\"dataframe\">\n",
       "  <thead>\n",
       "    <tr style=\"text-align: right;\">\n",
       "      <th></th>\n",
       "      <th>id_prod</th>\n",
       "      <th>price</th>\n",
       "      <th>categ</th>\n",
       "    </tr>\n",
       "  </thead>\n",
       "  <tbody>\n",
       "  </tbody>\n",
       "</table>\n",
       "</div>"
      ],
      "text/plain": [
       "Empty DataFrame\n",
       "Columns: [id_prod, price, categ]\n",
       "Index: []"
      ]
     },
     "execution_count": 34,
     "metadata": {},
     "output_type": "execute_result"
    }
   ],
   "source": [
    "# Est-ce que les données commençant par 2 dans id_prod sont bien des produits de categ 2 ?\n",
    "\n",
    "pattern = re.compile(r'^[2]{1,}.[0-9]{1,}$')\n",
    "matches = [x for x in df_prod.id_prod if pattern.match(x)]\n",
    "\n",
    "df_prod[(df_prod.id_prod.isin(matches)) & (df_prod.categ != 2)]"
   ]
  },
  {
   "cell_type": "code",
   "execution_count": 35,
   "metadata": {
    "ExecuteTime": {
     "end_time": "2019-03-04T15:21:12.220627Z",
     "start_time": "2019-03-04T15:21:12.213649Z"
    }
   },
   "outputs": [
    {
     "data": {
      "text/html": [
       "<div>\n",
       "<style scoped>\n",
       "    .dataframe tbody tr th:only-of-type {\n",
       "        vertical-align: middle;\n",
       "    }\n",
       "\n",
       "    .dataframe tbody tr th {\n",
       "        vertical-align: top;\n",
       "    }\n",
       "\n",
       "    .dataframe thead th {\n",
       "        text-align: right;\n",
       "    }\n",
       "</style>\n",
       "<table border=\"1\" class=\"dataframe\">\n",
       "  <thead>\n",
       "    <tr style=\"text-align: right;\">\n",
       "      <th></th>\n",
       "      <th>id_prod</th>\n",
       "      <th>price</th>\n",
       "      <th>categ</th>\n",
       "    </tr>\n",
       "  </thead>\n",
       "  <tbody>\n",
       "  </tbody>\n",
       "</table>\n",
       "</div>"
      ],
      "text/plain": [
       "Empty DataFrame\n",
       "Columns: [id_prod, price, categ]\n",
       "Index: []"
      ]
     },
     "execution_count": 35,
     "metadata": {},
     "output_type": "execute_result"
    }
   ],
   "source": [
    "# Est-ce que certaines données n'ont pas de heading ?\n",
    "\n",
    "pattern = re.compile(r'^.[0-9]{1,}$')\n",
    "matches = [x for x in df_prod.id_prod if pattern.match(x)]\n",
    "\n",
    "df_prod[df_prod.id_prod.isin(matches)]"
   ]
  },
  {
   "cell_type": "markdown",
   "metadata": {},
   "source": [
    "<div class=\"alert alert-block alert-info\">\n",
    "Toutes les données respectent le format attendu. "
   ]
  },
  {
   "cell_type": "markdown",
   "metadata": {},
   "source": [
    "### Duplicats"
   ]
  },
  {
   "cell_type": "markdown",
   "metadata": {},
   "source": [
    "On ne s'intéresse aux duplicats que sur la colonne id_prod, puisqu'il peut exister des produits de même prix et/ou de même catégorie."
   ]
  },
  {
   "cell_type": "markdown",
   "metadata": {},
   "source": [
    "<div class=\"alert alert-block alert-info\">\n",
    "\n",
    "Il existe des produits ayant le même code produit mais sur des catégories différentes. Si je supprime les heading je vais avoir des \"faux doublons\". OU alors je dois considérer comma clef primaire le couple : id_prod-catégorie."
   ]
  },
  {
   "cell_type": "code",
   "execution_count": 36,
   "metadata": {
    "ExecuteTime": {
     "end_time": "2019-03-04T15:21:32.203399Z",
     "start_time": "2019-03-04T15:21:32.190434Z"
    }
   },
   "outputs": [
    {
     "data": {
      "text/html": [
       "<div>\n",
       "<style scoped>\n",
       "    .dataframe tbody tr th:only-of-type {\n",
       "        vertical-align: middle;\n",
       "    }\n",
       "\n",
       "    .dataframe tbody tr th {\n",
       "        vertical-align: top;\n",
       "    }\n",
       "\n",
       "    .dataframe thead th {\n",
       "        text-align: right;\n",
       "    }\n",
       "</style>\n",
       "<table border=\"1\" class=\"dataframe\">\n",
       "  <thead>\n",
       "    <tr style=\"text-align: right;\">\n",
       "      <th></th>\n",
       "      <th>id_prod</th>\n",
       "      <th>price</th>\n",
       "      <th>categ</th>\n",
       "      <th>is_duplicate</th>\n",
       "    </tr>\n",
       "  </thead>\n",
       "  <tbody>\n",
       "    <tr>\n",
       "      <th>1001</th>\n",
       "      <td>0</td>\n",
       "      <td>3.75</td>\n",
       "      <td>0</td>\n",
       "      <td>True</td>\n",
       "    </tr>\n",
       "    <tr>\n",
       "      <th>432</th>\n",
       "      <td>0</td>\n",
       "      <td>162.03</td>\n",
       "      <td>2</td>\n",
       "      <td>True</td>\n",
       "    </tr>\n",
       "    <tr>\n",
       "      <th>846</th>\n",
       "      <td>0</td>\n",
       "      <td>31.82</td>\n",
       "      <td>1</td>\n",
       "      <td>True</td>\n",
       "    </tr>\n",
       "    <tr>\n",
       "      <th>803</th>\n",
       "      <td>1</td>\n",
       "      <td>10.99</td>\n",
       "      <td>0</td>\n",
       "      <td>True</td>\n",
       "    </tr>\n",
       "    <tr>\n",
       "      <th>320</th>\n",
       "      <td>1</td>\n",
       "      <td>42.99</td>\n",
       "      <td>1</td>\n",
       "      <td>True</td>\n",
       "    </tr>\n",
       "  </tbody>\n",
       "</table>\n",
       "</div>"
      ],
      "text/plain": [
       "     id_prod   price  categ  is_duplicate\n",
       "1001       0    3.75      0          True\n",
       "432        0  162.03      2          True\n",
       "846        0   31.82      1          True\n",
       "803        1   10.99      0          True\n",
       "320        1   42.99      1          True"
      ]
     },
     "execution_count": 36,
     "metadata": {},
     "output_type": "execute_result"
    }
   ],
   "source": [
    "# Test de création de faux-doublons sur id_prod\n",
    "\n",
    "temp = df_prod.copy()\n",
    "temp['id_prod'] = df_prod.id_prod.replace(['0_', '1_','2_'],'',regex=True) #suppression des heading\n",
    "\n",
    "temp[\"is_duplicate\"]= temp.id_prod.duplicated(keep=False)\n",
    "\n",
    "temp[temp.is_duplicate == True].sort_values(by=['id_prod']).head()"
   ]
  },
  {
   "cell_type": "code",
   "execution_count": 37,
   "metadata": {
    "ExecuteTime": {
     "end_time": "2019-03-04T15:21:33.214482Z",
     "start_time": "2019-03-04T15:21:33.189543Z"
    }
   },
   "outputs": [
    {
     "data": {
      "text/html": [
       "<div>\n",
       "<style scoped>\n",
       "    .dataframe tbody tr th:only-of-type {\n",
       "        vertical-align: middle;\n",
       "    }\n",
       "\n",
       "    .dataframe tbody tr th {\n",
       "        vertical-align: top;\n",
       "    }\n",
       "\n",
       "    .dataframe thead th {\n",
       "        text-align: right;\n",
       "    }\n",
       "</style>\n",
       "<table border=\"1\" class=\"dataframe\">\n",
       "  <thead>\n",
       "    <tr style=\"text-align: right;\">\n",
       "      <th></th>\n",
       "      <th>id_prod</th>\n",
       "      <th>price</th>\n",
       "      <th>categ</th>\n",
       "      <th>is_duplicate</th>\n",
       "    </tr>\n",
       "  </thead>\n",
       "  <tbody>\n",
       "  </tbody>\n",
       "</table>\n",
       "</div>"
      ],
      "text/plain": [
       "Empty DataFrame\n",
       "Columns: [id_prod, price, categ, is_duplicate]\n",
       "Index: []"
      ]
     },
     "execution_count": 37,
     "metadata": {},
     "output_type": "execute_result"
    }
   ],
   "source": [
    "# Combien de duplicats dans ma colonne id_prod sans suppression des heading ?\n",
    "\n",
    "df_prod[\"is_duplicate\"]= df_prod.id_prod.duplicated(keep=False)\n",
    "\n",
    "df_prod[df_prod.is_duplicate == True].sort_values(by=['id_prod'])"
   ]
  },
  {
   "cell_type": "markdown",
   "metadata": {},
   "source": [
    "<div class=\"alert alert-block alert-info\">\n",
    "<b>Tip:</b> Je choisis de garder ma clef primaire id_prod et de ne pas formater les données en supprimant les heading 0/1/2.\n",
    "\n",
    "</div>"
   ]
  },
  {
   "cell_type": "code",
   "execution_count": 38,
   "metadata": {
    "ExecuteTime": {
     "end_time": "2019-03-04T15:21:34.715397Z",
     "start_time": "2019-03-04T15:21:34.712379Z"
    }
   },
   "outputs": [],
   "source": [
    "df_prod = df_prod.drop(columns='is_duplicate')"
   ]
  },
  {
   "cell_type": "markdown",
   "metadata": {
    "ExecuteTime": {
     "end_time": "2019-02-11T15:35:48.115939Z",
     "start_time": "2019-02-11T15:35:48.112921Z"
    }
   },
   "source": [
    "### Valeurs aberrantes, Outliers"
   ]
  },
  {
   "cell_type": "code",
   "execution_count": 39,
   "metadata": {
    "ExecuteTime": {
     "end_time": "2019-03-04T15:21:35.898625Z",
     "start_time": "2019-03-04T15:21:35.891638Z"
    }
   },
   "outputs": [
    {
     "data": {
      "text/plain": [
       "count    3286.000000\n",
       "mean       21.863597\n",
       "std        29.849786\n",
       "min         0.620000\n",
       "25%         6.990000\n",
       "50%        13.075000\n",
       "75%        22.990000\n",
       "max       300.000000\n",
       "Name: price, dtype: float64"
      ]
     },
     "execution_count": 39,
     "metadata": {},
     "output_type": "execute_result"
    }
   ],
   "source": [
    "# Statistique Descriptive\n",
    "\n",
    "df_prod.price.describe()"
   ]
  },
  {
   "cell_type": "markdown",
   "metadata": {},
   "source": [
    "<div class=\"alert alert-block alert-info\">\n",
    "<b>Tip:</b> On a des prix qui vont de 0,62 € à 300€. L'écart est important mais cela ne semble pas aberrant.\n"
   ]
  },
  {
   "cell_type": "code",
   "execution_count": 40,
   "metadata": {
    "ExecuteTime": {
     "end_time": "2019-03-04T15:21:37.189526Z",
     "start_time": "2019-03-04T15:21:37.182575Z"
    }
   },
   "outputs": [
    {
     "data": {
      "text/html": [
       "<div>\n",
       "<style scoped>\n",
       "    .dataframe tbody tr th:only-of-type {\n",
       "        vertical-align: middle;\n",
       "    }\n",
       "\n",
       "    .dataframe tbody tr th {\n",
       "        vertical-align: top;\n",
       "    }\n",
       "\n",
       "    .dataframe thead th {\n",
       "        text-align: right;\n",
       "    }\n",
       "</style>\n",
       "<table border=\"1\" class=\"dataframe\">\n",
       "  <thead>\n",
       "    <tr style=\"text-align: right;\">\n",
       "      <th></th>\n",
       "      <th>id_prod</th>\n",
       "      <th>price</th>\n",
       "      <th>categ</th>\n",
       "    </tr>\n",
       "  </thead>\n",
       "  <tbody>\n",
       "  </tbody>\n",
       "</table>\n",
       "</div>"
      ],
      "text/plain": [
       "Empty DataFrame\n",
       "Columns: [id_prod, price, categ]\n",
       "Index: []"
      ]
     },
     "execution_count": 40,
     "metadata": {},
     "output_type": "execute_result"
    }
   ],
   "source": [
    "# Existe-t-il des prix négatifs ou nuls ?\n",
    "\n",
    "df_prod[df_prod['price'] <= 0]"
   ]
  },
  {
   "cell_type": "markdown",
   "metadata": {},
   "source": [
    "***RAS***"
   ]
  },
  {
   "cell_type": "markdown",
   "metadata": {},
   "source": [
    "### Valeurs manquantes"
   ]
  },
  {
   "cell_type": "code",
   "execution_count": 41,
   "metadata": {
    "ExecuteTime": {
     "end_time": "2019-03-04T15:21:38.837465Z",
     "start_time": "2019-03-04T15:21:38.832481Z"
    }
   },
   "outputs": [
    {
     "data": {
      "text/plain": [
       "id_prod    0\n",
       "price      0\n",
       "categ      0\n",
       "dtype: int64"
      ]
     },
     "execution_count": 41,
     "metadata": {},
     "output_type": "execute_result"
    }
   ],
   "source": [
    "df_prod.isna().sum()"
   ]
  },
  {
   "cell_type": "markdown",
   "metadata": {},
   "source": [
    "<div class=\"alert alert-block alert-info\">\n",
    "\n",
    "Pas de valeurs manquantes à traiter dans ce Dataframe."
   ]
  },
  {
   "cell_type": "markdown",
   "metadata": {},
   "source": [
    "## Sales"
   ]
  },
  {
   "cell_type": "code",
   "execution_count": 42,
   "metadata": {
    "ExecuteTime": {
     "end_time": "2019-03-04T15:21:40.702090Z",
     "start_time": "2019-03-04T15:21:40.394324Z"
    }
   },
   "outputs": [],
   "source": [
    "df_sales = pd.read_csv(sales)"
   ]
  },
  {
   "cell_type": "code",
   "execution_count": 43,
   "metadata": {
    "ExecuteTime": {
     "end_time": "2019-03-04T15:21:41.056152Z",
     "start_time": "2019-03-04T15:21:41.049171Z"
    }
   },
   "outputs": [
    {
     "data": {
      "text/html": [
       "<div>\n",
       "<style scoped>\n",
       "    .dataframe tbody tr th:only-of-type {\n",
       "        vertical-align: middle;\n",
       "    }\n",
       "\n",
       "    .dataframe tbody tr th {\n",
       "        vertical-align: top;\n",
       "    }\n",
       "\n",
       "    .dataframe thead th {\n",
       "        text-align: right;\n",
       "    }\n",
       "</style>\n",
       "<table border=\"1\" class=\"dataframe\">\n",
       "  <thead>\n",
       "    <tr style=\"text-align: right;\">\n",
       "      <th></th>\n",
       "      <th>id_prod</th>\n",
       "      <th>date</th>\n",
       "      <th>session_id</th>\n",
       "      <th>client_id</th>\n",
       "    </tr>\n",
       "  </thead>\n",
       "  <tbody>\n",
       "    <tr>\n",
       "      <th>0</th>\n",
       "      <td>0_1483</td>\n",
       "      <td>2021-04-10 18:37:28.723910</td>\n",
       "      <td>s_18746</td>\n",
       "      <td>c_4450</td>\n",
       "    </tr>\n",
       "    <tr>\n",
       "      <th>1</th>\n",
       "      <td>2_226</td>\n",
       "      <td>2022-02-03 01:55:53.276402</td>\n",
       "      <td>s_159142</td>\n",
       "      <td>c_277</td>\n",
       "    </tr>\n",
       "    <tr>\n",
       "      <th>2</th>\n",
       "      <td>1_374</td>\n",
       "      <td>2021-09-23 15:13:46.938559</td>\n",
       "      <td>s_94290</td>\n",
       "      <td>c_4270</td>\n",
       "    </tr>\n",
       "    <tr>\n",
       "      <th>3</th>\n",
       "      <td>0_2186</td>\n",
       "      <td>2021-10-17 03:27:18.783634</td>\n",
       "      <td>s_105936</td>\n",
       "      <td>c_4597</td>\n",
       "    </tr>\n",
       "    <tr>\n",
       "      <th>4</th>\n",
       "      <td>0_1351</td>\n",
       "      <td>2021-07-17 20:34:25.800563</td>\n",
       "      <td>s_63642</td>\n",
       "      <td>c_1242</td>\n",
       "    </tr>\n",
       "  </tbody>\n",
       "</table>\n",
       "</div>"
      ],
      "text/plain": [
       "  id_prod                        date session_id client_id\n",
       "0  0_1483  2021-04-10 18:37:28.723910    s_18746    c_4450\n",
       "1   2_226  2022-02-03 01:55:53.276402   s_159142     c_277\n",
       "2   1_374  2021-09-23 15:13:46.938559    s_94290    c_4270\n",
       "3  0_2186  2021-10-17 03:27:18.783634   s_105936    c_4597\n",
       "4  0_1351  2021-07-17 20:34:25.800563    s_63642    c_1242"
      ]
     },
     "execution_count": 43,
     "metadata": {},
     "output_type": "execute_result"
    }
   ],
   "source": [
    "df_sales.head()"
   ]
  },
  {
   "cell_type": "markdown",
   "metadata": {},
   "source": [
    "### Nomenclature colonne"
   ]
  },
  {
   "cell_type": "code",
   "execution_count": 46,
   "metadata": {
    "ExecuteTime": {
     "end_time": "2019-03-04T15:21:51.940248Z",
     "start_time": "2019-03-04T15:21:51.851452Z"
    }
   },
   "outputs": [
    {
     "data": {
      "text/html": [
       "<div>\n",
       "<style scoped>\n",
       "    .dataframe tbody tr th:only-of-type {\n",
       "        vertical-align: middle;\n",
       "    }\n",
       "\n",
       "    .dataframe tbody tr th {\n",
       "        vertical-align: top;\n",
       "    }\n",
       "\n",
       "    .dataframe thead th {\n",
       "        text-align: right;\n",
       "    }\n",
       "</style>\n",
       "<table border=\"1\" class=\"dataframe\">\n",
       "  <thead>\n",
       "    <tr style=\"text-align: right;\">\n",
       "      <th></th>\n",
       "      <th>id_prod</th>\n",
       "      <th>date</th>\n",
       "      <th>id_session</th>\n",
       "      <th>id_client</th>\n",
       "    </tr>\n",
       "  </thead>\n",
       "  <tbody>\n",
       "    <tr>\n",
       "      <th>0</th>\n",
       "      <td>0_1483</td>\n",
       "      <td>2021-04-10 18:37:28.723910</td>\n",
       "      <td>s_18746</td>\n",
       "      <td>c_4450</td>\n",
       "    </tr>\n",
       "  </tbody>\n",
       "</table>\n",
       "</div>"
      ],
      "text/plain": [
       "  id_prod                        date id_session id_client\n",
       "0  0_1483  2021-04-10 18:37:28.723910    s_18746    c_4450"
      ]
     },
     "execution_count": 46,
     "metadata": {},
     "output_type": "execute_result"
    }
   ],
   "source": [
    "# Renommage des colonnes pour avoir la même convention d'écriture entre les 3 df\n",
    "\n",
    "df_sales = df_sales.rename(index=str, columns={\"session_id\": \"id_session\", \"client_id\":\"id_client\"}) \n",
    "df_sales.head(1)"
   ]
  },
  {
   "cell_type": "markdown",
   "metadata": {},
   "source": [
    "### Format des data"
   ]
  },
  {
   "cell_type": "code",
   "execution_count": 47,
   "metadata": {
    "ExecuteTime": {
     "end_time": "2019-03-04T15:21:53.080243Z",
     "start_time": "2019-03-04T15:21:53.023369Z"
    }
   },
   "outputs": [
    {
     "name": "stdout",
     "output_type": "stream",
     "text": [
      "<class 'pandas.core.frame.DataFrame'>\n",
      "Index: 337016 entries, 0 to 337015\n",
      "Data columns (total 4 columns):\n",
      "id_prod       337016 non-null object\n",
      "date          337016 non-null object\n",
      "id_session    337016 non-null object\n",
      "id_client     337016 non-null object\n",
      "dtypes: object(4)\n",
      "memory usage: 12.9+ MB\n"
     ]
    }
   ],
   "source": [
    "# Vérification du format avant le traitement\n",
    "\n",
    "df_sales.info()"
   ]
  },
  {
   "cell_type": "markdown",
   "metadata": {},
   "source": [
    "<div class=\"alert alert-block alert-info\">\n",
    "<b>Tip:</b> \n",
    "\n",
    "   - date à convertir en datetime\n",
    "   - supprimer les headings x_ sur id_session et id_client\n",
    "   - id_session à convertir en int \n",
    "   - id_client à convertir en int\n",
    "\n",
    "</div>"
   ]
  },
  {
   "cell_type": "markdown",
   "metadata": {},
   "source": [
    "**id_xxx**"
   ]
  },
  {
   "cell_type": "code",
   "execution_count": 48,
   "metadata": {
    "ExecuteTime": {
     "end_time": "2019-03-04T15:21:58.469725Z",
     "start_time": "2019-03-04T15:21:58.319388Z"
    }
   },
   "outputs": [
    {
     "data": {
      "text/plain": [
       "['T_', '1_', '2_', '0_']"
      ]
     },
     "execution_count": 48,
     "metadata": {},
     "output_type": "execute_result"
    }
   ],
   "source": [
    "# Quel est le format des data de la colonne id_prod ?\n",
    "\n",
    "pattern = re.compile(r'^[A-Za-z0-9.]{1,}.[A-Za-z0-9]{1,}$') \n",
    "matches = [x[0:2] for x in df_sales.id_prod if pattern.match(x)]\n",
    "\n",
    "list(set(matches)) "
   ]
  },
  {
   "cell_type": "markdown",
   "metadata": {},
   "source": [
    "***Tous les prod commencent avec un heading de type 0/1/2 ou T.***"
   ]
  },
  {
   "cell_type": "code",
   "execution_count": 49,
   "metadata": {
    "ExecuteTime": {
     "end_time": "2019-03-04T15:21:59.592151Z",
     "start_time": "2019-03-04T15:21:59.425504Z"
    }
   },
   "outputs": [
    {
     "data": {
      "text/plain": [
       "['s_']"
      ]
     },
     "execution_count": 49,
     "metadata": {},
     "output_type": "execute_result"
    }
   ],
   "source": [
    "# Quel est le format des data de la colonne id_session ?\n",
    "\n",
    "pattern = re.compile(r'^[A-Za-z0-9.]{1,}.[A-Za-z0-9]{1,}$') \n",
    "matches = [x[0:2] for x in df_sales.id_session if pattern.match(x)]\n",
    "\n",
    "list(set(matches)) "
   ]
  },
  {
   "cell_type": "code",
   "execution_count": 50,
   "metadata": {
    "ExecuteTime": {
     "end_time": "2019-03-04T15:22:00.208216Z",
     "start_time": "2019-03-04T15:22:00.055270Z"
    }
   },
   "outputs": [
    {
     "data": {
      "text/plain": [
       "['ct', 'c_']"
      ]
     },
     "execution_count": 50,
     "metadata": {},
     "output_type": "execute_result"
    }
   ],
   "source": [
    "# Quel est le format des data de la colonne id_client ?\n",
    "\n",
    "pattern = re.compile(r'^[A-Za-z0-9.]{1,}.[A-Za-z0-9]{1,}$') \n",
    "matches = [x[0:2] for x in df_sales.id_client if pattern.match(x)]\n",
    "\n",
    "list(set(matches)) "
   ]
  },
  {
   "cell_type": "markdown",
   "metadata": {},
   "source": [
    "***Toutes les sessions commencent par s_ et les clients par c_ ou ct_.***\n",
    "- Je vérifie à quoi correspond les données ct_"
   ]
  },
  {
   "cell_type": "code",
   "execution_count": 51,
   "metadata": {
    "ExecuteTime": {
     "end_time": "2019-03-04T15:22:01.506177Z",
     "start_time": "2019-03-04T15:22:01.407414Z"
    }
   },
   "outputs": [
    {
     "data": {
      "text/html": [
       "<div>\n",
       "<style scoped>\n",
       "    .dataframe tbody tr th:only-of-type {\n",
       "        vertical-align: middle;\n",
       "    }\n",
       "\n",
       "    .dataframe tbody tr th {\n",
       "        vertical-align: top;\n",
       "    }\n",
       "\n",
       "    .dataframe thead th {\n",
       "        text-align: right;\n",
       "    }\n",
       "</style>\n",
       "<table border=\"1\" class=\"dataframe\">\n",
       "  <thead>\n",
       "    <tr style=\"text-align: right;\">\n",
       "      <th></th>\n",
       "      <th>id_prod</th>\n",
       "      <th>date</th>\n",
       "      <th>id_session</th>\n",
       "      <th>id_client</th>\n",
       "    </tr>\n",
       "  </thead>\n",
       "  <tbody>\n",
       "    <tr>\n",
       "      <th>1431</th>\n",
       "      <td>T_0</td>\n",
       "      <td>test_2021-03-01 02:30:02.237420</td>\n",
       "      <td>s_0</td>\n",
       "      <td>ct_1</td>\n",
       "    </tr>\n",
       "    <tr>\n",
       "      <th>2365</th>\n",
       "      <td>T_0</td>\n",
       "      <td>test_2021-03-01 02:30:02.237446</td>\n",
       "      <td>s_0</td>\n",
       "      <td>ct_1</td>\n",
       "    </tr>\n",
       "    <tr>\n",
       "      <th>2895</th>\n",
       "      <td>T_0</td>\n",
       "      <td>test_2021-03-01 02:30:02.237414</td>\n",
       "      <td>s_0</td>\n",
       "      <td>ct_1</td>\n",
       "    </tr>\n",
       "    <tr>\n",
       "      <th>5955</th>\n",
       "      <td>T_0</td>\n",
       "      <td>test_2021-03-01 02:30:02.237441</td>\n",
       "      <td>s_0</td>\n",
       "      <td>ct_0</td>\n",
       "    </tr>\n",
       "    <tr>\n",
       "      <th>7283</th>\n",
       "      <td>T_0</td>\n",
       "      <td>test_2021-03-01 02:30:02.237434</td>\n",
       "      <td>s_0</td>\n",
       "      <td>ct_1</td>\n",
       "    </tr>\n",
       "    <tr>\n",
       "      <th>13745</th>\n",
       "      <td>T_0</td>\n",
       "      <td>test_2021-03-01 02:30:02.237443</td>\n",
       "      <td>s_0</td>\n",
       "      <td>ct_0</td>\n",
       "    </tr>\n",
       "    <tr>\n",
       "      <th>20470</th>\n",
       "      <td>T_0</td>\n",
       "      <td>test_2021-03-01 02:30:02.237442</td>\n",
       "      <td>s_0</td>\n",
       "      <td>ct_0</td>\n",
       "    </tr>\n",
       "    <tr>\n",
       "      <th>22347</th>\n",
       "      <td>T_0</td>\n",
       "      <td>test_2021-03-01 02:30:02.237412</td>\n",
       "      <td>s_0</td>\n",
       "      <td>ct_1</td>\n",
       "    </tr>\n",
       "    <tr>\n",
       "      <th>26359</th>\n",
       "      <td>T_0</td>\n",
       "      <td>test_2021-03-01 02:30:02.237439</td>\n",
       "      <td>s_0</td>\n",
       "      <td>ct_1</td>\n",
       "    </tr>\n",
       "    <tr>\n",
       "      <th>26407</th>\n",
       "      <td>T_0</td>\n",
       "      <td>test_2021-03-01 02:30:02.237426</td>\n",
       "      <td>s_0</td>\n",
       "      <td>ct_0</td>\n",
       "    </tr>\n",
       "  </tbody>\n",
       "</table>\n",
       "</div>"
      ],
      "text/plain": [
       "      id_prod                             date id_session id_client\n",
       "1431      T_0  test_2021-03-01 02:30:02.237420        s_0      ct_1\n",
       "2365      T_0  test_2021-03-01 02:30:02.237446        s_0      ct_1\n",
       "2895      T_0  test_2021-03-01 02:30:02.237414        s_0      ct_1\n",
       "5955      T_0  test_2021-03-01 02:30:02.237441        s_0      ct_0\n",
       "7283      T_0  test_2021-03-01 02:30:02.237434        s_0      ct_1\n",
       "13745     T_0  test_2021-03-01 02:30:02.237443        s_0      ct_0\n",
       "20470     T_0  test_2021-03-01 02:30:02.237442        s_0      ct_0\n",
       "22347     T_0  test_2021-03-01 02:30:02.237412        s_0      ct_1\n",
       "26359     T_0  test_2021-03-01 02:30:02.237439        s_0      ct_1\n",
       "26407     T_0  test_2021-03-01 02:30:02.237426        s_0      ct_0"
      ]
     },
     "execution_count": 51,
     "metadata": {},
     "output_type": "execute_result"
    }
   ],
   "source": [
    "# Vérification sur id_client des data en ct_\n",
    "\n",
    "pattern = re.compile(r'^[a-z]{2}.[0-9]{1,}$') \n",
    "matches = [x for x in df_sales.id_client if pattern.match(x)]\n",
    "\n",
    "df_sales[df_sales.id_client.isin(matches)].head(10)"
   ]
  },
  {
   "cell_type": "code",
   "execution_count": 52,
   "metadata": {
    "ExecuteTime": {
     "end_time": "2019-03-04T15:22:02.026450Z",
     "start_time": "2019-03-04T15:22:02.018444Z"
    }
   },
   "outputs": [
    {
     "name": "stdout",
     "output_type": "stream",
     "text": [
      "200\n"
     ]
    }
   ],
   "source": [
    "print(len(df_sales[df_sales.id_client.isin(matches)]))"
   ]
  },
  {
   "cell_type": "markdown",
   "metadata": {},
   "source": [
    "<div class=\"alert alert-block alert-info\">\n",
    "<b>Tip:</b> 200 lignes correspondants à des identifiants clients de forme ct_ : ce sont des lignes de tests.\n",
    "Je décide de les supprimer car elles vont fausser mon analyse."
   ]
  },
  {
   "cell_type": "code",
   "execution_count": 53,
   "metadata": {
    "ExecuteTime": {
     "end_time": "2019-03-04T15:22:03.228427Z",
     "start_time": "2019-03-04T15:22:03.199512Z"
    }
   },
   "outputs": [],
   "source": [
    "# \"Suppression\" des lignes de format ct_\n",
    "\n",
    "df_sales = df_sales[~df_sales.id_client.isin(matches2)]"
   ]
  },
  {
   "cell_type": "markdown",
   "metadata": {},
   "source": [
    "<div class=\"alert alert-block alert-info\">\n",
    "<b>Tip:</b> Je supprime les heading inutiles et je convertis les données en int pour pouvoir les manipuler plus facilement lors de l'analyse de données."
   ]
  },
  {
   "cell_type": "code",
   "execution_count": 54,
   "metadata": {
    "ExecuteTime": {
     "end_time": "2019-03-04T15:22:05.631737Z",
     "start_time": "2019-03-04T15:22:05.422273Z"
    }
   },
   "outputs": [],
   "source": [
    "# Formatage des data colonnes id_client\n",
    "\n",
    "df_sales.id_client = df_sales.id_client.replace(['c_'],'',regex=True) #suppression de l'en-tête c_\n",
    "\n",
    "df_sales.id_client = df_sales.id_client.astype(int) #formatage integer"
   ]
  },
  {
   "cell_type": "code",
   "execution_count": 55,
   "metadata": {
    "ExecuteTime": {
     "end_time": "2019-03-04T15:22:08.701888Z",
     "start_time": "2019-03-04T15:22:08.490534Z"
    }
   },
   "outputs": [],
   "source": [
    "# Formatage des data colonnes id_session\n",
    "\n",
    "df_sales.id_session = df_sales.id_session.replace(['s_'],'',regex=True) #suppression de l'en-tête s_\n",
    "\n",
    "df_sales.id_session = df_sales.id_session.astype(int) #formatage integer"
   ]
  },
  {
   "cell_type": "markdown",
   "metadata": {},
   "source": [
    "**dates**"
   ]
  },
  {
   "cell_type": "code",
   "execution_count": 56,
   "metadata": {
    "ExecuteTime": {
     "end_time": "2019-03-04T15:22:09.973517Z",
     "start_time": "2019-03-04T15:22:09.969500Z"
    }
   },
   "outputs": [
    {
     "data": {
      "text/plain": [
       "dtype('O')"
      ]
     },
     "execution_count": 56,
     "metadata": {},
     "output_type": "execute_result"
    }
   ],
   "source": [
    "# Verification du type de data\n",
    "\n",
    "df_sales['date'].dtype"
   ]
  },
  {
   "cell_type": "code",
   "execution_count": 57,
   "metadata": {
    "ExecuteTime": {
     "end_time": "2019-03-04T15:22:11.057224Z",
     "start_time": "2019-03-04T15:22:10.760496Z"
    }
   },
   "outputs": [],
   "source": [
    "# Conversion des Objets de la colonne date en datetime\n",
    "\n",
    "df_sales['date'] = pd.to_datetime(df_sales['date'])"
   ]
  },
  {
   "cell_type": "markdown",
   "metadata": {},
   "source": [
    "### Duplicats"
   ]
  },
  {
   "cell_type": "code",
   "execution_count": 58,
   "metadata": {
    "ExecuteTime": {
     "end_time": "2019-03-04T15:22:19.319396Z",
     "start_time": "2019-03-04T15:22:19.298425Z"
    }
   },
   "outputs": [
    {
     "data": {
      "text/html": [
       "<div>\n",
       "<style scoped>\n",
       "    .dataframe tbody tr th:only-of-type {\n",
       "        vertical-align: middle;\n",
       "    }\n",
       "\n",
       "    .dataframe tbody tr th {\n",
       "        vertical-align: top;\n",
       "    }\n",
       "\n",
       "    .dataframe thead th {\n",
       "        text-align: right;\n",
       "    }\n",
       "</style>\n",
       "<table border=\"1\" class=\"dataframe\">\n",
       "  <thead>\n",
       "    <tr style=\"text-align: right;\">\n",
       "      <th></th>\n",
       "      <th>id_prod</th>\n",
       "      <th>date</th>\n",
       "      <th>id_session</th>\n",
       "      <th>id_client</th>\n",
       "      <th>is_duplicate</th>\n",
       "    </tr>\n",
       "  </thead>\n",
       "  <tbody>\n",
       "  </tbody>\n",
       "</table>\n",
       "</div>"
      ],
      "text/plain": [
       "Empty DataFrame\n",
       "Columns: [id_prod, date, id_session, id_client, is_duplicate]\n",
       "Index: []"
      ]
     },
     "execution_count": 58,
     "metadata": {},
     "output_type": "execute_result"
    }
   ],
   "source": [
    "# Combien de duplicats dans ma colonne date ?\n",
    "\n",
    "df_sales[\"is_duplicate\"]= df_sales.date.duplicated(keep=False)\n",
    "\n",
    "df_sales[df_sales.is_duplicate == True].sort_values(by=['date'])"
   ]
  },
  {
   "cell_type": "markdown",
   "metadata": {
    "ExecuteTime": {
     "end_time": "2019-02-24T14:37:08.956718Z",
     "start_time": "2019-02-24T14:37:08.952761Z"
    }
   },
   "source": [
    "<div class=\"alert alert-block alert-info\">\n",
    "<b>Tip:</b> La date d'une transaction est bien unique, c'est une clef primaire.\n",
    "</div>"
   ]
  },
  {
   "cell_type": "code",
   "execution_count": 59,
   "metadata": {
    "ExecuteTime": {
     "end_time": "2019-03-04T15:22:20.915255Z",
     "start_time": "2019-03-04T15:22:20.837464Z"
    }
   },
   "outputs": [
    {
     "data": {
      "text/html": [
       "<div>\n",
       "<style scoped>\n",
       "    .dataframe tbody tr th:only-of-type {\n",
       "        vertical-align: middle;\n",
       "    }\n",
       "\n",
       "    .dataframe tbody tr th {\n",
       "        vertical-align: top;\n",
       "    }\n",
       "\n",
       "    .dataframe thead th {\n",
       "        text-align: right;\n",
       "    }\n",
       "</style>\n",
       "<table border=\"1\" class=\"dataframe\">\n",
       "  <thead>\n",
       "    <tr style=\"text-align: right;\">\n",
       "      <th></th>\n",
       "      <th>id_prod</th>\n",
       "      <th>date</th>\n",
       "      <th>id_session</th>\n",
       "      <th>id_client</th>\n",
       "      <th>is_duplicate</th>\n",
       "    </tr>\n",
       "  </thead>\n",
       "  <tbody>\n",
       "    <tr>\n",
       "      <th>216737</th>\n",
       "      <td>0_1352</td>\n",
       "      <td>2021-03-01 00:02:38.311413</td>\n",
       "      <td>3</td>\n",
       "      <td>580</td>\n",
       "      <td>True</td>\n",
       "    </tr>\n",
       "    <tr>\n",
       "      <th>135986</th>\n",
       "      <td>0_1110</td>\n",
       "      <td>2021-03-01 00:38:57.630675</td>\n",
       "      <td>3</td>\n",
       "      <td>580</td>\n",
       "      <td>True</td>\n",
       "    </tr>\n",
       "    <tr>\n",
       "      <th>21078</th>\n",
       "      <td>0_2245</td>\n",
       "      <td>2021-03-01 00:09:29.301897</td>\n",
       "      <td>3</td>\n",
       "      <td>580</td>\n",
       "      <td>True</td>\n",
       "    </tr>\n",
       "    <tr>\n",
       "      <th>157168</th>\n",
       "      <td>0_1638</td>\n",
       "      <td>2021-03-01 00:10:37.223732</td>\n",
       "      <td>3</td>\n",
       "      <td>580</td>\n",
       "      <td>True</td>\n",
       "    </tr>\n",
       "    <tr>\n",
       "      <th>63764</th>\n",
       "      <td>1_310</td>\n",
       "      <td>2021-03-01 00:17:11.089942</td>\n",
       "      <td>4</td>\n",
       "      <td>7912</td>\n",
       "      <td>True</td>\n",
       "    </tr>\n",
       "  </tbody>\n",
       "</table>\n",
       "</div>"
      ],
      "text/plain": [
       "       id_prod                       date  id_session  id_client  is_duplicate\n",
       "216737  0_1352 2021-03-01 00:02:38.311413           3        580          True\n",
       "135986  0_1110 2021-03-01 00:38:57.630675           3        580          True\n",
       "21078   0_2245 2021-03-01 00:09:29.301897           3        580          True\n",
       "157168  0_1638 2021-03-01 00:10:37.223732           3        580          True\n",
       "63764    1_310 2021-03-01 00:17:11.089942           4       7912          True"
      ]
     },
     "execution_count": 59,
     "metadata": {},
     "output_type": "execute_result"
    }
   ],
   "source": [
    "# Combien de duplicats dans ma colonne id_session ?\n",
    "\n",
    "df_sales[\"is_duplicate\"]= df_sales.id_session.duplicated(keep=False)\n",
    "\n",
    "df_sales[df_sales.is_duplicate == True].sort_values(by=['id_session']).head()"
   ]
  },
  {
   "cell_type": "markdown",
   "metadata": {},
   "source": [
    "<div class=\"alert alert-block alert-info\">\n",
    "<b>Tip:</b> L'id d'une session ou d'un client sont répétées autant de fois que le client met un produit dans son panier. Ce ne sont donc pas des clefs primaires.\n",
    "</div>"
   ]
  },
  {
   "cell_type": "code",
   "execution_count": 60,
   "metadata": {
    "ExecuteTime": {
     "end_time": "2019-03-04T15:22:22.597429Z",
     "start_time": "2019-03-04T15:22:22.588421Z"
    }
   },
   "outputs": [],
   "source": [
    "df_sales = df_sales.drop(columns='is_duplicate')"
   ]
  },
  {
   "cell_type": "markdown",
   "metadata": {
    "ExecuteTime": {
     "end_time": "2019-02-11T15:35:48.115939Z",
     "start_time": "2019-02-11T15:35:48.112921Z"
    }
   },
   "source": [
    "### Valeurs aberrantes, Outliers"
   ]
  },
  {
   "cell_type": "markdown",
   "metadata": {},
   "source": [
    "#### id_session et id_client"
   ]
  },
  {
   "cell_type": "code",
   "execution_count": 61,
   "metadata": {
    "ExecuteTime": {
     "end_time": "2019-03-04T15:22:25.139442Z",
     "start_time": "2019-03-04T15:22:25.133459Z"
    }
   },
   "outputs": [
    {
     "data": {
      "text/html": [
       "<div>\n",
       "<style scoped>\n",
       "    .dataframe tbody tr th:only-of-type {\n",
       "        vertical-align: middle;\n",
       "    }\n",
       "\n",
       "    .dataframe tbody tr th {\n",
       "        vertical-align: top;\n",
       "    }\n",
       "\n",
       "    .dataframe thead th {\n",
       "        text-align: right;\n",
       "    }\n",
       "</style>\n",
       "<table border=\"1\" class=\"dataframe\">\n",
       "  <thead>\n",
       "    <tr style=\"text-align: right;\">\n",
       "      <th></th>\n",
       "      <th>id_prod</th>\n",
       "      <th>date</th>\n",
       "      <th>id_session</th>\n",
       "      <th>id_client</th>\n",
       "    </tr>\n",
       "  </thead>\n",
       "  <tbody>\n",
       "  </tbody>\n",
       "</table>\n",
       "</div>"
      ],
      "text/plain": [
       "Empty DataFrame\n",
       "Columns: [id_prod, date, id_session, id_client]\n",
       "Index: []"
      ]
     },
     "execution_count": 61,
     "metadata": {},
     "output_type": "execute_result"
    }
   ],
   "source": [
    "# Existe-t-il des id_session négatives ?\n",
    "\n",
    "df_sales[df_sales.id_session < 0]"
   ]
  },
  {
   "cell_type": "code",
   "execution_count": 62,
   "metadata": {
    "ExecuteTime": {
     "end_time": "2019-03-04T15:22:26.097268Z",
     "start_time": "2019-03-04T15:22:26.091253Z"
    }
   },
   "outputs": [
    {
     "data": {
      "text/html": [
       "<div>\n",
       "<style scoped>\n",
       "    .dataframe tbody tr th:only-of-type {\n",
       "        vertical-align: middle;\n",
       "    }\n",
       "\n",
       "    .dataframe tbody tr th {\n",
       "        vertical-align: top;\n",
       "    }\n",
       "\n",
       "    .dataframe thead th {\n",
       "        text-align: right;\n",
       "    }\n",
       "</style>\n",
       "<table border=\"1\" class=\"dataframe\">\n",
       "  <thead>\n",
       "    <tr style=\"text-align: right;\">\n",
       "      <th></th>\n",
       "      <th>id_prod</th>\n",
       "      <th>date</th>\n",
       "      <th>id_session</th>\n",
       "      <th>id_client</th>\n",
       "    </tr>\n",
       "  </thead>\n",
       "  <tbody>\n",
       "  </tbody>\n",
       "</table>\n",
       "</div>"
      ],
      "text/plain": [
       "Empty DataFrame\n",
       "Columns: [id_prod, date, id_session, id_client]\n",
       "Index: []"
      ]
     },
     "execution_count": 62,
     "metadata": {},
     "output_type": "execute_result"
    }
   ],
   "source": [
    "# Existe-t-il des id_client négatives ?\n",
    "\n",
    "df_sales[df_sales.id_client < 0]"
   ]
  },
  {
   "cell_type": "markdown",
   "metadata": {},
   "source": [
    "***RAS***"
   ]
  },
  {
   "cell_type": "code",
   "execution_count": 63,
   "metadata": {
    "ExecuteTime": {
     "end_time": "2019-03-04T15:22:27.418463Z",
     "start_time": "2019-03-04T15:22:27.409474Z"
    }
   },
   "outputs": [
    {
     "data": {
      "text/plain": [
       "array([], dtype=int64)"
      ]
     },
     "execution_count": 63,
     "metadata": {},
     "output_type": "execute_result"
    }
   ],
   "source": [
    "# Existe-t-il des clients dans la table Sales qui n'existent pas dans la table clients ?\n",
    "\n",
    "liste_cust = df_cust.id_client.tolist()\n",
    "\n",
    "df_sales[~df_sales.id_client.isin(liste_cust)].id_client.unique()"
   ]
  },
  {
   "cell_type": "markdown",
   "metadata": {},
   "source": [
    "***Pas de clients dans la table Sales qui n'existent pas dans la table Clients.***"
   ]
  },
  {
   "cell_type": "markdown",
   "metadata": {},
   "source": [
    "#### id_produits"
   ]
  },
  {
   "cell_type": "code",
   "execution_count": 64,
   "metadata": {
    "ExecuteTime": {
     "end_time": "2019-03-04T15:22:29.868004Z",
     "start_time": "2019-03-04T15:22:29.849056Z"
    }
   },
   "outputs": [
    {
     "data": {
      "text/plain": [
       "array(['0_2245'], dtype=object)"
      ]
     },
     "execution_count": 64,
     "metadata": {},
     "output_type": "execute_result"
    }
   ],
   "source": [
    "# Existe-t-il des produits dans la table Sales qui n'existent pas dans la table produit ?\n",
    "\n",
    "liste_prod = df_prod.id_prod.tolist()\n",
    "\n",
    "df_sales[~df_sales.id_prod.isin(liste_prod)].id_prod.unique()"
   ]
  },
  {
   "cell_type": "markdown",
   "metadata": {
    "ExecuteTime": {
     "end_time": "2019-02-24T14:59:31.341855Z",
     "start_time": "2019-02-24T14:59:31.336870Z"
    }
   },
   "source": [
    "***Un produit de catégorie 0 et d'identifiant 2245 n'est pas répertorié dans la table produit***"
   ]
  },
  {
   "cell_type": "code",
   "execution_count": 65,
   "metadata": {
    "ExecuteTime": {
     "end_time": "2019-03-04T15:22:31.229439Z",
     "start_time": "2019-03-04T15:22:31.206498Z"
    }
   },
   "outputs": [
    {
     "data": {
      "text/plain": [
       "103"
      ]
     },
     "execution_count": 65,
     "metadata": {},
     "output_type": "execute_result"
    }
   ],
   "source": [
    "# Combien de lignes corrrepondent à ce produit ? \n",
    "\n",
    "len(df_sales[~df_sales.id_prod.isin(liste_prod)])"
   ]
  },
  {
   "cell_type": "code",
   "execution_count": 66,
   "metadata": {
    "ExecuteTime": {
     "end_time": "2019-03-04T15:22:31.970379Z",
     "start_time": "2019-03-04T15:22:31.965358Z"
    }
   },
   "outputs": [
    {
     "data": {
      "text/plain": [
       "11.732794627383296"
      ]
     },
     "execution_count": 66,
     "metadata": {},
     "output_type": "execute_result"
    }
   ],
   "source": [
    "# Quelle est la moyenne de prix de la catégorie 0 ?\n",
    "\n",
    "mean0 = df_prod[df_prod.categ == 0].price.mean()\n",
    "mean0"
   ]
  },
  {
   "cell_type": "code",
   "execution_count": 67,
   "metadata": {
    "ExecuteTime": {
     "end_time": "2019-03-04T15:22:32.676361Z",
     "start_time": "2019-03-04T15:22:32.656413Z"
    }
   },
   "outputs": [
    {
     "data": {
      "text/plain": [
       "1208.4778466204796"
      ]
     },
     "execution_count": 67,
     "metadata": {},
     "output_type": "execute_result"
    }
   ],
   "source": [
    "# Montant total avec imputation par la moyenne des lignes de 0_2245\n",
    "\n",
    "mont_mean = mean0*len(df_sales[~df_sales.id_prod.isin(liste_prod)])\n",
    "mont_mean"
   ]
  },
  {
   "cell_type": "markdown",
   "metadata": {},
   "source": [
    "<div class=\"alert alert-block alert-info\">\n",
    "<b>Tip:</b> Il existe un produit identifié par 0_2245 dans la table Sales et qui n'existe pas dans la table produit.\n",
    "Pour traiter cette valeur on a 2 options : on peut supprimer les lignes concernées OU on peut implémenter cette valeur dans notre table produit en lui donnant comme valeur de prix la moyenne ou bien la médiane de la catégorie. \n",
    "    \n",
    "- Si on calcule la somme des lignes concernées en utilisant la moyenne de la categorie, on obtient 1208 € avec la moyenne; ce qui est négligeable au regard d'un chiffre d'affaire. On pourrait choisir de supprimer les lignes.\n",
    "- L'opération est cependant aisée car elle ne porte que sur un unique produit, pour ne pas perdre d'informations et au vu de la faible dispersion des valeurs je choisis d'imputer la moyenne de la catégorie aux lignes concernées."
   ]
  },
  {
   "cell_type": "code",
   "execution_count": 68,
   "metadata": {
    "ExecuteTime": {
     "end_time": "2019-03-04T15:22:34.063762Z",
     "start_time": "2019-03-04T15:22:34.057749Z"
    }
   },
   "outputs": [
    {
     "data": {
      "text/html": [
       "<div>\n",
       "<style scoped>\n",
       "    .dataframe tbody tr th:only-of-type {\n",
       "        vertical-align: middle;\n",
       "    }\n",
       "\n",
       "    .dataframe tbody tr th {\n",
       "        vertical-align: top;\n",
       "    }\n",
       "\n",
       "    .dataframe thead th {\n",
       "        text-align: right;\n",
       "    }\n",
       "</style>\n",
       "<table border=\"1\" class=\"dataframe\">\n",
       "  <thead>\n",
       "    <tr style=\"text-align: right;\">\n",
       "      <th></th>\n",
       "      <th>id_prod</th>\n",
       "      <th>price</th>\n",
       "      <th>categ</th>\n",
       "    </tr>\n",
       "  </thead>\n",
       "  <tbody>\n",
       "    <tr>\n",
       "      <th>3282</th>\n",
       "      <td>2_23</td>\n",
       "      <td>115.99</td>\n",
       "      <td>2</td>\n",
       "    </tr>\n",
       "    <tr>\n",
       "      <th>3283</th>\n",
       "      <td>0_146</td>\n",
       "      <td>17.14</td>\n",
       "      <td>0</td>\n",
       "    </tr>\n",
       "    <tr>\n",
       "      <th>3284</th>\n",
       "      <td>0_802</td>\n",
       "      <td>11.22</td>\n",
       "      <td>0</td>\n",
       "    </tr>\n",
       "    <tr>\n",
       "      <th>3285</th>\n",
       "      <td>1_140</td>\n",
       "      <td>38.56</td>\n",
       "      <td>1</td>\n",
       "    </tr>\n",
       "    <tr>\n",
       "      <th>3286</th>\n",
       "      <td>0_1920</td>\n",
       "      <td>25.16</td>\n",
       "      <td>0</td>\n",
       "    </tr>\n",
       "  </tbody>\n",
       "</table>\n",
       "</div>"
      ],
      "text/plain": [
       "     id_prod   price  categ\n",
       "3282    2_23  115.99      2\n",
       "3283   0_146   17.14      0\n",
       "3284   0_802   11.22      0\n",
       "3285   1_140   38.56      1\n",
       "3286  0_1920   25.16      0"
      ]
     },
     "execution_count": 68,
     "metadata": {},
     "output_type": "execute_result"
    }
   ],
   "source": [
    "# Etat du dataframe produit\n",
    "\n",
    "df_prod.tail()"
   ]
  },
  {
   "cell_type": "code",
   "execution_count": 69,
   "metadata": {
    "ExecuteTime": {
     "end_time": "2019-03-04T15:22:34.732263Z",
     "start_time": "2019-03-04T15:22:34.725311Z"
    }
   },
   "outputs": [
    {
     "data": {
      "text/html": [
       "<div>\n",
       "<style scoped>\n",
       "    .dataframe tbody tr th:only-of-type {\n",
       "        vertical-align: middle;\n",
       "    }\n",
       "\n",
       "    .dataframe tbody tr th {\n",
       "        vertical-align: top;\n",
       "    }\n",
       "\n",
       "    .dataframe thead th {\n",
       "        text-align: right;\n",
       "    }\n",
       "</style>\n",
       "<table border=\"1\" class=\"dataframe\">\n",
       "  <thead>\n",
       "    <tr style=\"text-align: right;\">\n",
       "      <th></th>\n",
       "      <th>id_prod</th>\n",
       "      <th>price</th>\n",
       "      <th>categ</th>\n",
       "    </tr>\n",
       "  </thead>\n",
       "  <tbody>\n",
       "    <tr>\n",
       "      <th>0</th>\n",
       "      <td>0_2245</td>\n",
       "      <td>11.732795</td>\n",
       "      <td>0</td>\n",
       "    </tr>\n",
       "  </tbody>\n",
       "</table>\n",
       "</div>"
      ],
      "text/plain": [
       "  id_prod      price  categ\n",
       "0  0_2245  11.732795      0"
      ]
     },
     "execution_count": 69,
     "metadata": {},
     "output_type": "execute_result"
    }
   ],
   "source": [
    "# Création de la ligne correspondant au produit 0_2245\n",
    "\n",
    "temp = pd.DataFrame([['0_2245',mean0,0]],columns=['id_prod','price','categ'])\n",
    "\n",
    "temp"
   ]
  },
  {
   "cell_type": "code",
   "execution_count": 70,
   "metadata": {
    "ExecuteTime": {
     "end_time": "2019-03-04T15:22:35.612373Z",
     "start_time": "2019-03-04T15:22:35.605419Z"
    }
   },
   "outputs": [
    {
     "data": {
      "text/html": [
       "<div>\n",
       "<style scoped>\n",
       "    .dataframe tbody tr th:only-of-type {\n",
       "        vertical-align: middle;\n",
       "    }\n",
       "\n",
       "    .dataframe tbody tr th {\n",
       "        vertical-align: top;\n",
       "    }\n",
       "\n",
       "    .dataframe thead th {\n",
       "        text-align: right;\n",
       "    }\n",
       "</style>\n",
       "<table border=\"1\" class=\"dataframe\">\n",
       "  <thead>\n",
       "    <tr style=\"text-align: right;\">\n",
       "      <th></th>\n",
       "      <th>id_prod</th>\n",
       "      <th>price</th>\n",
       "      <th>categ</th>\n",
       "    </tr>\n",
       "  </thead>\n",
       "  <tbody>\n",
       "    <tr>\n",
       "      <th>3282</th>\n",
       "      <td>0_146</td>\n",
       "      <td>17.140000</td>\n",
       "      <td>0</td>\n",
       "    </tr>\n",
       "    <tr>\n",
       "      <th>3283</th>\n",
       "      <td>0_802</td>\n",
       "      <td>11.220000</td>\n",
       "      <td>0</td>\n",
       "    </tr>\n",
       "    <tr>\n",
       "      <th>3284</th>\n",
       "      <td>1_140</td>\n",
       "      <td>38.560000</td>\n",
       "      <td>1</td>\n",
       "    </tr>\n",
       "    <tr>\n",
       "      <th>3285</th>\n",
       "      <td>0_1920</td>\n",
       "      <td>25.160000</td>\n",
       "      <td>0</td>\n",
       "    </tr>\n",
       "    <tr>\n",
       "      <th>3286</th>\n",
       "      <td>0_2245</td>\n",
       "      <td>11.732795</td>\n",
       "      <td>0</td>\n",
       "    </tr>\n",
       "  </tbody>\n",
       "</table>\n",
       "</div>"
      ],
      "text/plain": [
       "     id_prod      price  categ\n",
       "3282   0_146  17.140000      0\n",
       "3283   0_802  11.220000      0\n",
       "3284   1_140  38.560000      1\n",
       "3285  0_1920  25.160000      0\n",
       "3286  0_2245  11.732795      0"
      ]
     },
     "execution_count": 70,
     "metadata": {},
     "output_type": "execute_result"
    }
   ],
   "source": [
    "# Etat du dataframe après ajout\n",
    "\n",
    "df_prod2 = df_prod.append(temp, ignore_index=True)\n",
    "\n",
    "df_prod2.tail()"
   ]
  },
  {
   "cell_type": "code",
   "execution_count": 71,
   "metadata": {
    "ExecuteTime": {
     "end_time": "2019-03-04T15:22:36.596121Z",
     "start_time": "2019-03-04T15:22:36.482421Z"
    }
   },
   "outputs": [
    {
     "data": {
      "image/png": "[encoded data removed]",
      "text/plain": [
       "<Figure size 432x288 with 1 Axes>"
      ]
     },
     "metadata": {
      "needs_background": "light"
     },
     "output_type": "display_data"
    }
   ],
   "source": [
    "# Distribution de la catégorie 0 avec et sans le produit 0_2245\n",
    "\n",
    "temp = df_prod[df_prod.categ ==0].price.tolist()\n",
    "temp2 = df_prod2[df_prod2.categ ==0].price.tolist()\n",
    "dataset = [temp, temp2]\n",
    "\n",
    "# Plot \n",
    "BoxName = ['sans 0_2245','avec 0_2245']\n",
    "plt.boxplot(dataset)\n",
    "pylab.xticks([1,2], BoxName)\n",
    "\n",
    "plt.savefig('reports/NEP/boxplot_02245.png')\n",
    "plt.show()"
   ]
  },
  {
   "cell_type": "markdown",
   "metadata": {},
   "source": [
    "<div class=\"alert alert-block alert-info\">\n",
    "<b>Tip:</b> L'ajout du produit 0_2245 ne modifie pas la distribution des prix au sein de la catégorie 0."
   ]
  },
  {
   "cell_type": "markdown",
   "metadata": {},
   "source": [
    "#### dates"
   ]
  },
  {
   "cell_type": "code",
   "execution_count": 72,
   "metadata": {
    "ExecuteTime": {
     "end_time": "2019-03-04T15:22:50.666225Z",
     "start_time": "2019-03-04T15:22:38.607355Z"
    }
   },
   "outputs": [],
   "source": [
    "# Création de colonnes pour vérifier les data\n",
    "\n",
    "df_sales['YMD'] = df_sales['date'].map(lambda x: x.strftime('%Y-%m-%d'))\n",
    "\n",
    "df_sales['Y'] = df_sales['date'].map(lambda x: x.strftime('%Y')).astype(int)\n",
    "\n",
    "df_sales['Heure'] = df_sales['date'].map(lambda x: x.strftime('%H:%M:%S:%f'))\n",
    "\n",
    "df_sales['M'] = df_sales['date'].map(lambda x: x.strftime('%m')).astype(int)\n",
    "\n",
    "df_sales['J'] = df_sales['date'].map(lambda x: x.strftime('%d')).astype(int)\n",
    "\n",
    "df_sales['H'] = df_sales['date'].map(lambda x: x.strftime('%H')).astype(int)\n",
    "\n",
    "df_sales['MIN'] = df_sales['date'].map(lambda x: x.strftime('%M')).astype(int)"
   ]
  },
  {
   "cell_type": "code",
   "execution_count": 73,
   "metadata": {
    "ExecuteTime": {
     "end_time": "2019-03-04T15:22:50.730002Z",
     "start_time": "2019-03-04T15:22:50.721026Z"
    }
   },
   "outputs": [
    {
     "data": {
      "text/html": [
       "<div>\n",
       "<style scoped>\n",
       "    .dataframe tbody tr th:only-of-type {\n",
       "        vertical-align: middle;\n",
       "    }\n",
       "\n",
       "    .dataframe tbody tr th {\n",
       "        vertical-align: top;\n",
       "    }\n",
       "\n",
       "    .dataframe thead th {\n",
       "        text-align: right;\n",
       "    }\n",
       "</style>\n",
       "<table border=\"1\" class=\"dataframe\">\n",
       "  <thead>\n",
       "    <tr style=\"text-align: right;\">\n",
       "      <th></th>\n",
       "      <th>id_prod</th>\n",
       "      <th>date</th>\n",
       "      <th>id_session</th>\n",
       "      <th>id_client</th>\n",
       "      <th>YMD</th>\n",
       "      <th>Y</th>\n",
       "      <th>Heure</th>\n",
       "      <th>M</th>\n",
       "      <th>J</th>\n",
       "      <th>H</th>\n",
       "      <th>MIN</th>\n",
       "    </tr>\n",
       "  </thead>\n",
       "  <tbody>\n",
       "    <tr>\n",
       "      <th>0</th>\n",
       "      <td>0_1483</td>\n",
       "      <td>2021-04-10 18:37:28.723910</td>\n",
       "      <td>18746</td>\n",
       "      <td>4450</td>\n",
       "      <td>2021-04-10</td>\n",
       "      <td>2021</td>\n",
       "      <td>18:37:28:723910</td>\n",
       "      <td>4</td>\n",
       "      <td>10</td>\n",
       "      <td>18</td>\n",
       "      <td>37</td>\n",
       "    </tr>\n",
       "    <tr>\n",
       "      <th>1</th>\n",
       "      <td>2_226</td>\n",
       "      <td>2022-02-03 01:55:53.276402</td>\n",
       "      <td>159142</td>\n",
       "      <td>277</td>\n",
       "      <td>2022-02-03</td>\n",
       "      <td>2022</td>\n",
       "      <td>01:55:53:276402</td>\n",
       "      <td>2</td>\n",
       "      <td>3</td>\n",
       "      <td>1</td>\n",
       "      <td>55</td>\n",
       "    </tr>\n",
       "    <tr>\n",
       "      <th>2</th>\n",
       "      <td>1_374</td>\n",
       "      <td>2021-09-23 15:13:46.938559</td>\n",
       "      <td>94290</td>\n",
       "      <td>4270</td>\n",
       "      <td>2021-09-23</td>\n",
       "      <td>2021</td>\n",
       "      <td>15:13:46:938559</td>\n",
       "      <td>9</td>\n",
       "      <td>23</td>\n",
       "      <td>15</td>\n",
       "      <td>13</td>\n",
       "    </tr>\n",
       "    <tr>\n",
       "      <th>3</th>\n",
       "      <td>0_2186</td>\n",
       "      <td>2021-10-17 03:27:18.783634</td>\n",
       "      <td>105936</td>\n",
       "      <td>4597</td>\n",
       "      <td>2021-10-17</td>\n",
       "      <td>2021</td>\n",
       "      <td>03:27:18:783634</td>\n",
       "      <td>10</td>\n",
       "      <td>17</td>\n",
       "      <td>3</td>\n",
       "      <td>27</td>\n",
       "    </tr>\n",
       "    <tr>\n",
       "      <th>4</th>\n",
       "      <td>0_1351</td>\n",
       "      <td>2021-07-17 20:34:25.800563</td>\n",
       "      <td>63642</td>\n",
       "      <td>1242</td>\n",
       "      <td>2021-07-17</td>\n",
       "      <td>2021</td>\n",
       "      <td>20:34:25:800563</td>\n",
       "      <td>7</td>\n",
       "      <td>17</td>\n",
       "      <td>20</td>\n",
       "      <td>34</td>\n",
       "    </tr>\n",
       "  </tbody>\n",
       "</table>\n",
       "</div>"
      ],
      "text/plain": [
       "  id_prod                       date  id_session  id_client         YMD     Y  \\\n",
       "0  0_1483 2021-04-10 18:37:28.723910       18746       4450  2021-04-10  2021   \n",
       "1   2_226 2022-02-03 01:55:53.276402      159142        277  2022-02-03  2022   \n",
       "2   1_374 2021-09-23 15:13:46.938559       94290       4270  2021-09-23  2021   \n",
       "3  0_2186 2021-10-17 03:27:18.783634      105936       4597  2021-10-17  2021   \n",
       "4  0_1351 2021-07-17 20:34:25.800563       63642       1242  2021-07-17  2021   \n",
       "\n",
       "             Heure   M   J   H  MIN  \n",
       "0  18:37:28:723910   4  10  18   37  \n",
       "1  01:55:53:276402   2   3   1   55  \n",
       "2  15:13:46:938559   9  23  15   13  \n",
       "3  03:27:18:783634  10  17   3   27  \n",
       "4  20:34:25:800563   7  17  20   34  "
      ]
     },
     "execution_count": 73,
     "metadata": {},
     "output_type": "execute_result"
    }
   ],
   "source": [
    "df_sales.head()"
   ]
  },
  {
   "cell_type": "code",
   "execution_count": 74,
   "metadata": {
    "ExecuteTime": {
     "end_time": "2019-03-04T15:22:50.830761Z",
     "start_time": "2019-03-04T15:22:50.785853Z"
    }
   },
   "outputs": [
    {
     "data": {
      "text/html": [
       "<div>\n",
       "<style scoped>\n",
       "    .dataframe tbody tr th:only-of-type {\n",
       "        vertical-align: middle;\n",
       "    }\n",
       "\n",
       "    .dataframe tbody tr th {\n",
       "        vertical-align: top;\n",
       "    }\n",
       "\n",
       "    .dataframe thead th {\n",
       "        text-align: right;\n",
       "    }\n",
       "</style>\n",
       "<table border=\"1\" class=\"dataframe\">\n",
       "  <thead>\n",
       "    <tr style=\"text-align: right;\">\n",
       "      <th></th>\n",
       "      <th>id_prod</th>\n",
       "      <th>date</th>\n",
       "      <th>id_session</th>\n",
       "      <th>id_client</th>\n",
       "      <th>YMD</th>\n",
       "      <th>Y</th>\n",
       "      <th>Heure</th>\n",
       "      <th>M</th>\n",
       "      <th>J</th>\n",
       "      <th>H</th>\n",
       "      <th>MIN</th>\n",
       "    </tr>\n",
       "  </thead>\n",
       "  <tbody>\n",
       "  </tbody>\n",
       "</table>\n",
       "</div>"
      ],
      "text/plain": [
       "Empty DataFrame\n",
       "Columns: [id_prod, date, id_session, id_client, YMD, Y, Heure, M, J, H, MIN]\n",
       "Index: []"
      ]
     },
     "execution_count": 74,
     "metadata": {},
     "output_type": "execute_result"
    }
   ],
   "source": [
    "# Vérification sur les mois à 30 jours : pas de 31ème jour \n",
    "\n",
    "list_30 = (2,4,6,9,11)\n",
    "\n",
    "df_sales[(df_sales['M'].isin(list_30)) & (df_sales['J'] > 30)]"
   ]
  },
  {
   "cell_type": "code",
   "execution_count": 75,
   "metadata": {
    "ExecuteTime": {
     "end_time": "2019-03-04T15:22:50.892567Z",
     "start_time": "2019-03-04T15:22:50.888578Z"
    }
   },
   "outputs": [
    {
     "name": "stdout",
     "output_type": "stream",
     "text": [
      "False\n",
      "False\n"
     ]
    }
   ],
   "source": [
    "# Est-ce une année bissextile ?\n",
    "\n",
    "print(calendar.isleap(2021))\n",
    "print(calendar.isleap(2022))"
   ]
  },
  {
   "cell_type": "code",
   "execution_count": 76,
   "metadata": {
    "ExecuteTime": {
     "end_time": "2019-03-04T15:22:50.957393Z",
     "start_time": "2019-03-04T15:22:50.948446Z"
    }
   },
   "outputs": [
    {
     "data": {
      "text/html": [
       "<div>\n",
       "<style scoped>\n",
       "    .dataframe tbody tr th:only-of-type {\n",
       "        vertical-align: middle;\n",
       "    }\n",
       "\n",
       "    .dataframe tbody tr th {\n",
       "        vertical-align: top;\n",
       "    }\n",
       "\n",
       "    .dataframe thead th {\n",
       "        text-align: right;\n",
       "    }\n",
       "</style>\n",
       "<table border=\"1\" class=\"dataframe\">\n",
       "  <thead>\n",
       "    <tr style=\"text-align: right;\">\n",
       "      <th></th>\n",
       "      <th>id_prod</th>\n",
       "      <th>date</th>\n",
       "      <th>id_session</th>\n",
       "      <th>id_client</th>\n",
       "      <th>YMD</th>\n",
       "      <th>Y</th>\n",
       "      <th>Heure</th>\n",
       "      <th>M</th>\n",
       "      <th>J</th>\n",
       "      <th>H</th>\n",
       "      <th>MIN</th>\n",
       "    </tr>\n",
       "  </thead>\n",
       "  <tbody>\n",
       "  </tbody>\n",
       "</table>\n",
       "</div>"
      ],
      "text/plain": [
       "Empty DataFrame\n",
       "Columns: [id_prod, date, id_session, id_client, YMD, Y, Heure, M, J, H, MIN]\n",
       "Index: []"
      ]
     },
     "execution_count": 76,
     "metadata": {},
     "output_type": "execute_result"
    }
   ],
   "source": [
    "# Vérification du nombre de jours en Février\n",
    "\n",
    "df_sales[(df_sales['M'] == 2) & (df_sales['J'] > 28)]"
   ]
  },
  {
   "cell_type": "markdown",
   "metadata": {},
   "source": [
    "<div class=\"alert alert-block alert-info\">\n",
    "<b>Tip:</b> Pas de jours hors limites sur les mois."
   ]
  },
  {
   "cell_type": "code",
   "execution_count": 77,
   "metadata": {
    "ExecuteTime": {
     "end_time": "2019-03-04T15:22:51.021224Z",
     "start_time": "2019-03-04T15:22:51.014242Z"
    }
   },
   "outputs": [
    {
     "data": {
      "text/html": [
       "<div>\n",
       "<style scoped>\n",
       "    .dataframe tbody tr th:only-of-type {\n",
       "        vertical-align: middle;\n",
       "    }\n",
       "\n",
       "    .dataframe tbody tr th {\n",
       "        vertical-align: top;\n",
       "    }\n",
       "\n",
       "    .dataframe thead th {\n",
       "        text-align: right;\n",
       "    }\n",
       "</style>\n",
       "<table border=\"1\" class=\"dataframe\">\n",
       "  <thead>\n",
       "    <tr style=\"text-align: right;\">\n",
       "      <th></th>\n",
       "      <th>id_prod</th>\n",
       "      <th>date</th>\n",
       "      <th>id_session</th>\n",
       "      <th>id_client</th>\n",
       "      <th>YMD</th>\n",
       "      <th>Y</th>\n",
       "      <th>Heure</th>\n",
       "      <th>M</th>\n",
       "      <th>J</th>\n",
       "      <th>H</th>\n",
       "      <th>MIN</th>\n",
       "    </tr>\n",
       "  </thead>\n",
       "  <tbody>\n",
       "  </tbody>\n",
       "</table>\n",
       "</div>"
      ],
      "text/plain": [
       "Empty DataFrame\n",
       "Columns: [id_prod, date, id_session, id_client, YMD, Y, Heure, M, J, H, MIN]\n",
       "Index: []"
      ]
     },
     "execution_count": 77,
     "metadata": {},
     "output_type": "execute_result"
    }
   ],
   "source": [
    "# Vérification des heures\n",
    "\n",
    "df_sales[df_sales['H'] > 24]"
   ]
  },
  {
   "cell_type": "code",
   "execution_count": 79,
   "metadata": {
    "ExecuteTime": {
     "end_time": "2019-03-04T15:22:55.009053Z",
     "start_time": "2019-03-04T15:22:55.003072Z"
    }
   },
   "outputs": [
    {
     "data": {
      "text/html": [
       "<div>\n",
       "<style scoped>\n",
       "    .dataframe tbody tr th:only-of-type {\n",
       "        vertical-align: middle;\n",
       "    }\n",
       "\n",
       "    .dataframe tbody tr th {\n",
       "        vertical-align: top;\n",
       "    }\n",
       "\n",
       "    .dataframe thead th {\n",
       "        text-align: right;\n",
       "    }\n",
       "</style>\n",
       "<table border=\"1\" class=\"dataframe\">\n",
       "  <thead>\n",
       "    <tr style=\"text-align: right;\">\n",
       "      <th></th>\n",
       "      <th>id_prod</th>\n",
       "      <th>date</th>\n",
       "      <th>id_session</th>\n",
       "      <th>id_client</th>\n",
       "      <th>YMD</th>\n",
       "      <th>Y</th>\n",
       "      <th>Heure</th>\n",
       "      <th>M</th>\n",
       "      <th>J</th>\n",
       "      <th>H</th>\n",
       "      <th>MIN</th>\n",
       "    </tr>\n",
       "  </thead>\n",
       "  <tbody>\n",
       "  </tbody>\n",
       "</table>\n",
       "</div>"
      ],
      "text/plain": [
       "Empty DataFrame\n",
       "Columns: [id_prod, date, id_session, id_client, YMD, Y, Heure, M, J, H, MIN]\n",
       "Index: []"
      ]
     },
     "execution_count": 79,
     "metadata": {},
     "output_type": "execute_result"
    }
   ],
   "source": [
    "# Vérification des minutes\n",
    "\n",
    "df_sales[df_sales['M'] > 60]"
   ]
  },
  {
   "cell_type": "markdown",
   "metadata": {
    "ExecuteTime": {
     "end_time": "2019-02-24T14:45:42.267065Z",
     "start_time": "2019-02-24T14:45:42.263075Z"
    }
   },
   "source": [
    "<div class=\"alert alert-block alert-info\">\n",
    "<b>Tip:</b> Pas d'heures hors limites."
   ]
  },
  {
   "cell_type": "code",
   "execution_count": 80,
   "metadata": {
    "ExecuteTime": {
     "end_time": "2019-03-04T15:22:56.239291Z",
     "start_time": "2019-03-04T15:22:56.218376Z"
    }
   },
   "outputs": [],
   "source": [
    "df_sales = df_sales.drop(columns=['H','MIN'])"
   ]
  },
  {
   "cell_type": "markdown",
   "metadata": {},
   "source": [
    "#### Valeurs manquantes"
   ]
  },
  {
   "cell_type": "code",
   "execution_count": 81,
   "metadata": {
    "ExecuteTime": {
     "end_time": "2019-03-04T15:22:57.351226Z",
     "start_time": "2019-03-04T15:22:57.288395Z"
    }
   },
   "outputs": [
    {
     "data": {
      "text/plain": [
       "id_prod       0\n",
       "date          0\n",
       "id_session    0\n",
       "id_client     0\n",
       "YMD           0\n",
       "Y             0\n",
       "Heure         0\n",
       "M             0\n",
       "J             0\n",
       "dtype: int64"
      ]
     },
     "execution_count": 81,
     "metadata": {},
     "output_type": "execute_result"
    }
   ],
   "source": [
    "df_sales.isnull().sum()"
   ]
  },
  {
   "cell_type": "markdown",
   "metadata": {},
   "source": [
    "<div class=\"alert alert-block alert-info\">\n",
    "<b>Tip:</b> Pas de valeurs manquantes sur ce dataframe."
   ]
  },
  {
   "cell_type": "markdown",
   "metadata": {},
   "source": [
    "# Préparation"
   ]
  },
  {
   "cell_type": "markdown",
   "metadata": {},
   "source": [
    "## Jointure des tables"
   ]
  },
  {
   "cell_type": "code",
   "execution_count": 82,
   "metadata": {
    "ExecuteTime": {
     "end_time": "2019-03-04T15:22:59.663369Z",
     "start_time": "2019-03-04T15:22:59.656359Z"
    }
   },
   "outputs": [
    {
     "data": {
      "text/html": [
       "<div>\n",
       "<style scoped>\n",
       "    .dataframe tbody tr th:only-of-type {\n",
       "        vertical-align: middle;\n",
       "    }\n",
       "\n",
       "    .dataframe tbody tr th {\n",
       "        vertical-align: top;\n",
       "    }\n",
       "\n",
       "    .dataframe thead th {\n",
       "        text-align: right;\n",
       "    }\n",
       "</style>\n",
       "<table border=\"1\" class=\"dataframe\">\n",
       "  <thead>\n",
       "    <tr style=\"text-align: right;\">\n",
       "      <th></th>\n",
       "      <th>id_prod</th>\n",
       "      <th>date</th>\n",
       "      <th>id_session</th>\n",
       "      <th>id_client</th>\n",
       "      <th>YMD</th>\n",
       "      <th>Y</th>\n",
       "      <th>Heure</th>\n",
       "      <th>M</th>\n",
       "      <th>J</th>\n",
       "    </tr>\n",
       "  </thead>\n",
       "  <tbody>\n",
       "    <tr>\n",
       "      <th>0</th>\n",
       "      <td>0_1483</td>\n",
       "      <td>2021-04-10 18:37:28.723910</td>\n",
       "      <td>18746</td>\n",
       "      <td>4450</td>\n",
       "      <td>2021-04-10</td>\n",
       "      <td>2021</td>\n",
       "      <td>18:37:28:723910</td>\n",
       "      <td>4</td>\n",
       "      <td>10</td>\n",
       "    </tr>\n",
       "  </tbody>\n",
       "</table>\n",
       "</div>"
      ],
      "text/plain": [
       "  id_prod                       date  id_session  id_client         YMD     Y  \\\n",
       "0  0_1483 2021-04-10 18:37:28.723910       18746       4450  2021-04-10  2021   \n",
       "\n",
       "             Heure  M   J  \n",
       "0  18:37:28:723910  4  10  "
      ]
     },
     "execution_count": 82,
     "metadata": {},
     "output_type": "execute_result"
    }
   ],
   "source": [
    "df_sales.head(1)"
   ]
  },
  {
   "cell_type": "code",
   "execution_count": 83,
   "metadata": {
    "ExecuteTime": {
     "end_time": "2019-03-04T15:23:00.516400Z",
     "start_time": "2019-03-04T15:23:00.510389Z"
    }
   },
   "outputs": [
    {
     "data": {
      "text/html": [
       "<div>\n",
       "<style scoped>\n",
       "    .dataframe tbody tr th:only-of-type {\n",
       "        vertical-align: middle;\n",
       "    }\n",
       "\n",
       "    .dataframe tbody tr th {\n",
       "        vertical-align: top;\n",
       "    }\n",
       "\n",
       "    .dataframe thead th {\n",
       "        text-align: right;\n",
       "    }\n",
       "</style>\n",
       "<table border=\"1\" class=\"dataframe\">\n",
       "  <thead>\n",
       "    <tr style=\"text-align: right;\">\n",
       "      <th></th>\n",
       "      <th>id_prod</th>\n",
       "      <th>price</th>\n",
       "      <th>categ</th>\n",
       "    </tr>\n",
       "  </thead>\n",
       "  <tbody>\n",
       "    <tr>\n",
       "      <th>0</th>\n",
       "      <td>0_1421</td>\n",
       "      <td>19.99</td>\n",
       "      <td>0</td>\n",
       "    </tr>\n",
       "  </tbody>\n",
       "</table>\n",
       "</div>"
      ],
      "text/plain": [
       "  id_prod  price  categ\n",
       "0  0_1421  19.99      0"
      ]
     },
     "execution_count": 83,
     "metadata": {},
     "output_type": "execute_result"
    }
   ],
   "source": [
    "df_prod2.head(1)"
   ]
  },
  {
   "cell_type": "code",
   "execution_count": 84,
   "metadata": {
    "ExecuteTime": {
     "end_time": "2019-03-04T15:23:01.384954Z",
     "start_time": "2019-03-04T15:23:01.378970Z"
    }
   },
   "outputs": [
    {
     "data": {
      "text/html": [
       "<div>\n",
       "<style scoped>\n",
       "    .dataframe tbody tr th:only-of-type {\n",
       "        vertical-align: middle;\n",
       "    }\n",
       "\n",
       "    .dataframe tbody tr th {\n",
       "        vertical-align: top;\n",
       "    }\n",
       "\n",
       "    .dataframe thead th {\n",
       "        text-align: right;\n",
       "    }\n",
       "</style>\n",
       "<table border=\"1\" class=\"dataframe\">\n",
       "  <thead>\n",
       "    <tr style=\"text-align: right;\">\n",
       "      <th></th>\n",
       "      <th>id_client</th>\n",
       "      <th>sex</th>\n",
       "      <th>birth</th>\n",
       "    </tr>\n",
       "  </thead>\n",
       "  <tbody>\n",
       "    <tr>\n",
       "      <th>0</th>\n",
       "      <td>4410</td>\n",
       "      <td>f</td>\n",
       "      <td>1967</td>\n",
       "    </tr>\n",
       "  </tbody>\n",
       "</table>\n",
       "</div>"
      ],
      "text/plain": [
       "   id_client sex  birth\n",
       "0       4410   f   1967"
      ]
     },
     "execution_count": 84,
     "metadata": {},
     "output_type": "execute_result"
    }
   ],
   "source": [
    "df_cust.head(1)"
   ]
  },
  {
   "cell_type": "markdown",
   "metadata": {},
   "source": [
    "<div class=\"alert alert-block alert-info\">\n",
    "<b>Tip:</b> \n",
    "\n",
    "   - id_prod est utilisée comme clef primaire pour joindre les tables Sales et Produit.\n",
    "   - id_client est utilisée comme clef primaire pour joindre les tables Sales et Clients."
   ]
  },
  {
   "cell_type": "code",
   "execution_count": 85,
   "metadata": {
    "ExecuteTime": {
     "end_time": "2019-03-04T15:23:03.263140Z",
     "start_time": "2019-03-04T15:23:03.124543Z"
    }
   },
   "outputs": [
    {
     "data": {
      "text/html": [
       "<div>\n",
       "<style scoped>\n",
       "    .dataframe tbody tr th:only-of-type {\n",
       "        vertical-align: middle;\n",
       "    }\n",
       "\n",
       "    .dataframe tbody tr th {\n",
       "        vertical-align: top;\n",
       "    }\n",
       "\n",
       "    .dataframe thead th {\n",
       "        text-align: right;\n",
       "    }\n",
       "</style>\n",
       "<table border=\"1\" class=\"dataframe\">\n",
       "  <thead>\n",
       "    <tr style=\"text-align: right;\">\n",
       "      <th></th>\n",
       "      <th>id_prod</th>\n",
       "      <th>date</th>\n",
       "      <th>id_session</th>\n",
       "      <th>id_client</th>\n",
       "      <th>YMD</th>\n",
       "      <th>Y</th>\n",
       "      <th>Heure</th>\n",
       "      <th>M</th>\n",
       "      <th>J</th>\n",
       "      <th>price</th>\n",
       "      <th>categ</th>\n",
       "    </tr>\n",
       "  </thead>\n",
       "  <tbody>\n",
       "    <tr>\n",
       "      <th>0</th>\n",
       "      <td>0_1483</td>\n",
       "      <td>2021-04-10 18:37:28.723910</td>\n",
       "      <td>18746</td>\n",
       "      <td>4450</td>\n",
       "      <td>2021-04-10</td>\n",
       "      <td>2021</td>\n",
       "      <td>18:37:28:723910</td>\n",
       "      <td>4</td>\n",
       "      <td>10</td>\n",
       "      <td>4.99</td>\n",
       "      <td>0</td>\n",
       "    </tr>\n",
       "    <tr>\n",
       "      <th>1</th>\n",
       "      <td>2_226</td>\n",
       "      <td>2022-02-03 01:55:53.276402</td>\n",
       "      <td>159142</td>\n",
       "      <td>277</td>\n",
       "      <td>2022-02-03</td>\n",
       "      <td>2022</td>\n",
       "      <td>01:55:53:276402</td>\n",
       "      <td>2</td>\n",
       "      <td>3</td>\n",
       "      <td>65.75</td>\n",
       "      <td>2</td>\n",
       "    </tr>\n",
       "    <tr>\n",
       "      <th>2</th>\n",
       "      <td>1_374</td>\n",
       "      <td>2021-09-23 15:13:46.938559</td>\n",
       "      <td>94290</td>\n",
       "      <td>4270</td>\n",
       "      <td>2021-09-23</td>\n",
       "      <td>2021</td>\n",
       "      <td>15:13:46:938559</td>\n",
       "      <td>9</td>\n",
       "      <td>23</td>\n",
       "      <td>10.71</td>\n",
       "      <td>1</td>\n",
       "    </tr>\n",
       "    <tr>\n",
       "      <th>3</th>\n",
       "      <td>0_2186</td>\n",
       "      <td>2021-10-17 03:27:18.783634</td>\n",
       "      <td>105936</td>\n",
       "      <td>4597</td>\n",
       "      <td>2021-10-17</td>\n",
       "      <td>2021</td>\n",
       "      <td>03:27:18:783634</td>\n",
       "      <td>10</td>\n",
       "      <td>17</td>\n",
       "      <td>4.20</td>\n",
       "      <td>0</td>\n",
       "    </tr>\n",
       "    <tr>\n",
       "      <th>4</th>\n",
       "      <td>0_1351</td>\n",
       "      <td>2021-07-17 20:34:25.800563</td>\n",
       "      <td>63642</td>\n",
       "      <td>1242</td>\n",
       "      <td>2021-07-17</td>\n",
       "      <td>2021</td>\n",
       "      <td>20:34:25:800563</td>\n",
       "      <td>7</td>\n",
       "      <td>17</td>\n",
       "      <td>8.99</td>\n",
       "      <td>0</td>\n",
       "    </tr>\n",
       "  </tbody>\n",
       "</table>\n",
       "</div>"
      ],
      "text/plain": [
       "  id_prod                       date  id_session  id_client         YMD     Y  \\\n",
       "0  0_1483 2021-04-10 18:37:28.723910       18746       4450  2021-04-10  2021   \n",
       "1   2_226 2022-02-03 01:55:53.276402      159142        277  2022-02-03  2022   \n",
       "2   1_374 2021-09-23 15:13:46.938559       94290       4270  2021-09-23  2021   \n",
       "3  0_2186 2021-10-17 03:27:18.783634      105936       4597  2021-10-17  2021   \n",
       "4  0_1351 2021-07-17 20:34:25.800563       63642       1242  2021-07-17  2021   \n",
       "\n",
       "             Heure   M   J  price  categ  \n",
       "0  18:37:28:723910   4  10   4.99      0  \n",
       "1  01:55:53:276402   2   3  65.75      2  \n",
       "2  15:13:46:938559   9  23  10.71      1  \n",
       "3  03:27:18:783634  10  17   4.20      0  \n",
       "4  20:34:25:800563   7  17   8.99      0  "
      ]
     },
     "execution_count": 85,
     "metadata": {},
     "output_type": "execute_result"
    }
   ],
   "source": [
    "# Jointure des tables df_sales et df_prod\n",
    "\n",
    "df = pd.merge(df_sales, df_prod2, on ='id_prod', how='left')\n",
    "\n",
    "df.head()"
   ]
  },
  {
   "cell_type": "markdown",
   "metadata": {},
   "source": [
    "<div class=\"alert alert-block alert-info\">\n",
    "On peut choisir de faire :\n",
    "\n",
    "- une jointure externe gauche car on veut garder toutes les lignes de la table Sales mais pas les lignes de la table Produit qui ne figurent pas dans la table Sales.\n",
    "- une jointure interne (pour les mêmes raisons) et parce qu'on a vérifié au préalable que tous les produits de la table Sales figurent dans la table Produit."
   ]
  },
  {
   "cell_type": "code",
   "execution_count": 86,
   "metadata": {
    "ExecuteTime": {
     "end_time": "2019-03-04T15:23:05.549121Z",
     "start_time": "2019-03-04T15:23:05.449388Z"
    }
   },
   "outputs": [
    {
     "data": {
      "text/html": [
       "<div>\n",
       "<style scoped>\n",
       "    .dataframe tbody tr th:only-of-type {\n",
       "        vertical-align: middle;\n",
       "    }\n",
       "\n",
       "    .dataframe tbody tr th {\n",
       "        vertical-align: top;\n",
       "    }\n",
       "\n",
       "    .dataframe thead th {\n",
       "        text-align: right;\n",
       "    }\n",
       "</style>\n",
       "<table border=\"1\" class=\"dataframe\">\n",
       "  <thead>\n",
       "    <tr style=\"text-align: right;\">\n",
       "      <th></th>\n",
       "      <th>id_prod</th>\n",
       "      <th>date</th>\n",
       "      <th>id_session</th>\n",
       "      <th>id_client</th>\n",
       "      <th>YMD</th>\n",
       "      <th>Y</th>\n",
       "      <th>Heure</th>\n",
       "      <th>M</th>\n",
       "      <th>J</th>\n",
       "      <th>price</th>\n",
       "      <th>categ</th>\n",
       "      <th>sex</th>\n",
       "      <th>birth</th>\n",
       "    </tr>\n",
       "  </thead>\n",
       "  <tbody>\n",
       "    <tr>\n",
       "      <th>0</th>\n",
       "      <td>0_1483</td>\n",
       "      <td>2021-04-10 18:37:28.723910</td>\n",
       "      <td>18746</td>\n",
       "      <td>4450</td>\n",
       "      <td>2021-04-10</td>\n",
       "      <td>2021</td>\n",
       "      <td>18:37:28:723910</td>\n",
       "      <td>4</td>\n",
       "      <td>10</td>\n",
       "      <td>4.99</td>\n",
       "      <td>0</td>\n",
       "      <td>f</td>\n",
       "      <td>1977</td>\n",
       "    </tr>\n",
       "    <tr>\n",
       "      <th>1</th>\n",
       "      <td>2_226</td>\n",
       "      <td>2022-02-03 01:55:53.276402</td>\n",
       "      <td>159142</td>\n",
       "      <td>277</td>\n",
       "      <td>2022-02-03</td>\n",
       "      <td>2022</td>\n",
       "      <td>01:55:53:276402</td>\n",
       "      <td>2</td>\n",
       "      <td>3</td>\n",
       "      <td>65.75</td>\n",
       "      <td>2</td>\n",
       "      <td>f</td>\n",
       "      <td>2000</td>\n",
       "    </tr>\n",
       "    <tr>\n",
       "      <th>2</th>\n",
       "      <td>1_374</td>\n",
       "      <td>2021-09-23 15:13:46.938559</td>\n",
       "      <td>94290</td>\n",
       "      <td>4270</td>\n",
       "      <td>2021-09-23</td>\n",
       "      <td>2021</td>\n",
       "      <td>15:13:46:938559</td>\n",
       "      <td>9</td>\n",
       "      <td>23</td>\n",
       "      <td>10.71</td>\n",
       "      <td>1</td>\n",
       "      <td>f</td>\n",
       "      <td>1979</td>\n",
       "    </tr>\n",
       "    <tr>\n",
       "      <th>3</th>\n",
       "      <td>0_2186</td>\n",
       "      <td>2021-10-17 03:27:18.783634</td>\n",
       "      <td>105936</td>\n",
       "      <td>4597</td>\n",
       "      <td>2021-10-17</td>\n",
       "      <td>2021</td>\n",
       "      <td>03:27:18:783634</td>\n",
       "      <td>10</td>\n",
       "      <td>17</td>\n",
       "      <td>4.20</td>\n",
       "      <td>0</td>\n",
       "      <td>m</td>\n",
       "      <td>1963</td>\n",
       "    </tr>\n",
       "    <tr>\n",
       "      <th>4</th>\n",
       "      <td>0_1351</td>\n",
       "      <td>2021-07-17 20:34:25.800563</td>\n",
       "      <td>63642</td>\n",
       "      <td>1242</td>\n",
       "      <td>2021-07-17</td>\n",
       "      <td>2021</td>\n",
       "      <td>20:34:25:800563</td>\n",
       "      <td>7</td>\n",
       "      <td>17</td>\n",
       "      <td>8.99</td>\n",
       "      <td>0</td>\n",
       "      <td>f</td>\n",
       "      <td>1980</td>\n",
       "    </tr>\n",
       "  </tbody>\n",
       "</table>\n",
       "</div>"
      ],
      "text/plain": [
       "  id_prod                       date  id_session  id_client         YMD     Y  \\\n",
       "0  0_1483 2021-04-10 18:37:28.723910       18746       4450  2021-04-10  2021   \n",
       "1   2_226 2022-02-03 01:55:53.276402      159142        277  2022-02-03  2022   \n",
       "2   1_374 2021-09-23 15:13:46.938559       94290       4270  2021-09-23  2021   \n",
       "3  0_2186 2021-10-17 03:27:18.783634      105936       4597  2021-10-17  2021   \n",
       "4  0_1351 2021-07-17 20:34:25.800563       63642       1242  2021-07-17  2021   \n",
       "\n",
       "             Heure   M   J  price  categ sex  birth  \n",
       "0  18:37:28:723910   4  10   4.99      0   f   1977  \n",
       "1  01:55:53:276402   2   3  65.75      2   f   2000  \n",
       "2  15:13:46:938559   9  23  10.71      1   f   1979  \n",
       "3  03:27:18:783634  10  17   4.20      0   m   1963  \n",
       "4  20:34:25:800563   7  17   8.99      0   f   1980  "
      ]
     },
     "execution_count": 86,
     "metadata": {},
     "output_type": "execute_result"
    }
   ],
   "source": [
    "# Jointure des tables df (df_sales+df_prod) et df_cust\n",
    "\n",
    "df = pd.merge(df, df_cust, on ='id_client', how='left')\n",
    "\n",
    "df.head()"
   ]
  },
  {
   "cell_type": "markdown",
   "metadata": {},
   "source": [
    "<div class=\"alert alert-block alert-info\">\n",
    "On peut choisir de faire :\n",
    "\n",
    "- une jointure externe gauche car on veut garder toutes les lignes de la table Sales mais pas les lignes de la table Produit qui ne figurent pas dans la table Sales.\n",
    "- une jointure interne (pour les mêmes raisons) et parce qu'on a vérifié au prealable que tous les produits de la table Sales figurent dans la table Produit."
   ]
  },
  {
   "cell_type": "markdown",
   "metadata": {},
   "source": [
    "## Cohérence des data"
   ]
  },
  {
   "cell_type": "markdown",
   "metadata": {},
   "source": [
    "### Outliers"
   ]
  },
  {
   "cell_type": "code",
   "execution_count": 87,
   "metadata": {
    "ExecuteTime": {
     "end_time": "2019-03-04T15:23:08.073204Z",
     "start_time": "2019-03-04T15:23:07.969482Z"
    }
   },
   "outputs": [
    {
     "data": {
      "text/plain": [
       "count      8600.000000\n",
       "mean        674.161192\n",
       "std        2566.002247\n",
       "min           4.150000\n",
       "25%         275.765000\n",
       "50%         501.345000\n",
       "75%         870.897500\n",
       "max      162007.340000\n",
       "Name: price, dtype: float64"
      ]
     },
     "execution_count": 87,
     "metadata": {},
     "output_type": "execute_result"
    }
   ],
   "source": [
    "# Vérification des outliers sur le montant des ventes par clients\n",
    "\n",
    "temp = df.groupby(['id_client']).sum().reset_index()\n",
    "\n",
    "temp.price.describe()"
   ]
  },
  {
   "cell_type": "markdown",
   "metadata": {},
   "source": [
    "<div class=\"alert alert-block alert-info\">\n",
    "\n",
    "Le max est très éloigné du 3ème quartile: on suspecte des outliers."
   ]
  },
  {
   "cell_type": "code",
   "execution_count": 88,
   "metadata": {
    "ExecuteTime": {
     "end_time": "2019-03-04T15:23:09.348054Z",
     "start_time": "2019-03-04T15:23:09.248355Z"
    },
    "code_folding": [
     0
    ]
   },
   "outputs": [
    {
     "data": {
      "image/png": "[encoded data removed]",
      "text/plain": [
       "<Figure size 432x288 with 1 Axes>"
      ]
     },
     "metadata": {
      "needs_background": "light"
     },
     "output_type": "display_data"
    }
   ],
   "source": [
    "# Distribution du montant total par clients\n",
    "\n",
    "X = temp['price'].tolist()\n",
    "dataset = [X]\n",
    "\n",
    "# Plot \n",
    "BoxName = ['Montant Total par clients']\n",
    "plt.boxplot(dataset)\n",
    "pylab.xticks([1], BoxName)\n",
    "\n",
    "plt.savefig('reports/NEP/Outliers_montant.png')"
   ]
  },
  {
   "cell_type": "markdown",
   "metadata": {},
   "source": [
    "<div class=\"alert alert-block alert-info\">\n",
    "\n",
    "- On a 4 clients avec des montant totaux extrêmes : 60 000€ - 80 000€ - 140 000 € et 160 000 €.\n",
    "- Ces clients peuvent correspondre à des entreprises, des bibliothèques, des écoles,...\n",
    "- Si on veut étudier le comportement des clients 'lambda' on devrait sortir ces valeurs du jeu de données."
   ]
  },
  {
   "cell_type": "code",
   "execution_count": 89,
   "metadata": {
    "ExecuteTime": {
     "end_time": "2019-03-04T15:23:12.015350Z",
     "start_time": "2019-03-04T15:23:11.853279Z"
    },
    "code_folding": [
     0
    ]
   },
   "outputs": [
    {
     "data": {
      "image/png": "[encoded data removed]",
      "text/plain": [
       "<Figure size 432x288 with 1 Axes>"
      ]
     },
     "metadata": {
      "needs_background": "light"
     },
     "output_type": "display_data"
    }
   ],
   "source": [
    "# Distribution du montant total des achats par clients\n",
    "\n",
    "fig, ax = plt.subplots()\n",
    "\n",
    "# Data\n",
    "X = temp['id_client']\n",
    "Y = temp['price']\n",
    "\n",
    "# Plot\n",
    "plt.plot(X, Y, 'o', label='original data', color='navy')\n",
    "\n",
    "# Plot settings\n",
    "plt.title('Observation des montants totaux dépensés par clients')\n",
    "ax.set_xlabel('id_clients')\n",
    "ax.set_ylabel('Montants totaux')\n",
    "\n",
    "# Plot BackUp\n",
    "plt.savefig('reports/NEP/scatter_montant_out.png')"
   ]
  },
  {
   "cell_type": "code",
   "execution_count": 90,
   "metadata": {
    "ExecuteTime": {
     "end_time": "2019-03-04T15:23:12.625265Z",
     "start_time": "2019-03-04T15:23:12.617250Z"
    }
   },
   "outputs": [
    {
     "data": {
      "text/html": [
       "<div>\n",
       "<style scoped>\n",
       "    .dataframe tbody tr th:only-of-type {\n",
       "        vertical-align: middle;\n",
       "    }\n",
       "\n",
       "    .dataframe tbody tr th {\n",
       "        vertical-align: top;\n",
       "    }\n",
       "\n",
       "    .dataframe thead th {\n",
       "        text-align: right;\n",
       "    }\n",
       "</style>\n",
       "<table border=\"1\" class=\"dataframe\">\n",
       "  <thead>\n",
       "    <tr style=\"text-align: right;\">\n",
       "      <th></th>\n",
       "      <th>id_client</th>\n",
       "      <th>sex</th>\n",
       "      <th>birth</th>\n",
       "    </tr>\n",
       "  </thead>\n",
       "  <tbody>\n",
       "    <tr>\n",
       "      <th>1378</th>\n",
       "      <td>4958</td>\n",
       "      <td>m</td>\n",
       "      <td>1999</td>\n",
       "    </tr>\n",
       "    <tr>\n",
       "      <th>1911</th>\n",
       "      <td>6714</td>\n",
       "      <td>f</td>\n",
       "      <td>1968</td>\n",
       "    </tr>\n",
       "    <tr>\n",
       "      <th>3642</th>\n",
       "      <td>1609</td>\n",
       "      <td>m</td>\n",
       "      <td>1980</td>\n",
       "    </tr>\n",
       "    <tr>\n",
       "      <th>8088</th>\n",
       "      <td>3454</td>\n",
       "      <td>m</td>\n",
       "      <td>1969</td>\n",
       "    </tr>\n",
       "  </tbody>\n",
       "</table>\n",
       "</div>"
      ],
      "text/plain": [
       "      id_client sex  birth\n",
       "1378       4958   m   1999\n",
       "1911       6714   f   1968\n",
       "3642       1609   m   1980\n",
       "8088       3454   m   1969"
      ]
     },
     "execution_count": 90,
     "metadata": {},
     "output_type": "execute_result"
    }
   ],
   "source": [
    "# Caractéristiques des clients correspondants aux 4 outliers\n",
    "\n",
    "liste_out = temp[temp.price > 50000].id_client.tolist()\n",
    "\n",
    "df_cust[df_cust['id_client'].isin(liste_out)]"
   ]
  },
  {
   "cell_type": "code",
   "execution_count": 91,
   "metadata": {
    "ExecuteTime": {
     "end_time": "2019-03-04T15:23:13.885312Z",
     "start_time": "2019-03-04T15:23:13.857410Z"
    }
   },
   "outputs": [
    {
     "data": {
      "text/html": [
       "<div>\n",
       "<style scoped>\n",
       "    .dataframe tbody tr th:only-of-type {\n",
       "        vertical-align: middle;\n",
       "    }\n",
       "\n",
       "    .dataframe tbody tr th {\n",
       "        vertical-align: top;\n",
       "    }\n",
       "\n",
       "    .dataframe thead th {\n",
       "        text-align: right;\n",
       "    }\n",
       "</style>\n",
       "<table border=\"1\" class=\"dataframe\">\n",
       "  <thead>\n",
       "    <tr style=\"text-align: right;\">\n",
       "      <th></th>\n",
       "      <th></th>\n",
       "      <th>id_session</th>\n",
       "    </tr>\n",
       "    <tr>\n",
       "      <th>id_client</th>\n",
       "      <th>Y</th>\n",
       "      <th></th>\n",
       "    </tr>\n",
       "  </thead>\n",
       "  <tbody>\n",
       "    <tr>\n",
       "      <th rowspan=\"2\" valign=\"top\">1609</th>\n",
       "      <th>2021</th>\n",
       "      <td>10770</td>\n",
       "    </tr>\n",
       "    <tr>\n",
       "      <th>2022</th>\n",
       "      <td>2085</td>\n",
       "    </tr>\n",
       "    <tr>\n",
       "      <th rowspan=\"2\" valign=\"top\">3454</th>\n",
       "      <th>2021</th>\n",
       "      <td>2641</td>\n",
       "    </tr>\n",
       "    <tr>\n",
       "      <th>2022</th>\n",
       "      <td>634</td>\n",
       "    </tr>\n",
       "    <tr>\n",
       "      <th rowspan=\"2\" valign=\"top\">4958</th>\n",
       "      <th>2021</th>\n",
       "      <td>2059</td>\n",
       "    </tr>\n",
       "    <tr>\n",
       "      <th>2022</th>\n",
       "      <td>503</td>\n",
       "    </tr>\n",
       "    <tr>\n",
       "      <th rowspan=\"2\" valign=\"top\">6714</th>\n",
       "      <th>2021</th>\n",
       "      <td>3745</td>\n",
       "    </tr>\n",
       "    <tr>\n",
       "      <th>2022</th>\n",
       "      <td>728</td>\n",
       "    </tr>\n",
       "  </tbody>\n",
       "</table>\n",
       "</div>"
      ],
      "text/plain": [
       "                id_session\n",
       "id_client Y               \n",
       "1609      2021       10770\n",
       "          2022        2085\n",
       "3454      2021        2641\n",
       "          2022         634\n",
       "4958      2021        2059\n",
       "          2022         503\n",
       "6714      2021        3745\n",
       "          2022         728"
      ]
     },
     "execution_count": 91,
     "metadata": {},
     "output_type": "execute_result"
    }
   ],
   "source": [
    "# Nombre d'achat par les 4 outliers\n",
    "\n",
    "df_sales[df_sales['id_client'].isin(liste_out)].groupby(['id_client','Y']).count()[['id_session']]"
   ]
  },
  {
   "cell_type": "code",
   "execution_count": 92,
   "metadata": {
    "ExecuteTime": {
     "end_time": "2019-03-04T15:23:14.678291Z",
     "start_time": "2019-03-04T15:23:14.650382Z"
    }
   },
   "outputs": [
    {
     "data": {
      "text/html": [
       "<div>\n",
       "<style scoped>\n",
       "    .dataframe tbody tr th:only-of-type {\n",
       "        vertical-align: middle;\n",
       "    }\n",
       "\n",
       "    .dataframe tbody tr th {\n",
       "        vertical-align: top;\n",
       "    }\n",
       "\n",
       "    .dataframe thead th {\n",
       "        text-align: right;\n",
       "    }\n",
       "</style>\n",
       "<table border=\"1\" class=\"dataframe\">\n",
       "  <thead>\n",
       "    <tr style=\"text-align: right;\">\n",
       "      <th></th>\n",
       "      <th>id_session</th>\n",
       "    </tr>\n",
       "  </thead>\n",
       "  <tbody>\n",
       "    <tr>\n",
       "      <th>count</th>\n",
       "      <td>8.000000</td>\n",
       "    </tr>\n",
       "    <tr>\n",
       "      <th>mean</th>\n",
       "      <td>2895.625000</td>\n",
       "    </tr>\n",
       "    <tr>\n",
       "      <th>std</th>\n",
       "      <td>3374.003723</td>\n",
       "    </tr>\n",
       "    <tr>\n",
       "      <th>min</th>\n",
       "      <td>503.000000</td>\n",
       "    </tr>\n",
       "    <tr>\n",
       "      <th>25%</th>\n",
       "      <td>704.500000</td>\n",
       "    </tr>\n",
       "    <tr>\n",
       "      <th>50%</th>\n",
       "      <td>2072.000000</td>\n",
       "    </tr>\n",
       "    <tr>\n",
       "      <th>75%</th>\n",
       "      <td>2917.000000</td>\n",
       "    </tr>\n",
       "    <tr>\n",
       "      <th>max</th>\n",
       "      <td>10770.000000</td>\n",
       "    </tr>\n",
       "  </tbody>\n",
       "</table>\n",
       "</div>"
      ],
      "text/plain": [
       "         id_session\n",
       "count      8.000000\n",
       "mean    2895.625000\n",
       "std     3374.003723\n",
       "min      503.000000\n",
       "25%      704.500000\n",
       "50%     2072.000000\n",
       "75%     2917.000000\n",
       "max    10770.000000"
      ]
     },
     "execution_count": 92,
     "metadata": {},
     "output_type": "execute_result"
    }
   ],
   "source": [
    "df_sales[df_sales['id_client'].isin(liste_out)].groupby(['id_client','Y']).count()[['id_session']].describe()"
   ]
  },
  {
   "cell_type": "code",
   "execution_count": 100,
   "metadata": {
    "ExecuteTime": {
     "end_time": "2019-03-04T15:24:05.183862Z",
     "start_time": "2019-03-04T15:24:05.071164Z"
    }
   },
   "outputs": [
    {
     "data": {
      "text/html": [
       "<div>\n",
       "<style scoped>\n",
       "    .dataframe tbody tr th:only-of-type {\n",
       "        vertical-align: middle;\n",
       "    }\n",
       "\n",
       "    .dataframe tbody tr th {\n",
       "        vertical-align: top;\n",
       "    }\n",
       "\n",
       "    .dataframe thead th {\n",
       "        text-align: right;\n",
       "    }\n",
       "</style>\n",
       "<table border=\"1\" class=\"dataframe\">\n",
       "  <thead>\n",
       "    <tr style=\"text-align: right;\">\n",
       "      <th></th>\n",
       "      <th>id_session</th>\n",
       "    </tr>\n",
       "  </thead>\n",
       "  <tbody>\n",
       "    <tr>\n",
       "      <th>count</th>\n",
       "      <td>15791.000000</td>\n",
       "    </tr>\n",
       "    <tr>\n",
       "      <th>mean</th>\n",
       "      <td>19.862643</td>\n",
       "    </tr>\n",
       "    <tr>\n",
       "      <th>std</th>\n",
       "      <td>24.077010</td>\n",
       "    </tr>\n",
       "    <tr>\n",
       "      <th>min</th>\n",
       "      <td>1.000000</td>\n",
       "    </tr>\n",
       "    <tr>\n",
       "      <th>25%</th>\n",
       "      <td>5.000000</td>\n",
       "    </tr>\n",
       "    <tr>\n",
       "      <th>50%</th>\n",
       "      <td>11.000000</td>\n",
       "    </tr>\n",
       "    <tr>\n",
       "      <th>75%</th>\n",
       "      <td>24.000000</td>\n",
       "    </tr>\n",
       "    <tr>\n",
       "      <th>max</th>\n",
       "      <td>179.000000</td>\n",
       "    </tr>\n",
       "  </tbody>\n",
       "</table>\n",
       "</div>"
      ],
      "text/plain": [
       "         id_session\n",
       "count  15791.000000\n",
       "mean      19.862643\n",
       "std       24.077010\n",
       "min        1.000000\n",
       "25%        5.000000\n",
       "50%       11.000000\n",
       "75%       24.000000\n",
       "max      179.000000"
      ]
     },
     "execution_count": 100,
     "metadata": {},
     "output_type": "execute_result"
    }
   ],
   "source": [
    "# Nombre d'achat pour les clients sans les 4 outliers\n",
    "\n",
    "df_sales[~df_sales['id_client'].isin(liste_out)].groupby(['id_client','Y']).count()[['id_session']].describe()"
   ]
  },
  {
   "cell_type": "code",
   "execution_count": 101,
   "metadata": {
    "ExecuteTime": {
     "end_time": "2019-03-04T15:24:05.917277Z",
     "start_time": "2019-03-04T15:24:05.903288Z"
    }
   },
   "outputs": [
    {
     "data": {
      "text/plain": [
       "23165"
      ]
     },
     "execution_count": 101,
     "metadata": {},
     "output_type": "execute_result"
    }
   ],
   "source": [
    "len(df_sales[df_sales['id_client'].isin(liste_out)])"
   ]
  },
  {
   "cell_type": "markdown",
   "metadata": {},
   "source": [
    "<div class=\"alert alert-block alert-info\">\n",
    "\n",
    "**Les 4 clients outliers :**\n",
    "\n",
    "- sont majoritairement des hommes : 1 femme seulement. \n",
    "- ont majoritairement entre 40 et 50 ans environ : 1 client à 23 ans.\n",
    "\n",
    "- ont achetés en moyenne 2900 livres environ en 2021 alors que la moyenne des autres clients est de 20 livres environ.\n",
    "\n",
    "\n",
    "Les 4 outliers ne sont pas représentatifs du reste des clients en termes de comportement d'achats. Si l'on souhaite étudier les ventes et les clients 'lambda' il est préférable de ne pas les intégrer à l'analyse. Qui plus est, ils représentent plus de 23165 lignes: leur poids dans l'analyse va donc peser lourd si on les conserve. "
   ]
  },
  {
   "cell_type": "code",
   "execution_count": 102,
   "metadata": {
    "ExecuteTime": {
     "end_time": "2019-03-04T15:24:07.397519Z",
     "start_time": "2019-03-04T15:24:07.254241Z"
    }
   },
   "outputs": [
    {
     "data": {
      "image/png": "[encoded data removed]",
      "text/plain": [
       "<Figure size 432x288 with 1 Axes>"
      ]
     },
     "metadata": {
      "needs_background": "light"
     },
     "output_type": "display_data"
    }
   ],
   "source": [
    "# Distribution du montant total par clients\n",
    "\n",
    "temp = df.groupby(['id_client']).sum().reset_index()\n",
    "X = temp['price'].tolist()\n",
    "dataset = [X]\n",
    "\n",
    "# Plot \n",
    "BoxName = ['Montant Total par clients']\n",
    "plt.boxplot(dataset)\n",
    "pylab.xticks([1], BoxName)\n",
    "\n",
    "plt.savefig('reports/NEP/sansOutliers_montant.png')"
   ]
  },
  {
   "cell_type": "code",
   "execution_count": 103,
   "metadata": {
    "ExecuteTime": {
     "end_time": "2019-03-04T15:24:10.080232Z",
     "start_time": "2019-03-04T15:24:10.076271Z"
    }
   },
   "outputs": [
    {
     "data": {
      "text/plain": [
       "313651"
      ]
     },
     "execution_count": 103,
     "metadata": {},
     "output_type": "execute_result"
    }
   ],
   "source": [
    "# Nombre de lignes du dataset avant extraction des outliers\n",
    "\n",
    "len(df)"
   ]
  },
  {
   "cell_type": "code",
   "execution_count": 104,
   "metadata": {
    "ExecuteTime": {
     "end_time": "2019-03-04T15:24:10.737110Z",
     "start_time": "2019-03-04T15:24:10.700209Z"
    }
   },
   "outputs": [],
   "source": [
    "# Extraction des outliers du dataset\n",
    "\n",
    "df = df[~df.id_client.isin(liste_out)]"
   ]
  },
  {
   "cell_type": "code",
   "execution_count": 105,
   "metadata": {
    "ExecuteTime": {
     "end_time": "2019-03-04T15:24:11.347141Z",
     "start_time": "2019-03-04T15:24:11.339140Z"
    }
   },
   "outputs": [
    {
     "data": {
      "text/html": [
       "<div>\n",
       "<style scoped>\n",
       "    .dataframe tbody tr th:only-of-type {\n",
       "        vertical-align: middle;\n",
       "    }\n",
       "\n",
       "    .dataframe tbody tr th {\n",
       "        vertical-align: top;\n",
       "    }\n",
       "\n",
       "    .dataframe thead th {\n",
       "        text-align: right;\n",
       "    }\n",
       "</style>\n",
       "<table border=\"1\" class=\"dataframe\">\n",
       "  <thead>\n",
       "    <tr style=\"text-align: right;\">\n",
       "      <th></th>\n",
       "      <th>id_prod</th>\n",
       "      <th>date</th>\n",
       "      <th>id_session</th>\n",
       "      <th>id_client</th>\n",
       "      <th>YMD</th>\n",
       "      <th>Y</th>\n",
       "      <th>Heure</th>\n",
       "      <th>M</th>\n",
       "      <th>J</th>\n",
       "      <th>price</th>\n",
       "      <th>categ</th>\n",
       "      <th>sex</th>\n",
       "      <th>birth</th>\n",
       "    </tr>\n",
       "  </thead>\n",
       "  <tbody>\n",
       "  </tbody>\n",
       "</table>\n",
       "</div>"
      ],
      "text/plain": [
       "Empty DataFrame\n",
       "Columns: [id_prod, date, id_session, id_client, YMD, Y, Heure, M, J, price, categ, sex, birth]\n",
       "Index: []"
      ]
     },
     "execution_count": 105,
     "metadata": {},
     "output_type": "execute_result"
    }
   ],
   "source": [
    "# Vérification\n",
    "\n",
    "df[df.id_client == 1609]"
   ]
  },
  {
   "cell_type": "code",
   "execution_count": 106,
   "metadata": {
    "ExecuteTime": {
     "end_time": "2019-03-04T15:24:11.896429Z",
     "start_time": "2019-03-04T15:24:11.892440Z"
    }
   },
   "outputs": [
    {
     "data": {
      "text/plain": [
       "313651"
      ]
     },
     "execution_count": 106,
     "metadata": {},
     "output_type": "execute_result"
    }
   ],
   "source": [
    "# Nombre de lignes du dataset après extraction des outliers\n",
    "\n",
    "len(df)"
   ]
  },
  {
   "cell_type": "markdown",
   "metadata": {},
   "source": [
    "### Valeurs manquantes"
   ]
  },
  {
   "cell_type": "code",
   "execution_count": 107,
   "metadata": {
    "ExecuteTime": {
     "end_time": "2019-03-04T15:24:13.200340Z",
     "start_time": "2019-03-04T15:24:13.138500Z"
    }
   },
   "outputs": [],
   "source": [
    "# Aggrégation par jours : ventes totales quotidiennes\n",
    "\n",
    "CA = df.groupby(['YMD']).sum().reset_index()[['YMD','price']]"
   ]
  },
  {
   "cell_type": "code",
   "execution_count": 108,
   "metadata": {
    "ExecuteTime": {
     "end_time": "2019-03-04T15:24:13.777204Z",
     "start_time": "2019-03-04T15:24:13.771220Z"
    }
   },
   "outputs": [
    {
     "data": {
      "text/html": [
       "<div>\n",
       "<style scoped>\n",
       "    .dataframe tbody tr th:only-of-type {\n",
       "        vertical-align: middle;\n",
       "    }\n",
       "\n",
       "    .dataframe tbody tr th {\n",
       "        vertical-align: top;\n",
       "    }\n",
       "\n",
       "    .dataframe thead th {\n",
       "        text-align: right;\n",
       "    }\n",
       "</style>\n",
       "<table border=\"1\" class=\"dataframe\">\n",
       "  <thead>\n",
       "    <tr style=\"text-align: right;\">\n",
       "      <th></th>\n",
       "      <th>YMD</th>\n",
       "      <th>price</th>\n",
       "    </tr>\n",
       "  </thead>\n",
       "  <tbody>\n",
       "    <tr>\n",
       "      <th>0</th>\n",
       "      <td>2021-03-01</td>\n",
       "      <td>15331.402795</td>\n",
       "    </tr>\n",
       "    <tr>\n",
       "      <th>1</th>\n",
       "      <td>2021-03-02</td>\n",
       "      <td>14421.222795</td>\n",
       "    </tr>\n",
       "    <tr>\n",
       "      <th>2</th>\n",
       "      <td>2021-03-03</td>\n",
       "      <td>13602.030000</td>\n",
       "    </tr>\n",
       "    <tr>\n",
       "      <th>3</th>\n",
       "      <td>2021-03-04</td>\n",
       "      <td>13418.640000</td>\n",
       "    </tr>\n",
       "    <tr>\n",
       "      <th>4</th>\n",
       "      <td>2021-03-05</td>\n",
       "      <td>15918.130000</td>\n",
       "    </tr>\n",
       "  </tbody>\n",
       "</table>\n",
       "</div>"
      ],
      "text/plain": [
       "          YMD         price\n",
       "0  2021-03-01  15331.402795\n",
       "1  2021-03-02  14421.222795\n",
       "2  2021-03-03  13602.030000\n",
       "3  2021-03-04  13418.640000\n",
       "4  2021-03-05  15918.130000"
      ]
     },
     "execution_count": 108,
     "metadata": {},
     "output_type": "execute_result"
    }
   ],
   "source": [
    "CA.head()"
   ]
  },
  {
   "cell_type": "code",
   "execution_count": 109,
   "metadata": {
    "ExecuteTime": {
     "end_time": "2019-03-04T15:24:14.819481Z",
     "start_time": "2019-03-04T15:24:14.595303Z"
    },
    "code_folding": [
     0
    ]
   },
   "outputs": [
    {
     "data": {
      "image/png": "[encoded data removed]",
      "text/plain": [
       "<Figure size 432x288 with 1 Axes>"
      ]
     },
     "metadata": {
      "needs_background": "light"
     },
     "output_type": "display_data"
    }
   ],
   "source": [
    "# Evolution du CA journalier entre Mars 2021 et Février 2022\n",
    "\n",
    "#Grid\n",
    "fig, ax = plt.subplots()\n",
    "ax.grid(color='grey', linestyle='dotted')\n",
    "\n",
    "# Plot\n",
    "plt1 = ax.plot(CA['YMD'] ,CA['price'],color='blue', linestyle='solid',label='CA')\n",
    "\n",
    "# x axis\n",
    "ax.xaxis.set_major_locator(ticker.MaxNLocator(12))\n",
    "ax.xaxis.set_minor_locator(ticker.MaxNLocator(48))\n",
    "plt.xticks(rotation = 45)\n",
    "ax.xaxis.set_ticks_position('bottom')\n",
    "ax.xaxis.set_tick_params('left')\n",
    "\n",
    "\n",
    "#y axis\n",
    "ax.set_ylabel('CA en €', color='b')\n",
    "ax.yaxis.set_ticks_position('left')\n",
    "\n",
    "# settings\n",
    "plt.title(\"Evolution du CA entre Mars 2021 et Fevrier 2022\")\n",
    "\n",
    "# back-up\n",
    "plt.savefig('reports/CA_global.png')"
   ]
  },
  {
   "cell_type": "markdown",
   "metadata": {
    "ExecuteTime": {
     "end_time": "2019-02-28T13:54:04.179068Z",
     "start_time": "2019-02-28T13:54:04.175065Z"
    }
   },
   "source": [
    "<div class=\"alert alert-block alert-info\">\n",
    "<b>Tip:</b> On observe une chûte brutale des ventes entre Septembre et Octobre 2021.\n",
    "    \n",
    "    \n",
    "La question est de savoir si cette chûte est dûe à :\n",
    "- l'activité de l'entreprise (arrêt d'une activité,...); \n",
    "- un problème technique sur le site internet ;\n",
    "- ou bien un autre bug entraînant la perte de data sur cette période là."
   ]
  },
  {
   "cell_type": "code",
   "execution_count": 110,
   "metadata": {
    "ExecuteTime": {
     "end_time": "2019-03-04T15:24:18.747015Z",
     "start_time": "2019-03-04T15:24:18.670220Z"
    },
    "code_folding": []
   },
   "outputs": [],
   "source": [
    "# Aggrégation par mois : ventes totales mensuelles\n",
    "\n",
    "df['session'] = 1\n",
    "\n",
    "CA_m1 = df.groupby(['Y','M']).sum().reset_index()[['M','price','session']]"
   ]
  },
  {
   "cell_type": "code",
   "execution_count": 111,
   "metadata": {
    "ExecuteTime": {
     "end_time": "2019-03-04T15:24:19.948036Z",
     "start_time": "2019-03-04T15:24:19.811361Z"
    },
    "code_folding": [
     0
    ]
   },
   "outputs": [
    {
     "data": {
      "image/png": "[encoded data removed]",
      "text/plain": [
       "<Figure size 432x288 with 1 Axes>"
      ]
     },
     "metadata": {
      "needs_background": "light"
     },
     "output_type": "display_data"
    }
   ],
   "source": [
    "# Evolution du CA par mois \n",
    "\n",
    "fig, ax = plt.subplots(figsize=[6,4])\n",
    "\n",
    "# Values of each group\n",
    "bars = CA_m1['price'].tolist()\n",
    "\n",
    "# The position of the bars on the x-axis\n",
    "r = [0,1,2,3,4,5,6,7,8,9,10,11]\n",
    "\n",
    "# Names of group and bar width\n",
    "names = ['mars','avril','mai','juin','juillet','aout','septembre','octobre','novembre','decembre','janvier - 2022',\n",
    "         'fevrier 2022']\n",
    "barWidth = 0.7\n",
    "\n",
    "# Create bars\n",
    "p0 = plt.bar(r, bars, color='mediumaquamarine', edgecolor='white', width=barWidth)\n",
    "\n",
    "# Custom X axis\n",
    "plt.xticks(r, names, fontweight='bold', rotation=90)\n",
    "\n",
    "# back-up\n",
    "plt.savefig('reports/Ventes/CA_mensuel.png')"
   ]
  },
  {
   "cell_type": "markdown",
   "metadata": {
    "ExecuteTime": {
     "end_time": "2019-02-28T13:55:02.861584Z",
     "start_time": "2019-02-28T13:55:02.857617Z"
    }
   },
   "source": [
    "<div class=\"alert alert-block alert-info\">\n",
    "<b>Tip:</b> La chûte du CA a lieu en Octobre 2021.\n",
    "</div>"
   ]
  },
  {
   "cell_type": "code",
   "execution_count": 112,
   "metadata": {
    "ExecuteTime": {
     "end_time": "2019-03-04T15:24:21.455174Z",
     "start_time": "2019-03-04T15:24:21.390351Z"
    }
   },
   "outputs": [],
   "source": [
    "# Aggrégation par mois et catégories\n",
    "\n",
    "CA_m = df.groupby(['Y','M','categ']).sum().reset_index()[['Y','M','categ','price','session']]"
   ]
  },
  {
   "cell_type": "code",
   "execution_count": 113,
   "metadata": {
    "ExecuteTime": {
     "end_time": "2019-03-04T15:24:22.420061Z",
     "start_time": "2019-03-04T15:24:22.222289Z"
    },
    "code_folding": [
     0
    ]
   },
   "outputs": [
    {
     "data": {
      "image/png": "[encoded data removed]",
      "text/plain": [
       "<Figure size 432x288 with 1 Axes>"
      ]
     },
     "metadata": {
      "needs_background": "light"
     },
     "output_type": "display_data"
    }
   ],
   "source": [
    "# Evolution du CA par mois et catégories\n",
    "\n",
    "fig, ax = plt.subplots(figsize=[6,4])\n",
    "\n",
    "# Values of each group\n",
    "bars0 = CA_m[CA_m['categ'] == 0].groupby(['Y','M']).sum()['price']\n",
    "bars1 = CA_m[CA_m['categ'] == 1].groupby(['Y','M']).sum()['price']\n",
    "bars2 = CA_m[CA_m['categ'] == 2].groupby(['Y','M']).sum()['price']\n",
    "# Heights of bars0 + bars1 (TO DO better)\n",
    "bars = CA_m[CA_m['categ'] != 2].groupby(['Y','M']).sum()['price']\n",
    "\n",
    "# The position of the bars on the x-axis\n",
    "r = [0,1,2,3,4,5,6,7,8,9,10,11]\n",
    "\n",
    "# Names of group and bar width\n",
    "names = ['mars','avril','mai','juin','juillet','août','septembre','octobre','novembre','décembre','janvier - 2022',\n",
    "         'février 2022']\n",
    "barWidth = 0.7\n",
    "\n",
    "# Create bars\n",
    "p0 = plt.bar(r, bars0, color='darkturquoise', edgecolor='white', width=barWidth)\n",
    "p1 = plt.bar(r, bars1, bottom=bars0, color='cornflowerblue', edgecolor='white', width=barWidth)\n",
    "p2 = plt.bar(r, bars2, bottom=bars, color='royalblue', edgecolor='white', width=barWidth)\n",
    "\n",
    "# Custom X axis\n",
    "plt.xticks(r, names, fontweight='bold', rotation=90)\n",
    "\n",
    "# Legend\n",
    "plt.legend((p0[0],p1[0], p2[0]), ('cat.0', 'cat.1','cat.2'), loc=[1.05,0.76])\n",
    "plt.title('Evolution du CA mensuel par catégories')\n",
    "\n",
    "# back-up\n",
    "plt.savefig('reports/Ventes/CA_cat_stack.png')\n",
    "\n",
    "# Show graphic\n",
    "plt.show()"
   ]
  },
  {
   "cell_type": "markdown",
   "metadata": {},
   "source": [
    "<div class=\"alert alert-block alert-info\">\n",
    "<b>Tip:</b> La chûte du CA correspond à une chûte des ventes sur la cat.1 au mois d'Octobre 2021. Les ventes sur les autres catégories restant relativement homogènes.\n",
    "    \n",
    "- Considérant que les ventes après le mois d'Octobre existent sur cette catégorie : il ne s'agit pas d'un arrêt de l'activité sur cette catégorie.\n",
    "- Cela pourrait être dû à un problème d'approvisionnement fournisseur et les ventes de la cat.1 au mois d'Octobre correspondraient à la consommation du  stock. \n",
    "- Cela pourrait être lié à un problème technique sur les data et dans ce cas, je pourrais choisir de corriger le mois d'Octobre avec la moyenne mensuelle."
   ]
  },
  {
   "cell_type": "code",
   "execution_count": 114,
   "metadata": {
    "ExecuteTime": {
     "end_time": "2019-03-04T15:24:23.985229Z",
     "start_time": "2019-03-04T15:24:23.978248Z"
    },
    "code_folding": []
   },
   "outputs": [
    {
     "data": {
      "text/html": [
       "<div>\n",
       "<style scoped>\n",
       "    .dataframe tbody tr th:only-of-type {\n",
       "        vertical-align: middle;\n",
       "    }\n",
       "\n",
       "    .dataframe tbody tr th {\n",
       "        vertical-align: top;\n",
       "    }\n",
       "\n",
       "    .dataframe thead th {\n",
       "        text-align: right;\n",
       "    }\n",
       "</style>\n",
       "<table border=\"1\" class=\"dataframe\">\n",
       "  <thead>\n",
       "    <tr style=\"text-align: right;\">\n",
       "      <th></th>\n",
       "      <th>Y</th>\n",
       "      <th>M</th>\n",
       "      <th>categ</th>\n",
       "      <th>price</th>\n",
       "      <th>session</th>\n",
       "    </tr>\n",
       "  </thead>\n",
       "  <tbody>\n",
       "    <tr>\n",
       "      <th>21</th>\n",
       "      <td>2021</td>\n",
       "      <td>10</td>\n",
       "      <td>0</td>\n",
       "      <td>184858.079562</td>\n",
       "      <td>17414</td>\n",
       "    </tr>\n",
       "    <tr>\n",
       "      <th>22</th>\n",
       "      <td>2021</td>\n",
       "      <td>10</td>\n",
       "      <td>1</td>\n",
       "      <td>31892.010000</td>\n",
       "      <td>1571</td>\n",
       "    </tr>\n",
       "    <tr>\n",
       "      <th>23</th>\n",
       "      <td>2021</td>\n",
       "      <td>10</td>\n",
       "      <td>2</td>\n",
       "      <td>78570.590000</td>\n",
       "      <td>1058</td>\n",
       "    </tr>\n",
       "  </tbody>\n",
       "</table>\n",
       "</div>"
      ],
      "text/plain": [
       "       Y   M  categ          price  session\n",
       "21  2021  10      0  184858.079562    17414\n",
       "22  2021  10      1   31892.010000     1571\n",
       "23  2021  10      2   78570.590000     1058"
      ]
     },
     "execution_count": 114,
     "metadata": {},
     "output_type": "execute_result"
    }
   ],
   "source": [
    "# CA au mois d'Octobre avant correction\n",
    "\n",
    "CA_m[CA_m.M == 10]"
   ]
  },
  {
   "cell_type": "code",
   "execution_count": 115,
   "metadata": {
    "ExecuteTime": {
     "end_time": "2019-03-04T15:24:24.867247Z",
     "start_time": "2019-03-04T15:24:24.857285Z"
    },
    "code_folding": [
     0
    ]
   },
   "outputs": [
    {
     "data": {
      "text/html": [
       "<div>\n",
       "<style scoped>\n",
       "    .dataframe tbody tr th:only-of-type {\n",
       "        vertical-align: middle;\n",
       "    }\n",
       "\n",
       "    .dataframe tbody tr th {\n",
       "        vertical-align: top;\n",
       "    }\n",
       "\n",
       "    .dataframe thead th {\n",
       "        text-align: right;\n",
       "    }\n",
       "</style>\n",
       "<table border=\"1\" class=\"dataframe\">\n",
       "  <thead>\n",
       "    <tr style=\"text-align: right;\">\n",
       "      <th></th>\n",
       "      <th>Y</th>\n",
       "      <th>M</th>\n",
       "      <th>categ</th>\n",
       "      <th>price</th>\n",
       "      <th>session</th>\n",
       "    </tr>\n",
       "  </thead>\n",
       "  <tbody>\n",
       "    <tr>\n",
       "      <th>21</th>\n",
       "      <td>2021</td>\n",
       "      <td>10</td>\n",
       "      <td>0</td>\n",
       "      <td>184858.079562</td>\n",
       "      <td>17414.000000</td>\n",
       "    </tr>\n",
       "    <tr>\n",
       "      <th>22</th>\n",
       "      <td>2021</td>\n",
       "      <td>10</td>\n",
       "      <td>1</td>\n",
       "      <td>175132.111667</td>\n",
       "      <td>8552.083333</td>\n",
       "    </tr>\n",
       "    <tr>\n",
       "      <th>23</th>\n",
       "      <td>2021</td>\n",
       "      <td>10</td>\n",
       "      <td>2</td>\n",
       "      <td>78570.590000</td>\n",
       "      <td>1058.000000</td>\n",
       "    </tr>\n",
       "  </tbody>\n",
       "</table>\n",
       "</div>"
      ],
      "text/plain": [
       "       Y   M  categ          price       session\n",
       "21  2021  10      0  184858.079562  17414.000000\n",
       "22  2021  10      1  175132.111667   8552.083333\n",
       "23  2021  10      2   78570.590000   1058.000000"
      ]
     },
     "execution_count": 115,
     "metadata": {},
     "output_type": "execute_result"
    }
   ],
   "source": [
    "# Imputation par la moyenne\n",
    "\n",
    "CA_m2 = CA_m.copy()\n",
    "\n",
    "CA_m2.iloc[22,3] = CA_m2[CA_m2['categ'] == 1]['price'].mean() # correction du CA\n",
    "CA_m2.iloc[22,4] = CA_m2[CA_m2['categ'] == 1]['session'].mean() # correction du nb de ventes\n",
    "\n",
    "CA_m2[CA_m2.M == 10]"
   ]
  },
  {
   "cell_type": "code",
   "execution_count": 116,
   "metadata": {
    "ExecuteTime": {
     "end_time": "2019-03-04T15:24:26.580984Z",
     "start_time": "2019-03-04T15:24:26.576995Z"
    },
    "code_folding": []
   },
   "outputs": [],
   "source": [
    "# CA corrigé au mois d'Octobre\n",
    "\n",
    "Octobre = CA_m2[CA_m2.M == 10].price.sum()\n",
    "\n",
    "# Nombres de ventes corrigées\n",
    "\n",
    "Octobre2 = CA_m2[CA_m2.M == 10].session.sum()"
   ]
  },
  {
   "cell_type": "code",
   "execution_count": 117,
   "metadata": {
    "ExecuteTime": {
     "end_time": "2019-03-04T15:24:27.559211Z",
     "start_time": "2019-03-04T15:24:27.550235Z"
    },
    "code_folding": []
   },
   "outputs": [
    {
     "data": {
      "text/html": [
       "<div>\n",
       "<style scoped>\n",
       "    .dataframe tbody tr th:only-of-type {\n",
       "        vertical-align: middle;\n",
       "    }\n",
       "\n",
       "    .dataframe tbody tr th {\n",
       "        vertical-align: top;\n",
       "    }\n",
       "\n",
       "    .dataframe thead th {\n",
       "        text-align: right;\n",
       "    }\n",
       "</style>\n",
       "<table border=\"1\" class=\"dataframe\">\n",
       "  <thead>\n",
       "    <tr style=\"text-align: right;\">\n",
       "      <th></th>\n",
       "      <th>M</th>\n",
       "      <th>price</th>\n",
       "      <th>session</th>\n",
       "    </tr>\n",
       "  </thead>\n",
       "  <tbody>\n",
       "    <tr>\n",
       "      <th>0</th>\n",
       "      <td>3</td>\n",
       "      <td>443044.705152</td>\n",
       "      <td>26616.000000</td>\n",
       "    </tr>\n",
       "    <tr>\n",
       "      <th>1</th>\n",
       "      <td>4</td>\n",
       "      <td>436338.330741</td>\n",
       "      <td>26439.000000</td>\n",
       "    </tr>\n",
       "    <tr>\n",
       "      <th>2</th>\n",
       "      <td>5</td>\n",
       "      <td>451405.802357</td>\n",
       "      <td>26232.000000</td>\n",
       "    </tr>\n",
       "    <tr>\n",
       "      <th>3</th>\n",
       "      <td>6</td>\n",
       "      <td>444937.866768</td>\n",
       "      <td>25014.000000</td>\n",
       "    </tr>\n",
       "    <tr>\n",
       "      <th>4</th>\n",
       "      <td>7</td>\n",
       "      <td>445703.341178</td>\n",
       "      <td>23053.000000</td>\n",
       "    </tr>\n",
       "    <tr>\n",
       "      <th>5</th>\n",
       "      <td>8</td>\n",
       "      <td>443277.275152</td>\n",
       "      <td>23926.000000</td>\n",
       "    </tr>\n",
       "    <tr>\n",
       "      <th>6</th>\n",
       "      <td>9</td>\n",
       "      <td>466891.153535</td>\n",
       "      <td>30931.000000</td>\n",
       "    </tr>\n",
       "    <tr>\n",
       "      <th>7</th>\n",
       "      <td>10</td>\n",
       "      <td>438560.781229</td>\n",
       "      <td>27024.083333</td>\n",
       "    </tr>\n",
       "    <tr>\n",
       "      <th>8</th>\n",
       "      <td>11</td>\n",
       "      <td>475229.807946</td>\n",
       "      <td>26289.000000</td>\n",
       "    </tr>\n",
       "    <tr>\n",
       "      <th>9</th>\n",
       "      <td>12</td>\n",
       "      <td>484825.929562</td>\n",
       "      <td>30175.000000</td>\n",
       "    </tr>\n",
       "    <tr>\n",
       "      <th>10</th>\n",
       "      <td>1</td>\n",
       "      <td>486634.043973</td>\n",
       "      <td>27391.000000</td>\n",
       "    </tr>\n",
       "    <tr>\n",
       "      <th>11</th>\n",
       "      <td>2</td>\n",
       "      <td>490225.570741</td>\n",
       "      <td>27542.000000</td>\n",
       "    </tr>\n",
       "  </tbody>\n",
       "</table>\n",
       "</div>"
      ],
      "text/plain": [
       "     M          price       session\n",
       "0    3  443044.705152  26616.000000\n",
       "1    4  436338.330741  26439.000000\n",
       "2    5  451405.802357  26232.000000\n",
       "3    6  444937.866768  25014.000000\n",
       "4    7  445703.341178  23053.000000\n",
       "5    8  443277.275152  23926.000000\n",
       "6    9  466891.153535  30931.000000\n",
       "7   10  438560.781229  27024.083333\n",
       "8   11  475229.807946  26289.000000\n",
       "9   12  484825.929562  30175.000000\n",
       "10   1  486634.043973  27391.000000\n",
       "11   2  490225.570741  27542.000000"
      ]
     },
     "execution_count": 117,
     "metadata": {},
     "output_type": "execute_result"
    }
   ],
   "source": [
    "# Imputation par le CA corrigé sur Dataframe mensuel toute cat. confondues\n",
    "\n",
    "CA_m1_2 = CA_m1.copy()\n",
    "CA_m1_2.iloc[7,1] = Octobre\n",
    "CA_m1_2.iloc[7,2] = Octobre2\n",
    "\n",
    "CA_m1_2"
   ]
  },
  {
   "cell_type": "code",
   "execution_count": 118,
   "metadata": {
    "ExecuteTime": {
     "end_time": "2019-03-04T15:24:32.954913Z",
     "start_time": "2019-03-04T15:24:32.784033Z"
    },
    "code_folding": []
   },
   "outputs": [
    {
     "data": {
      "image/png": "[encoded data removed]",
      "text/plain": [
       "<Figure size 432x288 with 1 Axes>"
      ]
     },
     "metadata": {
      "needs_background": "light"
     },
     "output_type": "display_data"
    }
   ],
   "source": [
    "# Evolution du CA par mois - correction sur Octobre \n",
    "\n",
    "fig, ax = plt.subplots()\n",
    "\n",
    "# Values of each group\n",
    "bars1 = CA_m1_2['price'].tolist()\n",
    "bars0 = CA_m1['price'].tolist()\n",
    "\n",
    "# The position of the bars on the x-axis\n",
    "r = [0,1,2,3,4,5,6,7,8,9,10,11]\n",
    "\n",
    "# Names of group and bar width\n",
    "names = ['mars','avril','mai','juin','juillet','aout','septembre','octobre','novembre','decembre','janvier - 2022',\n",
    "         'fevrier 2022']\n",
    "barWidth = 0.7\n",
    "\n",
    "# Create bars\n",
    "p1 = plt.bar(r, bars1, color='cornflowerblue', edgecolor='white', width=barWidth)\n",
    "p0 = plt.bar(r, bars0, color='darkturquoise', edgecolor='white', width=barWidth)\n",
    "\n",
    "# Custom X axis\n",
    "plt.xticks(r, names, fontweight='bold', rotation=90)\n",
    "\n",
    "# Legend\n",
    "plt.legend((p0[0],p1[0]), ('sans correction', 'avec correction'), loc=[1.05,0.76])\n",
    "plt.title('Evolution du CA mensuel')\n",
    "\n",
    "# back-up\n",
    "plt.savefig('reports/Ventes/CA_mensuel.png')\n",
    "\n",
    "# Show graphic\n",
    "plt.show()"
   ]
  },
  {
   "cell_type": "code",
   "execution_count": 119,
   "metadata": {
    "ExecuteTime": {
     "end_time": "2019-03-04T15:24:35.856267Z",
     "start_time": "2019-03-04T15:24:35.653251Z"
    },
    "code_folding": [
     0
    ]
   },
   "outputs": [
    {
     "data": {
      "image/png": "[encoded data removed]",
      "text/plain": [
       "<Figure size 432x288 with 1 Axes>"
      ]
     },
     "metadata": {
      "needs_background": "light"
     },
     "output_type": "display_data"
    }
   ],
   "source": [
    "# Observation du CA par mois et catégories - après 'correction' sur mois Octobre \n",
    "\n",
    "fig, ax = plt.subplots()\n",
    "\n",
    "# Values of each group\n",
    "bars0 = CA_m2[CA_m2['categ'] == 0].groupby(['Y','M']).sum()['price']\n",
    "bars1 = CA_m2[CA_m2['categ'] == 1].groupby(['Y','M']).sum()['price']\n",
    "bars2 = CA_m2[CA_m2['categ'] == 2].groupby(['Y','M']).sum()['price']\n",
    "# Heights of bars0 + bars1 (TO DO better)\n",
    "bars = CA_m2[CA_m2['categ'] != 2].groupby(['Y','M']).sum()['price']\n",
    "mean = CA_m1_2['price'].mean()\n",
    "\n",
    "# The position of the bars on the x-axis\n",
    "r = [0,1,2,3,4,5,6,7,8,9,10,11]\n",
    "\n",
    "# Names of group and bar width\n",
    "names = ['mars','avril','mai','juin','juillet','août','septembre','octobre','novembre','décembre','janvier - 2022',\n",
    "         'février 2022']\n",
    "barWidth = 0.7\n",
    "\n",
    "# Create bars\n",
    "p0 = plt.bar(r, bars0, color='darkturquoise', edgecolor='white', width=barWidth)\n",
    "p1 = plt.bar(r, bars1, bottom=bars0, color='cornflowerblue', edgecolor='white', width=barWidth)\n",
    "p2 = plt.bar(r, bars2, bottom=bars, color='royalblue', edgecolor='white', width=barWidth)\n",
    "ax.axhline(y=mean, color='r', linestyle='dotted',linewidth=2,label='Moyenne du CA')\n",
    "\n",
    "# Custom X axis\n",
    "plt.xticks(r, names, fontweight='bold', rotation=90)\n",
    "\n",
    "# Legend\n",
    "plt.legend((p0[0],p1[0], p2[0]), ('cat.0', 'cat.1','cat.2'), loc=[1.05,0.76])\n",
    "plt.title('Evolution du CA mensuel par catégories')\n",
    "\n",
    "# back-up\n",
    "plt.savefig('reports/Ventes/CA_cat_stack.png')\n",
    "\n",
    "# Show graphic\n",
    "plt.show()"
   ]
  },
  {
   "cell_type": "markdown",
   "metadata": {},
   "source": [
    "<div class=\"alert alert-block alert-info\">\n",
    "    \n",
    "- On peut corriger le CA du mois d'Octobre via la moyenne de la catégorie 1 dans la table d'aggrégation correspondant au dataframe source groupé sur les mois.\n",
    "- On ne peut pas corriger le dataframe source car nous n'avons pas de valeurs à renseigner pour les id_clients/session/produits, âge, sexe."
   ]
  },
  {
   "cell_type": "markdown",
   "metadata": {
    "ExecuteTime": {
     "end_time": "2019-02-24T15:26:23.536301Z",
     "start_time": "2019-02-24T15:26:23.533309Z"
    }
   },
   "source": [
    "## Création de colonnes"
   ]
  },
  {
   "cell_type": "code",
   "execution_count": 120,
   "metadata": {
    "ExecuteTime": {
     "end_time": "2019-03-04T15:24:45.949973Z",
     "start_time": "2019-03-04T15:24:45.914070Z"
    }
   },
   "outputs": [
    {
     "data": {
      "text/html": [
       "<div>\n",
       "<style scoped>\n",
       "    .dataframe tbody tr th:only-of-type {\n",
       "        vertical-align: middle;\n",
       "    }\n",
       "\n",
       "    .dataframe tbody tr th {\n",
       "        vertical-align: top;\n",
       "    }\n",
       "\n",
       "    .dataframe thead th {\n",
       "        text-align: right;\n",
       "    }\n",
       "</style>\n",
       "<table border=\"1\" class=\"dataframe\">\n",
       "  <thead>\n",
       "    <tr style=\"text-align: right;\">\n",
       "      <th></th>\n",
       "      <th>id_prod</th>\n",
       "      <th>date</th>\n",
       "      <th>id_session</th>\n",
       "      <th>id_client</th>\n",
       "      <th>YMD</th>\n",
       "      <th>Y</th>\n",
       "      <th>Heure</th>\n",
       "      <th>M</th>\n",
       "      <th>J</th>\n",
       "      <th>price</th>\n",
       "      <th>categ</th>\n",
       "      <th>sex</th>\n",
       "      <th>birth</th>\n",
       "      <th>session</th>\n",
       "      <th>age</th>\n",
       "    </tr>\n",
       "  </thead>\n",
       "  <tbody>\n",
       "    <tr>\n",
       "      <th>0</th>\n",
       "      <td>0_1483</td>\n",
       "      <td>2021-04-10 18:37:28.723910</td>\n",
       "      <td>18746</td>\n",
       "      <td>4450</td>\n",
       "      <td>2021-04-10</td>\n",
       "      <td>2021</td>\n",
       "      <td>18:37:28:723910</td>\n",
       "      <td>4</td>\n",
       "      <td>10</td>\n",
       "      <td>4.99</td>\n",
       "      <td>0</td>\n",
       "      <td>f</td>\n",
       "      <td>1977</td>\n",
       "      <td>1</td>\n",
       "      <td>45</td>\n",
       "    </tr>\n",
       "    <tr>\n",
       "      <th>1</th>\n",
       "      <td>2_226</td>\n",
       "      <td>2022-02-03 01:55:53.276402</td>\n",
       "      <td>159142</td>\n",
       "      <td>277</td>\n",
       "      <td>2022-02-03</td>\n",
       "      <td>2022</td>\n",
       "      <td>01:55:53:276402</td>\n",
       "      <td>2</td>\n",
       "      <td>3</td>\n",
       "      <td>65.75</td>\n",
       "      <td>2</td>\n",
       "      <td>f</td>\n",
       "      <td>2000</td>\n",
       "      <td>1</td>\n",
       "      <td>22</td>\n",
       "    </tr>\n",
       "    <tr>\n",
       "      <th>2</th>\n",
       "      <td>1_374</td>\n",
       "      <td>2021-09-23 15:13:46.938559</td>\n",
       "      <td>94290</td>\n",
       "      <td>4270</td>\n",
       "      <td>2021-09-23</td>\n",
       "      <td>2021</td>\n",
       "      <td>15:13:46:938559</td>\n",
       "      <td>9</td>\n",
       "      <td>23</td>\n",
       "      <td>10.71</td>\n",
       "      <td>1</td>\n",
       "      <td>f</td>\n",
       "      <td>1979</td>\n",
       "      <td>1</td>\n",
       "      <td>43</td>\n",
       "    </tr>\n",
       "    <tr>\n",
       "      <th>3</th>\n",
       "      <td>0_2186</td>\n",
       "      <td>2021-10-17 03:27:18.783634</td>\n",
       "      <td>105936</td>\n",
       "      <td>4597</td>\n",
       "      <td>2021-10-17</td>\n",
       "      <td>2021</td>\n",
       "      <td>03:27:18:783634</td>\n",
       "      <td>10</td>\n",
       "      <td>17</td>\n",
       "      <td>4.20</td>\n",
       "      <td>0</td>\n",
       "      <td>m</td>\n",
       "      <td>1963</td>\n",
       "      <td>1</td>\n",
       "      <td>59</td>\n",
       "    </tr>\n",
       "    <tr>\n",
       "      <th>4</th>\n",
       "      <td>0_1351</td>\n",
       "      <td>2021-07-17 20:34:25.800563</td>\n",
       "      <td>63642</td>\n",
       "      <td>1242</td>\n",
       "      <td>2021-07-17</td>\n",
       "      <td>2021</td>\n",
       "      <td>20:34:25:800563</td>\n",
       "      <td>7</td>\n",
       "      <td>17</td>\n",
       "      <td>8.99</td>\n",
       "      <td>0</td>\n",
       "      <td>f</td>\n",
       "      <td>1980</td>\n",
       "      <td>1</td>\n",
       "      <td>42</td>\n",
       "    </tr>\n",
       "  </tbody>\n",
       "</table>\n",
       "</div>"
      ],
      "text/plain": [
       "  id_prod                       date  id_session  id_client         YMD     Y  \\\n",
       "0  0_1483 2021-04-10 18:37:28.723910       18746       4450  2021-04-10  2021   \n",
       "1   2_226 2022-02-03 01:55:53.276402      159142        277  2022-02-03  2022   \n",
       "2   1_374 2021-09-23 15:13:46.938559       94290       4270  2021-09-23  2021   \n",
       "3  0_2186 2021-10-17 03:27:18.783634      105936       4597  2021-10-17  2021   \n",
       "4  0_1351 2021-07-17 20:34:25.800563       63642       1242  2021-07-17  2021   \n",
       "\n",
       "             Heure   M   J  price  categ sex  birth  session  age  \n",
       "0  18:37:28:723910   4  10   4.99      0   f   1977        1   45  \n",
       "1  01:55:53:276402   2   3  65.75      2   f   2000        1   22  \n",
       "2  15:13:46:938559   9  23  10.71      1   f   1979        1   43  \n",
       "3  03:27:18:783634  10  17   4.20      0   m   1963        1   59  \n",
       "4  20:34:25:800563   7  17   8.99      0   f   1980        1   42  "
      ]
     },
     "execution_count": 120,
     "metadata": {},
     "output_type": "execute_result"
    }
   ],
   "source": [
    "# Colonne Âge : sera utile pour l'analyse des data\n",
    "\n",
    "year = 2022 #on se place en 2022 pour l'étude.\n",
    "\n",
    "df['age'] = year - df['birth']\n",
    "df.head()"
   ]
  },
  {
   "cell_type": "markdown",
   "metadata": {},
   "source": [
    "# Sauvegarde"
   ]
  },
  {
   "cell_type": "code",
   "execution_count": 121,
   "metadata": {
    "ExecuteTime": {
     "end_time": "2019-03-04T15:24:54.707811Z",
     "start_time": "2019-03-04T15:24:49.560424Z"
    }
   },
   "outputs": [],
   "source": [
    "# Sauvegarde des Dataframes \n",
    "\n",
    "    # Chaques tables nettoyées dans dossier des tables intermédiaires (temporaires)\n",
    "\n",
    "df_cust.to_csv(Path.cwd() / \"data\" / \"interim\" / \"customers_prep.csv\", encoding='utf-8',index=False)\n",
    "df_prod2.to_csv(Path.cwd() / \"data\" / \"interim\" / \"products_prep.csv\", encoding='utf-8',index=False)\n",
    "df_sales.to_csv(Path.cwd() / \"data\" / \"interim\" / \"sales_prep.csv\", encoding='utf-8',index=False)\n",
    "\n",
    "    # Table finale dans dossier des tables traitées\n",
    "    \n",
    "df.to_csv(Path.cwd() / \"data\" / \"processed\" / \"data_prep.csv\", encoding='utf-8',index=False)"
   ]
  },
  {
   "cell_type": "code",
   "execution_count": null,
   "metadata": {},
   "outputs": [],
   "source": []
  }
 ],
 "metadata": {
  "kernelspec": {
   "display_name": "Python 3",
   "language": "python",
   "name": "python3"
  },
  "language_info": {
   "codemirror_mode": {
    "name": "ipython",
    "version": 3
   },
   "file_extension": ".py",
   "mimetype": "text/x-python",
   "name": "python",
   "nbconvert_exporter": "python",
   "pygments_lexer": "ipython3",
   "version": "3.8.6"
  },
  "toc": {
   "base_numbering": 1,
   "nav_menu": {},
   "number_sections": true,
   "sideBar": true,
   "skip_h1_title": false,
   "title_cell": "Table of Contents",
   "title_sidebar": "Contents",
   "toc_cell": false,
   "toc_position": {
    "height": "calc(100% - 180px)",
    "left": "10px",
    "top": "150px",
    "width": "384px"
   },
   "toc_section_display": true,
   "toc_window_display": true
  },
  "varInspector": {
   "cols": {
    "lenName": 16,
    "lenType": 16,
    "lenVar": 40
   },
   "kernels_config": {
    "python": {
     "delete_cmd_postfix": "",
     "delete_cmd_prefix": "del ",
     "library": "var_list.py",
     "varRefreshCmd": "print(var_dic_list())"
    },
    "r": {
     "delete_cmd_postfix": ") ",
     "delete_cmd_prefix": "rm(",
     "library": "var_list.r",
     "varRefreshCmd": "cat(var_dic_list()) "
    }
   },
   "types_to_exclude": [
    "module",
    "function",
    "builtin_function_or_method",
    "instance",
    "_Feature"
   ],
   "window_display": false
  }
 },
 "nbformat": 4,
 "nbformat_minor": 2
}
