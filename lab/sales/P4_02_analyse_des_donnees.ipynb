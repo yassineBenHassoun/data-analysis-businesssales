{
 "cells": [
  {
   "cell_type": "markdown",
   "metadata": {},
   "source": [
    "## SOMMAIRE <span id='som'>\n",
    "   \n",
    "- [Premieres analyse CA ](#m1)\n",
    "- [Les catégories ](#m2)\n",
    "- [Le genre ](#m3)\n",
    "- [L'age](#m4)   "
   ]
  },
  {
   "cell_type": "code",
   "execution_count": 3,
   "metadata": {},
   "outputs": [],
   "source": [
    "import pandas as pd\n",
    "import numpy as np\n",
    "from os import getcwd\n",
    "from datetime import datetime\n",
    "import seaborn as sns\n",
    "import matplotlib.pyplot as plt\n",
    "import calendar\n",
    "import scipy.stats as ss\n",
    "from scipy.stats import norm\n",
    "from scipy.stats import kurtosis, skew\n",
    "from scipy.stats import linregress"
   ]
  },
  {
   "cell_type": "markdown",
   "metadata": {},
   "source": [
    "# Premieres analyse CA"
   ]
  },
  {
   "cell_type": "raw",
   "metadata": {},
   "source": [
    "Pour les premieres analyses nous allons voir comment est répartie le Chiffre d'affaire sur 12 mois."
   ]
  },
  {
   "cell_type": "code",
   "execution_count": 38,
   "metadata": {},
   "outputs": [
    {
     "data": {
      "text/html": [
       "<div>\n",
       "<style scoped>\n",
       "    .dataframe tbody tr th:only-of-type {\n",
       "        vertical-align: middle;\n",
       "    }\n",
       "\n",
       "    .dataframe tbody tr th {\n",
       "        vertical-align: top;\n",
       "    }\n",
       "\n",
       "    .dataframe thead th {\n",
       "        text-align: right;\n",
       "    }\n",
       "</style>\n",
       "<table border=\"1\" class=\"dataframe\">\n",
       "  <thead>\n",
       "    <tr style=\"text-align: right;\">\n",
       "      <th></th>\n",
       "      <th>id_product</th>\n",
       "      <th>date</th>\n",
       "      <th>session_id</th>\n",
       "      <th>client_id</th>\n",
       "      <th>sex</th>\n",
       "      <th>user_birthday</th>\n",
       "      <th>price</th>\n",
       "      <th>category_id</th>\n",
       "      <th>transaction_date</th>\n",
       "      <th>year</th>\n",
       "      <th>month</th>\n",
       "      <th>user_age</th>\n",
       "      <th>order</th>\n",
       "      <th>sell_year</th>\n",
       "      <th>sell_month</th>\n",
       "      <th>month_string</th>\n",
       "      <th>binning_age</th>\n",
       "      <th>sell_day</th>\n",
       "    </tr>\n",
       "  </thead>\n",
       "  <tbody>\n",
       "    <tr>\n",
       "      <th>0</th>\n",
       "      <td>0_1483</td>\n",
       "      <td>2021-04-10 18:37:28.723910</td>\n",
       "      <td>s_18746</td>\n",
       "      <td>c_4450</td>\n",
       "      <td>f</td>\n",
       "      <td>1977</td>\n",
       "      <td>4.99</td>\n",
       "      <td>0</td>\n",
       "      <td>2021-04-10</td>\n",
       "      <td>2021</td>\n",
       "      <td>4</td>\n",
       "      <td>44</td>\n",
       "      <td>1</td>\n",
       "      <td>2021</td>\n",
       "      <td>4</td>\n",
       "      <td>Avril</td>\n",
       "      <td>(40.0, 50.0]</td>\n",
       "      <td>10</td>\n",
       "    </tr>\n",
       "    <tr>\n",
       "      <th>1</th>\n",
       "      <td>2_226</td>\n",
       "      <td>2022-02-03 01:55:53.276402</td>\n",
       "      <td>s_159142</td>\n",
       "      <td>c_277</td>\n",
       "      <td>f</td>\n",
       "      <td>2000</td>\n",
       "      <td>65.75</td>\n",
       "      <td>2</td>\n",
       "      <td>2022-02-03</td>\n",
       "      <td>2022</td>\n",
       "      <td>2</td>\n",
       "      <td>22</td>\n",
       "      <td>1</td>\n",
       "      <td>2022</td>\n",
       "      <td>2</td>\n",
       "      <td>Fevrier - 2022</td>\n",
       "      <td>(20.0, 30.0]</td>\n",
       "      <td>3</td>\n",
       "    </tr>\n",
       "    <tr>\n",
       "      <th>2</th>\n",
       "      <td>1_374</td>\n",
       "      <td>2021-09-23 15:13:46.938559</td>\n",
       "      <td>s_94290</td>\n",
       "      <td>c_4270</td>\n",
       "      <td>f</td>\n",
       "      <td>1979</td>\n",
       "      <td>10.71</td>\n",
       "      <td>1</td>\n",
       "      <td>2021-09-23</td>\n",
       "      <td>2021</td>\n",
       "      <td>9</td>\n",
       "      <td>42</td>\n",
       "      <td>1</td>\n",
       "      <td>2021</td>\n",
       "      <td>9</td>\n",
       "      <td>Septembre</td>\n",
       "      <td>(40.0, 50.0]</td>\n",
       "      <td>23</td>\n",
       "    </tr>\n",
       "    <tr>\n",
       "      <th>3</th>\n",
       "      <td>0_2186</td>\n",
       "      <td>2021-10-17 03:27:18.783634</td>\n",
       "      <td>s_105936</td>\n",
       "      <td>c_4597</td>\n",
       "      <td>m</td>\n",
       "      <td>1963</td>\n",
       "      <td>4.20</td>\n",
       "      <td>0</td>\n",
       "      <td>2021-10-17</td>\n",
       "      <td>2021</td>\n",
       "      <td>10</td>\n",
       "      <td>58</td>\n",
       "      <td>1</td>\n",
       "      <td>2021</td>\n",
       "      <td>10</td>\n",
       "      <td>Octobre</td>\n",
       "      <td>(50.0, 60.0]</td>\n",
       "      <td>17</td>\n",
       "    </tr>\n",
       "    <tr>\n",
       "      <th>4</th>\n",
       "      <td>0_1351</td>\n",
       "      <td>2021-07-17 20:34:25.800563</td>\n",
       "      <td>s_63642</td>\n",
       "      <td>c_1242</td>\n",
       "      <td>f</td>\n",
       "      <td>1980</td>\n",
       "      <td>8.99</td>\n",
       "      <td>0</td>\n",
       "      <td>2021-07-17</td>\n",
       "      <td>2021</td>\n",
       "      <td>7</td>\n",
       "      <td>41</td>\n",
       "      <td>1</td>\n",
       "      <td>2021</td>\n",
       "      <td>7</td>\n",
       "      <td>Juillet</td>\n",
       "      <td>(40.0, 50.0]</td>\n",
       "      <td>17</td>\n",
       "    </tr>\n",
       "  </tbody>\n",
       "</table>\n",
       "</div>"
      ],
      "text/plain": [
       "  id_product                        date session_id client_id sex  \\\n",
       "0     0_1483  2021-04-10 18:37:28.723910    s_18746    c_4450   f   \n",
       "1      2_226  2022-02-03 01:55:53.276402   s_159142     c_277   f   \n",
       "2      1_374  2021-09-23 15:13:46.938559    s_94290    c_4270   f   \n",
       "3     0_2186  2021-10-17 03:27:18.783634   s_105936    c_4597   m   \n",
       "4     0_1351  2021-07-17 20:34:25.800563    s_63642    c_1242   f   \n",
       "\n",
       "   user_birthday  price  category_id transaction_date  year  month  user_age  \\\n",
       "0           1977   4.99            0       2021-04-10  2021      4        44   \n",
       "1           2000  65.75            2       2022-02-03  2022      2        22   \n",
       "2           1979  10.71            1       2021-09-23  2021      9        42   \n",
       "3           1963   4.20            0       2021-10-17  2021     10        58   \n",
       "4           1980   8.99            0       2021-07-17  2021      7        41   \n",
       "\n",
       "   order  sell_year  sell_month    month_string   binning_age  sell_day  \n",
       "0      1       2021           4           Avril  (40.0, 50.0]        10  \n",
       "1      1       2022           2  Fevrier - 2022  (20.0, 30.0]         3  \n",
       "2      1       2021           9       Septembre  (40.0, 50.0]        23  \n",
       "3      1       2021          10         Octobre  (50.0, 60.0]        17  \n",
       "4      1       2021           7         Juillet  (40.0, 50.0]        17  "
      ]
     },
     "execution_count": 38,
     "metadata": {},
     "output_type": "execute_result"
    }
   ],
   "source": [
    "data = pd.read_csv(\"../sales/data_values_clear/merge.csv\", parse_dates=True)\n",
    "data['sell_day'] = pd.DatetimeIndex(data['date']).day.astype(int)\n",
    "data.head()"
   ]
  },
  {
   "cell_type": "code",
   "execution_count": 39,
   "metadata": {},
   "outputs": [
    {
     "data": {
      "text/html": [
       "<div>\n",
       "<style scoped>\n",
       "    .dataframe tbody tr th:only-of-type {\n",
       "        vertical-align: middle;\n",
       "    }\n",
       "\n",
       "    .dataframe tbody tr th {\n",
       "        vertical-align: top;\n",
       "    }\n",
       "\n",
       "    .dataframe thead th {\n",
       "        text-align: right;\n",
       "    }\n",
       "</style>\n",
       "<table border=\"1\" class=\"dataframe\">\n",
       "  <thead>\n",
       "    <tr style=\"text-align: right;\">\n",
       "      <th></th>\n",
       "      <th>month</th>\n",
       "      <th>user_birthday</th>\n",
       "      <th>price</th>\n",
       "      <th>category_id</th>\n",
       "      <th>year</th>\n",
       "      <th>user_age</th>\n",
       "      <th>order</th>\n",
       "      <th>sell_year</th>\n",
       "      <th>sell_month</th>\n",
       "      <th>sell_day</th>\n",
       "    </tr>\n",
       "  </thead>\n",
       "  <tbody>\n",
       "    <tr>\n",
       "      <th>0</th>\n",
       "      <td>1</td>\n",
       "      <td>57966524</td>\n",
       "      <td>523008.488581</td>\n",
       "      <td>15300</td>\n",
       "      <td>59276952</td>\n",
       "      <td>1310428</td>\n",
       "      <td>29316</td>\n",
       "      <td>59276952</td>\n",
       "      <td>29316</td>\n",
       "      <td>462036</td>\n",
       "    </tr>\n",
       "    <tr>\n",
       "      <th>1</th>\n",
       "      <td>2</td>\n",
       "      <td>58480719</td>\n",
       "      <td>532857.872878</td>\n",
       "      <td>14129</td>\n",
       "      <td>59784474</td>\n",
       "      <td>1303755</td>\n",
       "      <td>29567</td>\n",
       "      <td>59784474</td>\n",
       "      <td>59134</td>\n",
       "      <td>431030</td>\n",
       "    </tr>\n",
       "    <tr>\n",
       "      <th>2</th>\n",
       "      <td>3</td>\n",
       "      <td>56502988</td>\n",
       "      <td>479407.751446</td>\n",
       "      <td>11764</td>\n",
       "      <td>57735928</td>\n",
       "      <td>1232940</td>\n",
       "      <td>28568</td>\n",
       "      <td>57735928</td>\n",
       "      <td>85704</td>\n",
       "      <td>454870</td>\n",
       "    </tr>\n",
       "    <tr>\n",
       "      <th>3</th>\n",
       "      <td>4</td>\n",
       "      <td>56208404</td>\n",
       "      <td>473129.620027</td>\n",
       "      <td>10581</td>\n",
       "      <td>57426715</td>\n",
       "      <td>1218311</td>\n",
       "      <td>28415</td>\n",
       "      <td>57426715</td>\n",
       "      <td>113660</td>\n",
       "      <td>443539</td>\n",
       "    </tr>\n",
       "    <tr>\n",
       "      <th>4</th>\n",
       "      <td>5</td>\n",
       "      <td>55867629</td>\n",
       "      <td>489453.035730</td>\n",
       "      <td>11413</td>\n",
       "      <td>57083145</td>\n",
       "      <td>1215516</td>\n",
       "      <td>28245</td>\n",
       "      <td>57083145</td>\n",
       "      <td>141225</td>\n",
       "      <td>451552</td>\n",
       "    </tr>\n",
       "  </tbody>\n",
       "</table>\n",
       "</div>"
      ],
      "text/plain": [
       "   month  user_birthday          price  category_id      year  user_age  \\\n",
       "0      1       57966524  523008.488581        15300  59276952   1310428   \n",
       "1      2       58480719  532857.872878        14129  59784474   1303755   \n",
       "2      3       56502988  479407.751446        11764  57735928   1232940   \n",
       "3      4       56208404  473129.620027        10581  57426715   1218311   \n",
       "4      5       55867629  489453.035730        11413  57083145   1215516   \n",
       "\n",
       "   order  sell_year  sell_month  sell_day  \n",
       "0  29316   59276952       29316    462036  \n",
       "1  29567   59784474       59134    431030  \n",
       "2  28568   57735928       85704    454870  \n",
       "3  28415   57426715      113660    443539  \n",
       "4  28245   57083145      141225    451552  "
      ]
     },
     "execution_count": 39,
     "metadata": {},
     "output_type": "execute_result"
    }
   ],
   "source": [
    "gp_month = data.groupby(['month']).sum().reset_index()\n",
    "gp_month.head()"
   ]
  },
  {
   "cell_type": "code",
   "execution_count": 40,
   "metadata": {},
   "outputs": [
    {
     "data": {
      "text/plain": [
       "(array([ 0.,  2.,  4.,  6.,  8., 10., 12., 14.]),\n",
       " [Text(0, 0, ''),\n",
       "  Text(0, 0, ''),\n",
       "  Text(0, 0, ''),\n",
       "  Text(0, 0, ''),\n",
       "  Text(0, 0, ''),\n",
       "  Text(0, 0, ''),\n",
       "  Text(0, 0, ''),\n",
       "  Text(0, 0, '')])"
      ]
     },
     "execution_count": 40,
     "metadata": {},
     "output_type": "execute_result"
    },
    {
     "data": {
      "image/png": "[encoded data removed]",
      "text/plain": [
       "<Figure size 720x360 with 1 Axes>"
      ]
     },
     "metadata": {
      "needs_background": "light"
     },
     "output_type": "display_data"
    }
   ],
   "source": [
    "fig, ax = plt.subplots(figsize=[10,5])\n",
    "sns.lineplot(x=\"month\", y=\"price\",data=gp_month)\n",
    "plt.xticks(rotation=20)"
   ]
  },
  {
   "cell_type": "raw",
   "metadata": {},
   "source": [
    "on constate une chute significative pour le moi d'octobre il faut donc voir au détail ce moi et si il y a un impact \n",
    "par catégories"
   ]
  },
  {
   "cell_type": "code",
   "execution_count": 41,
   "metadata": {},
   "outputs": [
    {
     "data": {
      "image/png": "[encoded data removed]",
      "text/plain": [
       "<Figure size 648x360 with 1 Axes>"
      ]
     },
     "metadata": {
      "needs_background": "light"
     },
     "output_type": "display_data"
    }
   ],
   "source": [
    "categoriesMonth = data.groupby(['month','category_id']).sum()['price'].reset_index()\n",
    "moyenne = data['category_id'].sum().mean();\n",
    "caCat0 = data[data['category_id'] == 0].groupby(['month']).sum()['price']\n",
    "caCat1 = data[data['category_id'] == 1].groupby(['month']).sum()['price']\n",
    "caCat2 = data[data['category_id'] == 2].groupby(['month']).sum()['price']\n",
    "monthName = ['janv-2K22','fev-2K22','mars','avril','mai','juin','juillet','aout','septembre','octobre','novembre','decembre']\n",
    "\n",
    "\n",
    "fig, ax = plt.subplots(figsize=[9,5])\n",
    "\n",
    "## on supperpose les catégorie (il faut prendre la diffenrence entre la categorie)\n",
    "caSumCat = data[data['category_id'] != 2].groupby(['month']).sum()['price']\n",
    "\n",
    "monthLine = [0,1,2,3,4,5,6,7,8,9,10,11]\n",
    "month = ['mars','avril','mai','juin','juillet','aout','septembre','octobre','novembre','decembre']\n",
    "\n",
    "barWidth = 0.7\n",
    "postition0 = plt.bar(monthLine, caCat0, color='deeppink', edgecolor='white', width=barWidth)\n",
    "postition1 = plt.bar(monthLine, caCat1, bottom=caCat0, color='lime', edgecolor='white', width=barWidth)\n",
    "postition2 = plt.bar(monthLine, caCat2, bottom=caSumCat, color='royalblue', edgecolor='white', width=barWidth)\n",
    "\n",
    "plt.xticks(monthLine, monthName, fontweight='bold', rotation=90)\n",
    "plt.title('CA-catégories')\n",
    "plt.legend((postition0[0],postition1[0], postition2[0]), ('category_0', 'category_1','category_2'), loc=[1.05,0.76])\n",
    "\n",
    "plt.show()\n"
   ]
  },
  {
   "cell_type": "raw",
   "metadata": {},
   "source": [
    "on constate une irrégularité sur la cat 1 du mois d'octobre"
   ]
  },
  {
   "cell_type": "code",
   "execution_count": 45,
   "metadata": {},
   "outputs": [
    {
     "data": {
      "text/html": [
       "<div>\n",
       "<style scoped>\n",
       "    .dataframe tbody tr th:only-of-type {\n",
       "        vertical-align: middle;\n",
       "    }\n",
       "\n",
       "    .dataframe tbody tr th {\n",
       "        vertical-align: top;\n",
       "    }\n",
       "\n",
       "    .dataframe thead th {\n",
       "        text-align: right;\n",
       "    }\n",
       "</style>\n",
       "<table border=\"1\" class=\"dataframe\">\n",
       "  <thead>\n",
       "    <tr style=\"text-align: right;\">\n",
       "      <th></th>\n",
       "      <th>date</th>\n",
       "      <th>cat_0</th>\n",
       "      <th>cat_1</th>\n",
       "      <th>cat_2</th>\n",
       "    </tr>\n",
       "  </thead>\n",
       "  <tbody>\n",
       "    <tr>\n",
       "      <th>0</th>\n",
       "      <td>1</td>\n",
       "      <td>6947.51</td>\n",
       "      <td>7003.79</td>\n",
       "      <td>2958.06</td>\n",
       "    </tr>\n",
       "  </tbody>\n",
       "</table>\n",
       "</div>"
      ],
      "text/plain": [
       "   date    cat_0    cat_1    cat_2\n",
       "0     1  6947.51  7003.79  2958.06"
      ]
     },
     "execution_count": 45,
     "metadata": {},
     "output_type": "execute_result"
    }
   ],
   "source": [
    "# on récuper le mois d'octobre et on reformate le DF pour obtenir en colonne les catégorie et leur CA \n",
    "octDf = data.loc[data.month == 10, ['transaction_date', 'price', 'category_id']]\n",
    "octDf = octDf.groupby([octDf.transaction_date, 'category_id']).agg({'price':['sum']}).reset_index()\n",
    "octDf.columns = ['date', 'category', 'ca']\n",
    "octDf.loc[octDf.category =='0.0', 'category'] = 0\n",
    "octDf.loc[octDf.category =='1.0', 'category'] = 1\n",
    "octDf.loc[octDf.category =='2.0', 'category'] = 2\n",
    "octDf['day'] = pd.DatetimeIndex(octDf['date']).day\n",
    "octDf  = octDf[['day','category','ca']]\n",
    "df = pd.pivot_table(octDf, columns=['category'], index=['day']).reset_index()\n",
    "df.columns = ['date', 'cat_0', 'cat_1', 'cat_2']\n",
    "df = df[['date','cat_0','cat_1','cat_2']]\n",
    "df.head(1)"
   ]
  },
  {
   "cell_type": "code",
   "execution_count": 46,
   "metadata": {},
   "outputs": [
    {
     "data": {
      "image/png": "[encoded data removed]",
      "text/plain": [
       "<Figure size 3168x144 with 1 Axes>"
      ]
     },
     "metadata": {
      "needs_background": "light"
     },
     "output_type": "display_data"
    },
    {
     "data": {
      "image/png": "[encoded data removed]",
      "text/plain": [
       "<Figure size 3168x144 with 1 Axes>"
      ]
     },
     "metadata": {
      "needs_background": "light"
     },
     "output_type": "display_data"
    },
    {
     "data": {
      "image/png": "[encoded data removed]",
      "text/plain": [
       "<Figure size 3168x144 with 1 Axes>"
      ]
     },
     "metadata": {
      "needs_background": "light"
     },
     "output_type": "display_data"
    }
   ],
   "source": [
    "color=['blue', 'red', 'purple']\n",
    "for i, cat in enumerate([0,1,2]):\n",
    "    plt.figure(figsize=(44,2))\n",
    "    plt.subplot(1,2,2)\n",
    "    plt.bar(df['date'], df[f'cat_{cat}'], width=0.5, color=color[i])\n",
    "    plt.xlabel('octobre - jours')\n",
    "    plt.ylabel(f'cat {cat}')\n",
    "    plt.show()"
   ]
  },
  {
   "cell_type": "raw",
   "metadata": {},
   "source": [
    "En vue de ces résultats il est nécessaire de supprimer les données d'octobre afin de ne pas faussée les données ultérieure."
   ]
  },
  {
   "cell_type": "code",
   "execution_count": null,
   "metadata": {},
   "outputs": [],
   "source": [
    "Suppressions des lignes d'octobre"
   ]
  },
  {
   "cell_type": "code",
   "execution_count": 48,
   "metadata": {},
   "outputs": [
    {
     "data": {
      "text/html": [
       "<div>\n",
       "<style scoped>\n",
       "    .dataframe tbody tr th:only-of-type {\n",
       "        vertical-align: middle;\n",
       "    }\n",
       "\n",
       "    .dataframe tbody tr th {\n",
       "        vertical-align: top;\n",
       "    }\n",
       "\n",
       "    .dataframe thead th {\n",
       "        text-align: right;\n",
       "    }\n",
       "</style>\n",
       "<table border=\"1\" class=\"dataframe\">\n",
       "  <thead>\n",
       "    <tr style=\"text-align: right;\">\n",
       "      <th></th>\n",
       "      <th>user_birthday</th>\n",
       "      <th>price</th>\n",
       "      <th>category_id</th>\n",
       "      <th>year</th>\n",
       "      <th>month</th>\n",
       "      <th>user_age</th>\n",
       "      <th>order</th>\n",
       "      <th>sell_year</th>\n",
       "      <th>sell_month</th>\n",
       "      <th>sell_day</th>\n",
       "    </tr>\n",
       "  </thead>\n",
       "  <tbody>\n",
       "    <tr>\n",
       "      <th>count</th>\n",
       "      <td>336816.000000</td>\n",
       "      <td>336816.000000</td>\n",
       "      <td>336816.000000</td>\n",
       "      <td>336816.000000</td>\n",
       "      <td>336816.000000</td>\n",
       "      <td>336816.000000</td>\n",
       "      <td>336816.0</td>\n",
       "      <td>336816.000000</td>\n",
       "      <td>336816.000000</td>\n",
       "      <td>336816.000000</td>\n",
       "    </tr>\n",
       "    <tr>\n",
       "      <th>mean</th>\n",
       "      <td>1977.823396</td>\n",
       "      <td>17.213176</td>\n",
       "      <td>0.430024</td>\n",
       "      <td>2021.174822</td>\n",
       "      <td>6.482133</td>\n",
       "      <td>43.351426</td>\n",
       "      <td>1.0</td>\n",
       "      <td>2021.174822</td>\n",
       "      <td>6.482133</td>\n",
       "      <td>15.801628</td>\n",
       "    </tr>\n",
       "    <tr>\n",
       "      <th>std</th>\n",
       "      <td>13.523923</td>\n",
       "      <td>17.853086</td>\n",
       "      <td>0.591039</td>\n",
       "      <td>0.379816</td>\n",
       "      <td>3.519807</td>\n",
       "      <td>13.532093</td>\n",
       "      <td>0.0</td>\n",
       "      <td>0.379816</td>\n",
       "      <td>3.519807</td>\n",
       "      <td>8.818357</td>\n",
       "    </tr>\n",
       "    <tr>\n",
       "      <th>min</th>\n",
       "      <td>1929.000000</td>\n",
       "      <td>0.620000</td>\n",
       "      <td>0.000000</td>\n",
       "      <td>2021.000000</td>\n",
       "      <td>1.000000</td>\n",
       "      <td>17.000000</td>\n",
       "      <td>1.0</td>\n",
       "      <td>2021.000000</td>\n",
       "      <td>1.000000</td>\n",
       "      <td>1.000000</td>\n",
       "    </tr>\n",
       "    <tr>\n",
       "      <th>25%</th>\n",
       "      <td>1971.000000</td>\n",
       "      <td>8.610000</td>\n",
       "      <td>0.000000</td>\n",
       "      <td>2021.000000</td>\n",
       "      <td>3.000000</td>\n",
       "      <td>34.000000</td>\n",
       "      <td>1.0</td>\n",
       "      <td>2021.000000</td>\n",
       "      <td>3.000000</td>\n",
       "      <td>8.000000</td>\n",
       "    </tr>\n",
       "    <tr>\n",
       "      <th>50%</th>\n",
       "      <td>1980.000000</td>\n",
       "      <td>13.900000</td>\n",
       "      <td>0.000000</td>\n",
       "      <td>2021.000000</td>\n",
       "      <td>6.000000</td>\n",
       "      <td>42.000000</td>\n",
       "      <td>1.0</td>\n",
       "      <td>2021.000000</td>\n",
       "      <td>6.000000</td>\n",
       "      <td>16.000000</td>\n",
       "    </tr>\n",
       "    <tr>\n",
       "      <th>75%</th>\n",
       "      <td>1987.000000</td>\n",
       "      <td>18.990000</td>\n",
       "      <td>1.000000</td>\n",
       "      <td>2021.000000</td>\n",
       "      <td>9.000000</td>\n",
       "      <td>51.000000</td>\n",
       "      <td>1.0</td>\n",
       "      <td>2021.000000</td>\n",
       "      <td>9.000000</td>\n",
       "      <td>23.000000</td>\n",
       "    </tr>\n",
       "    <tr>\n",
       "      <th>max</th>\n",
       "      <td>2004.000000</td>\n",
       "      <td>300.000000</td>\n",
       "      <td>2.000000</td>\n",
       "      <td>2022.000000</td>\n",
       "      <td>12.000000</td>\n",
       "      <td>93.000000</td>\n",
       "      <td>1.0</td>\n",
       "      <td>2022.000000</td>\n",
       "      <td>12.000000</td>\n",
       "      <td>31.000000</td>\n",
       "    </tr>\n",
       "  </tbody>\n",
       "</table>\n",
       "</div>"
      ],
      "text/plain": [
       "       user_birthday          price    category_id           year  \\\n",
       "count  336816.000000  336816.000000  336816.000000  336816.000000   \n",
       "mean     1977.823396      17.213176       0.430024    2021.174822   \n",
       "std        13.523923      17.853086       0.591039       0.379816   \n",
       "min      1929.000000       0.620000       0.000000    2021.000000   \n",
       "25%      1971.000000       8.610000       0.000000    2021.000000   \n",
       "50%      1980.000000      13.900000       0.000000    2021.000000   \n",
       "75%      1987.000000      18.990000       1.000000    2021.000000   \n",
       "max      2004.000000     300.000000       2.000000    2022.000000   \n",
       "\n",
       "               month       user_age     order      sell_year     sell_month  \\\n",
       "count  336816.000000  336816.000000  336816.0  336816.000000  336816.000000   \n",
       "mean        6.482133      43.351426       1.0    2021.174822       6.482133   \n",
       "std         3.519807      13.532093       0.0       0.379816       3.519807   \n",
       "min         1.000000      17.000000       1.0    2021.000000       1.000000   \n",
       "25%         3.000000      34.000000       1.0    2021.000000       3.000000   \n",
       "50%         6.000000      42.000000       1.0    2021.000000       6.000000   \n",
       "75%         9.000000      51.000000       1.0    2021.000000       9.000000   \n",
       "max        12.000000      93.000000       1.0    2022.000000      12.000000   \n",
       "\n",
       "            sell_day  \n",
       "count  336816.000000  \n",
       "mean       15.801628  \n",
       "std         8.818357  \n",
       "min         1.000000  \n",
       "25%         8.000000  \n",
       "50%        16.000000  \n",
       "75%        23.000000  \n",
       "max        31.000000  "
      ]
     },
     "execution_count": 48,
     "metadata": {},
     "output_type": "execute_result"
    }
   ],
   "source": [
    "data.describe()"
   ]
  },
  {
   "cell_type": "code",
   "execution_count": 50,
   "metadata": {},
   "outputs": [
    {
     "data": {
      "text/html": [
       "<div>\n",
       "<style scoped>\n",
       "    .dataframe tbody tr th:only-of-type {\n",
       "        vertical-align: middle;\n",
       "    }\n",
       "\n",
       "    .dataframe tbody tr th {\n",
       "        vertical-align: top;\n",
       "    }\n",
       "\n",
       "    .dataframe thead th {\n",
       "        text-align: right;\n",
       "    }\n",
       "</style>\n",
       "<table border=\"1\" class=\"dataframe\">\n",
       "  <thead>\n",
       "    <tr style=\"text-align: right;\">\n",
       "      <th></th>\n",
       "      <th>user_birthday</th>\n",
       "      <th>price</th>\n",
       "      <th>category_id</th>\n",
       "      <th>year</th>\n",
       "      <th>month</th>\n",
       "      <th>user_age</th>\n",
       "      <th>order</th>\n",
       "      <th>sell_year</th>\n",
       "      <th>sell_month</th>\n",
       "      <th>sell_day</th>\n",
       "    </tr>\n",
       "  </thead>\n",
       "  <tbody>\n",
       "    <tr>\n",
       "      <th>count</th>\n",
       "      <td>315232.000000</td>\n",
       "      <td>315232.000000</td>\n",
       "      <td>315232.000000</td>\n",
       "      <td>315232.000000</td>\n",
       "      <td>315232.000000</td>\n",
       "      <td>315232.000000</td>\n",
       "      <td>315232.0</td>\n",
       "      <td>315232.000000</td>\n",
       "      <td>315232.000000</td>\n",
       "      <td>315232.000000</td>\n",
       "    </tr>\n",
       "    <tr>\n",
       "      <th>mean</th>\n",
       "      <td>1977.751983</td>\n",
       "      <td>17.379070</td>\n",
       "      <td>0.446823</td>\n",
       "      <td>2021.186793</td>\n",
       "      <td>6.241264</td>\n",
       "      <td>43.434810</td>\n",
       "      <td>1.0</td>\n",
       "      <td>2021.186793</td>\n",
       "      <td>6.241264</td>\n",
       "      <td>15.773313</td>\n",
       "    </tr>\n",
       "    <tr>\n",
       "      <th>std</th>\n",
       "      <td>13.604129</td>\n",
       "      <td>17.862573</td>\n",
       "      <td>0.592598</td>\n",
       "      <td>0.389746</td>\n",
       "      <td>3.511689</td>\n",
       "      <td>13.611744</td>\n",
       "      <td>0.0</td>\n",
       "      <td>0.389746</td>\n",
       "      <td>3.511689</td>\n",
       "      <td>8.777316</td>\n",
       "    </tr>\n",
       "    <tr>\n",
       "      <th>min</th>\n",
       "      <td>1929.000000</td>\n",
       "      <td>0.620000</td>\n",
       "      <td>0.000000</td>\n",
       "      <td>2021.000000</td>\n",
       "      <td>1.000000</td>\n",
       "      <td>17.000000</td>\n",
       "      <td>1.0</td>\n",
       "      <td>2021.000000</td>\n",
       "      <td>1.000000</td>\n",
       "      <td>1.000000</td>\n",
       "    </tr>\n",
       "    <tr>\n",
       "      <th>25%</th>\n",
       "      <td>1970.000000</td>\n",
       "      <td>8.990000</td>\n",
       "      <td>0.000000</td>\n",
       "      <td>2021.000000</td>\n",
       "      <td>3.000000</td>\n",
       "      <td>34.000000</td>\n",
       "      <td>1.0</td>\n",
       "      <td>2021.000000</td>\n",
       "      <td>3.000000</td>\n",
       "      <td>8.000000</td>\n",
       "    </tr>\n",
       "    <tr>\n",
       "      <th>50%</th>\n",
       "      <td>1980.000000</td>\n",
       "      <td>13.990000</td>\n",
       "      <td>0.000000</td>\n",
       "      <td>2021.000000</td>\n",
       "      <td>6.000000</td>\n",
       "      <td>42.000000</td>\n",
       "      <td>1.0</td>\n",
       "      <td>2021.000000</td>\n",
       "      <td>6.000000</td>\n",
       "      <td>16.000000</td>\n",
       "    </tr>\n",
       "    <tr>\n",
       "      <th>75%</th>\n",
       "      <td>1987.000000</td>\n",
       "      <td>19.040000</td>\n",
       "      <td>1.000000</td>\n",
       "      <td>2021.000000</td>\n",
       "      <td>9.000000</td>\n",
       "      <td>51.000000</td>\n",
       "      <td>1.0</td>\n",
       "      <td>2021.000000</td>\n",
       "      <td>9.000000</td>\n",
       "      <td>23.000000</td>\n",
       "    </tr>\n",
       "    <tr>\n",
       "      <th>max</th>\n",
       "      <td>2004.000000</td>\n",
       "      <td>300.000000</td>\n",
       "      <td>2.000000</td>\n",
       "      <td>2022.000000</td>\n",
       "      <td>12.000000</td>\n",
       "      <td>93.000000</td>\n",
       "      <td>1.0</td>\n",
       "      <td>2022.000000</td>\n",
       "      <td>12.000000</td>\n",
       "      <td>31.000000</td>\n",
       "    </tr>\n",
       "  </tbody>\n",
       "</table>\n",
       "</div>"
      ],
      "text/plain": [
       "       user_birthday          price    category_id           year  \\\n",
       "count  315232.000000  315232.000000  315232.000000  315232.000000   \n",
       "mean     1977.751983      17.379070       0.446823    2021.186793   \n",
       "std        13.604129      17.862573       0.592598       0.389746   \n",
       "min      1929.000000       0.620000       0.000000    2021.000000   \n",
       "25%      1970.000000       8.990000       0.000000    2021.000000   \n",
       "50%      1980.000000      13.990000       0.000000    2021.000000   \n",
       "75%      1987.000000      19.040000       1.000000    2021.000000   \n",
       "max      2004.000000     300.000000       2.000000    2022.000000   \n",
       "\n",
       "               month       user_age     order      sell_year     sell_month  \\\n",
       "count  315232.000000  315232.000000  315232.0  315232.000000  315232.000000   \n",
       "mean        6.241264      43.434810       1.0    2021.186793       6.241264   \n",
       "std         3.511689      13.611744       0.0       0.389746       3.511689   \n",
       "min         1.000000      17.000000       1.0    2021.000000       1.000000   \n",
       "25%         3.000000      34.000000       1.0    2021.000000       3.000000   \n",
       "50%         6.000000      42.000000       1.0    2021.000000       6.000000   \n",
       "75%         9.000000      51.000000       1.0    2021.000000       9.000000   \n",
       "max        12.000000      93.000000       1.0    2022.000000      12.000000   \n",
       "\n",
       "            sell_day  \n",
       "count  315232.000000  \n",
       "mean       15.773313  \n",
       "std         8.777316  \n",
       "min         1.000000  \n",
       "25%         8.000000  \n",
       "50%        16.000000  \n",
       "75%        23.000000  \n",
       "max        31.000000  "
      ]
     },
     "execution_count": 50,
     "metadata": {},
     "output_type": "execute_result"
    }
   ],
   "source": [
    "data = data.loc[data.sell_month != 10]\n",
    "data.describe()"
   ]
  },
  {
   "cell_type": "raw",
   "metadata": {},
   "source": [
    "Ligne avant suppression du mois d'octobre : 336816\n",
    "Ligne après suppression du mois d'octobre : 315232\n",
    "On enregistre le df pour pouvoir l'importer"
   ]
  },
  {
   "cell_type": "code",
   "execution_count": 52,
   "metadata": {},
   "outputs": [],
   "source": [
    "data.to_csv(\"data_values_clear/clear.csv\", index = False, header=True)"
   ]
  },
  {
   "cell_type": "code",
   "execution_count": 4,
   "metadata": {},
   "outputs": [],
   "source": [
    "data = pd.read_csv(\"../sales/data_values_clear/clear.csv\", parse_dates=True)"
   ]
  },
  {
   "cell_type": "raw",
   "metadata": {},
   "source": [
    "Maintenant nous pouvons poursuivre notre analyse de données "
   ]
  },
  {
   "cell_type": "markdown",
   "metadata": {},
   "source": [
    "<a id=\"m1\" class=\"btn btn-default\" href=\"#som\"></a>"
   ]
  },
  {
   "cell_type": "code",
   "execution_count": 10,
   "metadata": {},
   "outputs": [
    {
     "data": {
      "image/png": "[encoded data removed]",
      "text/plain": [
       "<Figure size 648x360 with 1 Axes>"
      ]
     },
     "metadata": {
      "needs_background": "light"
     },
     "output_type": "display_data"
    }
   ],
   "source": [
    "categoriesMonth = data.groupby(['month','category_id']).sum()['price'].reset_index()\n",
    "moyenne = data['category_id'].sum().mean();\n",
    "cat0 = data[data['category_id'] == 0].groupby(['month']).sum()['price']\n",
    "cat1 = data[data['category_id'] == 1].groupby(['month']).sum()['price']\n",
    "cat2 = data[data['category_id'] == 2].groupby(['month']).sum()['price']\n",
    "monthName = ['janv-2K22','fev-2K22','mars','avril','mai','juin','juillet','aout','septembre','novembre','decembre']\n",
    "\n",
    "\n",
    "fig, ax = plt.subplots(figsize=[9,5])\n",
    "\n",
    "## on supperpose les catégorie (il faut prendre la diffenrence entre la categorie)\n",
    "caSumCat = data[data['category_id'] != 2].groupby(['month']).sum()['price']\n",
    "\n",
    "monthLine = [0,1,2,3,4,5,6,7,8,9,10]\n",
    "month = ['mars','avril','mai','juin','juillet','aout','septembre','octobre','decembre']\n",
    "\n",
    "barWidth = 0.7\n",
    "postition0 = plt.bar(monthLine, cat0, color='deeppink', edgecolor='white', width=barWidth)\n",
    "postition1 = plt.bar(monthLine, cat1, bottom=caCat0, color='lime', edgecolor='white', width=barWidth)\n",
    "postition2 = plt.bar(monthLine, cat2, bottom=caSumCat, color='royalblue', edgecolor='white', width=barWidth)\n",
    "\n",
    "plt.xticks(monthLine, monthName, fontweight='bold', rotation=90)\n",
    "plt.title('CA-catégories')\n",
    "plt.legend((postition0[0],postition1[0], postition2[0]), ('category_0', 'category_1','category_2'), loc=[1.05,0.76])\n",
    "\n",
    "plt.show()\n"
   ]
  },
  {
   "cell_type": "raw",
   "metadata": {},
   "source": [
    "on constate une augmentation au fur et à  mesure des mois "
   ]
  },
  {
   "cell_type": "raw",
   "metadata": {},
   "source": [
    "en utilisans une courbe de lorenz peux voir les tendances de deux variables "
   ]
  },
  {
   "cell_type": "code",
   "execution_count": 31,
   "metadata": {},
   "outputs": [
    {
     "data": {
      "text/plain": [
       "Text(0.5, 1.0, 'Ca des vente par client')"
      ]
     },
     "execution_count": 31,
     "metadata": {},
     "output_type": "execute_result"
    },
    {
     "data": {
      "image/png": "[encoded data removed]",
      "text/plain": [
       "<Figure size 936x360 with 1 Axes>"
      ]
     },
     "metadata": {
      "needs_background": "light"
     },
     "output_type": "display_data"
    }
   ],
   "source": [
    "clientPrice = data.groupby(by=[\"client_id\"]).sum().sort_values('price',ascending=False)\n",
    "fig, (ax) = plt.subplots(1,1,figsize=(13,5))\n",
    "depenses = clientPrice.loc[clientPrice['price'] != 0]\n",
    "dep = depenses['price'].values\n",
    "n = len(dep)\n",
    "lorenz = np.cumsum(np.sort(dep)) / dep.sum()\n",
    "lorenz = np.append([0], lorenz)\n",
    "plt.plot(np.linspace(0,1,len(lorenz)), lorenz, drawstyle='steps-post')\n",
    "plt.plot(np.linspace(0,1,len(lorenz)), np.linspace(0,1,len(lorenz)), dashes=[2,4])\n",
    "plt.xlabel('volume des ventes')\n",
    "plt.ylabel('Achat des clients')\n",
    "plt.title('Ca des vente par client')"
   ]
  },
  {
   "cell_type": "raw",
   "metadata": {},
   "source": [
    "Indice de gini de  0.4 : corréspond a deux fois l’air entre la courbe bleu et les pointillés.(plus elle est basse plus elle est inégalitaire)\n",
    "lorenz curve ( très peu de client représente beaucoup de CA)"
   ]
  },
  {
   "cell_type": "markdown",
   "metadata": {},
   "source": [
    "# Les  categories "
   ]
  },
  {
   "cell_type": "markdown",
   "metadata": {},
   "source": [
    "<a id=\"m2\" class=\"btn btn-default\" href=\"#som\"> retour au sommaire </a>"
   ]
  },
  {
   "cell_type": "code",
   "execution_count": 13,
   "metadata": {},
   "outputs": [],
   "source": [
    "category0 = data[data.category_id == 0]\n",
    "category1 = data[data.category_id == 1]\n",
    "category2 = data[data.category_id == 2]"
   ]
  },
  {
   "cell_type": "raw",
   "metadata": {},
   "source": [
    "Nous allons  comparer les catégories entre elles "
   ]
  },
  {
   "cell_type": "code",
   "execution_count": 10,
   "metadata": {},
   "outputs": [
    {
     "data": {
      "text/html": [
       "<div>\n",
       "<style scoped>\n",
       "    .dataframe tbody tr th:only-of-type {\n",
       "        vertical-align: middle;\n",
       "    }\n",
       "\n",
       "    .dataframe tbody tr th {\n",
       "        vertical-align: top;\n",
       "    }\n",
       "\n",
       "    .dataframe thead th {\n",
       "        text-align: right;\n",
       "    }\n",
       "</style>\n",
       "<table border=\"1\" class=\"dataframe\">\n",
       "  <thead>\n",
       "    <tr style=\"text-align: right;\">\n",
       "      <th></th>\n",
       "      <th>user_birthday</th>\n",
       "      <th>price</th>\n",
       "      <th>year</th>\n",
       "      <th>month</th>\n",
       "      <th>user_age</th>\n",
       "      <th>order</th>\n",
       "      <th>sell_year</th>\n",
       "      <th>sell_month</th>\n",
       "    </tr>\n",
       "    <tr>\n",
       "      <th>category_id</th>\n",
       "      <th></th>\n",
       "      <th></th>\n",
       "      <th></th>\n",
       "      <th></th>\n",
       "      <th></th>\n",
       "      <th></th>\n",
       "      <th></th>\n",
       "      <th></th>\n",
       "    </tr>\n",
       "  </thead>\n",
       "  <tbody>\n",
       "    <tr>\n",
       "      <th>0</th>\n",
       "      <td>414469706</td>\n",
       "      <td>2.230818e+06</td>\n",
       "      <td>423490768</td>\n",
       "      <td>1377721</td>\n",
       "      <td>9021062</td>\n",
       "      <td>209529</td>\n",
       "      <td>423490768</td>\n",
       "      <td>1377721</td>\n",
       "    </tr>\n",
       "    <tr>\n",
       "      <th>1</th>\n",
       "      <td>216654296</td>\n",
       "      <td>2.247384e+06</td>\n",
       "      <td>221797454</td>\n",
       "      <td>697786</td>\n",
       "      <td>5143158</td>\n",
       "      <td>109735</td>\n",
       "      <td>221797454</td>\n",
       "      <td>697786</td>\n",
       "    </tr>\n",
       "    <tr>\n",
       "      <th>2</th>\n",
       "      <td>35038563</td>\n",
       "      <td>1.319471e+06</td>\n",
       "      <td>35475797</td>\n",
       "      <td>107779</td>\n",
       "      <td>437234</td>\n",
       "      <td>17552</td>\n",
       "      <td>35475797</td>\n",
       "      <td>107779</td>\n",
       "    </tr>\n",
       "  </tbody>\n",
       "</table>\n",
       "</div>"
      ],
      "text/plain": [
       "             user_birthday         price       year    month  user_age  \\\n",
       "category_id                                                              \n",
       "0                414469706  2.230818e+06  423490768  1377721   9021062   \n",
       "1                216654296  2.247384e+06  221797454   697786   5143158   \n",
       "2                 35038563  1.319471e+06   35475797   107779    437234   \n",
       "\n",
       "              order  sell_year  sell_month  \n",
       "category_id                                 \n",
       "0            209529  423490768     1377721  \n",
       "1            109735  221797454      697786  \n",
       "2             17552   35475797      107779  "
      ]
     },
     "execution_count": 10,
     "metadata": {},
     "output_type": "execute_result"
    }
   ],
   "source": [
    "data.groupby(['category_id']).sum()"
   ]
  },
  {
   "cell_type": "code",
   "execution_count": 15,
   "metadata": {},
   "outputs": [
    {
     "data": {
      "text/plain": [
       "([<matplotlib.axis.XTick at 0x7fee389078e0>,\n",
       "  <matplotlib.axis.XTick at 0x7fee389078b0>,\n",
       "  <matplotlib.axis.XTick at 0x7fee38921c10>],\n",
       " [Text(1, 0, 'cat0'), Text(2, 0, 'cat1'), Text(3, 0, 'cat2')])"
      ]
     },
     "execution_count": 15,
     "metadata": {},
     "output_type": "execute_result"
    },
    {
     "data": {
      "image/png": "[encoded data removed]",
      "text/plain": [
       "<Figure size 432x288 with 1 Axes>"
      ]
     },
     "metadata": {
      "needs_background": "light"
     },
     "output_type": "display_data"
    }
   ],
   "source": [
    "category0Price = category0['price'].tolist()\n",
    "category1Price = category1['price'].tolist()\n",
    "category2Price = category2['price'].tolist()\n",
    "mergeCategoryPrice = [category0Price,category1Price,category2Price]\n",
    "\n",
    "mergeCategoryPrice\n",
    "BoxName = ['cat0', 'cat1', 'cat2']\n",
    "plt.boxplot(mergeCategoryPrice)\n",
    "plt.xticks([1,2,3], BoxName)"
   ]
  },
  {
   "cell_type": "code",
   "execution_count": 12,
   "metadata": {},
   "outputs": [
    {
     "data": {
      "text/plain": [
       "151.35009615384615"
      ]
     },
     "execution_count": 12,
     "metadata": {},
     "output_type": "execute_result"
    }
   ],
   "source": [
    "outliers = data.loc[data.category_id == 2].loc[data.price > 105]\n",
    "outliers = outliers[['price','id_product']].drop_duplicates()\n",
    "outliers.price.mean()"
   ]
  },
  {
   "cell_type": "raw",
   "metadata": {},
   "source": [
    "visuellement on peux constate des outliner dans la catégorie 2. On constate que c'est du au prix des articles \n",
    "qui sont en moyenne a plus de 150 euros"
   ]
  },
  {
   "cell_type": "raw",
   "metadata": {},
   "source": [
    "on observe la repartion par ca et par cat "
   ]
  },
  {
   "cell_type": "code",
   "execution_count": 20,
   "metadata": {},
   "outputs": [
    {
     "data": {
      "text/plain": [
       "190771"
      ]
     },
     "execution_count": 20,
     "metadata": {},
     "output_type": "execute_result"
    }
   ],
   "source": [
    "category0['price'].count()"
   ]
  },
  {
   "cell_type": "code",
   "execution_count": 24,
   "metadata": {},
   "outputs": [
    {
     "data": {
      "text/plain": [
       "([<matplotlib.patches.Wedge at 0x7fee39d00af0>,\n",
       "  <matplotlib.patches.Wedge at 0x7fee3868b820>,\n",
       "  <matplotlib.patches.Wedge at 0x7fee3886f4f0>],\n",
       " [Text(0.434254186929809, 1.010654887255749, 'category_0'),\n",
       "  Text(-0.9867564728280335, -0.4861189806333205, 'category_1'),\n",
       "  Text(0.8361832208732124, -0.7147010711689893, 'category_2')],\n",
       " [Text(0.23686592014353214, 0.5512663021394995, '37.1%'),\n",
       "  Text(-0.5382308033607455, -0.26515580761817475, '40.4%'),\n",
       "  Text(0.4560999386581158, -0.3898369479103577, '22.5%')])"
      ]
     },
     "execution_count": 24,
     "metadata": {},
     "output_type": "execute_result"
    },
    {
     "data": {
      "image/png": "[encoded data removed]",
      "text/plain": [
       "<Figure size 360x360 with 1 Axes>"
      ]
     },
     "metadata": {},
     "output_type": "display_data"
    }
   ],
   "source": [
    "labelPie = ['category_0', 'category_1', 'category_2']\n",
    "pieValues = [category0['price'].sum(),category1['price'].sum(),category2['price'].sum()]\n",
    "colorsPie = ['mediumaquamarine','olivedrab','lime']\n",
    "plt.figure(figsize=[5,5])\n",
    "plt.pie(pieValues,labels=labelPie,autopct=\"%.1f%%\",colors=colorsPie)"
   ]
  },
  {
   "cell_type": "raw",
   "metadata": {},
   "source": [
    "on observe une plus grande par de marché pour la catégorie 1"
   ]
  },
  {
   "cell_type": "markdown",
   "metadata": {},
   "source": [
    "# Le Genre "
   ]
  },
  {
   "cell_type": "markdown",
   "metadata": {},
   "source": [
    "<a id=\"m3\" class=\"btn btn-default\" href=\"#som\"> retour au sommaire </a>"
   ]
  },
  {
   "cell_type": "code",
   "execution_count": 26,
   "metadata": {},
   "outputs": [
    {
     "data": {
      "text/plain": [
       "([<matplotlib.patches.Wedge at 0x7fee39e548b0>,\n",
       "  <matplotlib.patches.Wedge at 0x7fee39e617f0>],\n",
       " [Text(0.021575005618187846, 1.099788397434968, 'women'),\n",
       "  Text(-0.021575108587808693, -1.0997883954149654, 'men')],\n",
       " [Text(0.011768184882647914, 0.5998845804190734, '49.4%'),\n",
       "  Text(-0.01176824104789565, -0.5998845793172538, '50.6%')])"
      ]
     },
     "execution_count": 26,
     "metadata": {},
     "output_type": "execute_result"
    },
    {
     "data": {
      "image/png": "[encoded data removed]",
      "text/plain": [
       "<Figure size 360x360 with 1 Axes>"
      ]
     },
     "metadata": {},
     "output_type": "display_data"
    }
   ],
   "source": [
    "caWomen = data.loc[data['sex'] == 'f']['price'].sum()\n",
    "caMen = data.loc[data['sex'] == 'm']['price'].sum()\n",
    "labelPieSex = ['women', 'men']\n",
    "pieValuesSex = [caWomen,caMen]\n",
    "colorsPieSex = ['mediumaquamarine','lime']\n",
    "plt.figure(figsize=[5,5])\n",
    "plt.pie(pieValuesSex, labels = labelPieSex, autopct=\"%.1f%%\", colors=colorsPieSex)"
   ]
  },
  {
   "cell_type": "raw",
   "metadata": {},
   "source": [
    "on constate que les femmes dépenses autant que les hommes\n",
    "Maintenant regardons la dispersions entre l'age et le genre"
   ]
  },
  {
   "cell_type": "code",
   "execution_count": 27,
   "metadata": {},
   "outputs": [],
   "source": [
    "#on decoupe par cat et par genre\n",
    "catAgeCor = pd.crosstab(data.user_age, data.category_id).reset_index() \n",
    "catAgeCor = catAgeCor.rename(index=str, columns={0: \"category_0\",1: \"category_1\",2: \"category_2\" })\n",
    "sexeAge = data.groupby(['sex','category_id','user_age']).sum().reset_index()\n",
    "sexeAgeCat0 = sexeAge[sexeAge.category_id == 0][['sex','user_age','price']]\n",
    "sexeAgeCat1 = sexeAge[sexeAge.category_id == 1][['sex','user_age','price']]\n",
    "sexeAgeCat2 = sexeAge[sexeAge.category_id == 2][['sex','user_age','price']]"
   ]
  },
  {
   "cell_type": "code",
   "execution_count": 28,
   "metadata": {},
   "outputs": [
    {
     "data": {
      "text/plain": [
       "<seaborn.axisgrid.FacetGrid at 0x7fee39e61dc0>"
      ]
     },
     "execution_count": 28,
     "metadata": {},
     "output_type": "execute_result"
    },
    {
     "data": {
      "image/png": "[encoded data removed]",
      "text/plain": [
       "<Figure size 1197.62x576 with 2 Axes>"
      ]
     },
     "metadata": {
      "needs_background": "light"
     },
     "output_type": "display_data"
    }
   ],
   "source": [
    "plotCat0 = sns.FacetGrid(sexeAgeCat0, col=\"sex\", hue=\"sex\",height=8)\n",
    "plotCat0.map(sns.scatterplot, \"user_age\",'price', alpha=1)\n",
    "plotCat0.add_legend()"
   ]
  },
  {
   "cell_type": "raw",
   "metadata": {},
   "source": [
    "La répartition identique en vue des précédents résultats"
   ]
  },
  {
   "cell_type": "raw",
   "metadata": {},
   "source": [
    "Regardons si nos variables suivent une lois gaussienne"
   ]
  },
  {
   "cell_type": "code",
   "execution_count": 29,
   "metadata": {},
   "outputs": [
    {
     "name": "stderr",
     "output_type": "stream",
     "text": [
      "/usr/local/lib/python3.8/site-packages/seaborn/distributions.py:2551: FutureWarning: `distplot` is a deprecated function and will be removed in a future version. Please adapt your code to use either `displot` (a figure-level function with similar flexibility) or `histplot` (an axes-level function for histograms).\n",
      "  warnings.warn(msg, FutureWarning)\n",
      "/usr/local/lib/python3.8/site-packages/seaborn/distributions.py:2551: FutureWarning: `distplot` is a deprecated function and will be removed in a future version. Please adapt your code to use either `displot` (a figure-level function with similar flexibility) or `histplot` (an axes-level function for histograms).\n",
      "  warnings.warn(msg, FutureWarning)\n",
      "/usr/local/lib/python3.8/site-packages/seaborn/distributions.py:2551: FutureWarning: `distplot` is a deprecated function and will be removed in a future version. Please adapt your code to use either `displot` (a figure-level function with similar flexibility) or `histplot` (an axes-level function for histograms).\n",
      "  warnings.warn(msg, FutureWarning)\n",
      "/usr/local/lib/python3.8/site-packages/seaborn/distributions.py:2551: FutureWarning: `distplot` is a deprecated function and will be removed in a future version. Please adapt your code to use either `displot` (a figure-level function with similar flexibility) or `histplot` (an axes-level function for histograms).\n",
      "  warnings.warn(msg, FutureWarning)\n"
     ]
    },
    {
     "data": {
      "image/png": "[encoded data removed]",
      "text/plain": [
       "<Figure size 1440x360 with 4 Axes>"
      ]
     },
     "metadata": {
      "needs_background": "light"
     },
     "output_type": "display_data"
    }
   ],
   "source": [
    "fig, (ax1, ax2, ax3, ax4) = plt.subplots(1,4,figsize=(20,5))\n",
    "\n",
    "courbeTtCat  = pd.Series(data.user_age, name=\"Âge des clients - Toute cat.\")\n",
    "x0 = pd.Series(category0.user_age, name=\"Âge des clients - cat.0\")\n",
    "x1 = pd.Series(category1.user_age, name=\"Âge des clients - cat.1\")\n",
    "x2 = pd.Series(category2.user_age, name=\"Âge des clients - cat.2\")\n",
    "\n",
    "sns.distplot(courbeTtCat, color=\"r\", ax=ax1,fit=norm,fit_kws={\"color\": \"red\",'linestyle':'dotted'})\n",
    "sns.distplot(x0, color=\"darkturquoise\", ax=ax2,fit=norm,fit_kws={\"color\": \"red\",'linestyle':'dotted'})\n",
    "sns.distplot(x1 , color=\"orange\", ax=ax3,fit=norm,fit_kws={\"color\": \"red\",'linestyle':'dotted'})\n",
    "sns.distplot(x2 , color=\"royalblue\", ax=ax4,fit=norm,fit_kws={\"color\": \"red\",'linestyle':'dotted'})\n",
    "\n",
    "plt.show()"
   ]
  },
  {
   "cell_type": "raw",
   "metadata": {},
   "source": [
    "seul la cat 2 ne suis pas une courbe gaussienne "
   ]
  },
  {
   "cell_type": "markdown",
   "metadata": {},
   "source": [
    "# L'âge"
   ]
  },
  {
   "cell_type": "markdown",
   "metadata": {},
   "source": [
    "<a id=\"m2\" class=\"btn btn-default\" href=\"#som\"> retour au sommaire </a>"
   ]
  },
  {
   "cell_type": "raw",
   "metadata": {},
   "source": [
    "Nous allons observer l'âge et les transactions"
   ]
  },
  {
   "cell_type": "code",
   "execution_count": 32,
   "metadata": {},
   "outputs": [
    {
     "data": {
      "text/plain": [
       "<AxesSubplot:xlabel='binning_age', ylabel='price'>"
      ]
     },
     "execution_count": 32,
     "metadata": {},
     "output_type": "execute_result"
    },
    {
     "data": {
      "image/png": "[encoded data removed]",
      "text/plain": [
       "<Figure size 864x360 with 1 Axes>"
      ]
     },
     "metadata": {
      "needs_background": "light"
     },
     "output_type": "display_data"
    }
   ],
   "source": [
    "meanByUserAge = data.groupby(['binning_age']).mean()\n",
    "meanByUserAge = meanByUserAge.reset_index()\n",
    "meanByUserAge = meanByUserAge[['binning_age','price']] \n",
    "sumByUserAge = data.groupby(['binning_age']).sum()\n",
    "sumByUserAge = sumByUserAge.reset_index()\n",
    "sumByUserAge = sumByUserAge[['binning_age','order']] \n",
    "mergeTransacMeanPrice = meanByUserAge.merge(sumByUserAge, left_on='binning_age', right_on='binning_age')\n",
    "plt.figure(figsize=[12,5])\n",
    "sns.barplot(x=\"binning_age\", y=\"price\", data=mergeTransacMeanPrice, ci=68)\n"
   ]
  },
  {
   "cell_type": "code",
   "execution_count": null,
   "metadata": {},
   "outputs": [],
   "source": [
    "#les plus commandes se font pour la tranches 18 30"
   ]
  },
  {
   "cell_type": "code",
   "execution_count": 33,
   "metadata": {},
   "outputs": [
    {
     "name": "stderr",
     "output_type": "stream",
     "text": [
      "/usr/local/lib/python3.8/site-packages/seaborn/categorical.py:3704: UserWarning: The `factorplot` function has been renamed to `catplot`. The original name will be removed in a future release. Please update your code. Note that the default `kind` in `factorplot` (`'point'`) has changed `'strip'` in `catplot`.\n",
      "  warnings.warn(msg)\n"
     ]
    },
    {
     "data": {
      "image/png": "[encoded data removed]",
      "text/plain": [
       "<Figure size 2160x720 with 3 Axes>"
      ]
     },
     "metadata": {
      "needs_background": "light"
     },
     "output_type": "display_data"
    }
   ],
   "source": [
    "# non allon utiliser une analyse à 3 variables afin de connaitre la répartion des ages selon la catégorie\n",
    "\n",
    "binningCategory = data.groupby(['binning_age','category_id']).sum()\n",
    "binningCategory\n",
    "binningCategory = binningCategory[['price']].reset_index()\n",
    "binning_cat_plot = sns.factorplot(x='binning_age', y='price', hue='category_id', \n",
    "                        col='category_id', data=binningCategory.reset_index(), kind='bar',height=10)"
   ]
  }
 ],
 "metadata": {
  "kernelspec": {
   "display_name": "Python 3",
   "language": "python",
   "name": "python3"
  },
  "language_info": {
   "codemirror_mode": {
    "name": "ipython",
    "version": 3
   },
   "file_extension": ".py",
   "mimetype": "text/x-python",
   "name": "python",
   "nbconvert_exporter": "python",
   "pygments_lexer": "ipython3",
   "version": "3.8.6"
  }
 },
 "nbformat": 4,
 "nbformat_minor": 4
}
